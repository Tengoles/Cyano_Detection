{
 "cells": [
  {
   "cell_type": "code",
   "execution_count": 1,
   "metadata": {},
   "outputs": [],
   "source": [
    "import settings\n",
    "from datetime import date, datetime\n",
    "from sentinelsat_download import SentinelsatProducts\n",
    "import time"
   ]
  },
  {
   "cell_type": "code",
   "execution_count": 2,
   "metadata": {},
   "outputs": [],
   "source": [
    "footprint = settings.footprint\n",
    "data_path = settings.data_path"
   ]
  },
  {
   "cell_type": "markdown",
   "metadata": {},
   "source": [
    "### Download all data between two dates"
   ]
  },
  {
   "cell_type": "code",
   "execution_count": null,
   "metadata": {},
   "outputs": [],
   "source": [
    "from IPython.display import clear_output\n",
    "\n",
    "date1 = date(2021, 1, 1)\n",
    "date2 = date(2021, 12, 31)\n",
    "\n",
    "while True:\n",
    "    try:\n",
    "        datos = SentinelsatProducts(date1, date2, footprint=footprint, \n",
    "                                    platformname=\"Sentinel-3\", instrument=\"SLSTR\", \n",
    "                                    level=\"L2\", p_type=\"SL_2_LST___\")\n",
    "        #datos.filter_products(instrument=\"SLSTR\", level=\"L2\", p_type=\"SL_2_LST___\", timeliness=\"Non Time Critical\")\n",
    "        datos.download_products(data_path)\n",
    "    except Exception as e:\n",
    "        clear_output(wait=True)\n",
    "        print(\"/\"*20)\n",
    "        print(str(e))\n",
    "        print(\"/\"*20)\n",
    "        time.sleep(60*10)"
   ]
  },
  {
   "cell_type": "markdown",
   "metadata": {},
   "source": [
    "### Download data from valid Sentinel-2 days"
   ]
  },
  {
   "cell_type": "code",
   "execution_count": null,
   "metadata": {},
   "outputs": [],
   "source": [
    "from IPython.display import clear_output\n",
    "from process_sentinel2 import Mask, DayDataGenerator, DayData\n",
    "import traceback\n",
    "\n",
    "DATA_PATH = settings.data_path\n",
    "DATE_FORMAT = '%Y-%m-%d'\n",
    "START_DATE = '2016-12-21'\n",
    "END_DATE = '2022-04-20'\n",
    "\n",
    "data_generator = DayDataGenerator(START_DATE, END_DATE, DATE_FORMAT, DATA_PATH, skip_invalid=True)\n",
    "valid_dates = [day.date.date() for day in data_generator]\n",
    "print(\"Total days to download:\", len(valid_dates))\n",
    "while True:\n",
    "    date1 = date(2016, 12, 21)\n",
    "    date2 = date(2022, 4, 20)\n",
    "    try:\n",
    "        datos = SentinelsatProducts(date1, date2, footprint=footprint, \n",
    "                                    platformname=\"Sentinel-3\", instrument=\"SLSTR\", \n",
    "                                    level=\"L2\", p_type=\"SL_2_LST___\")\n",
    "        datos.filter_by_dates(valid_dates)\n",
    "        datos.download_products(data_path)\n",
    "    except Exception as e:\n",
    "        clear_output(wait=True)\n",
    "        print(\"/\"*20)\n",
    "        print(traceback.format_exc())\n",
    "        print(\"/\"*20)\n",
    "        time.sleep(60*10)"
   ]
  },
  {
   "cell_type": "code",
   "execution_count": null,
   "metadata": {},
   "outputs": [],
   "source": [
    "import os\n",
    "\n",
    "def get_folder_size(folder_path):\n",
    "    size = 0\n",
    "    for path, dirs, files in os.walk(folder_path):\n",
    "        for f in files:\n",
    "            fp = os.path.join(path, f)\n",
    "            size += os.path.getsize(fp)/1024/1024\n",
    "    return size\n",
    "\n",
    "def get_sentinel_folder_datetime(folder_path):\n",
    "    folder_name = os.path.basename(folder_path)\n",
    "    return datetime.strptime(folder_name.split(\"____\")[1].split(\"_\")[0][0:15], \"%Y%m%dT%H%M%S\")\n",
    "    \n",
    "\n",
    "dirs_to_delete = {}\n",
    "for day_dir in os.listdir(DATA_PATH):\n",
    "    sen3_dirs = [os.path.join(DATA_PATH, day_dir, sat_data) for sat_data in os.listdir(os.path.join(DATA_PATH, day_dir)) if sat_data.endswith(\"SEN3\")]\n",
    "    sen3_dir_size = [get_folder_size(s3_data) for s3_data in sen3_dirs]    \n",
    "    sen3_dir_dt = [get_sentinel_folder_datetime(s3_data) for s3_data in sen3_dirs]    \n",
    "    \n",
    "    small_dirs = [[sen3_dirs[i], dir_size] for i, dir_size in enumerate(sen3_dir_size) if dir_size < 1000]\n",
    "    big_dirs = [[sen3_dirs[i], dir_size] for i, dir_size in enumerate(sen3_dir_size) if dir_size > 1000]\n",
    "    \n",
    "    if len(small_dirs) > 0:\n",
    "        for big_dir in big_dirs:\n",
    "            dirs_to_delete[big_dir[0]] = big_dir[1]  "
   ]
  }
 ],
 "metadata": {
  "kernelspec": {
   "display_name": "cyano_venv_true",
   "language": "python",
   "name": "cyano_venv_true"
  },
  "language_info": {
   "codemirror_mode": {
    "name": "ipython",
    "version": 3
   },
   "file_extension": ".py",
   "mimetype": "text/x-python",
   "name": "python",
   "nbconvert_exporter": "python",
   "pygments_lexer": "ipython3",
   "version": "3.6.13"
  }
 },
 "nbformat": 4,
 "nbformat_minor": 4
}

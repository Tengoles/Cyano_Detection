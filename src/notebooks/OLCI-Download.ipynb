{
 "cells": [
  {
   "cell_type": "code",
   "execution_count": 1,
   "metadata": {},
   "outputs": [],
   "source": [
    "import sys\n",
    "sys.path.append(\"../\")\n",
    "from sentinelsat_download import SentinelsatProducts\n",
    "import snappy_utils\n",
    "import os\n",
    "from datetime import date, datetime, timedelta\n",
    "import settings\n",
    "import zipfile"
   ]
  },
  {
   "cell_type": "code",
   "execution_count": 5,
   "metadata": {},
   "outputs": [],
   "source": [
    "start_date = date(2019, 12, 21)\n",
    "end_date = date(2019, 12, 27)\n",
    "raw_data_path = settings.raw_data_path\n",
    "processed_data_path = settings.processed_data_path"
   ]
  },
  {
   "cell_type": "markdown",
   "metadata": {},
   "source": [
    "### Query all Sentinel-3 OLCI level-1 products between two dates"
   ]
  },
  {
   "cell_type": "code",
   "execution_count": null,
   "metadata": {},
   "outputs": [],
   "source": [
    "products = SentinelsatProducts(start_date, end_date, footprint=settings.footprint,\n",
    "                                platformname=\"Sentinel-3\", instrument=\"OLCI\", level=\"L1\")"
   ]
  },
  {
   "cell_type": "markdown",
   "metadata": {},
   "source": [
    "### Download all Sentinel-3 OLCI level-1 products between two dates"
   ]
  },
  {
   "cell_type": "code",
   "execution_count": null,
   "metadata": {},
   "outputs": [],
   "source": [
    "products.download_products(raw_data_path)"
   ]
  },
  {
   "cell_type": "markdown",
   "metadata": {},
   "source": [
    "### Create list of arbitrary dates to be downloaded"
   ]
  },
  {
   "cell_type": "code",
   "execution_count": 3,
   "metadata": {},
   "outputs": [],
   "source": [
    "dates_list = ['2015-12-30', '2016-01-07', '2016-01-13', '2016-01-23',\n",
    "           '2016-01-27', '2016-02-03', '2016-02-10', '2016-02-18',\n",
    "           '2016-02-24', '2016-03-02', '2016-03-10', '2016-03-22',\n",
    "           '2016-03-29', '2016-04-07', '2016-12-01', '2016-12-09',\n",
    "           '2016-12-16', '2016-12-22', '2017-01-02', '2017-01-11',\n",
    "           '2017-01-18', '2017-01-24', '2017-02-02', '2017-02-08',\n",
    "           '2017-02-15', '2017-02-22', '2017-03-01', '2017-03-08',\n",
    "           '2017-03-23', '2017-03-31', '2017-04-07', '2017-12-07',\n",
    "           '2017-12-28', '2018-01-03', '2018-01-11', '2018-01-18',\n",
    "           '2018-01-25', '2018-01-31', '2018-02-08', '2018-02-15',\n",
    "           '2018-02-22', '2018-03-01', '2018-03-07', '2018-03-26',\n",
    "           '2018-04-05', '2018-04-18', '2018-11-13', '2018-11-20',\n",
    "           '2018-11-30', '2018-12-13', '2018-12-20', '2018-12-28',\n",
    "           '2019-01-04', '2019-01-11', '2019-01-18', '2019-01-24',\n",
    "           '2019-01-31', '2019-02-07', '2019-02-15', '2019-02-21',\n",
    "           '2019-03-01', '2019-03-07', '2019-03-14', '2019-03-22',\n",
    "           '2019-03-29', '2019-04-04', '2019-04-12', '2019-05-18',\n",
    "           '2019-08-01', '2019-09-22', '2019-11-06', '2019-11-15',\n",
    "           '2019-11-27', '2019-12-13', '2019-12-23', '2019-12-30',\n",
    "           '2020-01-02', '2020-01-04', '2020-01-05', '2020-01-06',\n",
    "           '2020-01-07', '2020-01-08', '2020-01-09', '2020-01-10',\n",
    "           '2020-01-11', '2020-01-12', '2020-01-13', '2020-01-14',\n",
    "           '2020-01-15', '2020-01-16', '2020-01-17', '2020-01-18',\n",
    "           '2020-01-19', '2020-01-20', '2020-01-21', '2020-01-22',\n",
    "           '2020-01-23', '2020-01-24', '2020-01-25', '2020-01-26',\n",
    "           '2020-01-27', '2020-01-29', '2020-01-30', '2020-01-31',\n",
    "           '2020-02-01', '2020-02-02', '2020-02-03', '2020-02-04',\n",
    "           '2020-02-05', '2020-02-06', '2020-02-07', '2020-02-08',\n",
    "           '2020-02-10', '2020-02-11', '2020-02-12', '2020-02-13',\n",
    "           '2020-02-14', '2020-02-15', '2020-02-17', '2020-02-18',\n",
    "           '2020-02-19', '2020-02-24', '2020-02-25', '2020-02-27',\n",
    "           '2020-02-28', '2020-03-02', '2020-03-03', '2020-03-04',\n",
    "           '2020-03-05', '2020-03-06', '2020-03-07', '2020-03-08',\n",
    "           '2020-03-09', '2020-03-10', '2020-03-11', '2020-03-12',\n",
    "           '2020-03-13', '2020-03-14', '2020-03-15', '2020-03-17',\n",
    "           '2020-03-18', '2020-03-19', '2020-03-20', '2020-03-21',\n",
    "           '2020-03-22', '2020-03-23', '2020-03-24', '2020-03-25',\n",
    "           '2020-03-26', '2020-03-27', '2020-03-28', '2020-03-29',\n",
    "           '2020-03-30', '2020-03-31', '2020-04-01', '2020-04-03',\n",
    "           '2020-04-04', '2020-04-05', '2020-04-06', '2020-04-07',\n",
    "           '2020-04-08', '2020-04-09', '2020-04-10', '2020-04-11',\n",
    "           '2020-04-12', '2020-04-13', '2020-04-14', '2020-04-15',\n",
    "           '2020-04-16', '2020-04-17', '2020-04-18', '2020-04-19',\n",
    "           '2020-04-20', '2020-04-21', '2020-04-23', '2020-04-24',\n",
    "           '2020-04-26', '2020-04-27', '2020-04-28', '2020-04-29',\n",
    "           '2020-04-30', '2020-05-01', '2020-05-02', '2020-05-03',\n",
    "           '2020-05-04', '2020-05-05', '2020-05-06', '2020-05-07',\n",
    "           '2020-05-08', '2020-05-09', '2020-05-10', '2020-05-11',\n",
    "           '2020-05-12', '2020-05-13', '2020-05-14', '2020-05-15',\n",
    "           '2020-05-16', '2020-05-17', '2020-05-18', '2020-05-19',\n",
    "           '2020-05-21', '2020-05-22', '2020-05-23', '2020-05-25',\n",
    "           '2020-05-27', '2020-05-28', '2020-05-29', '2020-05-30',\n",
    "           '2020-06-01', '2020-06-02', '2020-06-03', '2020-06-04',\n",
    "           '2020-06-05', '2020-06-08', '2020-06-09', '2020-06-10',\n",
    "           '2020-06-11', '2020-06-15', '2020-06-16', '2020-06-17',\n",
    "           '2020-06-18', '2020-06-19', '2020-06-22', '2020-06-23',\n",
    "           '2020-06-24', '2020-08-31', '2020-09-03', '2020-09-10',\n",
    "           '2020-09-14', '2020-09-17', '2020-09-24', '2020-10-05',\n",
    "           '2020-10-08', '2020-10-13', '2020-10-19', '2020-10-22',\n",
    "           '2020-10-26', '2020-10-29', '2020-10-31', '2020-11-01',\n",
    "       '2020-11-02', '2020-11-05', '2021-02-04']\n",
    "dates_list = [datetime.strptime(d, \"%Y-%m-%d\").date() for d in dates_list]"
   ]
  },
  {
   "cell_type": "markdown",
   "metadata": {},
   "source": [
    "### Create list containing dates only in blooming months"
   ]
  },
  {
   "cell_type": "code",
   "execution_count": 2,
   "metadata": {},
   "outputs": [],
   "source": [
    "from pathlib import Path\n",
    "\n",
    "def date_range(start, end):\n",
    "    delta = end - start  # as timedelta\n",
    "    days = [start + timedelta(days=i) for i in range(delta.days + 1)]\n",
    "    days = [d.date() for d in days]\n",
    "    return days\n",
    "\n",
    "dates_2018_2019 = date_range(datetime(2018, 11, 1), datetime(2019, 5, 1))\n",
    "dates_2019_2020 = date_range(datetime(2019, 11, 1), datetime(2020, 5, 1))\n",
    "dates_2020_2021 = date_range(datetime(2020, 11, 1), datetime(2021, 5, 1))\n",
    "dates_2021_2022 = date_range(datetime(2021, 11, 1), datetime(2022, 5, 1))\n",
    "\n",
    "#dates_list = sorted(dates_2018_2019 + dates_2019_2020 + dates_2020_2021 + dates_2021_2022)\n",
    "#dates_list = dates_2021_2022\n",
    "dates_list = dates_2018_2019 + dates_2019_2020 + dates_2020_2021 + dates_2021_2022"
   ]
  },
  {
   "cell_type": "markdown",
   "metadata": {},
   "source": [
    "### Query and download Sentinel-3 OLCI level-1 products from dates in list"
   ]
  },
  {
   "cell_type": "code",
   "execution_count": null,
   "metadata": {},
   "outputs": [],
   "source": [
    "from IPython.display import clear_output\n",
    "import traceback\n",
    "import time\n",
    "\n",
    "start_date = dates_list[0]\n",
    "end_date = dates_list[-1]\n",
    "\n",
    "print(f\"{len(dates_list)} days to download\")\n",
    "\n",
    "for i in range(3):\n",
    "    try:\n",
    "        clear_output()\n",
    "        products = SentinelsatProducts(start_date, end_date, footprint=settings.footprint,\n",
    "                                platformname=\"Sentinel-3\", instrument=\"OLCI\", level=\"L1\")\n",
    "        products.filter_by_dates(dates_list)\n",
    "        products.download_products(raw_data_path)\n",
    "        \n",
    "    except Exception:\n",
    "        print(traceback.format_exc())"
   ]
  }
 ],
 "metadata": {
  "kernelspec": {
   "display_name": "cyano_venv",
   "language": "python",
   "name": "cyano_venv"
  },
  "language_info": {
   "codemirror_mode": {
    "name": "ipython",
    "version": 3
   },
   "file_extension": ".py",
   "mimetype": "text/x-python",
   "name": "python",
   "nbconvert_exporter": "python",
   "pygments_lexer": "ipython3",
   "version": "3.6.13"
  }
 },
 "nbformat": 4,
 "nbformat_minor": 4
}

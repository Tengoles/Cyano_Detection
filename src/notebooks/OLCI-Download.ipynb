{
 "cells": [
  {
   "cell_type": "code",
   "execution_count": 7,
   "metadata": {},
   "outputs": [],
   "source": [
    "import sys\n",
    "sys.path.append(\"../\")\n",
    "from sentinelsat_download import SentinelsatProducts\n",
    "import snappy_utils\n",
    "import os\n",
    "from datetime import date, datetime\n",
    "import settings\n",
    "import zipfile"
   ]
  },
  {
   "cell_type": "code",
   "execution_count": 8,
   "metadata": {},
   "outputs": [],
   "source": [
    "start_date = date(2019, 12, 21)\n",
    "end_date = date(2019, 12, 27)\n",
    "raw_data_path = settings.raw_data_path\n",
    "processed_data_path = settings.processed_data_path"
   ]
  },
  {
   "cell_type": "markdown",
   "metadata": {},
   "source": [
    "### Query all Sentinel-3 OLCI level-1 products between two dates"
   ]
  },
  {
   "cell_type": "code",
   "execution_count": null,
   "metadata": {},
   "outputs": [],
   "source": [
    "products = SentinelsatProducts(start_date, end_date, footprint=settings.footprint,\n",
    "                                platformname=\"Sentinel-3\", instrument=\"OLCI\", level=\"L1\")"
   ]
  },
  {
   "cell_type": "markdown",
   "metadata": {},
   "source": [
    "### Download all Sentinel-3 OLCI level-1 products between two dates"
   ]
  },
  {
   "cell_type": "code",
   "execution_count": null,
   "metadata": {},
   "outputs": [],
   "source": [
    "products.download_products(raw_data_path)"
   ]
  },
  {
   "cell_type": "markdown",
   "metadata": {},
   "source": [
    "### Query and download Sentinel-3 OLCI level-1 products from dates in list"
   ]
  },
  {
   "cell_type": "code",
   "execution_count": 19,
   "metadata": {},
   "outputs": [],
   "source": [
    "dates_list = ['2015-12-30', '2016-01-07', '2016-01-13', '2016-01-23', '2016-01-27',\n",
    " '2016-02-03', '2016-02-10', '2016-02-18', '2016-02-24', '2016-03-02',\n",
    " '2016-03-10', '2016-03-22', '2016-03-29', '2016-04-07', '2016-12-01',\n",
    " '2016-12-09', '2016-12-16', '2016-12-22', '2017-01-02', '2017-01-11',\n",
    " '2017-01-18', '2017-01-24', '2017-02-02', '2017-02-08', '2017-02-15',\n",
    " '2017-02-22', '2017-03-01', '2017-03-08', '2017-03-16', '2017-03-23',\n",
    " '2017-03-31', '2017-04-07', '2017-11-22', '2017-11-30', '2017-12-07',\n",
    " '2017-12-15', '2017-12-21', '2017-12-28', '2018-01-03', '2018-01-11',\n",
    " '2018-01-18', '2018-01-25', '2018-01-31', '2018-02-08', '2018-02-15',\n",
    " '2018-02-22', '2018-03-01', '2018-03-07', '2018-03-26', '2018-04-05',\n",
    " '2018-04-18', '2018-11-13', '2018-11-20', '2018-11-30', '2018-12-13',\n",
    " '2018-12-20', '2018-12-28', '2019-01-04', '2019-01-11', '2019-01-18',\n",
    " '2019-01-24', '2019-01-31', '2019-02-07', '2019-02-15', '2019-02-21',\n",
    " '2019-03-01', '2019-03-07', '2019-03-14', '2019-03-22', '2019-03-29',\n",
    " '2019-04-04', '2019-04-12', '2019-05-18', '2019-08-01', '2019-09-22',\n",
    " '2019-11-06', '2019-11-15', '2019-11-27', '2019-12-13', '2019-12-23',\n",
    " '2019-12-30', '2020-01-07', '2020-01-16', '2020-01-24', '2020-01-31',\n",
    " '2020-02-06', '2020-02-11', '2020-02-19', '2020-02-27', '2020-03-04',\n",
    " '2020-03-20', '2020-03-26', '2020-04-04', '2020-04-11', '2020-04-18',\n",
    " '2020-04-23', '2020-05-02', '2020-05-10']\n",
    "\n",
    "dates_list = [datetime.strptime(d, \"%Y-%m-%d\").date() for d in dates_list]"
   ]
  },
  {
   "cell_type": "code",
   "execution_count": null,
   "metadata": {},
   "outputs": [],
   "source": [
    "from IPython.display import clear_output\n",
    "import time\n",
    "import traceback\n",
    "\n",
    "#while True:\n",
    "start_date = dates_list[0]\n",
    "end_date = dates_list[-1]\n",
    "try:\n",
    "    products = SentinelsatProducts(start_date, end_date, footprint=settings.footprint,\n",
    "                            platformname=\"Sentinel-3\", instrument=\"OLCI\", level=\"L1\")\n",
    "    products.filter_by_dates(dates_list)\n",
    "    products.download_products(raw_data_path)\n",
    "except Exception as e:\n",
    "    clear_output(wait=True)\n",
    "    print(\"/\"*20)\n",
    "    print(traceback.format_exc())\n",
    "    print(\"/\"*20)\n",
    "    time.sleep(60*10)"
   ]
  }
 ],
 "metadata": {
  "kernelspec": {
   "display_name": "cyano_venv",
   "language": "python",
   "name": "cyano_venv"
  },
  "language_info": {
   "codemirror_mode": {
    "name": "ipython",
    "version": 3
   },
   "file_extension": ".py",
   "mimetype": "text/x-python",
   "name": "python",
   "nbconvert_exporter": "python",
   "pygments_lexer": "ipython3",
   "version": "3.6.13"
  }
 },
 "nbformat": 4,
 "nbformat_minor": 4
}

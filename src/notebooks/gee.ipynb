{
 "cells": [
  {
   "cell_type": "code",
   "execution_count": 2,
   "metadata": {},
   "outputs": [],
   "source": [
    "import ee\n",
    "import geemap\n",
    "\n",
    "ee.Initialize()"
   ]
  },
  {
   "cell_type": "markdown",
   "metadata": {},
   "source": [
    "### Definir parametros de laguna"
   ]
  },
  {
   "cell_type": "code",
   "execution_count": 3,
   "metadata": {},
   "outputs": [],
   "source": [
    "# [lat, lon]\n",
    "sauce_center = [-34.83326008, -55.05417706]\n",
    "center_point = ee.Geometry.Point(sauce_center[1], sauce_center[0])\n",
    "# [[lon, lat]]\n",
    "sauce_zone = [[-55.16629529644229, -34.7494869239046],\n",
    "              [-55.02038312603214, -34.7494869239046],\n",
    "              [-55.02038312603214, -34.868725532230165],\n",
    "              [-55.16629529644229, -34.868725532230165],\n",
    "              [-55.16629529644229, -34.7494869239046]]\n",
    "sauce_geometry = ee.Geometry.Polygon(sauce_zone)\n",
    "#Dates to filter\n",
    "start = ee.Date('2020-03-22')\n",
    "finish = ee.Date('2020-03-24')\n",
    "# RGB bands\n",
    "RGB = ['B4', 'B3', 'B2']"
   ]
  },
  {
   "cell_type": "markdown",
   "metadata": {},
   "source": [
    "### Crear mapa interactivo\n",
    "Additional basemaps can be added using the Map.setOptions() function. The optional basemaps can be ROADMAP, SATELLITE, HYBRID, TERRAIN, or ESRI."
   ]
  },
  {
   "cell_type": "code",
   "execution_count": 19,
   "metadata": {},
   "outputs": [],
   "source": [
    "Map_SR = geemap.Map(center=sauce_center, zoom=11)\n",
    "Map = geemap.Map(center=sauce_center, zoom=11)"
   ]
  },
  {
   "cell_type": "markdown",
   "metadata": {},
   "source": [
    "### Visualizar imagen RGB de SR"
   ]
  },
  {
   "cell_type": "code",
   "execution_count": 22,
   "metadata": {},
   "outputs": [
    {
     "name": "stdout",
     "output_type": "stream",
     "text": [
      "Count:  1\n",
      "\n",
      "[23, 58, 20]\n",
      "[5850, 5810, 5801]\n"
     ]
    },
    {
     "data": {
      "application/vnd.jupyter.widget-view+json": {
       "model_id": "57ddb29e5e274c6dabd8611694533c71",
       "version_major": 2,
       "version_minor": 0
      },
      "text/plain": [
       "Map(bottom=316623.2727050781, center=[-34.84777468534859, -54.99231512658299], controls=(WidgetControl(options…"
      ]
     },
     "metadata": {},
     "output_type": "display_data"
    }
   ],
   "source": [
    "filteredCollection = ee.ImageCollection(\"COPERNICUS/S2_SR\") \\\n",
    "    .filterBounds(sauce_geometry) \\\n",
    "    .filterDate(start, finish)\n",
    "\n",
    "count = filteredCollection.size()\n",
    "print('Count: ', str(count.getInfo())+'\\n')\n",
    "# Resolution in meters to compute the percentile at\n",
    "PERCENTILE_SCALE = 10\n",
    "# this is ee.Image\n",
    "first = filteredCollection.first()\n",
    "# get minimum and maximu value from every band\n",
    "percentiles = first.reduceRegion(ee.Reducer.percentile([0, 100], ['min', 'max']),\n",
    "                                 sauce_geometry, PERCENTILE_SCALE, bestEffort=True).getInfo()\n",
    "#get minimum values from RGB bands\n",
    "minVals = [percentiles[\"B4_min\"], percentiles[\"B3_min\"], percentiles[\"B2_min\"]]\n",
    "print(minVals)\n",
    "#get maximum values from RGB bands\n",
    "maxVals = [percentiles[\"B4_max\"], percentiles[\"B3_max\"], percentiles[\"B2_max\"]]\n",
    "print(maxVals)\n",
    "# Define visualization parameters in an object literal.\n",
    "vizParams = {'bands': RGB,\n",
    "             'min': minVals, 'max': maxVals, 'gamma': 1}\n",
    "Map_SR.addLayer(first.clip(sauce_geometry), vizParams, 'Sentinel-2 SR')\n",
    "\n",
    "# Diplay the map\n",
    "Map_SR.setControlVisibility(layerControl=True, fullscreenControl=True, latLngPopup=True)\n",
    "Map_SR"
   ]
  },
  {
   "cell_type": "markdown",
   "metadata": {},
   "source": [
    "### Visualizar imagen RGB de TOA Reflectance"
   ]
  },
  {
   "cell_type": "code",
   "execution_count": 21,
   "metadata": {},
   "outputs": [
    {
     "name": "stdout",
     "output_type": "stream",
     "text": [
      "Count:  1\n",
      "\n",
      "[262, 475, 697]\n",
      "[6239, 5866, 5757]\n"
     ]
    },
    {
     "data": {
      "application/vnd.jupyter.widget-view+json": {
       "model_id": "969f33fb1d2d445fa0b892e473b2281c",
       "version_major": 2,
       "version_minor": 0
      },
      "text/plain": [
       "Map(center=[-34.83326008, -55.05417706], controls=(WidgetControl(options=['position'], widget=HBox(children=(T…"
      ]
     },
     "metadata": {},
     "output_type": "display_data"
    }
   ],
   "source": [
    "filteredCollection = ee.ImageCollection(\"COPERNICUS/S2\") \\\n",
    "    .filterBounds(sauce_geometry) \\\n",
    "    .filterDate(start, finish)\n",
    "\n",
    "count = filteredCollection.size()\n",
    "print('Count: ', str(count.getInfo())+'\\n')\n",
    "# Resolution in meters to compute the percentile at\n",
    "PERCENTILE_SCALE = 10\n",
    "# this is ee.Image\n",
    "first = filteredCollection.first()\n",
    "# get minimum and maximu value from every band\n",
    "percentiles = first.reduceRegion(ee.Reducer.percentile([0, 100], ['min', 'max']),\n",
    "                                 sauce_geometry, PERCENTILE_SCALE, bestEffort=True).getInfo()\n",
    "#get minimum values from RGB bands\n",
    "minVals = [percentiles[\"B4_min\"], percentiles[\"B3_min\"], percentiles[\"B2_min\"]]\n",
    "print(minVals)\n",
    "#get maximum values from RGB bands\n",
    "maxVals = [percentiles[\"B4_max\"], percentiles[\"B3_max\"], percentiles[\"B2_max\"]]\n",
    "print(maxVals)\n",
    "# Define visualization parameters in an object literal.\n",
    "vizParams = {'bands': RGB,\n",
    "             'min': minVals, 'max': maxVals, 'gamma': 1}\n",
    "Map.addLayer(first.clip(sauce_geometry), vizParams, 'Sentinel-2 SR')\n",
    "\n",
    "# Diplay the map\n",
    "Map.setControlVisibility(layerControl=True, fullscreenControl=True, latLngPopup=True)\n",
    "Map"
   ]
  },
  {
   "cell_type": "code",
   "execution_count": null,
   "metadata": {},
   "outputs": [],
   "source": []
  }
 ],
 "metadata": {
  "kernelspec": {
   "display_name": "cyano_venv",
   "language": "python",
   "name": "cyano_venv"
  },
  "language_info": {
   "codemirror_mode": {
    "name": "ipython",
    "version": 3
   },
   "file_extension": ".py",
   "mimetype": "text/x-python",
   "name": "python",
   "nbconvert_exporter": "python",
   "pygments_lexer": "ipython3",
   "version": "3.6.13"
  }
 },
 "nbformat": 4,
 "nbformat_minor": 4
}

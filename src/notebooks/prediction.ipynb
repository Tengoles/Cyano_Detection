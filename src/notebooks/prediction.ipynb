{
 "cells": [
  {
   "cell_type": "markdown",
   "id": "abd63c5b",
   "metadata": {
    "scrolled": true
   },
   "source": [
    "## Imports"
   ]
  },
  {
   "cell_type": "code",
   "execution_count": 1,
   "id": "e03303cd",
   "metadata": {
    "scrolled": true
   },
   "outputs": [
    {
     "name": "stderr",
     "output_type": "stream",
     "text": [
      "WARNING: IERSStaleWarning: leap-second file is expired. [astropy.utils.iers.iers]\n",
      "WARNING:astropy:IERSStaleWarning: leap-second file is expired.\n"
     ]
    }
   ],
   "source": [
    "import os\n",
    "import sys\n",
    "sys.path.append(\"../\")\n",
    "import csv\n",
    "import json\n",
    "from datetime import datetime, timedelta\n",
    "import pandas as pd\n",
    "import numpy as np\n",
    "import matplotlib.pyplot as plt\n",
    "from sklearn.metrics import accuracy_score, precision_score, recall_score, confusion_matrix\n",
    "import seaborn as sns\n",
    "\n",
    "import settings\n",
    "from prediction_dataset import PredictionDataset\n",
    "from process_sentinel3 import OLCIdataGenerator\n",
    "\n",
    "from collections import defaultdict\n",
    "from sklearn.tree import DecisionTreeClassifier\n",
    "from sklearn.linear_model import LogisticRegression\n",
    "from sklearn.svm import SVC\n",
    "from sklearn.naive_bayes import GaussianNB\n",
    "from sklearn.linear_model import SGDClassifier\n",
    "from sklearn.neighbors import KNeighborsClassifier\n",
    "from sklearn.ensemble import RandomForestClassifier\n",
    "from sklearn.ensemble import GradientBoostingClassifier\n",
    "from lightgbm import LGBMClassifier\n",
    "from xgboost.sklearn import XGBClassifier\n",
    "from sklearn.pipeline import make_pipeline\n",
    "from sklearn.preprocessing import StandardScaler\n",
    "from sklearn.model_selection import StratifiedKFold\n",
    "from sklearn.model_selection import LeaveOneOut\n",
    "from sklearn import tree\n",
    "from sklearn.metrics import classification_report, accuracy_score, confusion_matrix\n",
    "\n",
    "import pickle\n",
    "from math import isnan\n",
    "\n",
    "from utils import parse_ficocianina_xls"
   ]
  },
  {
   "cell_type": "markdown",
   "id": "f42dbfa3",
   "metadata": {},
   "source": [
    "## Methods"
   ]
  },
  {
   "cell_type": "code",
   "execution_count": 2,
   "id": "913549f7",
   "metadata": {
    "scrolled": true
   },
   "outputs": [],
   "source": [
    "def metrics(gt, pred, labels=[\"No Bloom\", \"Bloom\"]):\n",
    "    metrics = {}\n",
    "    metrics[\"accuracy\"] = round(accuracy_score(gt, pred), 2)\n",
    "    metrics[\"precision\"] = round(precision_score(gt, pred, pos_label=labels[1]), 2)\n",
    "    metrics[\"recall\"] = round(recall_score(gt, pred, pos_label=labels[1]), 2)\n",
    "    metrics[\"confusion matrix\"] = confusion_matrix(gt, pred, labels=labels)\n",
    "    metrics[\"false positive rate\"] = round(metrics[\"confusion matrix\"][1, 0]/(metrics[\"confusion matrix\"][1, 1] + metrics[\"confusion matrix\"][1, 0]), 2)\n",
    "    metrics[\"false negative rate\"] = round(metrics[\"confusion matrix\"][0, 1]/(metrics[\"confusion matrix\"][0, 0] + metrics[\"confusion matrix\"][0, 1]), 2)\n",
    "    \n",
    "    return metrics\n",
    "\n",
    "def metrics_multiclass(gt, pred, labels=[\"No Bloom\", \"Bloom\", \"Pre Bloom\"]):\n",
    "    metrics = {}\n",
    "    metrics[\"confusion matrix\"] = confusion_matrix(gt, pred, labels=labels)\n",
    "    # Calculate accuracy for each class\n",
    "    class_accuracy = {}\n",
    "    for i, label in enumerate(labels):\n",
    "        true_positive = metrics[\"confusion matrix\"][i, i]\n",
    "        total_samples = np.sum(metrics[\"confusion matrix\"][i, :])\n",
    "        class_accuracy[label] = true_positive / total_samples\n",
    "    metrics[\"Accuracy\"] = class_accuracy\n",
    "    return metrics"
   ]
  },
  {
   "cell_type": "code",
   "execution_count": 3,
   "id": "978c8e4e",
   "metadata": {
    "scrolled": true
   },
   "outputs": [],
   "source": [
    "processed_data_path = settings.processed_data_path\n",
    "\n",
    "DATE_FORMAT = '%Y-%m-%d'\n",
    "\n",
    "ndci_data_path = os.path.join(settings.final_data_path, \"kmeans_3\", \"ndci_data.csv\")\n",
    "precipitation_data_path = os.path.join(settings.final_data_path, \"precipitation\", \"precipitation_pdir.csv\")\n",
    "wind_data_path = os.path.join(settings.final_data_path, \"wind_data.csv\")\n",
    "water_temperature_data_path = os.path.join(settings.final_data_path, \"water_temperature.csv\")\n",
    "algae_gt_path = os.path.join(settings.final_data_path, \"algae_gt.csv\")\n",
    "ta_ose_path = os.path.join(settings.final_data_path, \"agua_open_data(1).csv\")\n",
    "s3_brrs_path = os.path.join(settings.final_data_path, \"s3_brrs.json\")\n",
    "\n",
    "raw_cyano_gt_path = os.path.join(settings.final_data_path, \"MUESTREOS_SEMANALES_2016-2017-2018-2019-2020.xls\")\n",
    "\n",
    "# bloom_thresholds = {\n",
    "#                     \"MALLORQUINA\":5000,\n",
    "#                     \"ARROYO SAUCE\": 5000,\n",
    "#                     \"SAUCE NORTE\": 5000,\n",
    "#                     \"SAUCE SUR\": 5000,\n",
    "#                     \"CISNES\": 5000,\n",
    "#                     \"POTRERO\": 5000,\n",
    "#                     \"TA\":5000\n",
    "#                    }\n",
    "bloom_thresholds = {\n",
    "                    \"MALLORQUINA\":5000,\n",
    "                    \"ARROYO SAUCE\": 5000,\n",
    "                    \"SAUCE NORTE\": 7000,\n",
    "                    \"SAUCE SUR\": 7000,\n",
    "                    \"CISNES\": 5000,\n",
    "                    \"POTRERO\": 5000,\n",
    "                    \"TA\":3000\n",
    "                   }\n",
    "\n",
    "sampling_points_coords = {\"SAUCE NORTE\": [-34.795398, -55.047355],\n",
    "                          \"SAUCE SUR\": [-34.843127, -55.064624],\n",
    "                          \"TA\": [-34.829670, -55.049758]}\n",
    "\n",
    "pre_bloom_max_days = 7"
   ]
  },
  {
   "cell_type": "code",
   "execution_count": 4,
   "id": "6db756ea",
   "metadata": {
    "scrolled": true
   },
   "outputs": [
    {
     "name": "stderr",
     "output_type": "stream",
     "text": [
      "../prediction_dataset.py:106: SettingWithCopyWarning: \n",
      "A value is trying to be set on a copy of a slice from a DataFrame.\n",
      "Try using .loc[row_indexer,col_indexer] = value instead\n",
      "\n",
      "See the caveats in the documentation: https://pandas.pydata.org/pandas-docs/stable/user_guide/indexing.html#returning-a-view-versus-a-copy\n",
      "  location_df['label'] = location_df['fico'].apply(lambda x: 'Bloom' if x > threshold else 'No Bloom')\n",
      "../prediction_dataset.py:180: SettingWithCopyWarning: \n",
      "A value is trying to be set on a copy of a slice from a DataFrame.\n",
      "Try using .loc[row_indexer,col_indexer] = value instead\n",
      "\n",
      "See the caveats in the documentation: https://pandas.pydata.org/pandas-docs/stable/user_guide/indexing.html#returning-a-view-versus-a-copy\n",
      "  location_data_df[\"days until bloom\"] = days_until_bloom\n"
     ]
    }
   ],
   "source": [
    "dataset = PredictionDataset(wind_data_path, water_temperature_data_path, precipitation_data_path, \n",
    "                            ndci_data_path, algae_gt_path, s3_brrs_path, bloom_thresholds=bloom_thresholds, \n",
    "                            pre_bloom_max_days=pre_bloom_max_days)"
   ]
  },
  {
   "cell_type": "code",
   "execution_count": 5,
   "id": "b9565d1a",
   "metadata": {},
   "outputs": [
    {
     "data": {
      "text/html": [
       "<div>\n",
       "<style scoped>\n",
       "    .dataframe tbody tr th:only-of-type {\n",
       "        vertical-align: middle;\n",
       "    }\n",
       "\n",
       "    .dataframe tbody tr th {\n",
       "        vertical-align: top;\n",
       "    }\n",
       "\n",
       "    .dataframe thead th {\n",
       "        text-align: right;\n",
       "    }\n",
       "</style>\n",
       "<table border=\"1\" class=\"dataframe\">\n",
       "  <thead>\n",
       "    <tr style=\"text-align: right;\">\n",
       "      <th></th>\n",
       "      <th>date</th>\n",
       "      <th>location</th>\n",
       "      <th>fico</th>\n",
       "      <th>chl</th>\n",
       "      <th>label</th>\n",
       "    </tr>\n",
       "  </thead>\n",
       "  <tbody>\n",
       "    <tr>\n",
       "      <th>0</th>\n",
       "      <td>2015-12-30</td>\n",
       "      <td>MALLORQUINA</td>\n",
       "      <td>5032.5</td>\n",
       "      <td>10.00</td>\n",
       "      <td>Bloom</td>\n",
       "    </tr>\n",
       "    <tr>\n",
       "      <th>5</th>\n",
       "      <td>2015-12-30</td>\n",
       "      <td>POTRERO</td>\n",
       "      <td>5843.5</td>\n",
       "      <td>13.20</td>\n",
       "      <td>Bloom</td>\n",
       "    </tr>\n",
       "    <tr>\n",
       "      <th>1</th>\n",
       "      <td>2015-12-30</td>\n",
       "      <td>ARROYO SAUCE</td>\n",
       "      <td>5345.5</td>\n",
       "      <td>21.80</td>\n",
       "      <td>Bloom</td>\n",
       "    </tr>\n",
       "    <tr>\n",
       "      <th>2</th>\n",
       "      <td>2015-12-30</td>\n",
       "      <td>SAUCE NORTE</td>\n",
       "      <td>4282.5</td>\n",
       "      <td>7.50</td>\n",
       "      <td>No Bloom</td>\n",
       "    </tr>\n",
       "    <tr>\n",
       "      <th>4</th>\n",
       "      <td>2015-12-30</td>\n",
       "      <td>CISNES</td>\n",
       "      <td>9082.5</td>\n",
       "      <td>18.45</td>\n",
       "      <td>Bloom</td>\n",
       "    </tr>\n",
       "    <tr>\n",
       "      <th>...</th>\n",
       "      <td>...</td>\n",
       "      <td>...</td>\n",
       "      <td>...</td>\n",
       "      <td>...</td>\n",
       "      <td>...</td>\n",
       "    </tr>\n",
       "    <tr>\n",
       "      <th>807</th>\n",
       "      <td>2023-02-25</td>\n",
       "      <td>ARROYO SAUCE</td>\n",
       "      <td>1420.5</td>\n",
       "      <td>3.30</td>\n",
       "      <td>No Bloom</td>\n",
       "    </tr>\n",
       "    <tr>\n",
       "      <th>812</th>\n",
       "      <td>2023-02-25</td>\n",
       "      <td>POTRERO</td>\n",
       "      <td>2353.5</td>\n",
       "      <td>3.90</td>\n",
       "      <td>No Bloom</td>\n",
       "    </tr>\n",
       "    <tr>\n",
       "      <th>808</th>\n",
       "      <td>2023-02-25</td>\n",
       "      <td>MALLORQUINA</td>\n",
       "      <td>1812.0</td>\n",
       "      <td>3.80</td>\n",
       "      <td>No Bloom</td>\n",
       "    </tr>\n",
       "    <tr>\n",
       "      <th>811</th>\n",
       "      <td>2023-02-25</td>\n",
       "      <td>CISNES</td>\n",
       "      <td>1669.0</td>\n",
       "      <td>3.60</td>\n",
       "      <td>No Bloom</td>\n",
       "    </tr>\n",
       "    <tr>\n",
       "      <th>809</th>\n",
       "      <td>2023-02-25</td>\n",
       "      <td>SAUCE NORTE</td>\n",
       "      <td>1412.5</td>\n",
       "      <td>3.40</td>\n",
       "      <td>No Bloom</td>\n",
       "    </tr>\n",
       "  </tbody>\n",
       "</table>\n",
       "<p>813 rows × 5 columns</p>\n",
       "</div>"
      ],
      "text/plain": [
       "          date      location    fico    chl     label\n",
       "0   2015-12-30   MALLORQUINA  5032.5  10.00     Bloom\n",
       "5   2015-12-30       POTRERO  5843.5  13.20     Bloom\n",
       "1   2015-12-30  ARROYO SAUCE  5345.5  21.80     Bloom\n",
       "2   2015-12-30   SAUCE NORTE  4282.5   7.50  No Bloom\n",
       "4   2015-12-30        CISNES  9082.5  18.45     Bloom\n",
       "..         ...           ...     ...    ...       ...\n",
       "807 2023-02-25  ARROYO SAUCE  1420.5   3.30  No Bloom\n",
       "812 2023-02-25       POTRERO  2353.5   3.90  No Bloom\n",
       "808 2023-02-25   MALLORQUINA  1812.0   3.80  No Bloom\n",
       "811 2023-02-25        CISNES  1669.0   3.60  No Bloom\n",
       "809 2023-02-25   SAUCE NORTE  1412.5   3.40  No Bloom\n",
       "\n",
       "[813 rows x 5 columns]"
      ]
     },
     "execution_count": 5,
     "metadata": {},
     "output_type": "execute_result"
    }
   ],
   "source": [
    "dataset.algae_gt"
   ]
  },
  {
   "cell_type": "code",
   "execution_count": 6,
   "id": "46566f6e",
   "metadata": {
    "scrolled": false
   },
   "outputs": [
    {
     "data": {
      "text/html": [
       "<div>\n",
       "<style scoped>\n",
       "    .dataframe tbody tr th:only-of-type {\n",
       "        vertical-align: middle;\n",
       "    }\n",
       "\n",
       "    .dataframe tbody tr th {\n",
       "        vertical-align: top;\n",
       "    }\n",
       "\n",
       "    .dataframe thead th {\n",
       "        text-align: right;\n",
       "    }\n",
       "</style>\n",
       "<table border=\"1\" class=\"dataframe\">\n",
       "  <thead>\n",
       "    <tr style=\"text-align: right;\">\n",
       "      <th></th>\n",
       "      <th>date</th>\n",
       "      <th>location</th>\n",
       "      <th>fico</th>\n",
       "      <th>chl</th>\n",
       "      <th>label</th>\n",
       "      <th>days until bloom</th>\n",
       "      <th>forecast label</th>\n",
       "    </tr>\n",
       "  </thead>\n",
       "  <tbody>\n",
       "    <tr>\n",
       "      <th>2</th>\n",
       "      <td>2015-12-30</td>\n",
       "      <td>SAUCE NORTE</td>\n",
       "      <td>4282.5</td>\n",
       "      <td>7.50</td>\n",
       "      <td>No Bloom</td>\n",
       "      <td>8</td>\n",
       "      <td>No Bloom</td>\n",
       "    </tr>\n",
       "    <tr>\n",
       "      <th>11</th>\n",
       "      <td>2016-01-07</td>\n",
       "      <td>SAUCE NORTE</td>\n",
       "      <td>11768.0</td>\n",
       "      <td>10.35</td>\n",
       "      <td>Bloom</td>\n",
       "      <td>0</td>\n",
       "      <td>Bloom</td>\n",
       "    </tr>\n",
       "    <tr>\n",
       "      <th>14</th>\n",
       "      <td>2016-01-13</td>\n",
       "      <td>SAUCE NORTE</td>\n",
       "      <td>12766.0</td>\n",
       "      <td>9.70</td>\n",
       "      <td>Bloom</td>\n",
       "      <td>0</td>\n",
       "      <td>Bloom</td>\n",
       "    </tr>\n",
       "    <tr>\n",
       "      <th>23</th>\n",
       "      <td>2016-01-23</td>\n",
       "      <td>SAUCE NORTE</td>\n",
       "      <td>2061.0</td>\n",
       "      <td>6.10</td>\n",
       "      <td>No Bloom</td>\n",
       "      <td>4</td>\n",
       "      <td>Pre Bloom</td>\n",
       "    </tr>\n",
       "    <tr>\n",
       "      <th>26</th>\n",
       "      <td>2016-01-27</td>\n",
       "      <td>SAUCE NORTE</td>\n",
       "      <td>9844.0</td>\n",
       "      <td>28.25</td>\n",
       "      <td>Bloom</td>\n",
       "      <td>0</td>\n",
       "      <td>Bloom</td>\n",
       "    </tr>\n",
       "    <tr>\n",
       "      <th>...</th>\n",
       "      <td>...</td>\n",
       "      <td>...</td>\n",
       "      <td>...</td>\n",
       "      <td>...</td>\n",
       "      <td>...</td>\n",
       "      <td>...</td>\n",
       "      <td>...</td>\n",
       "    </tr>\n",
       "    <tr>\n",
       "      <th>785</th>\n",
       "      <td>2023-01-27</td>\n",
       "      <td>SAUCE NORTE</td>\n",
       "      <td>50011.5</td>\n",
       "      <td>4.75</td>\n",
       "      <td>Bloom</td>\n",
       "      <td>0</td>\n",
       "      <td>Bloom</td>\n",
       "    </tr>\n",
       "    <tr>\n",
       "      <th>791</th>\n",
       "      <td>2023-02-02</td>\n",
       "      <td>SAUCE NORTE</td>\n",
       "      <td>32184.5</td>\n",
       "      <td>3.75</td>\n",
       "      <td>Bloom</td>\n",
       "      <td>0</td>\n",
       "      <td>Bloom</td>\n",
       "    </tr>\n",
       "    <tr>\n",
       "      <th>797</th>\n",
       "      <td>2023-02-09</td>\n",
       "      <td>SAUCE NORTE</td>\n",
       "      <td>51007.5</td>\n",
       "      <td>4.75</td>\n",
       "      <td>Bloom</td>\n",
       "      <td>0</td>\n",
       "      <td>Bloom</td>\n",
       "    </tr>\n",
       "    <tr>\n",
       "      <th>803</th>\n",
       "      <td>2023-02-15</td>\n",
       "      <td>SAUCE NORTE</td>\n",
       "      <td>6142.0</td>\n",
       "      <td>3.10</td>\n",
       "      <td>No Bloom</td>\n",
       "      <td>999</td>\n",
       "      <td>No Bloom</td>\n",
       "    </tr>\n",
       "    <tr>\n",
       "      <th>809</th>\n",
       "      <td>2023-02-25</td>\n",
       "      <td>SAUCE NORTE</td>\n",
       "      <td>1412.5</td>\n",
       "      <td>3.40</td>\n",
       "      <td>No Bloom</td>\n",
       "      <td>999</td>\n",
       "      <td>No Bloom</td>\n",
       "    </tr>\n",
       "  </tbody>\n",
       "</table>\n",
       "<p>114 rows × 7 columns</p>\n",
       "</div>"
      ],
      "text/plain": [
       "          date     location     fico    chl     label  days until bloom  \\\n",
       "2   2015-12-30  SAUCE NORTE   4282.5   7.50  No Bloom                 8   \n",
       "11  2016-01-07  SAUCE NORTE  11768.0  10.35     Bloom                 0   \n",
       "14  2016-01-13  SAUCE NORTE  12766.0   9.70     Bloom                 0   \n",
       "23  2016-01-23  SAUCE NORTE   2061.0   6.10  No Bloom                 4   \n",
       "26  2016-01-27  SAUCE NORTE   9844.0  28.25     Bloom                 0   \n",
       "..         ...          ...      ...    ...       ...               ...   \n",
       "785 2023-01-27  SAUCE NORTE  50011.5   4.75     Bloom                 0   \n",
       "791 2023-02-02  SAUCE NORTE  32184.5   3.75     Bloom                 0   \n",
       "797 2023-02-09  SAUCE NORTE  51007.5   4.75     Bloom                 0   \n",
       "803 2023-02-15  SAUCE NORTE   6142.0   3.10  No Bloom               999   \n",
       "809 2023-02-25  SAUCE NORTE   1412.5   3.40  No Bloom               999   \n",
       "\n",
       "    forecast label  \n",
       "2         No Bloom  \n",
       "11           Bloom  \n",
       "14           Bloom  \n",
       "23       Pre Bloom  \n",
       "26           Bloom  \n",
       "..             ...  \n",
       "785          Bloom  \n",
       "791          Bloom  \n",
       "797          Bloom  \n",
       "803       No Bloom  \n",
       "809       No Bloom  \n",
       "\n",
       "[114 rows x 7 columns]"
      ]
     },
     "execution_count": 6,
     "metadata": {},
     "output_type": "execute_result"
    }
   ],
   "source": [
    "dataset.bloom_forecast_gt[dataset.bloom_forecast_gt[\"location\"] == \"SAUCE NORTE\"]"
   ]
  },
  {
   "cell_type": "markdown",
   "id": "468475e7",
   "metadata": {},
   "source": [
    "## Blooming detection with MPH"
   ]
  },
  {
   "cell_type": "code",
   "execution_count": 7,
   "id": "83c56bc8",
   "metadata": {
    "scrolled": true
   },
   "outputs": [],
   "source": [
    "# create generator that yields instances of OLCIdata from dates with ground truth\n",
    "# data corrupted by clouds is skipped\n",
    "data_generator = OLCIdataGenerator(processed_data_path, DATE_FORMAT, skip_invalid=True)\n",
    "\n",
    "y_gt = {\"SAUCE NORTE\": [],\n",
    "        \"SAUCE SUR\": [],\n",
    "        \"TA\": []}\n",
    "\n",
    "y_pred = {\"SAUCE NORTE\": [],\n",
    "        \"SAUCE SUR\": [],\n",
    "        \"TA\": []}\n",
    "\n",
    "predicted_dates = {\"SAUCE NORTE\": [],\n",
    "                    \"SAUCE SUR\": [],\n",
    "                    \"TA\": []}\n",
    "duplicated_pixel_distribution = []\n",
    "for olci_data in data_generator:\n",
    "    total_pixels = olci_data.duplicated.shape[0] * olci_data.duplicated.shape[1]\n",
    "    total_duplicated_pixels = np.count_nonzero(olci_data.duplicated)\n",
    "    duplicated_pixel_distribution.append(total_duplicated_pixels/total_pixels)\n",
    "    # get gt data for same date as OLCI data\n",
    "    day_fico_df = dataset.algae_gt[dataset.algae_gt[\"date\"] == olci_data.date.replace(hour=0, minute=0, second=0, microsecond=0)]\n",
    "    # iterate over rows, skipping unwanted gt data\n",
    "    for index, row in day_fico_df.iterrows():\n",
    "        if not (row[\"location\"] in y_gt):\n",
    "            continue\n",
    "        \n",
    "        location_name = row[\"location\"]\n",
    "        location_coords = sampling_points_coords[location_name]\n",
    "        \n",
    "        mph_bloom_pred = olci_data.get_mph_bloom_in_locations([location_coords])\n",
    "\n",
    "        y_pred[row[\"location\"]].append(\"Bloom\" if mph_bloom_pred == True else \"No Bloom\")\n",
    "        y_gt[row[\"location\"]].append(row[\"label\"])\n",
    "        predicted_dates[row[\"location\"]].append(olci_data.date)"
   ]
  },
  {
   "cell_type": "code",
   "execution_count": 8,
   "id": "ea015f1e",
   "metadata": {
    "scrolled": true
   },
   "outputs": [
    {
     "data": {
      "image/png": "[encoded data removed]",
      "text/plain": [
       "<Figure size 432x288 with 1 Axes>"
      ]
     },
     "metadata": {
      "needs_background": "light"
     },
     "output_type": "display_data"
    }
   ],
   "source": [
    "plt.hist(duplicated_pixel_distribution, bins=20, edgecolor='black')\n",
    "plt.xlabel('Corrupted data on image')\n",
    "plt.ylabel('Frequency')\n",
    "plt.title('Distribution of corrupted data')\n",
    "plt.grid(True)\n",
    "plt.show()"
   ]
  },
  {
   "cell_type": "code",
   "execution_count": 9,
   "id": "45c9e7ed",
   "metadata": {
    "scrolled": false
   },
   "outputs": [
    {
     "name": "stdout",
     "output_type": "stream",
     "text": [
      "SAUCE NORTE\n",
      "Accuracy: 0.86\n",
      "Precision: 0.65\n",
      "Recall: 1.0\n",
      "FPR: 0.0\n",
      "FNR: 0.19\n"
     ]
    },
    {
     "data": {
      "image/png": "[encoded data removed]",
      "text/plain": [
       "<Figure size 432x288 with 2 Axes>"
      ]
     },
     "metadata": {
      "needs_background": "light"
     },
     "output_type": "display_data"
    },
    {
     "name": "stdout",
     "output_type": "stream",
     "text": [
      "SAUCE SUR\n",
      "Accuracy: 0.86\n",
      "Precision: 0.65\n",
      "Recall: 1.0\n",
      "FPR: 0.0\n",
      "FNR: 0.19\n"
     ]
    },
    {
     "data": {
      "image/png": "[encoded data removed]",
      "text/plain": [
       "<Figure size 432x288 with 2 Axes>"
      ]
     },
     "metadata": {
      "needs_background": "light"
     },
     "output_type": "display_data"
    },
    {
     "name": "stdout",
     "output_type": "stream",
     "text": [
      "TA\n",
      "Accuracy: 0.86\n",
      "Precision: 0.76\n",
      "Recall: 1.0\n",
      "FPR: 0.0\n",
      "FNR: 0.26\n"
     ]
    },
    {
     "data": {
      "image/png": "[encoded data removed]",
      "text/plain": [
       "<Figure size 432x288 with 2 Axes>"
      ]
     },
     "metadata": {
      "needs_background": "light"
     },
     "output_type": "display_data"
    }
   ],
   "source": [
    "for location in list(y_gt.keys()):\n",
    "    print(location)\n",
    "    m = metrics(y_gt[location], y_pred[location])\n",
    "    print(\"Accuracy:\", m[\"accuracy\"])\n",
    "    print(\"Precision:\", m[\"precision\"])\n",
    "    print(\"Recall:\", m[\"recall\"])\n",
    "    print(\"FPR:\", m[\"false positive rate\"])\n",
    "    print(\"FNR:\", m[\"false negative rate\"])\n",
    "    sns.heatmap(m[\"confusion matrix\"], annot=True)\n",
    "    plt.show()"
   ]
  },
  {
   "cell_type": "markdown",
   "id": "49d09abf",
   "metadata": {},
   "source": [
    "## Climate features (rain, temperature and wind) correlations with ficocyanin"
   ]
  },
  {
   "cell_type": "code",
   "execution_count": 10,
   "id": "64b118e8",
   "metadata": {
    "scrolled": true
   },
   "outputs": [
    {
     "data": {
      "text/html": [
       "<div>\n",
       "<style scoped>\n",
       "    .dataframe tbody tr th:only-of-type {\n",
       "        vertical-align: middle;\n",
       "    }\n",
       "\n",
       "    .dataframe tbody tr th {\n",
       "        vertical-align: top;\n",
       "    }\n",
       "\n",
       "    .dataframe thead th {\n",
       "        text-align: right;\n",
       "    }\n",
       "</style>\n",
       "<table border=\"1\" class=\"dataframe\">\n",
       "  <thead>\n",
       "    <tr style=\"text-align: right;\">\n",
       "      <th></th>\n",
       "      <th>date</th>\n",
       "      <th>wind</th>\n",
       "      <th>temperature</th>\n",
       "      <th>precipitation</th>\n",
       "    </tr>\n",
       "  </thead>\n",
       "  <tbody>\n",
       "    <tr>\n",
       "      <th>0</th>\n",
       "      <td>2020-12-01</td>\n",
       "      <td>4.5</td>\n",
       "      <td>17.0</td>\n",
       "      <td>0.250000</td>\n",
       "    </tr>\n",
       "    <tr>\n",
       "      <th>1</th>\n",
       "      <td>2020-11-30</td>\n",
       "      <td>14.5</td>\n",
       "      <td>17.0</td>\n",
       "      <td>1.121622</td>\n",
       "    </tr>\n",
       "    <tr>\n",
       "      <th>2</th>\n",
       "      <td>2020-11-29</td>\n",
       "      <td>13.5</td>\n",
       "      <td>21.0</td>\n",
       "      <td>1.516892</td>\n",
       "    </tr>\n",
       "    <tr>\n",
       "      <th>3</th>\n",
       "      <td>2020-11-28</td>\n",
       "      <td>12.0</td>\n",
       "      <td>21.5</td>\n",
       "      <td>5.449324</td>\n",
       "    </tr>\n",
       "    <tr>\n",
       "      <th>4</th>\n",
       "      <td>2020-11-27</td>\n",
       "      <td>9.0</td>\n",
       "      <td>18.0</td>\n",
       "      <td>0.000000</td>\n",
       "    </tr>\n",
       "  </tbody>\n",
       "</table>\n",
       "</div>"
      ],
      "text/plain": [
       "        date  wind  temperature  precipitation\n",
       "0 2020-12-01   4.5         17.0       0.250000\n",
       "1 2020-11-30  14.5         17.0       1.121622\n",
       "2 2020-11-29  13.5         21.0       1.516892\n",
       "3 2020-11-28  12.0         21.5       5.449324\n",
       "4 2020-11-27   9.0         18.0       0.000000"
      ]
     },
     "execution_count": 10,
     "metadata": {},
     "output_type": "execute_result"
    }
   ],
   "source": [
    "sample_date = datetime(2020, 12, 1)\n",
    "dataset.get_historic_data(sample_date, 5)[[\"date\", \"wind\", \"temperature\", \"precipitation\"]]"
   ]
  },
  {
   "cell_type": "code",
   "execution_count": 6,
   "id": "d2a4a951",
   "metadata": {},
   "outputs": [
    {
     "data": {
      "text/html": [
       "<div>\n",
       "<style scoped>\n",
       "    .dataframe tbody tr th:only-of-type {\n",
       "        vertical-align: middle;\n",
       "    }\n",
       "\n",
       "    .dataframe tbody tr th {\n",
       "        vertical-align: top;\n",
       "    }\n",
       "\n",
       "    .dataframe thead th {\n",
       "        text-align: right;\n",
       "    }\n",
       "</style>\n",
       "<table border=\"1\" class=\"dataframe\">\n",
       "  <thead>\n",
       "    <tr style=\"text-align: right;\">\n",
       "      <th></th>\n",
       "      <th>date</th>\n",
       "      <th>precipitation</th>\n",
       "    </tr>\n",
       "  </thead>\n",
       "  <tbody>\n",
       "    <tr>\n",
       "      <th>0</th>\n",
       "      <td>2020-12-01</td>\n",
       "      <td>0.250000</td>\n",
       "    </tr>\n",
       "    <tr>\n",
       "      <th>1</th>\n",
       "      <td>2020-11-30</td>\n",
       "      <td>1.121622</td>\n",
       "    </tr>\n",
       "    <tr>\n",
       "      <th>2</th>\n",
       "      <td>2020-11-29</td>\n",
       "      <td>1.516892</td>\n",
       "    </tr>\n",
       "    <tr>\n",
       "      <th>3</th>\n",
       "      <td>2020-11-28</td>\n",
       "      <td>5.449324</td>\n",
       "    </tr>\n",
       "    <tr>\n",
       "      <th>4</th>\n",
       "      <td>2020-11-27</td>\n",
       "      <td>0.000000</td>\n",
       "    </tr>\n",
       "    <tr>\n",
       "      <th>...</th>\n",
       "      <td>...</td>\n",
       "      <td>...</td>\n",
       "    </tr>\n",
       "    <tr>\n",
       "      <th>245</th>\n",
       "      <td>2020-03-31</td>\n",
       "      <td>0.037162</td>\n",
       "    </tr>\n",
       "    <tr>\n",
       "      <th>246</th>\n",
       "      <td>2020-03-30</td>\n",
       "      <td>0.395270</td>\n",
       "    </tr>\n",
       "    <tr>\n",
       "      <th>247</th>\n",
       "      <td>2020-03-29</td>\n",
       "      <td>3.216216</td>\n",
       "    </tr>\n",
       "    <tr>\n",
       "      <th>248</th>\n",
       "      <td>2020-03-28</td>\n",
       "      <td>5.945946</td>\n",
       "    </tr>\n",
       "    <tr>\n",
       "      <th>249</th>\n",
       "      <td>2020-03-27</td>\n",
       "      <td>0.361486</td>\n",
       "    </tr>\n",
       "  </tbody>\n",
       "</table>\n",
       "<p>250 rows × 2 columns</p>\n",
       "</div>"
      ],
      "text/plain": [
       "          date  precipitation\n",
       "0   2020-12-01       0.250000\n",
       "1   2020-11-30       1.121622\n",
       "2   2020-11-29       1.516892\n",
       "3   2020-11-28       5.449324\n",
       "4   2020-11-27       0.000000\n",
       "..         ...            ...\n",
       "245 2020-03-31       0.037162\n",
       "246 2020-03-30       0.395270\n",
       "247 2020-03-29       3.216216\n",
       "248 2020-03-28       5.945946\n",
       "249 2020-03-27       0.361486\n",
       "\n",
       "[250 rows x 2 columns]"
      ]
     },
     "execution_count": 6,
     "metadata": {},
     "output_type": "execute_result"
    }
   ],
   "source": [
    "sample_date = datetime(2020, 12, 1)\n",
    "dataset.get_historic_data(sample_date, 250)[[\"date\", \"precipitation\"]]"
   ]
  },
  {
   "cell_type": "code",
   "execution_count": 30,
   "id": "86103287",
   "metadata": {
    "scrolled": false
   },
   "outputs": [
    {
     "name": "stdout",
     "output_type": "stream",
     "text": [
      "100 days accumulation\n",
      "precipitation_sum with binary ----> -0.23\n",
      "precipitation_sum with continuous ----> -0.17\n",
      "precipitation_mean with binary ----> -0.23\n",
      "precipitation_mean with continuous ----> -0.17\n",
      "////////////\n",
      "200 days accumulation\n",
      "precipitation_sum with binary ----> -0.41\n",
      "precipitation_sum with continuous ----> -0.23\n",
      "precipitation_mean with binary ----> -0.41\n",
      "precipitation_mean with continuous ----> -0.23\n",
      "////////////\n",
      "250 days accumulation\n",
      "precipitation_sum with binary ----> -0.39\n",
      "precipitation_sum with continuous ----> -0.29\n",
      "precipitation_mean with binary ----> -0.39\n",
      "precipitation_mean with continuous ----> -0.29\n",
      "////////////\n",
      "365 days accumulation\n",
      "precipitation_sum with binary ----> -0.26\n",
      "precipitation_sum with continuous ----> -0.15\n",
      "precipitation_mean with binary ----> -0.26\n",
      "precipitation_mean with continuous ----> -0.15\n",
      "////////////\n"
     ]
    }
   ],
   "source": [
    "infinite_defaultdict = lambda: defaultdict(infinite_defaultdict)\n",
    "correlations = infinite_defaultdict() \n",
    "\n",
    "accumulation_methods = [\"sum\", \"mean\"]\n",
    "# try to find correlations accumulating data in different amounts of days before the dates with GT\n",
    "for days_before in [100, 200, 250, 365]:\n",
    "    accumulation_data = []\n",
    "    for index, row in dataset.algae_gt.iterrows():\n",
    "        if row[\"location\"] not in [\"SAUCE NORTE\", \"SAUCE SUR\", \"TA\"]:\n",
    "            continue\n",
    "\n",
    "        row_date = datetime(row[\"date\"].year, row[\"date\"].month, row[\"date\"].day, 0, 0, 0)\n",
    "        historic_data = dataset.get_historic_data(row_date, days_before)\n",
    "\n",
    "        if len(historic_data) == 0: continue\n",
    "\n",
    "        item = {\"date\": row[\"date\"], \"label\": row[\"label\"], \"fico\": row[\"fico\"]}\n",
    "        for m in accumulation_methods:\n",
    "            item[\"precipitation_\" + m] = getattr(historic_data[\"precipitation\"], m)()\n",
    "#             item[\"temperature_\" + m] = getattr(historic_data[\"temperature\"], m)()\n",
    "#             item[\"wind_\" + m] = getattr(historic_data[\"wind\"], m)()\n",
    "        accumulation_data.append(item)\n",
    "    \n",
    "    accumulation_df = pd.DataFrame(accumulation_data)\n",
    "    accumulation_df = accumulation_df[accumulation_df[\"date\"] >= datetime(2016, 11, 1)]\n",
    "    accumulation_df[\"Bloom state\"] = accumulation_df[\"label\"].replace(\"No Bloom\", 0)\n",
    "    accumulation_df[\"Bloom state\"] = accumulation_df[\"Bloom state\"].replace(\"Bloom\", 1)\n",
    "    accumulation_df = accumulation_df.groupby('date').agg({'fico': 'mean', \n",
    "                                     'Bloom state': 'sum', \n",
    "                                     'precipitation_sum': 'mean',\n",
    "                                     'precipitation_mean': 'mean'}).reset_index()\n",
    "    accumulation_df['Bloom state'] = accumulation_df['Bloom state'].replace(2, 1)\n",
    "    \n",
    "    print(f\"{days_before} days accumulation\")\n",
    "#     for d in [\"precipitation\", \"temperature\", \"wind\"]:\n",
    "    for d in [\"precipitation\"]:\n",
    "        for m in accumulation_methods:\n",
    "            accumulation_dataname = f\"{d}_{m}\"\n",
    "            accumulation_correlation_binary = accumulation_df['Bloom state'].corr(accumulation_df[accumulation_dataname])\n",
    "            accumulation_correlation_cont = accumulation_df['fico'].corr(accumulation_df[accumulation_dataname])\n",
    "            print(f\"{accumulation_dataname} with binary ----> {round(accumulation_correlation_binary, 2)}\")\n",
    "            print(f\"{accumulation_dataname} with continuous ----> {round(accumulation_correlation_cont, 2)}\")\n",
    "            correlations[d][days_before][m] = accumulation_correlation\n",
    "    print(\"////////////\")"
   ]
  },
  {
   "cell_type": "code",
   "execution_count": null,
   "id": "75938e65",
   "metadata": {},
   "outputs": [],
   "source": [
    "accumulation_df"
   ]
  },
  {
   "cell_type": "code",
   "execution_count": 18,
   "id": "8d85f4ba",
   "metadata": {},
   "outputs": [
    {
     "data": {
      "text/html": [
       "<div>\n",
       "<style scoped>\n",
       "    .dataframe tbody tr th:only-of-type {\n",
       "        vertical-align: middle;\n",
       "    }\n",
       "\n",
       "    .dataframe tbody tr th {\n",
       "        vertical-align: top;\n",
       "    }\n",
       "\n",
       "    .dataframe thead th {\n",
       "        text-align: right;\n",
       "    }\n",
       "</style>\n",
       "<table border=\"1\" class=\"dataframe\">\n",
       "  <thead>\n",
       "    <tr style=\"text-align: right;\">\n",
       "      <th></th>\n",
       "      <th>date</th>\n",
       "      <th>location</th>\n",
       "      <th>fico</th>\n",
       "      <th>chl</th>\n",
       "      <th>label</th>\n",
       "    </tr>\n",
       "  </thead>\n",
       "  <tbody>\n",
       "    <tr>\n",
       "      <th>0</th>\n",
       "      <td>2015-12-30</td>\n",
       "      <td>MALLORQUINA</td>\n",
       "      <td>5032.5</td>\n",
       "      <td>10.00</td>\n",
       "      <td>Bloom</td>\n",
       "    </tr>\n",
       "    <tr>\n",
       "      <th>5</th>\n",
       "      <td>2015-12-30</td>\n",
       "      <td>POTRERO</td>\n",
       "      <td>5843.5</td>\n",
       "      <td>13.20</td>\n",
       "      <td>Bloom</td>\n",
       "    </tr>\n",
       "    <tr>\n",
       "      <th>1</th>\n",
       "      <td>2015-12-30</td>\n",
       "      <td>ARROYO SAUCE</td>\n",
       "      <td>5345.5</td>\n",
       "      <td>21.80</td>\n",
       "      <td>Bloom</td>\n",
       "    </tr>\n",
       "    <tr>\n",
       "      <th>2</th>\n",
       "      <td>2015-12-30</td>\n",
       "      <td>SAUCE NORTE</td>\n",
       "      <td>4282.5</td>\n",
       "      <td>7.50</td>\n",
       "      <td>No Bloom</td>\n",
       "    </tr>\n",
       "    <tr>\n",
       "      <th>4</th>\n",
       "      <td>2015-12-30</td>\n",
       "      <td>CISNES</td>\n",
       "      <td>9082.5</td>\n",
       "      <td>18.45</td>\n",
       "      <td>Bloom</td>\n",
       "    </tr>\n",
       "    <tr>\n",
       "      <th>...</th>\n",
       "      <td>...</td>\n",
       "      <td>...</td>\n",
       "      <td>...</td>\n",
       "      <td>...</td>\n",
       "      <td>...</td>\n",
       "    </tr>\n",
       "    <tr>\n",
       "      <th>807</th>\n",
       "      <td>2023-02-25</td>\n",
       "      <td>ARROYO SAUCE</td>\n",
       "      <td>1420.5</td>\n",
       "      <td>3.30</td>\n",
       "      <td>No Bloom</td>\n",
       "    </tr>\n",
       "    <tr>\n",
       "      <th>812</th>\n",
       "      <td>2023-02-25</td>\n",
       "      <td>POTRERO</td>\n",
       "      <td>2353.5</td>\n",
       "      <td>3.90</td>\n",
       "      <td>No Bloom</td>\n",
       "    </tr>\n",
       "    <tr>\n",
       "      <th>808</th>\n",
       "      <td>2023-02-25</td>\n",
       "      <td>MALLORQUINA</td>\n",
       "      <td>1812.0</td>\n",
       "      <td>3.80</td>\n",
       "      <td>No Bloom</td>\n",
       "    </tr>\n",
       "    <tr>\n",
       "      <th>811</th>\n",
       "      <td>2023-02-25</td>\n",
       "      <td>CISNES</td>\n",
       "      <td>1669.0</td>\n",
       "      <td>3.60</td>\n",
       "      <td>No Bloom</td>\n",
       "    </tr>\n",
       "    <tr>\n",
       "      <th>809</th>\n",
       "      <td>2023-02-25</td>\n",
       "      <td>SAUCE NORTE</td>\n",
       "      <td>1412.5</td>\n",
       "      <td>3.40</td>\n",
       "      <td>No Bloom</td>\n",
       "    </tr>\n",
       "  </tbody>\n",
       "</table>\n",
       "<p>813 rows × 5 columns</p>\n",
       "</div>"
      ],
      "text/plain": [
       "          date      location    fico    chl     label\n",
       "0   2015-12-30   MALLORQUINA  5032.5  10.00     Bloom\n",
       "5   2015-12-30       POTRERO  5843.5  13.20     Bloom\n",
       "1   2015-12-30  ARROYO SAUCE  5345.5  21.80     Bloom\n",
       "2   2015-12-30   SAUCE NORTE  4282.5   7.50  No Bloom\n",
       "4   2015-12-30        CISNES  9082.5  18.45     Bloom\n",
       "..         ...           ...     ...    ...       ...\n",
       "807 2023-02-25  ARROYO SAUCE  1420.5   3.30  No Bloom\n",
       "812 2023-02-25       POTRERO  2353.5   3.90  No Bloom\n",
       "808 2023-02-25   MALLORQUINA  1812.0   3.80  No Bloom\n",
       "811 2023-02-25        CISNES  1669.0   3.60  No Bloom\n",
       "809 2023-02-25   SAUCE NORTE  1412.5   3.40  No Bloom\n",
       "\n",
       "[813 rows x 5 columns]"
      ]
     },
     "execution_count": 18,
     "metadata": {},
     "output_type": "execute_result"
    }
   ],
   "source": [
    "dataset.algae_gt"
   ]
  },
  {
   "cell_type": "markdown",
   "id": "6c55e92a",
   "metadata": {},
   "source": [
    "100 days accumulation\n",
    "\n",
    "precipitation_sum ----> -0.164772164671051\n",
    "\n",
    "precipitation_mean ----> -0.16477216467105096\n",
    "\n",
    "temperature_sum ----> -0.021495860696549334\n",
    "\n",
    "temperature_mean ----> 0.17807973954938786\n",
    "\n",
    "wind_sum ----> -0.08023041408997561\n",
    "\n",
    "wind_mean ----> 0.04708881066590756\n",
    "\n",
    "////////////\n",
    "\n",
    "200 days accumulation\n",
    "\n",
    "precipitation_sum ----> -0.34936806032973905\n",
    "\n",
    "precipitation_mean ----> -0.3493680603297392\n",
    "\n",
    "temperature_sum ----> -0.007412263333156455\n",
    "\n",
    "temperature_mean ----> 0.30830976785697606\n",
    "\n",
    "wind_sum ----> -0.1207722832259705\n",
    "\n",
    "wind_mean ----> -0.026601503894354672\n",
    "\n",
    "////////////\n",
    "\n",
    "250 days accumulation\n",
    "\n",
    "precipitation_sum ----> -0.31982247835536526\n",
    "\n",
    "precipitation_mean ----> -0.3198224783553651\n",
    "\n",
    "temperature_sum ----> -0.06194357704347986\n",
    "\n",
    "\n",
    "temperature_mean ----> 0.24057142004327892\n",
    "\n",
    "wind_sum ----> -0.14626532732664888\n",
    "\n",
    "wind_mean ----> -0.06596991010549\n",
    "\n",
    "////////////\n",
    "\n",
    "365 days accumulation\n",
    "\n",
    "precipitation_sum ----> -0.15461669687502005\n",
    "\n",
    "precipitation_mean ----> -0.15461669687502025\n",
    "\n",
    "temperature_sum ----> -0.1647088816436126\n",
    "\n",
    "temperature_mean ----> 0.056417708576601784\n",
    "\n",
    "wind_sum ----> -0.13282270840171664\n",
    "\n",
    "wind_mean ----> -0.02083764215671592\n",
    "\n",
    "////////////"
   ]
  },
  {
   "cell_type": "markdown",
   "id": "1f023c59",
   "metadata": {},
   "source": [
    "## Prediction with MPH features"
   ]
  },
  {
   "cell_type": "code",
   "execution_count": 12,
   "id": "c98b3fb6",
   "metadata": {
    "scrolled": true
   },
   "outputs": [],
   "source": [
    "data_generator = OLCIdataGenerator(processed_data_path, DATE_FORMAT, skip_invalid=True)\n",
    "\n",
    "X = []\n",
    "y = []\n",
    "dates_list = []\n",
    "locations_list = []\n",
    "\n",
    "for olci_data in data_generator:\n",
    "    # get gt data for same date as OLCI data\n",
    "    day_fico_df = dataset.algae_gt[dataset.algae_gt[\"date\"] == olci_data.date.replace(hour=0, \n",
    "                                                                                      minute=0, \n",
    "                                                                                      second=0, \n",
    "                                                                                      microsecond=0)]\n",
    "    # iterate over rows, skipping unwanted gt data\n",
    "    for index, row in day_fico_df.iterrows():\n",
    "        if not (row[\"location\"] in [\"SAUCE NORTE\", \"SAUCE SUR\", \"TA\"]):\n",
    "            continue\n",
    "            \n",
    "        dates_list.append(row[\"date\"])\n",
    "        \n",
    "        locations_list.append(row[\"location\"])\n",
    "            \n",
    "        y.append(row[\"label\"])\n",
    "        \n",
    "        location_coords = sampling_points_coords[row[\"location\"]]\n",
    "        \n",
    "        i, j = olci_data.get_pos_index(location_coords[0], location_coords[1])\n",
    "        \n",
    "        # get mean of 3x3 grid centered on the sampling location for every feature\n",
    "        NDVI = olci_data.mph.NDVI[i-1:i+2, j-1:j+2].mean()\n",
    "        BAIR = olci_data.mph.BAIR[i-1:i+2, j-1:j+2].mean()\n",
    "        SICF = olci_data.mph.SICF[i-1:i+2, j-1:j+2].mean()\n",
    "        SIPF = olci_data.mph.SIPF[i-1:i+2, j-1:j+2].mean()\n",
    "        MPH0 = olci_data.mph.MPH0[i-1:i+2, j-1:j+2].mean()\n",
    "        MPH1 = olci_data.mph.MPH1[i-1:i+2, j-1:j+2].mean()\n",
    "        lambda_max1 = olci_data.mph.lambda_max1[i-1:i+2, j-1:j+2].max()\n",
    "        \n",
    "        X.append([NDVI, BAIR, SICF, SIPF, MPH0, MPH1, lambda_max1])\n",
    "X = np.array(X)\n",
    "y = np.array(y)"
   ]
  },
  {
   "cell_type": "code",
   "execution_count": 13,
   "id": "c9d956e5",
   "metadata": {
    "scrolled": false
   },
   "outputs": [
    {
     "name": "stdout",
     "output_type": "stream",
     "text": [
      "DecisionTreeClassifier(max_depth=3, random_state=0)\n",
      "Accuracy: 0.94\n",
      "Precision: 0.87\n",
      "Recall: 0.96\n",
      "FPR: 0.04\n",
      "FNR: 0.08\n"
     ]
    },
    {
     "data": {
      "image/png": "[encoded data removed]",
      "text/plain": [
       "<Figure size 432x288 with 2 Axes>"
      ]
     },
     "metadata": {
      "needs_background": "light"
     },
     "output_type": "display_data"
    },
    {
     "name": "stdout",
     "output_type": "stream",
     "text": [
      "Pipeline(steps=[('standardscaler', StandardScaler()),\n",
      "                ('svc', SVC(gamma='auto'))])\n",
      "Accuracy: 0.93\n",
      "Precision: 0.86\n",
      "Recall: 0.94\n",
      "FPR: 0.06\n",
      "FNR: 0.08\n"
     ]
    },
    {
     "data": {
      "image/png": "[encoded data removed]",
      "text/plain": [
       "<Figure size 432x288 with 2 Axes>"
      ]
     },
     "metadata": {
      "needs_background": "light"
     },
     "output_type": "display_data"
    },
    {
     "name": "stdout",
     "output_type": "stream",
     "text": [
      "GaussianNB()\n",
      "Accuracy: 0.91\n",
      "Precision: 0.84\n",
      "Recall: 0.91\n",
      "FPR: 0.09\n",
      "FNR: 0.09\n"
     ]
    },
    {
     "data": {
      "image/png": "[encoded data removed]",
      "text/plain": [
       "<Figure size 432x288 with 2 Axes>"
      ]
     },
     "metadata": {
      "needs_background": "light"
     },
     "output_type": "display_data"
    },
    {
     "name": "stdout",
     "output_type": "stream",
     "text": [
      "Pipeline(steps=[('standardscaler', StandardScaler()),\n",
      "                ('sgdclassifier', SGDClassifier())])\n",
      "Accuracy: 0.91\n",
      "Precision: 0.83\n",
      "Recall: 0.93\n",
      "FPR: 0.07\n",
      "FNR: 0.1\n"
     ]
    },
    {
     "data": {
      "image/png": "[encoded data removed]",
      "text/plain": [
       "<Figure size 432x288 with 2 Axes>"
      ]
     },
     "metadata": {
      "needs_background": "light"
     },
     "output_type": "display_data"
    },
    {
     "name": "stdout",
     "output_type": "stream",
     "text": [
      "RandomForestClassifier(max_depth=3, random_state=0)\n",
      "Accuracy: 0.95\n",
      "Precision: 0.9\n",
      "Recall: 0.96\n",
      "FPR: 0.04\n",
      "FNR: 0.06\n"
     ]
    },
    {
     "data": {
      "image/png": "[encoded data removed]",
      "text/plain": [
       "<Figure size 432x288 with 2 Axes>"
      ]
     },
     "metadata": {
      "needs_background": "light"
     },
     "output_type": "display_data"
    },
    {
     "name": "stdout",
     "output_type": "stream",
     "text": [
      "GradientBoostingClassifier(learning_rate=1.0, max_depth=1, random_state=0)\n",
      "Accuracy: 0.91\n",
      "Precision: 0.88\n",
      "Recall: 0.85\n",
      "FPR: 0.15\n",
      "FNR: 0.06\n"
     ]
    },
    {
     "data": {
      "image/png": "[encoded data removed]",
      "text/plain": [
       "<Figure size 432x288 with 2 Axes>"
      ]
     },
     "metadata": {
      "needs_background": "light"
     },
     "output_type": "display_data"
    },
    {
     "name": "stdout",
     "output_type": "stream",
     "text": [
      "LGBMClassifier()\n",
      "Accuracy: 0.9\n",
      "Precision: 0.87\n",
      "Recall: 0.85\n",
      "FPR: 0.15\n",
      "FNR: 0.07\n"
     ]
    },
    {
     "data": {
      "image/png": "[encoded data removed]",
      "text/plain": [
       "<Figure size 432x288 with 2 Axes>"
      ]
     },
     "metadata": {
      "needs_background": "light"
     },
     "output_type": "display_data"
    },
    {
     "name": "stdout",
     "output_type": "stream",
     "text": [
      "XGBClassifier(base_score=None, booster=None, colsample_bylevel=None,\n",
      "              colsample_bynode=None, colsample_bytree=None,\n",
      "              enable_categorical=False, gamma=None, gpu_id=None,\n",
      "              importance_type=None, interaction_constraints=None,\n",
      "              learning_rate=None, max_delta_step=None, max_depth=None,\n",
      "              min_child_weight=None, missing=nan, monotone_constraints=None,\n",
      "              n_estimators=100, n_jobs=None, num_parallel_tree=None,\n",
      "              predictor=None, random_state=None, reg_alpha=None,\n",
      "              reg_lambda=None, scale_pos_weight=None, subsample=None,\n",
      "              tree_method=None, validate_parameters=None, verbosity=0)\n"
     ]
    },
    {
     "name": "stderr",
     "output_type": "stream",
     "text": [
      "/home/enzo/anaconda3/envs/cyano_venv/lib/python3.6/site-packages/xgboost/sklearn.py:1224: UserWarning: The use of label encoder in XGBClassifier is deprecated and will be removed in a future release. To remove this warning, do the following: 1) Pass option use_label_encoder=False when constructing XGBClassifier object; and 2) Encode your labels (y) as integers starting with 0, i.e. 0, 1, 2, ..., [num_class - 1].\n",
      "  warnings.warn(label_encoder_deprecation_msg, UserWarning)\n"
     ]
    },
    {
     "name": "stdout",
     "output_type": "stream",
     "text": [
      "Accuracy: 0.92\n",
      "Precision: 0.87\n",
      "Recall: 0.89\n",
      "FPR: 0.11\n",
      "FNR: 0.07\n"
     ]
    },
    {
     "data": {
      "image/png": "[encoded data removed]",
      "text/plain": [
       "<Figure size 432x288 with 2 Axes>"
      ]
     },
     "metadata": {
      "needs_background": "light"
     },
     "output_type": "display_data"
    }
   ],
   "source": [
    "clfs = [DecisionTreeClassifier(random_state=0, max_depth=3),\n",
    "        make_pipeline(StandardScaler(), SVC(gamma='auto')),\n",
    "        GaussianNB(),\n",
    "        make_pipeline(StandardScaler(), SGDClassifier(max_iter=1000, tol=1e-3)),\n",
    "        RandomForestClassifier(max_depth=3, random_state=0),\n",
    "        GradientBoostingClassifier(n_estimators=100, learning_rate=1.0, max_depth=1, random_state=0),\n",
    "        LGBMClassifier(),\n",
    "        XGBClassifier(verbosity=0)]\n",
    "        \n",
    "cv = LeaveOneOut()\n",
    "for clf in clfs:\n",
    "    print(clf)\n",
    "    y_test_all = []\n",
    "    y_pred_all = []\n",
    "    for train_index, test_index in cv.split(X, y):\n",
    "        X_train, X_test = X[train_index], X[test_index]\n",
    "        y_train, y_test = y[train_index], y[test_index]\n",
    "\n",
    "        clf.fit(X_train, y_train)\n",
    "\n",
    "        y_pred = clf.predict(X_test)\n",
    "\n",
    "        y_test_all.append(y_test[0])\n",
    "        y_pred_all.append(y_pred[0])\n",
    "\n",
    "    m = metrics(y_test_all, y_pred_all)\n",
    "    print(\"Accuracy:\", m[\"accuracy\"])\n",
    "    print(\"Precision:\", m[\"precision\"])\n",
    "    print(\"Recall:\", m[\"recall\"])\n",
    "    print(\"FPR:\", m[\"false positive rate\"])\n",
    "    print(\"FNR:\", m[\"false negative rate\"])\n",
    "    sns.heatmap(m[\"confusion matrix\"], annot=True)\n",
    "    plt.show()"
   ]
  },
  {
   "cell_type": "code",
   "execution_count": 14,
   "id": "00e17091",
   "metadata": {
    "scrolled": false
   },
   "outputs": [
    {
     "data": {
      "text/plain": [
       "[Text(186.0, 475.65000000000003, 'SIPF <= 0.0\\ngini = 0.455\\nsamples = 154\\nvalue = [54, 100]\\nclass = Bloom'),\n",
       " Text(93.0, 339.75, 'gini = 0.0\\nsamples = 92\\nvalue = [0, 92]\\nclass = Bloom'),\n",
       " Text(279.0, 339.75, 'MPH0 <= 0.005\\ngini = 0.225\\nsamples = 62\\nvalue = [54, 8]\\nclass = No Bloom'),\n",
       " Text(186.0, 203.85000000000002, 'gini = 0.0\\nsamples = 2\\nvalue = [0, 2]\\nclass = Bloom'),\n",
       " Text(372.0, 203.85000000000002, 'SICF <= -0.007\\ngini = 0.18\\nsamples = 60\\nvalue = [54, 6]\\nclass = No Bloom'),\n",
       " Text(279.0, 67.94999999999999, 'gini = 0.0\\nsamples = 34\\nvalue = [34, 0]\\nclass = No Bloom'),\n",
       " Text(465.0, 67.94999999999999, 'gini = 0.355\\nsamples = 26\\nvalue = [20, 6]\\nclass = No Bloom')]"
      ]
     },
     "execution_count": 14,
     "metadata": {},
     "output_type": "execute_result"
    },
    {
     "data": {
      "image/png": "[encoded data removed]",
      "text/plain": [
       "<Figure size 720x720 with 1 Axes>"
      ]
     },
     "metadata": {
      "needs_background": "light"
     },
     "output_type": "display_data"
    }
   ],
   "source": [
    "plt.figure(figsize=(10,10))\n",
    "clf = DecisionTreeClassifier(random_state=0, max_depth=3)\n",
    "clf.fit(X, y)\n",
    "tree.plot_tree(clf, \n",
    "               feature_names=[\"NDVI\", \"BAIR\", \"SICF\", \"SIPF\", \"MPH0\", \"MPH1\", \"lambda_max1\"],  \n",
    "               class_names=[\"No Bloom\", \"Bloom\"],\n",
    "               filled=True)"
   ]
  },
  {
   "cell_type": "code",
   "execution_count": 15,
   "id": "31db4474",
   "metadata": {
    "scrolled": false
   },
   "outputs": [
    {
     "data": {
      "image/png": "[encoded data removed]",
      "text/plain": [
       "<Figure size 720x720 with 1 Axes>"
      ]
     },
     "metadata": {
      "needs_background": "light"
     },
     "output_type": "display_data"
    }
   ],
   "source": [
    "y_binary = np.zeros(y.shape)\n",
    "for i in range(y_binary.shape[0]):\n",
    "    if y[i] == \"No Bloom\":\n",
    "        y_binary[i] = 0\n",
    "    else:\n",
    "        y_binary[i] = 1\n",
    "\n",
    "plt.figure(figsize=(10,10))\n",
    "plt.scatter(X[:, 2], X[:, 3], c=y_binary)\n",
    "plt.show()"
   ]
  },
  {
   "cell_type": "markdown",
   "id": "ce206a9c",
   "metadata": {},
   "source": [
    "### Extend features using climate data"
   ]
  },
  {
   "cell_type": "code",
   "execution_count": 16,
   "id": "cf8d6afb",
   "metadata": {
    "scrolled": true
   },
   "outputs": [],
   "source": [
    "# climate_features_meta = {\"precipitation\": {\"accumulation_days\": 365, \"accumulation_type\": \"sum\"},\n",
    "#                          \"temperature\": {\"accumulation_days\": 9, \"accumulation_type\": \"max\"},\n",
    "#                          \"wind\": {\"accumulation_days\": 9, \"accumulation_type\": \"max\"}}\n",
    "climate_features_meta = {\"precipitation\": {\"accumulation_days\": 200, \"accumulation_type\": \"sum\"}}\n",
    "# climate_features_meta = {\"precipitation\": {\"accumulation_days\": 200, \"accumulation_type\": \"sum\"},\n",
    "#                          \"temperature\": {\"accumulation_days\": 200, \"accumulation_type\": \"mean\"}\n",
    "#                         }\n",
    "climate_features = np.zeros((len(dates_list), len(climate_features_meta.keys())))\n",
    "for idx, key_value in enumerate(climate_features_meta.items()):\n",
    "    climate_feature_name = key_value[0]\n",
    "    feature_metadata = key_value[1]\n",
    "    feature_accumulated_data = []\n",
    "    for date_idx, d in enumerate(dates_list):\n",
    "        row_date = datetime(d.year, d.month, d.day, 0, 0, 0)\n",
    "        historic_data = dataset.get_historic_data(row_date, feature_metadata[\"accumulation_days\"])\n",
    "\n",
    "        if len(historic_data) == 0:\n",
    "            print(f\"{d} has no historic data\")\n",
    "            continue\n",
    "\n",
    "        climate_feature_value = getattr(historic_data[climate_feature_name], feature_metadata[\"accumulation_type\"])()\n",
    "        if isnan(climate_feature_value):\n",
    "            print(historic_data[[\"date\", climate_feature_name]])\n",
    "            climate_feature_value = 0\n",
    "        feature_accumulated_data.append(climate_feature_value)\n",
    "\n",
    "    climate_features[:, idx] = np.array(feature_accumulated_data)\n",
    "    \n",
    "X_extended = np.hstack((X,climate_features))"
   ]
  },
  {
   "cell_type": "markdown",
   "id": "6efbead7",
   "metadata": {},
   "source": [
    "## Prediction with MPH indexes and climate data"
   ]
  },
  {
   "cell_type": "code",
   "execution_count": 17,
   "id": "74abecc1",
   "metadata": {
    "scrolled": false
   },
   "outputs": [
    {
     "name": "stdout",
     "output_type": "stream",
     "text": [
      "DecisionTreeClassifier(max_depth=3, random_state=0)\n",
      "Accuracy: 0.92\n",
      "Precision: 0.86\n",
      "Recall: 0.93\n",
      "FPR: 0.07\n",
      "FNR: 0.08\n"
     ]
    },
    {
     "data": {
      "image/png": "[encoded data removed]",
      "text/plain": [
       "<Figure size 432x288 with 2 Axes>"
      ]
     },
     "metadata": {
      "needs_background": "light"
     },
     "output_type": "display_data"
    },
    {
     "name": "stdout",
     "output_type": "stream",
     "text": [
      "Pipeline(steps=[('standardscaler', StandardScaler()),\n",
      "                ('svc', SVC(gamma='auto'))])\n",
      "Accuracy: 0.94\n",
      "Precision: 0.89\n",
      "Recall: 0.94\n",
      "FPR: 0.06\n",
      "FNR: 0.06\n"
     ]
    },
    {
     "data": {
      "image/png": "[encoded data removed]",
      "text/plain": [
       "<Figure size 432x288 with 2 Axes>"
      ]
     },
     "metadata": {
      "needs_background": "light"
     },
     "output_type": "display_data"
    },
    {
     "name": "stdout",
     "output_type": "stream",
     "text": [
      "GaussianNB()\n",
      "Accuracy: 0.92\n",
      "Precision: 0.92\n",
      "Recall: 0.83\n",
      "FPR: 0.17\n",
      "FNR: 0.04\n"
     ]
    },
    {
     "data": {
      "image/png": "[encoded data removed]",
      "text/plain": [
       "<Figure size 432x288 with 2 Axes>"
      ]
     },
     "metadata": {
      "needs_background": "light"
     },
     "output_type": "display_data"
    },
    {
     "name": "stdout",
     "output_type": "stream",
     "text": [
      "Pipeline(steps=[('standardscaler', StandardScaler()),\n",
      "                ('sgdclassifier', SGDClassifier())])\n",
      "Accuracy: 0.92\n",
      "Precision: 0.89\n",
      "Recall: 0.89\n",
      "FPR: 0.11\n",
      "FNR: 0.06\n"
     ]
    },
    {
     "data": {
      "image/png": "[encoded data removed]",
      "text/plain": [
       "<Figure size 432x288 with 2 Axes>"
      ]
     },
     "metadata": {
      "needs_background": "light"
     },
     "output_type": "display_data"
    },
    {
     "name": "stdout",
     "output_type": "stream",
     "text": [
      "RandomForestClassifier(max_depth=3, random_state=0)\n",
      "Accuracy: 0.94\n",
      "Precision: 0.89\n",
      "Recall: 0.93\n",
      "FPR: 0.07\n",
      "FNR: 0.06\n"
     ]
    },
    {
     "data": {
      "image/png": "[encoded data removed]",
      "text/plain": [
       "<Figure size 432x288 with 2 Axes>"
      ]
     },
     "metadata": {
      "needs_background": "light"
     },
     "output_type": "display_data"
    },
    {
     "name": "stdout",
     "output_type": "stream",
     "text": [
      "GradientBoostingClassifier(learning_rate=1.0, max_depth=1, random_state=0)\n",
      "Accuracy: 0.9\n",
      "Precision: 0.88\n",
      "Recall: 0.83\n",
      "FPR: 0.17\n",
      "FNR: 0.06\n"
     ]
    },
    {
     "data": {
      "image/png": "[encoded data removed]",
      "text/plain": [
       "<Figure size 432x288 with 2 Axes>"
      ]
     },
     "metadata": {
      "needs_background": "light"
     },
     "output_type": "display_data"
    },
    {
     "name": "stdout",
     "output_type": "stream",
     "text": [
      "LGBMClassifier()\n",
      "Accuracy: 0.9\n",
      "Precision: 0.87\n",
      "Recall: 0.85\n",
      "FPR: 0.15\n",
      "FNR: 0.07\n"
     ]
    },
    {
     "data": {
      "image/png": "[encoded data removed]",
      "text/plain": [
       "<Figure size 432x288 with 2 Axes>"
      ]
     },
     "metadata": {
      "needs_background": "light"
     },
     "output_type": "display_data"
    },
    {
     "name": "stdout",
     "output_type": "stream",
     "text": [
      "XGBClassifier(base_score=None, booster=None, colsample_bylevel=None,\n",
      "              colsample_bynode=None, colsample_bytree=None,\n",
      "              enable_categorical=False, gamma=None, gpu_id=None,\n",
      "              importance_type=None, interaction_constraints=None,\n",
      "              learning_rate=None, max_delta_step=None, max_depth=None,\n",
      "              min_child_weight=None, missing=nan, monotone_constraints=None,\n",
      "              n_estimators=100, n_jobs=None, num_parallel_tree=None,\n",
      "              predictor=None, random_state=None, reg_alpha=None,\n",
      "              reg_lambda=None, scale_pos_weight=None, subsample=None,\n",
      "              tree_method=None, validate_parameters=None, verbosity=0)\n"
     ]
    },
    {
     "name": "stderr",
     "output_type": "stream",
     "text": [
      "/home/enzo/anaconda3/envs/cyano_venv/lib/python3.6/site-packages/xgboost/sklearn.py:1224: UserWarning: The use of label encoder in XGBClassifier is deprecated and will be removed in a future release. To remove this warning, do the following: 1) Pass option use_label_encoder=False when constructing XGBClassifier object; and 2) Encode your labels (y) as integers starting with 0, i.e. 0, 1, 2, ..., [num_class - 1].\n",
      "  warnings.warn(label_encoder_deprecation_msg, UserWarning)\n"
     ]
    },
    {
     "name": "stdout",
     "output_type": "stream",
     "text": [
      "Accuracy: 0.91\n",
      "Precision: 0.88\n",
      "Recall: 0.85\n",
      "FPR: 0.15\n",
      "FNR: 0.06\n"
     ]
    },
    {
     "data": {
      "image/png": "[encoded data removed]",
      "text/plain": [
       "<Figure size 432x288 with 2 Axes>"
      ]
     },
     "metadata": {
      "needs_background": "light"
     },
     "output_type": "display_data"
    }
   ],
   "source": [
    "clfs = [DecisionTreeClassifier(random_state=0, max_depth=3),\n",
    "        make_pipeline(StandardScaler(), SVC(gamma='auto')),\n",
    "        GaussianNB(),\n",
    "        make_pipeline(StandardScaler(), SGDClassifier(max_iter=1000, tol=1e-3)),\n",
    "        RandomForestClassifier(max_depth=3, random_state=0),\n",
    "        GradientBoostingClassifier(n_estimators=100, learning_rate=1.0, max_depth=1, random_state=0),\n",
    "        LGBMClassifier(),\n",
    "        XGBClassifier(verbosity=0)]\n",
    "        \n",
    "\n",
    "cv = LeaveOneOut()\n",
    "for clf in clfs:\n",
    "    print(clf)\n",
    "    y_test_all = []\n",
    "    y_pred_all = []\n",
    "    for train_index, test_index in cv.split(X_extended, y):\n",
    "        X_train, X_test = X_extended[train_index], X_extended[test_index]\n",
    "        y_train, y_test = y[train_index], y[test_index]\n",
    "\n",
    "        clf.fit(X_train, y_train)\n",
    "\n",
    "        y_pred = clf.predict(X_test)\n",
    "\n",
    "        y_test_all.append(y_test[0])\n",
    "        y_pred_all.append(y_pred[0])\n",
    "\n",
    "    m = metrics(y_test_all, y_pred_all)\n",
    "    print(\"Accuracy:\", m[\"accuracy\"])\n",
    "    print(\"Precision:\", m[\"precision\"])\n",
    "    print(\"Recall:\", m[\"recall\"])\n",
    "    print(\"FPR:\", m[\"false positive rate\"])\n",
    "    print(\"FNR:\", m[\"false negative rate\"])\n",
    "    sns.heatmap(m[\"confusion matrix\"], annot=True)\n",
    "    plt.show()"
   ]
  },
  {
   "cell_type": "markdown",
   "id": "4ce6d1ec",
   "metadata": {},
   "source": [
    "## Train and save model"
   ]
  },
  {
   "cell_type": "markdown",
   "id": "5ef5c111",
   "metadata": {},
   "source": [
    "### Without climate data"
   ]
  },
  {
   "cell_type": "code",
   "execution_count": 18,
   "id": "2e3e5434",
   "metadata": {
    "scrolled": true
   },
   "outputs": [],
   "source": [
    "# filename_no_climate = 'decision_tree_2023.sav'\n",
    "\n",
    "# model = DecisionTreeClassifier(random_state=0, max_depth=3)\n",
    "\n",
    "# model.fit(X, y)\n",
    "\n",
    "# print(metrics(y, model.predict(X)))\n",
    "# # save the model to disk\n",
    "# pickle.dump(model, open(filename_no_climate, 'wb'))"
   ]
  },
  {
   "cell_type": "markdown",
   "id": "c1da905d",
   "metadata": {},
   "source": [
    "### With climate data"
   ]
  },
  {
   "cell_type": "code",
   "execution_count": 19,
   "id": "78da800c",
   "metadata": {
    "scrolled": true
   },
   "outputs": [],
   "source": [
    "# filename_with_climate = 'xgboost_precipitation_2023.sav'\n",
    "\n",
    "# model = XGBClassifier(verbosity=0)\n",
    "\n",
    "# model.fit(X_extended, y)\n",
    "\n",
    "# print(metrics(y, model.predict(X_extended)))\n",
    "# # save the model to disk\n",
    "# pickle.dump(model, open(filename_with_climate, 'wb'))"
   ]
  },
  {
   "cell_type": "markdown",
   "id": "c0ab7b1e",
   "metadata": {},
   "source": [
    "## Load trained model from disk"
   ]
  },
  {
   "cell_type": "code",
   "execution_count": 20,
   "id": "3597343e",
   "metadata": {
    "scrolled": true
   },
   "outputs": [],
   "source": [
    "# xgboost_model = pickle.load(open(filename_with_climate, 'rb'))\n",
    "# decision_tree_model = pickle.load(open(filename_no_climate, 'rb'))\n",
    "\n",
    "# xgboost_preds = xgboost_model.predict(X_extended)\n",
    "# decision_tree_preds = decision_tree_model.predict(X)\n",
    "# print(metrics(y, xgboost_preds))\n",
    "# print(metrics(y, decision_tree_preds))"
   ]
  },
  {
   "cell_type": "markdown",
   "id": "4444aaee",
   "metadata": {},
   "source": [
    "## Bloom forecast"
   ]
  },
  {
   "cell_type": "code",
   "execution_count": 21,
   "id": "ffbc17c8",
   "metadata": {
    "scrolled": false
   },
   "outputs": [
    {
     "name": "stdout",
     "output_type": "stream",
     "text": [
      "0.3333333333333333\n",
      "GaussianNB() 1 days pre bloom threshold\n"
     ]
    },
    {
     "data": {
      "image/png": "[encoded data removed]",
      "text/plain": [
       "<Figure size 576x432 with 2 Axes>"
      ]
     },
     "metadata": {
      "needs_background": "light"
     },
     "output_type": "display_data"
    },
    {
     "name": "stderr",
     "output_type": "stream",
     "text": [
      "/home/enzo/anaconda3/envs/cyano_venv/lib/python3.6/site-packages/xgboost/sklearn.py:1224: UserWarning: The use of label encoder in XGBClassifier is deprecated and will be removed in a future release. To remove this warning, do the following: 1) Pass option use_label_encoder=False when constructing XGBClassifier object; and 2) Encode your labels (y) as integers starting with 0, i.e. 0, 1, 2, ..., [num_class - 1].\n",
      "  warnings.warn(label_encoder_deprecation_msg, UserWarning)\n"
     ]
    },
    {
     "name": "stdout",
     "output_type": "stream",
     "text": [
      "1.0\n",
      "GaussianNB() 2 days pre bloom threshold\n"
     ]
    },
    {
     "data": {
      "image/png": "[encoded data removed]",
      "text/plain": [
       "<Figure size 576x432 with 2 Axes>"
      ]
     },
     "metadata": {
      "needs_background": "light"
     },
     "output_type": "display_data"
    },
    {
     "name": "stderr",
     "output_type": "stream",
     "text": [
      "/home/enzo/anaconda3/envs/cyano_venv/lib/python3.6/site-packages/xgboost/sklearn.py:1224: UserWarning: The use of label encoder in XGBClassifier is deprecated and will be removed in a future release. To remove this warning, do the following: 1) Pass option use_label_encoder=False when constructing XGBClassifier object; and 2) Encode your labels (y) as integers starting with 0, i.e. 0, 1, 2, ..., [num_class - 1].\n",
      "  warnings.warn(label_encoder_deprecation_msg, UserWarning)\n"
     ]
    },
    {
     "name": "stdout",
     "output_type": "stream",
     "text": [
      "1.0\n",
      "GaussianNB() 3 days pre bloom threshold\n"
     ]
    },
    {
     "data": {
      "image/png": "[encoded data removed]",
      "text/plain": [
       "<Figure size 576x432 with 2 Axes>"
      ]
     },
     "metadata": {
      "needs_background": "light"
     },
     "output_type": "display_data"
    },
    {
     "name": "stderr",
     "output_type": "stream",
     "text": [
      "/home/enzo/anaconda3/envs/cyano_venv/lib/python3.6/site-packages/xgboost/sklearn.py:1224: UserWarning: The use of label encoder in XGBClassifier is deprecated and will be removed in a future release. To remove this warning, do the following: 1) Pass option use_label_encoder=False when constructing XGBClassifier object; and 2) Encode your labels (y) as integers starting with 0, i.e. 0, 1, 2, ..., [num_class - 1].\n",
      "  warnings.warn(label_encoder_deprecation_msg, UserWarning)\n"
     ]
    },
    {
     "name": "stdout",
     "output_type": "stream",
     "text": [
      "1.0\n",
      "GaussianNB() 4 days pre bloom threshold\n"
     ]
    },
    {
     "data": {
      "image/png": "[encoded data removed]",
      "text/plain": [
       "<Figure size 576x432 with 2 Axes>"
      ]
     },
     "metadata": {
      "needs_background": "light"
     },
     "output_type": "display_data"
    },
    {
     "name": "stderr",
     "output_type": "stream",
     "text": [
      "/home/enzo/anaconda3/envs/cyano_venv/lib/python3.6/site-packages/xgboost/sklearn.py:1224: UserWarning: The use of label encoder in XGBClassifier is deprecated and will be removed in a future release. To remove this warning, do the following: 1) Pass option use_label_encoder=False when constructing XGBClassifier object; and 2) Encode your labels (y) as integers starting with 0, i.e. 0, 1, 2, ..., [num_class - 1].\n",
      "  warnings.warn(label_encoder_deprecation_msg, UserWarning)\n"
     ]
    },
    {
     "name": "stdout",
     "output_type": "stream",
     "text": [
      "1.0\n",
      "GaussianNB() 5 days pre bloom threshold\n"
     ]
    },
    {
     "data": {
      "image/png": "[encoded data removed]",
      "text/plain": [
       "<Figure size 576x432 with 2 Axes>"
      ]
     },
     "metadata": {
      "needs_background": "light"
     },
     "output_type": "display_data"
    },
    {
     "name": "stderr",
     "output_type": "stream",
     "text": [
      "/home/enzo/anaconda3/envs/cyano_venv/lib/python3.6/site-packages/xgboost/sklearn.py:1224: UserWarning: The use of label encoder in XGBClassifier is deprecated and will be removed in a future release. To remove this warning, do the following: 1) Pass option use_label_encoder=False when constructing XGBClassifier object; and 2) Encode your labels (y) as integers starting with 0, i.e. 0, 1, 2, ..., [num_class - 1].\n",
      "  warnings.warn(label_encoder_deprecation_msg, UserWarning)\n"
     ]
    },
    {
     "name": "stdout",
     "output_type": "stream",
     "text": [
      "1.0\n",
      "GaussianNB() 6 days pre bloom threshold\n"
     ]
    },
    {
     "data": {
      "image/png": "[encoded data removed]",
      "text/plain": [
       "<Figure size 576x432 with 2 Axes>"
      ]
     },
     "metadata": {
      "needs_background": "light"
     },
     "output_type": "display_data"
    },
    {
     "name": "stderr",
     "output_type": "stream",
     "text": [
      "/home/enzo/anaconda3/envs/cyano_venv/lib/python3.6/site-packages/xgboost/sklearn.py:1224: UserWarning: The use of label encoder in XGBClassifier is deprecated and will be removed in a future release. To remove this warning, do the following: 1) Pass option use_label_encoder=False when constructing XGBClassifier object; and 2) Encode your labels (y) as integers starting with 0, i.e. 0, 1, 2, ..., [num_class - 1].\n",
      "  warnings.warn(label_encoder_deprecation_msg, UserWarning)\n",
      "/home/enzo/anaconda3/envs/cyano_venv/lib/python3.6/site-packages/xgboost/sklearn.py:1224: UserWarning: The use of label encoder in XGBClassifier is deprecated and will be removed in a future release. To remove this warning, do the following: 1) Pass option use_label_encoder=False when constructing XGBClassifier object; and 2) Encode your labels (y) as integers starting with 0, i.e. 0, 1, 2, ..., [num_class - 1].\n",
      "  warnings.warn(label_encoder_deprecation_msg, UserWarning)\n"
     ]
    },
    {
     "name": "stdout",
     "output_type": "stream",
     "text": [
      "0.3076923076923077\n",
      "DecisionTreeClassifier(max_depth=3, random_state=0) 8 days pre bloom threshold\n"
     ]
    },
    {
     "data": {
      "image/png": "[encoded data removed]",
      "text/plain": [
       "<Figure size 576x432 with 2 Axes>"
      ]
     },
     "metadata": {
      "needs_background": "light"
     },
     "output_type": "display_data"
    },
    {
     "name": "stdout",
     "output_type": "stream",
     "text": [
      "0.3076923076923077\n",
      "GradientBoostingClassifier(learning_rate=1.0, max_depth=1, random_state=0) 8 days pre bloom threshold\n"
     ]
    },
    {
     "data": {
      "image/png": "[encoded data removed]",
      "text/plain": [
       "<Figure size 576x432 with 2 Axes>"
      ]
     },
     "metadata": {
      "needs_background": "light"
     },
     "output_type": "display_data"
    },
    {
     "name": "stderr",
     "output_type": "stream",
     "text": [
      "/home/enzo/anaconda3/envs/cyano_venv/lib/python3.6/site-packages/xgboost/sklearn.py:1224: UserWarning: The use of label encoder in XGBClassifier is deprecated and will be removed in a future release. To remove this warning, do the following: 1) Pass option use_label_encoder=False when constructing XGBClassifier object; and 2) Encode your labels (y) as integers starting with 0, i.e. 0, 1, 2, ..., [num_class - 1].\n",
      "  warnings.warn(label_encoder_deprecation_msg, UserWarning)\n"
     ]
    },
    {
     "name": "stdout",
     "output_type": "stream",
     "text": [
      "0.3076923076923077\n",
      "DecisionTreeClassifier(max_depth=3, random_state=0) 9 days pre bloom threshold\n"
     ]
    },
    {
     "data": {
      "image/png": "[encoded data removed]",
      "text/plain": [
       "<Figure size 576x432 with 2 Axes>"
      ]
     },
     "metadata": {
      "needs_background": "light"
     },
     "output_type": "display_data"
    },
    {
     "name": "stdout",
     "output_type": "stream",
     "text": [
      "0.3076923076923077\n",
      "GradientBoostingClassifier(learning_rate=1.0, max_depth=1, random_state=0) 9 days pre bloom threshold\n"
     ]
    },
    {
     "data": {
      "image/png": "[encoded data removed]",
      "text/plain": [
       "<Figure size 576x432 with 2 Axes>"
      ]
     },
     "metadata": {
      "needs_background": "light"
     },
     "output_type": "display_data"
    },
    {
     "name": "stderr",
     "output_type": "stream",
     "text": [
      "/home/enzo/anaconda3/envs/cyano_venv/lib/python3.6/site-packages/xgboost/sklearn.py:1224: UserWarning: The use of label encoder in XGBClassifier is deprecated and will be removed in a future release. To remove this warning, do the following: 1) Pass option use_label_encoder=False when constructing XGBClassifier object; and 2) Encode your labels (y) as integers starting with 0, i.e. 0, 1, 2, ..., [num_class - 1].\n",
      "  warnings.warn(label_encoder_deprecation_msg, UserWarning)\n"
     ]
    },
    {
     "name": "stdout",
     "output_type": "stream",
     "text": [
      "0.3076923076923077\n",
      "DecisionTreeClassifier(max_depth=3, random_state=0) 10 days pre bloom threshold\n"
     ]
    },
    {
     "data": {
      "image/png": "[encoded data removed]",
      "text/plain": [
       "<Figure size 576x432 with 2 Axes>"
      ]
     },
     "metadata": {
      "needs_background": "light"
     },
     "output_type": "display_data"
    },
    {
     "name": "stdout",
     "output_type": "stream",
     "text": [
      "0.3076923076923077\n",
      "GradientBoostingClassifier(learning_rate=1.0, max_depth=1, random_state=0) 10 days pre bloom threshold\n"
     ]
    },
    {
     "data": {
      "image/png": "[encoded data removed]",
      "text/plain": [
       "<Figure size 576x432 with 2 Axes>"
      ]
     },
     "metadata": {
      "needs_background": "light"
     },
     "output_type": "display_data"
    },
    {
     "name": "stderr",
     "output_type": "stream",
     "text": [
      "/home/enzo/anaconda3/envs/cyano_venv/lib/python3.6/site-packages/xgboost/sklearn.py:1224: UserWarning: The use of label encoder in XGBClassifier is deprecated and will be removed in a future release. To remove this warning, do the following: 1) Pass option use_label_encoder=False when constructing XGBClassifier object; and 2) Encode your labels (y) as integers starting with 0, i.e. 0, 1, 2, ..., [num_class - 1].\n",
      "  warnings.warn(label_encoder_deprecation_msg, UserWarning)\n"
     ]
    }
   ],
   "source": [
    "forecast_metrics = []\n",
    "\n",
    "for bloom_forecast_threshold in [1, 2, 3, 4, 5, 6, 7, 8, 9, 10]:\n",
    "    dataset.change_bloom_forecast_label(bloom_forecast_threshold)\n",
    "    y_forecast = []\n",
    "    for d, location in zip(dates_list, locations_list):\n",
    "        location_condition = dataset.bloom_forecast_gt[\"location\"] == location\n",
    "        date_condition = dataset.bloom_forecast_gt[\"date\"] == d\n",
    "\n",
    "        forecast_label = dataset.bloom_forecast_gt[date_condition & location_condition][\"forecast label\"].to_list()\n",
    "        if len(forecast_label) > 1: \n",
    "            print(f\"{dataset.bloom_forecast_gt[date_condition & location_condition]}\")\n",
    "            break\n",
    "        forecast_label = forecast_label[0]\n",
    "        y_forecast.append(forecast_label)\n",
    "\n",
    "    y_forecast = np.array(y_forecast)\n",
    "    # Get unique classes and their counts\n",
    "    unique_classes, class_counts = np.unique(y_forecast, return_counts=True)\n",
    "    \n",
    "    clfs = [DecisionTreeClassifier(random_state=0, max_depth=3),\n",
    "        make_pipeline(StandardScaler(), SVC(gamma='auto')),\n",
    "        GaussianNB(),\n",
    "        make_pipeline(StandardScaler(), SGDClassifier(max_iter=1000, tol=1e-3)),\n",
    "        RandomForestClassifier(max_depth=3, random_state=0),\n",
    "        GradientBoostingClassifier(n_estimators=100, learning_rate=1.0, max_depth=1, random_state=0),\n",
    "        LGBMClassifier(),\n",
    "        XGBClassifier(verbosity=0)]\n",
    "    \n",
    "    cv = LeaveOneOut()\n",
    "    for clf in clfs:\n",
    "        y_test_all = []\n",
    "        y_pred_all = []\n",
    "        for train_index, test_index in cv.split(X_extended, y_forecast):\n",
    "            X_train, X_test = X_extended[train_index], X_extended[test_index]\n",
    "            y_train, y_test = y_forecast[train_index], y_forecast[test_index]\n",
    "\n",
    "            clf.fit(X_train, y_train)\n",
    "\n",
    "            y_pred = clf.predict(X_test)\n",
    "\n",
    "            y_test_all.append(y_test[0])\n",
    "            y_pred_all.append(y_pred[0])\n",
    "\n",
    "        m = metrics_multiclass(y_test_all, y_pred_all)\n",
    "        cm = m[\"confusion matrix\"]\n",
    "        \n",
    "        relevant_metrics = {\"bloom threshold [days]\": bloom_forecast_threshold}\n",
    "        relevant_metrics[\"Pre Bloom instances on dataset\"] = class_counts[2]\n",
    "        relevant_metrics[\"Bloom accuracy\"] = m[\"Accuracy\"][\"Bloom\"]\n",
    "        relevant_metrics[\"Pre Bloom accuracy\"] = m[\"Accuracy\"][\"Pre Bloom\"]\n",
    "        relevant_metrics[\"No Bloom accuracy\"] = m[\"Accuracy\"][\"No Bloom\"]\n",
    "        relevant_metrics[\"Pre Bloom + Bloom accuracy\"] = cm[1:, 1:].sum()/cm[1:, 0:].sum()\n",
    "        relevant_metrics[\"Model\"] = str(clf)\n",
    "        forecast_metrics.append(relevant_metrics)\n",
    "        if m[\"Accuracy\"][\"Pre Bloom\"] >= 0.25:\n",
    "            print(m[\"Accuracy\"][\"Pre Bloom\"])\n",
    "            print(f\"{clf} {bloom_forecast_threshold} days pre bloom threshold\")\n",
    "            # Create a heatmap of the confusion matrix\n",
    "            plt.figure(figsize=(8, 6))\n",
    "            sns.heatmap(m[\"confusion matrix\"], annot=True, fmt=\"d\", xticklabels=[\"No Bloom\", \"Bloom\", \"Pre Bloom\"], \n",
    "                                                        yticklabels=[\"No Bloom\", \"Bloom\", \"Pre Bloom\"])\n",
    "            plt.xlabel(\"Predicted\")\n",
    "            plt.ylabel(\"Actual\")\n",
    "            plt.title(\"Confusion Matrix\")\n",
    "            plt.show()\n",
    "forecast_metrics = pd.DataFrame(forecast_metrics)"
   ]
  },
  {
   "cell_type": "code",
   "execution_count": 22,
   "id": "786dccb2",
   "metadata": {},
   "outputs": [
    {
     "data": {
      "text/html": [
       "<div>\n",
       "<style scoped>\n",
       "    .dataframe tbody tr th:only-of-type {\n",
       "        vertical-align: middle;\n",
       "    }\n",
       "\n",
       "    .dataframe tbody tr th {\n",
       "        vertical-align: top;\n",
       "    }\n",
       "\n",
       "    .dataframe thead th {\n",
       "        text-align: right;\n",
       "    }\n",
       "</style>\n",
       "<table border=\"1\" class=\"dataframe\">\n",
       "  <thead>\n",
       "    <tr style=\"text-align: right;\">\n",
       "      <th></th>\n",
       "      <th>bloom threshold [days]</th>\n",
       "      <th>Pre Bloom instances on dataset</th>\n",
       "      <th>Bloom accuracy</th>\n",
       "      <th>Pre Bloom accuracy</th>\n",
       "      <th>No Bloom accuracy</th>\n",
       "      <th>Pre Bloom + Bloom accuracy</th>\n",
       "      <th>Model</th>\n",
       "    </tr>\n",
       "  </thead>\n",
       "  <tbody>\n",
       "    <tr>\n",
       "      <th>34</th>\n",
       "      <td>5</td>\n",
       "      <td>8</td>\n",
       "      <td>0.185185</td>\n",
       "      <td>1.0</td>\n",
       "      <td>0.576087</td>\n",
       "      <td>0.983871</td>\n",
       "      <td>GaussianNB()</td>\n",
       "    </tr>\n",
       "    <tr>\n",
       "      <th>42</th>\n",
       "      <td>6</td>\n",
       "      <td>8</td>\n",
       "      <td>0.185185</td>\n",
       "      <td>1.0</td>\n",
       "      <td>0.576087</td>\n",
       "      <td>0.983871</td>\n",
       "      <td>GaussianNB()</td>\n",
       "    </tr>\n",
       "    <tr>\n",
       "      <th>26</th>\n",
       "      <td>4</td>\n",
       "      <td>7</td>\n",
       "      <td>0.166667</td>\n",
       "      <td>1.0</td>\n",
       "      <td>0.569892</td>\n",
       "      <td>0.983607</td>\n",
       "      <td>GaussianNB()</td>\n",
       "    </tr>\n",
       "    <tr>\n",
       "      <th>10</th>\n",
       "      <td>2</td>\n",
       "      <td>4</td>\n",
       "      <td>0.370370</td>\n",
       "      <td>1.0</td>\n",
       "      <td>0.614583</td>\n",
       "      <td>0.982759</td>\n",
       "      <td>GaussianNB()</td>\n",
       "    </tr>\n",
       "    <tr>\n",
       "      <th>18</th>\n",
       "      <td>3</td>\n",
       "      <td>4</td>\n",
       "      <td>0.370370</td>\n",
       "      <td>1.0</td>\n",
       "      <td>0.614583</td>\n",
       "      <td>0.982759</td>\n",
       "      <td>GaussianNB()</td>\n",
       "    </tr>\n",
       "    <tr>\n",
       "      <th>...</th>\n",
       "      <td>...</td>\n",
       "      <td>...</td>\n",
       "      <td>...</td>\n",
       "      <td>...</td>\n",
       "      <td>...</td>\n",
       "      <td>...</td>\n",
       "      <td>...</td>\n",
       "    </tr>\n",
       "    <tr>\n",
       "      <th>60</th>\n",
       "      <td>8</td>\n",
       "      <td>13</td>\n",
       "      <td>0.962963</td>\n",
       "      <td>0.0</td>\n",
       "      <td>0.965517</td>\n",
       "      <td>0.850746</td>\n",
       "      <td>RandomForestClassifier(max_depth=3, random_sta...</td>\n",
       "    </tr>\n",
       "    <tr>\n",
       "      <th>65</th>\n",
       "      <td>9</td>\n",
       "      <td>13</td>\n",
       "      <td>0.962963</td>\n",
       "      <td>0.0</td>\n",
       "      <td>0.988506</td>\n",
       "      <td>0.850746</td>\n",
       "      <td>Pipeline(steps=[('standardscaler', StandardSca...</td>\n",
       "    </tr>\n",
       "    <tr>\n",
       "      <th>68</th>\n",
       "      <td>9</td>\n",
       "      <td>13</td>\n",
       "      <td>0.962963</td>\n",
       "      <td>0.0</td>\n",
       "      <td>0.965517</td>\n",
       "      <td>0.850746</td>\n",
       "      <td>RandomForestClassifier(max_depth=3, random_sta...</td>\n",
       "    </tr>\n",
       "    <tr>\n",
       "      <th>73</th>\n",
       "      <td>10</td>\n",
       "      <td>13</td>\n",
       "      <td>0.962963</td>\n",
       "      <td>0.0</td>\n",
       "      <td>0.988506</td>\n",
       "      <td>0.850746</td>\n",
       "      <td>Pipeline(steps=[('standardscaler', StandardSca...</td>\n",
       "    </tr>\n",
       "    <tr>\n",
       "      <th>76</th>\n",
       "      <td>10</td>\n",
       "      <td>13</td>\n",
       "      <td>0.962963</td>\n",
       "      <td>0.0</td>\n",
       "      <td>0.965517</td>\n",
       "      <td>0.850746</td>\n",
       "      <td>RandomForestClassifier(max_depth=3, random_sta...</td>\n",
       "    </tr>\n",
       "  </tbody>\n",
       "</table>\n",
       "<p>80 rows × 7 columns</p>\n",
       "</div>"
      ],
      "text/plain": [
       "    bloom threshold [days]  Pre Bloom instances on dataset  Bloom accuracy  \\\n",
       "34                       5                               8        0.185185   \n",
       "42                       6                               8        0.185185   \n",
       "26                       4                               7        0.166667   \n",
       "10                       2                               4        0.370370   \n",
       "18                       3                               4        0.370370   \n",
       "..                     ...                             ...             ...   \n",
       "60                       8                              13        0.962963   \n",
       "65                       9                              13        0.962963   \n",
       "68                       9                              13        0.962963   \n",
       "73                      10                              13        0.962963   \n",
       "76                      10                              13        0.962963   \n",
       "\n",
       "    Pre Bloom accuracy  No Bloom accuracy  Pre Bloom + Bloom accuracy  \\\n",
       "34                 1.0           0.576087                    0.983871   \n",
       "42                 1.0           0.576087                    0.983871   \n",
       "26                 1.0           0.569892                    0.983607   \n",
       "10                 1.0           0.614583                    0.982759   \n",
       "18                 1.0           0.614583                    0.982759   \n",
       "..                 ...                ...                         ...   \n",
       "60                 0.0           0.965517                    0.850746   \n",
       "65                 0.0           0.988506                    0.850746   \n",
       "68                 0.0           0.965517                    0.850746   \n",
       "73                 0.0           0.988506                    0.850746   \n",
       "76                 0.0           0.965517                    0.850746   \n",
       "\n",
       "                                                Model  \n",
       "34                                       GaussianNB()  \n",
       "42                                       GaussianNB()  \n",
       "26                                       GaussianNB()  \n",
       "10                                       GaussianNB()  \n",
       "18                                       GaussianNB()  \n",
       "..                                                ...  \n",
       "60  RandomForestClassifier(max_depth=3, random_sta...  \n",
       "65  Pipeline(steps=[('standardscaler', StandardSca...  \n",
       "68  RandomForestClassifier(max_depth=3, random_sta...  \n",
       "73  Pipeline(steps=[('standardscaler', StandardSca...  \n",
       "76  RandomForestClassifier(max_depth=3, random_sta...  \n",
       "\n",
       "[80 rows x 7 columns]"
      ]
     },
     "execution_count": 22,
     "metadata": {},
     "output_type": "execute_result"
    }
   ],
   "source": [
    "forecast_metrics.sort_values(by=['Pre Bloom accuracy', 'Pre Bloom + Bloom accuracy'], ascending=False)"
   ]
  },
  {
   "cell_type": "code",
   "execution_count": 23,
   "id": "cf215059",
   "metadata": {},
   "outputs": [
    {
     "data": {
      "text/html": [
       "<div>\n",
       "<style scoped>\n",
       "    .dataframe tbody tr th:only-of-type {\n",
       "        vertical-align: middle;\n",
       "    }\n",
       "\n",
       "    .dataframe tbody tr th {\n",
       "        vertical-align: top;\n",
       "    }\n",
       "\n",
       "    .dataframe thead th {\n",
       "        text-align: right;\n",
       "    }\n",
       "</style>\n",
       "<table border=\"1\" class=\"dataframe\">\n",
       "  <thead>\n",
       "    <tr style=\"text-align: right;\">\n",
       "      <th></th>\n",
       "      <th>bloom threshold [days]</th>\n",
       "      <th>Pre Bloom instances on dataset</th>\n",
       "      <th>Bloom accuracy</th>\n",
       "      <th>Pre Bloom accuracy</th>\n",
       "      <th>No Bloom accuracy</th>\n",
       "      <th>Pre Bloom + Bloom accuracy</th>\n",
       "      <th>Model</th>\n",
       "    </tr>\n",
       "  </thead>\n",
       "  <tbody>\n",
       "    <tr>\n",
       "      <th>0</th>\n",
       "      <td>1</td>\n",
       "      <td>3</td>\n",
       "      <td>0.925926</td>\n",
       "      <td>0.000000</td>\n",
       "      <td>0.907216</td>\n",
       "      <td>0.929825</td>\n",
       "      <td>DecisionTreeClassifier(max_depth=3, random_sta...</td>\n",
       "    </tr>\n",
       "    <tr>\n",
       "      <th>1</th>\n",
       "      <td>1</td>\n",
       "      <td>3</td>\n",
       "      <td>0.944444</td>\n",
       "      <td>0.000000</td>\n",
       "      <td>0.958763</td>\n",
       "      <td>0.929825</td>\n",
       "      <td>Pipeline(steps=[('standardscaler', StandardSca...</td>\n",
       "    </tr>\n",
       "    <tr>\n",
       "      <th>2</th>\n",
       "      <td>1</td>\n",
       "      <td>3</td>\n",
       "      <td>0.462963</td>\n",
       "      <td>0.333333</td>\n",
       "      <td>0.711340</td>\n",
       "      <td>0.912281</td>\n",
       "      <td>GaussianNB()</td>\n",
       "    </tr>\n",
       "    <tr>\n",
       "      <th>3</th>\n",
       "      <td>1</td>\n",
       "      <td>3</td>\n",
       "      <td>0.925926</td>\n",
       "      <td>0.000000</td>\n",
       "      <td>0.958763</td>\n",
       "      <td>0.912281</td>\n",
       "      <td>Pipeline(steps=[('standardscaler', StandardSca...</td>\n",
       "    </tr>\n",
       "    <tr>\n",
       "      <th>4</th>\n",
       "      <td>1</td>\n",
       "      <td>3</td>\n",
       "      <td>0.962963</td>\n",
       "      <td>0.000000</td>\n",
       "      <td>0.958763</td>\n",
       "      <td>0.947368</td>\n",
       "      <td>RandomForestClassifier(max_depth=3, random_sta...</td>\n",
       "    </tr>\n",
       "    <tr>\n",
       "      <th>...</th>\n",
       "      <td>...</td>\n",
       "      <td>...</td>\n",
       "      <td>...</td>\n",
       "      <td>...</td>\n",
       "      <td>...</td>\n",
       "      <td>...</td>\n",
       "      <td>...</td>\n",
       "    </tr>\n",
       "    <tr>\n",
       "      <th>74</th>\n",
       "      <td>10</td>\n",
       "      <td>13</td>\n",
       "      <td>0.833333</td>\n",
       "      <td>0.153846</td>\n",
       "      <td>0.965517</td>\n",
       "      <td>0.835821</td>\n",
       "      <td>GaussianNB()</td>\n",
       "    </tr>\n",
       "    <tr>\n",
       "      <th>75</th>\n",
       "      <td>10</td>\n",
       "      <td>13</td>\n",
       "      <td>0.962963</td>\n",
       "      <td>0.000000</td>\n",
       "      <td>0.931034</td>\n",
       "      <td>0.880597</td>\n",
       "      <td>Pipeline(steps=[('standardscaler', StandardSca...</td>\n",
       "    </tr>\n",
       "    <tr>\n",
       "      <th>76</th>\n",
       "      <td>10</td>\n",
       "      <td>13</td>\n",
       "      <td>0.962963</td>\n",
       "      <td>0.000000</td>\n",
       "      <td>0.965517</td>\n",
       "      <td>0.850746</td>\n",
       "      <td>RandomForestClassifier(max_depth=3, random_sta...</td>\n",
       "    </tr>\n",
       "    <tr>\n",
       "      <th>77</th>\n",
       "      <td>10</td>\n",
       "      <td>13</td>\n",
       "      <td>0.870370</td>\n",
       "      <td>0.307692</td>\n",
       "      <td>0.954023</td>\n",
       "      <td>0.895522</td>\n",
       "      <td>GradientBoostingClassifier(learning_rate=1.0, ...</td>\n",
       "    </tr>\n",
       "    <tr>\n",
       "      <th>79</th>\n",
       "      <td>10</td>\n",
       "      <td>13</td>\n",
       "      <td>0.907407</td>\n",
       "      <td>0.076923</td>\n",
       "      <td>0.954023</td>\n",
       "      <td>0.865672</td>\n",
       "      <td>XGBClassifier(base_score=0.5, booster='gbtree'...</td>\n",
       "    </tr>\n",
       "  </tbody>\n",
       "</table>\n",
       "<p>80 rows × 7 columns</p>\n",
       "</div>"
      ],
      "text/plain": [
       "    bloom threshold [days]  Pre Bloom instances on dataset  Bloom accuracy  \\\n",
       "0                        1                               3        0.925926   \n",
       "1                        1                               3        0.944444   \n",
       "2                        1                               3        0.462963   \n",
       "3                        1                               3        0.925926   \n",
       "4                        1                               3        0.962963   \n",
       "..                     ...                             ...             ...   \n",
       "74                      10                              13        0.833333   \n",
       "75                      10                              13        0.962963   \n",
       "76                      10                              13        0.962963   \n",
       "77                      10                              13        0.870370   \n",
       "79                      10                              13        0.907407   \n",
       "\n",
       "    Pre Bloom accuracy  No Bloom accuracy  Pre Bloom + Bloom accuracy  \\\n",
       "0             0.000000           0.907216                    0.929825   \n",
       "1             0.000000           0.958763                    0.929825   \n",
       "2             0.333333           0.711340                    0.912281   \n",
       "3             0.000000           0.958763                    0.912281   \n",
       "4             0.000000           0.958763                    0.947368   \n",
       "..                 ...                ...                         ...   \n",
       "74            0.153846           0.965517                    0.835821   \n",
       "75            0.000000           0.931034                    0.880597   \n",
       "76            0.000000           0.965517                    0.850746   \n",
       "77            0.307692           0.954023                    0.895522   \n",
       "79            0.076923           0.954023                    0.865672   \n",
       "\n",
       "                                                Model  \n",
       "0   DecisionTreeClassifier(max_depth=3, random_sta...  \n",
       "1   Pipeline(steps=[('standardscaler', StandardSca...  \n",
       "2                                        GaussianNB()  \n",
       "3   Pipeline(steps=[('standardscaler', StandardSca...  \n",
       "4   RandomForestClassifier(max_depth=3, random_sta...  \n",
       "..                                                ...  \n",
       "74                                       GaussianNB()  \n",
       "75  Pipeline(steps=[('standardscaler', StandardSca...  \n",
       "76  RandomForestClassifier(max_depth=3, random_sta...  \n",
       "77  GradientBoostingClassifier(learning_rate=1.0, ...  \n",
       "79  XGBClassifier(base_score=0.5, booster='gbtree'...  \n",
       "\n",
       "[80 rows x 7 columns]"
      ]
     },
     "execution_count": 23,
     "metadata": {},
     "output_type": "execute_result"
    }
   ],
   "source": [
    "forecast_metrics.sort_values(by=['bloom threshold [days]'], ascending=True)"
   ]
  }
 ],
 "metadata": {
  "kernelspec": {
   "display_name": "cyano_venv",
   "language": "python",
   "name": "cyano_venv"
  },
  "language_info": {
   "codemirror_mode": {
    "name": "ipython",
    "version": 3
   },
   "file_extension": ".py",
   "mimetype": "text/x-python",
   "name": "python",
   "nbconvert_exporter": "python",
   "pygments_lexer": "ipython3",
   "version": "3.6.13"
  }
 },
 "nbformat": 4,
 "nbformat_minor": 5
}

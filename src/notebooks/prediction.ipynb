{
 "cells": [
  {
   "cell_type": "markdown",
   "id": "abd63c5b",
   "metadata": {
    "scrolled": true
   },
   "source": [
    "## Imports"
   ]
  },
  {
   "cell_type": "code",
   "execution_count": 1,
   "id": "e03303cd",
   "metadata": {
    "scrolled": true
   },
   "outputs": [
    {
     "name": "stderr",
     "output_type": "stream",
     "text": [
      "WARNING: IERSStaleWarning: leap-second file is expired. [astropy.utils.iers.iers]\n",
      "WARNING:astropy:IERSStaleWarning: leap-second file is expired.\n"
     ]
    }
   ],
   "source": [
    "import os\n",
    "import sys\n",
    "sys.path.append(\"../\")\n",
    "import csv\n",
    "import json\n",
    "from datetime import datetime, timedelta\n",
    "import pandas as pd\n",
    "import numpy as np\n",
    "import matplotlib.pyplot as plt\n",
    "from sklearn.metrics import accuracy_score, precision_score, recall_score, confusion_matrix\n",
    "import seaborn as sns\n",
    "\n",
    "import settings\n",
    "from prediction_dataset import PredictionDataset\n",
    "from process_sentinel3 import OLCIdataGenerator\n",
    "\n",
    "from collections import defaultdict\n",
    "from sklearn.tree import DecisionTreeClassifier\n",
    "from sklearn.linear_model import LogisticRegression\n",
    "from sklearn.svm import SVC\n",
    "from sklearn.naive_bayes import GaussianNB\n",
    "from sklearn.linear_model import SGDClassifier\n",
    "from sklearn.neighbors import KNeighborsClassifier\n",
    "from sklearn.ensemble import RandomForestClassifier\n",
    "from sklearn.ensemble import GradientBoostingClassifier\n",
    "from lightgbm import LGBMClassifier\n",
    "from xgboost.sklearn import XGBClassifier\n",
    "from sklearn.pipeline import make_pipeline\n",
    "from sklearn.preprocessing import StandardScaler\n",
    "from sklearn.model_selection import StratifiedKFold\n",
    "from sklearn.model_selection import LeaveOneOut\n",
    "from sklearn import tree\n",
    "from sklearn.metrics import classification_report, accuracy_score, confusion_matrix\n",
    "\n",
    "import pickle\n",
    "from math import isnan\n",
    "\n",
    "from utils import parse_ficocianina_xls"
   ]
  },
  {
   "cell_type": "markdown",
   "id": "f42dbfa3",
   "metadata": {},
   "source": [
    "## Methods"
   ]
  },
  {
   "cell_type": "code",
   "execution_count": 2,
   "id": "913549f7",
   "metadata": {
    "scrolled": true
   },
   "outputs": [],
   "source": [
    "def metrics(gt, pred, labels=[\"No Bloom\", \"Bloom\"]):\n",
    "    metrics = {}\n",
    "    metrics[\"accuracy\"] = round(accuracy_score(gt, pred), 2)\n",
    "    metrics[\"precision\"] = round(precision_score(gt, pred, pos_label=labels[1]), 2)\n",
    "    metrics[\"recall\"] = round(recall_score(gt, pred, pos_label=labels[1]), 2)\n",
    "    metrics[\"confusion matrix\"] = confusion_matrix(gt, pred, labels=labels)\n",
    "    metrics[\"false positive rate\"] = round(metrics[\"confusion matrix\"][1, 0]/(metrics[\"confusion matrix\"][1, 1] + metrics[\"confusion matrix\"][1, 0]), 2)\n",
    "    metrics[\"false negative rate\"] = round(metrics[\"confusion matrix\"][0, 1]/(metrics[\"confusion matrix\"][0, 0] + metrics[\"confusion matrix\"][0, 1]), 2)\n",
    "    \n",
    "    return metrics\n",
    "\n",
    "def metrics_multiclass(gt, pred, labels=[\"No Bloom\", \"Bloom\", \"Pre Bloom\"]):\n",
    "    metrics = {}\n",
    "    metrics[\"confusion matrix\"] = confusion_matrix(gt, pred, labels=labels)\n",
    "    # Calculate accuracy for each class\n",
    "    class_accuracy = {}\n",
    "    for i, label in enumerate(labels):\n",
    "        true_positive = metrics[\"confusion matrix\"][i, i]\n",
    "        total_samples = np.sum(metrics[\"confusion matrix\"][i, :])\n",
    "        class_accuracy[label] = true_positive / total_samples\n",
    "    metrics[\"Accuracy\"] = class_accuracy\n",
    "    return metrics"
   ]
  },
  {
   "cell_type": "code",
   "execution_count": 3,
   "id": "978c8e4e",
   "metadata": {
    "scrolled": true
   },
   "outputs": [],
   "source": [
    "processed_data_path = settings.processed_data_path\n",
    "\n",
    "DATE_FORMAT = '%Y-%m-%d'\n",
    "\n",
    "ndci_data_path = os.path.join(settings.final_data_path, \"kmeans_3\", \"ndci_data.csv\")\n",
    "precipitation_data_path = os.path.join(settings.final_data_path, \"precipitation\", \"precipitation_pdir_cuenca.csv\")\n",
    "wind_data_path = os.path.join(settings.final_data_path, \"wind_data.csv\")\n",
    "water_temperature_data_path = os.path.join(settings.final_data_path, \"water_temperature.csv\")\n",
    "algae_gt_path = os.path.join(settings.final_data_path, \"algae_gt.csv\")\n",
    "ta_ose_path = os.path.join(settings.final_data_path, \"agua_open_data(1).csv\")\n",
    "s3_brrs_path = os.path.join(settings.final_data_path, \"s3_brrs.json\")\n",
    "\n",
    "raw_cyano_gt_path = os.path.join(settings.final_data_path, \"MUESTREOS_SEMANALES_2016-2017-2018-2019-2020.xls\")\n",
    "\n",
    "# bloom_thresholds = {\n",
    "#                     \"MALLORQUINA\":5000,\n",
    "#                     \"ARROYO SAUCE\": 5000,\n",
    "#                     \"SAUCE NORTE\": 5000,\n",
    "#                     \"SAUCE SUR\": 5000,\n",
    "#                     \"CISNES\": 5000,\n",
    "#                     \"POTRERO\": 5000,\n",
    "#                     \"TA\":5000\n",
    "#                    }\n",
    "bloom_thresholds = {\n",
    "                    \"MALLORQUINA\":5000,\n",
    "                    \"ARROYO SAUCE\": 5000,\n",
    "                    \"SAUCE NORTE\": 5000,\n",
    "                    \"SAUCE SUR\": 5000,\n",
    "                    \"CISNES\": 5000,\n",
    "                    \"POTRERO\": 5000,\n",
    "                    \"TA\":3000\n",
    "                   }\n",
    "\n",
    "bloom_thresholds = {                    \n",
    "                    \"SAUCE NORTE\": 5000,\n",
    "                    \"SAUCE SUR\": 5000,\n",
    "                    \"TA\":3000\n",
    "                   }\n",
    "\n",
    "sampling_points_coords = {\"SAUCE NORTE\": [-34.795398, -55.047355],\n",
    "                          \"SAUCE SUR\": [-34.843127, -55.064624],\n",
    "                          \"TA\": [-34.829670, -55.049758]}\n",
    "\n",
    "pre_bloom_max_days = 7"
   ]
  },
  {
   "cell_type": "code",
   "execution_count": 4,
   "id": "6db756ea",
   "metadata": {
    "scrolled": true
   },
   "outputs": [
    {
     "name": "stderr",
     "output_type": "stream",
     "text": [
      "../prediction_dataset.py:106: SettingWithCopyWarning: \n",
      "A value is trying to be set on a copy of a slice from a DataFrame.\n",
      "Try using .loc[row_indexer,col_indexer] = value instead\n",
      "\n",
      "See the caveats in the documentation: https://pandas.pydata.org/pandas-docs/stable/user_guide/indexing.html#returning-a-view-versus-a-copy\n",
      "  location_df['label'] = location_df['fico'].apply(lambda x: 'Bloom' if x > threshold else 'No Bloom')\n",
      "../prediction_dataset.py:180: SettingWithCopyWarning: \n",
      "A value is trying to be set on a copy of a slice from a DataFrame.\n",
      "Try using .loc[row_indexer,col_indexer] = value instead\n",
      "\n",
      "See the caveats in the documentation: https://pandas.pydata.org/pandas-docs/stable/user_guide/indexing.html#returning-a-view-versus-a-copy\n",
      "  location_data_df[\"days until bloom\"] = days_until_bloom\n"
     ]
    }
   ],
   "source": [
    "dataset = PredictionDataset(wind_data_path, water_temperature_data_path, precipitation_data_path, \n",
    "                            ndci_data_path, algae_gt_path, s3_brrs_path, bloom_thresholds=bloom_thresholds, \n",
    "                            pre_bloom_max_days=pre_bloom_max_days)"
   ]
  },
  {
   "cell_type": "code",
   "execution_count": 6,
   "id": "b9565d1a",
   "metadata": {},
   "outputs": [
    {
     "data": {
      "text/html": [
       "<div>\n",
       "<style scoped>\n",
       "    .dataframe tbody tr th:only-of-type {\n",
       "        vertical-align: middle;\n",
       "    }\n",
       "\n",
       "    .dataframe tbody tr th {\n",
       "        vertical-align: top;\n",
       "    }\n",
       "\n",
       "    .dataframe thead th {\n",
       "        text-align: right;\n",
       "    }\n",
       "</style>\n",
       "<table border=\"1\" class=\"dataframe\">\n",
       "  <thead>\n",
       "    <tr style=\"text-align: right;\">\n",
       "      <th></th>\n",
       "      <th>date</th>\n",
       "      <th>location</th>\n",
       "      <th>fico</th>\n",
       "      <th>chl</th>\n",
       "      <th>label</th>\n",
       "    </tr>\n",
       "  </thead>\n",
       "  <tbody>\n",
       "    <tr>\n",
       "      <th>2</th>\n",
       "      <td>2015-12-30</td>\n",
       "      <td>SAUCE NORTE</td>\n",
       "      <td>4282.5</td>\n",
       "      <td>7.50</td>\n",
       "      <td>No Bloom</td>\n",
       "    </tr>\n",
       "    <tr>\n",
       "      <th>3</th>\n",
       "      <td>2015-12-30</td>\n",
       "      <td>SAUCE SUR</td>\n",
       "      <td>5388.0</td>\n",
       "      <td>7.50</td>\n",
       "      <td>Bloom</td>\n",
       "    </tr>\n",
       "    <tr>\n",
       "      <th>8</th>\n",
       "      <td>2016-01-07</td>\n",
       "      <td>SAUCE SUR</td>\n",
       "      <td>14982.5</td>\n",
       "      <td>12.25</td>\n",
       "      <td>Bloom</td>\n",
       "    </tr>\n",
       "    <tr>\n",
       "      <th>11</th>\n",
       "      <td>2016-01-07</td>\n",
       "      <td>SAUCE NORTE</td>\n",
       "      <td>11768.0</td>\n",
       "      <td>10.35</td>\n",
       "      <td>Bloom</td>\n",
       "    </tr>\n",
       "    <tr>\n",
       "      <th>14</th>\n",
       "      <td>2016-01-13</td>\n",
       "      <td>SAUCE NORTE</td>\n",
       "      <td>12766.0</td>\n",
       "      <td>9.70</td>\n",
       "      <td>Bloom</td>\n",
       "    </tr>\n",
       "    <tr>\n",
       "      <th>...</th>\n",
       "      <td>...</td>\n",
       "      <td>...</td>\n",
       "      <td>...</td>\n",
       "      <td>...</td>\n",
       "      <td>...</td>\n",
       "    </tr>\n",
       "    <tr>\n",
       "      <th>798</th>\n",
       "      <td>2023-02-09</td>\n",
       "      <td>SAUCE SUR</td>\n",
       "      <td>9640.0</td>\n",
       "      <td>2.20</td>\n",
       "      <td>Bloom</td>\n",
       "    </tr>\n",
       "    <tr>\n",
       "      <th>804</th>\n",
       "      <td>2023-02-15</td>\n",
       "      <td>SAUCE SUR</td>\n",
       "      <td>6327.5</td>\n",
       "      <td>4.00</td>\n",
       "      <td>Bloom</td>\n",
       "    </tr>\n",
       "    <tr>\n",
       "      <th>803</th>\n",
       "      <td>2023-02-15</td>\n",
       "      <td>SAUCE NORTE</td>\n",
       "      <td>6142.0</td>\n",
       "      <td>3.10</td>\n",
       "      <td>Bloom</td>\n",
       "    </tr>\n",
       "    <tr>\n",
       "      <th>810</th>\n",
       "      <td>2023-02-25</td>\n",
       "      <td>SAUCE SUR</td>\n",
       "      <td>2002.5</td>\n",
       "      <td>4.70</td>\n",
       "      <td>No Bloom</td>\n",
       "    </tr>\n",
       "    <tr>\n",
       "      <th>809</th>\n",
       "      <td>2023-02-25</td>\n",
       "      <td>SAUCE NORTE</td>\n",
       "      <td>1412.5</td>\n",
       "      <td>3.40</td>\n",
       "      <td>No Bloom</td>\n",
       "    </tr>\n",
       "  </tbody>\n",
       "</table>\n",
       "<p>394 rows × 5 columns</p>\n",
       "</div>"
      ],
      "text/plain": [
       "          date     location     fico    chl     label\n",
       "2   2015-12-30  SAUCE NORTE   4282.5   7.50  No Bloom\n",
       "3   2015-12-30    SAUCE SUR   5388.0   7.50     Bloom\n",
       "8   2016-01-07    SAUCE SUR  14982.5  12.25     Bloom\n",
       "11  2016-01-07  SAUCE NORTE  11768.0  10.35     Bloom\n",
       "14  2016-01-13  SAUCE NORTE  12766.0   9.70     Bloom\n",
       "..         ...          ...      ...    ...       ...\n",
       "798 2023-02-09    SAUCE SUR   9640.0   2.20     Bloom\n",
       "804 2023-02-15    SAUCE SUR   6327.5   4.00     Bloom\n",
       "803 2023-02-15  SAUCE NORTE   6142.0   3.10     Bloom\n",
       "810 2023-02-25    SAUCE SUR   2002.5   4.70  No Bloom\n",
       "809 2023-02-25  SAUCE NORTE   1412.5   3.40  No Bloom\n",
       "\n",
       "[394 rows x 5 columns]"
      ]
     },
     "execution_count": 6,
     "metadata": {},
     "output_type": "execute_result"
    }
   ],
   "source": [
    "dataset.algae_gt"
   ]
  },
  {
   "cell_type": "code",
   "execution_count": 5,
   "id": "bc0e2753",
   "metadata": {},
   "outputs": [
    {
     "name": "stdout",
     "output_type": "stream",
     "text": [
      "Sauce Norte: 114 samples from 2015-12-30 to 2023-02-25 days\n",
      "Sauce Sur: 114 samples from 2015-12-30 to 2023-02-25 days\n",
      "TA: 166 samples from 2020-01-02 to 2021-02-04 days\n"
     ]
    }
   ],
   "source": [
    "sauce_norte_samples = dataset.algae_gt[dataset.algae_gt['location'] == 'SAUCE NORTE']\n",
    "sauce_sur_samples = dataset.algae_gt[dataset.algae_gt['location'] == 'SAUCE SUR']\n",
    "ta_samples = dataset.algae_gt[dataset.algae_gt['location'] == 'TA']\n",
    "\n",
    "print(f\"Sauce Norte: {len(sauce_norte_samples)} samples from {sauce_norte_samples['date'].iloc[0].date()} to {sauce_norte_samples['date'].iloc[-1].date()} days\")\n",
    "print(f\"Sauce Sur: {len(sauce_sur_samples)} samples from {sauce_sur_samples['date'].iloc[0].date()} to {sauce_sur_samples['date'].iloc[-1].date()} days\")\n",
    "print(f\"TA: {len(ta_samples)} samples from {ta_samples['date'].iloc[0].date()} to {ta_samples['date'].iloc[-1].date()} days\")"
   ]
  },
  {
   "cell_type": "code",
   "execution_count": 6,
   "id": "46566f6e",
   "metadata": {
    "scrolled": false
   },
   "outputs": [
    {
     "data": {
      "text/html": [
       "<div>\n",
       "<style scoped>\n",
       "    .dataframe tbody tr th:only-of-type {\n",
       "        vertical-align: middle;\n",
       "    }\n",
       "\n",
       "    .dataframe tbody tr th {\n",
       "        vertical-align: top;\n",
       "    }\n",
       "\n",
       "    .dataframe thead th {\n",
       "        text-align: right;\n",
       "    }\n",
       "</style>\n",
       "<table border=\"1\" class=\"dataframe\">\n",
       "  <thead>\n",
       "    <tr style=\"text-align: right;\">\n",
       "      <th></th>\n",
       "      <th>date</th>\n",
       "      <th>location</th>\n",
       "      <th>fico</th>\n",
       "      <th>chl</th>\n",
       "      <th>label</th>\n",
       "      <th>days until bloom</th>\n",
       "      <th>forecast label</th>\n",
       "    </tr>\n",
       "  </thead>\n",
       "  <tbody>\n",
       "    <tr>\n",
       "      <th>2</th>\n",
       "      <td>2015-12-30</td>\n",
       "      <td>SAUCE NORTE</td>\n",
       "      <td>4282.5</td>\n",
       "      <td>7.50</td>\n",
       "      <td>No Bloom</td>\n",
       "      <td>8</td>\n",
       "      <td>No Bloom</td>\n",
       "    </tr>\n",
       "    <tr>\n",
       "      <th>11</th>\n",
       "      <td>2016-01-07</td>\n",
       "      <td>SAUCE NORTE</td>\n",
       "      <td>11768.0</td>\n",
       "      <td>10.35</td>\n",
       "      <td>Bloom</td>\n",
       "      <td>0</td>\n",
       "      <td>Bloom</td>\n",
       "    </tr>\n",
       "    <tr>\n",
       "      <th>14</th>\n",
       "      <td>2016-01-13</td>\n",
       "      <td>SAUCE NORTE</td>\n",
       "      <td>12766.0</td>\n",
       "      <td>9.70</td>\n",
       "      <td>Bloom</td>\n",
       "      <td>0</td>\n",
       "      <td>Bloom</td>\n",
       "    </tr>\n",
       "    <tr>\n",
       "      <th>23</th>\n",
       "      <td>2016-01-23</td>\n",
       "      <td>SAUCE NORTE</td>\n",
       "      <td>2061.0</td>\n",
       "      <td>6.10</td>\n",
       "      <td>No Bloom</td>\n",
       "      <td>4</td>\n",
       "      <td>Pre Bloom</td>\n",
       "    </tr>\n",
       "    <tr>\n",
       "      <th>26</th>\n",
       "      <td>2016-01-27</td>\n",
       "      <td>SAUCE NORTE</td>\n",
       "      <td>9844.0</td>\n",
       "      <td>28.25</td>\n",
       "      <td>Bloom</td>\n",
       "      <td>0</td>\n",
       "      <td>Bloom</td>\n",
       "    </tr>\n",
       "    <tr>\n",
       "      <th>...</th>\n",
       "      <td>...</td>\n",
       "      <td>...</td>\n",
       "      <td>...</td>\n",
       "      <td>...</td>\n",
       "      <td>...</td>\n",
       "      <td>...</td>\n",
       "      <td>...</td>\n",
       "    </tr>\n",
       "    <tr>\n",
       "      <th>785</th>\n",
       "      <td>2023-01-27</td>\n",
       "      <td>SAUCE NORTE</td>\n",
       "      <td>50011.5</td>\n",
       "      <td>4.75</td>\n",
       "      <td>Bloom</td>\n",
       "      <td>0</td>\n",
       "      <td>Bloom</td>\n",
       "    </tr>\n",
       "    <tr>\n",
       "      <th>791</th>\n",
       "      <td>2023-02-02</td>\n",
       "      <td>SAUCE NORTE</td>\n",
       "      <td>32184.5</td>\n",
       "      <td>3.75</td>\n",
       "      <td>Bloom</td>\n",
       "      <td>0</td>\n",
       "      <td>Bloom</td>\n",
       "    </tr>\n",
       "    <tr>\n",
       "      <th>797</th>\n",
       "      <td>2023-02-09</td>\n",
       "      <td>SAUCE NORTE</td>\n",
       "      <td>51007.5</td>\n",
       "      <td>4.75</td>\n",
       "      <td>Bloom</td>\n",
       "      <td>0</td>\n",
       "      <td>Bloom</td>\n",
       "    </tr>\n",
       "    <tr>\n",
       "      <th>803</th>\n",
       "      <td>2023-02-15</td>\n",
       "      <td>SAUCE NORTE</td>\n",
       "      <td>6142.0</td>\n",
       "      <td>3.10</td>\n",
       "      <td>Bloom</td>\n",
       "      <td>0</td>\n",
       "      <td>Bloom</td>\n",
       "    </tr>\n",
       "    <tr>\n",
       "      <th>809</th>\n",
       "      <td>2023-02-25</td>\n",
       "      <td>SAUCE NORTE</td>\n",
       "      <td>1412.5</td>\n",
       "      <td>3.40</td>\n",
       "      <td>No Bloom</td>\n",
       "      <td>999</td>\n",
       "      <td>No Bloom</td>\n",
       "    </tr>\n",
       "  </tbody>\n",
       "</table>\n",
       "<p>114 rows × 7 columns</p>\n",
       "</div>"
      ],
      "text/plain": [
       "          date     location     fico    chl     label  days until bloom  \\\n",
       "2   2015-12-30  SAUCE NORTE   4282.5   7.50  No Bloom                 8   \n",
       "11  2016-01-07  SAUCE NORTE  11768.0  10.35     Bloom                 0   \n",
       "14  2016-01-13  SAUCE NORTE  12766.0   9.70     Bloom                 0   \n",
       "23  2016-01-23  SAUCE NORTE   2061.0   6.10  No Bloom                 4   \n",
       "26  2016-01-27  SAUCE NORTE   9844.0  28.25     Bloom                 0   \n",
       "..         ...          ...      ...    ...       ...               ...   \n",
       "785 2023-01-27  SAUCE NORTE  50011.5   4.75     Bloom                 0   \n",
       "791 2023-02-02  SAUCE NORTE  32184.5   3.75     Bloom                 0   \n",
       "797 2023-02-09  SAUCE NORTE  51007.5   4.75     Bloom                 0   \n",
       "803 2023-02-15  SAUCE NORTE   6142.0   3.10     Bloom                 0   \n",
       "809 2023-02-25  SAUCE NORTE   1412.5   3.40  No Bloom               999   \n",
       "\n",
       "    forecast label  \n",
       "2         No Bloom  \n",
       "11           Bloom  \n",
       "14           Bloom  \n",
       "23       Pre Bloom  \n",
       "26           Bloom  \n",
       "..             ...  \n",
       "785          Bloom  \n",
       "791          Bloom  \n",
       "797          Bloom  \n",
       "803          Bloom  \n",
       "809       No Bloom  \n",
       "\n",
       "[114 rows x 7 columns]"
      ]
     },
     "execution_count": 6,
     "metadata": {},
     "output_type": "execute_result"
    }
   ],
   "source": [
    "dataset.bloom_forecast_gt[dataset.bloom_forecast_gt[\"location\"] == \"SAUCE NORTE\"]"
   ]
  },
  {
   "cell_type": "markdown",
   "id": "468475e7",
   "metadata": {},
   "source": [
    "## Blooming detection with MPH"
   ]
  },
  {
   "cell_type": "code",
   "execution_count": 7,
   "id": "83c56bc8",
   "metadata": {
    "scrolled": true
   },
   "outputs": [],
   "source": [
    "# create generator that yields instances of OLCIdata from dates with ground truth\n",
    "# data corrupted by clouds is skipped\n",
    "data_generator = OLCIdataGenerator(processed_data_path, DATE_FORMAT, skip_invalid=True)\n",
    "\n",
    "y_gt = {\"SAUCE NORTE\": [],\n",
    "        \"SAUCE SUR\": [],\n",
    "        \"TA\": []}\n",
    "\n",
    "y_pred = {\"SAUCE NORTE\": [],\n",
    "        \"SAUCE SUR\": [],\n",
    "        \"TA\": []}\n",
    "\n",
    "predicted_dates = {\"SAUCE NORTE\": [],\n",
    "                    \"SAUCE SUR\": [],\n",
    "                    \"TA\": []}\n",
    "duplicated_pixel_distribution = []\n",
    "for olci_data in data_generator:\n",
    "    duplicated_pixel_distribution.append(olci_data.duplicated_pixel_ratio)\n",
    "    # get gt data for same date as OLCI data\n",
    "    day_fico_df = dataset.algae_gt[dataset.algae_gt[\"date\"] == olci_data.date.replace(hour=0, minute=0, second=0, microsecond=0)]\n",
    "    # iterate over rows, skipping unwanted gt data\n",
    "    for index, row in day_fico_df.iterrows():\n",
    "        if not (row[\"location\"] in y_gt):\n",
    "            continue\n",
    "        \n",
    "        location_name = row[\"location\"]\n",
    "        location_coords = sampling_points_coords[location_name]\n",
    "        \n",
    "        mph_bloom_pred = olci_data.get_mph_bloom_in_locations([location_coords])\n",
    "\n",
    "        y_pred[row[\"location\"]].append(\"Bloom\" if mph_bloom_pred == True else \"No Bloom\")\n",
    "        y_gt[row[\"location\"]].append(row[\"label\"])\n",
    "        predicted_dates[row[\"location\"]].append(olci_data.date)"
   ]
  },
  {
   "cell_type": "markdown",
   "id": "149fee16",
   "metadata": {},
   "source": [
    "### Dataset metrics"
   ]
  },
  {
   "cell_type": "code",
   "execution_count": 8,
   "id": "c73bc7d2",
   "metadata": {},
   "outputs": [
    {
     "name": "stdout",
     "output_type": "stream",
     "text": [
      "Total samples on dataset ----> 128\n",
      "Total unique days on dataset ----> 77\n"
     ]
    }
   ],
   "source": [
    "total_samples = sum([len(ground_truth) for location, ground_truth in y_gt.items()])\n",
    "print(f\"Total samples on dataset ----> {total_samples}\")\n",
    "\n",
    "all_dates = [capture_dates for location, capture_dates in predicted_dates.items()]\n",
    "# Flatten the list of lists\n",
    "date_objects = [date for sublist in all_dates for date in sublist]\n",
    "# Create a dictionary to count unique date combinations\n",
    "unique_dates_count = {}\n",
    "\n",
    "# Iterate through the date objects\n",
    "for date in date_objects:\n",
    "    year_month_day = (date.year, date.month, date.day)\n",
    "    if year_month_day in unique_dates_count:\n",
    "        unique_dates_count[year_month_day] += 1\n",
    "    else:\n",
    "        unique_dates_count[year_month_day] = 1\n",
    "\n",
    "# Count the number of unique date combinations\n",
    "count_unique_dates = len(unique_dates_count)\n",
    "print(f\"Total unique days on dataset ----> {count_unique_dates}\")"
   ]
  },
  {
   "cell_type": "code",
   "execution_count": 9,
   "id": "ea015f1e",
   "metadata": {
    "scrolled": true
   },
   "outputs": [
    {
     "data": {
      "image/png": "[encoded data removed]",
      "text/plain": [
       "<Figure size 432x288 with 1 Axes>"
      ]
     },
     "metadata": {
      "needs_background": "light"
     },
     "output_type": "display_data"
    }
   ],
   "source": [
    "plt.hist(duplicated_pixel_distribution, bins=20, edgecolor='black')\n",
    "plt.xlabel('Corrupted data on image')\n",
    "plt.ylabel('Frequency')\n",
    "plt.title('Distribution of corrupted data')\n",
    "plt.grid(True)\n",
    "plt.show()"
   ]
  },
  {
   "cell_type": "code",
   "execution_count": 10,
   "id": "45c9e7ed",
   "metadata": {
    "scrolled": false
   },
   "outputs": [
    {
     "name": "stdout",
     "output_type": "stream",
     "text": [
      "SAUCE NORTE\n",
      "Accuracy: 0.89\n",
      "Precision: 0.8\n",
      "Recall: 0.92\n",
      "FPR: 0.08\n",
      "FNR: 0.13\n"
     ]
    },
    {
     "data": {
      "image/png": "[encoded data removed]",
      "text/plain": [
       "<Figure size 432x288 with 2 Axes>"
      ]
     },
     "metadata": {
      "needs_background": "light"
     },
     "output_type": "display_data"
    },
    {
     "name": "stdout",
     "output_type": "stream",
     "text": [
      "SAUCE SUR\n",
      "Accuracy: 0.81\n",
      "Precision: 0.73\n",
      "Recall: 0.79\n",
      "FPR: 0.21\n",
      "FNR: 0.18\n"
     ]
    },
    {
     "data": {
      "image/png": "[encoded data removed]",
      "text/plain": [
       "<Figure size 432x288 with 2 Axes>"
      ]
     },
     "metadata": {
      "needs_background": "light"
     },
     "output_type": "display_data"
    },
    {
     "name": "stdout",
     "output_type": "stream",
     "text": [
      "TA\n",
      "Accuracy: 0.86\n",
      "Precision: 0.76\n",
      "Recall: 1.0\n",
      "FPR: 0.0\n",
      "FNR: 0.27\n"
     ]
    },
    {
     "data": {
      "image/png": "[encoded data removed]",
      "text/plain": [
       "<Figure size 432x288 with 2 Axes>"
      ]
     },
     "metadata": {
      "needs_background": "light"
     },
     "output_type": "display_data"
    }
   ],
   "source": [
    "for location in list(y_gt.keys()):\n",
    "    print(location)\n",
    "    m = metrics(y_gt[location], y_pred[location])\n",
    "    print(\"Accuracy:\", m[\"accuracy\"])\n",
    "    print(\"Precision:\", m[\"precision\"])\n",
    "    print(\"Recall:\", m[\"recall\"])\n",
    "    print(\"FPR:\", m[\"false positive rate\"])\n",
    "    print(\"FNR:\", m[\"false negative rate\"])\n",
    "    sns.heatmap(m[\"confusion matrix\"], annot=True)\n",
    "    plt.show()"
   ]
  },
  {
   "cell_type": "markdown",
   "id": "49d09abf",
   "metadata": {},
   "source": [
    "## Climate features (rain, temperature and wind) correlations with ficocyanin"
   ]
  },
  {
   "cell_type": "code",
   "execution_count": 11,
   "id": "64b118e8",
   "metadata": {
    "scrolled": true
   },
   "outputs": [
    {
     "data": {
      "text/html": [
       "<div>\n",
       "<style scoped>\n",
       "    .dataframe tbody tr th:only-of-type {\n",
       "        vertical-align: middle;\n",
       "    }\n",
       "\n",
       "    .dataframe tbody tr th {\n",
       "        vertical-align: top;\n",
       "    }\n",
       "\n",
       "    .dataframe thead th {\n",
       "        text-align: right;\n",
       "    }\n",
       "</style>\n",
       "<table border=\"1\" class=\"dataframe\">\n",
       "  <thead>\n",
       "    <tr style=\"text-align: right;\">\n",
       "      <th></th>\n",
       "      <th>date</th>\n",
       "      <th>wind</th>\n",
       "      <th>temperature</th>\n",
       "      <th>precipitation</th>\n",
       "    </tr>\n",
       "  </thead>\n",
       "  <tbody>\n",
       "    <tr>\n",
       "      <th>0</th>\n",
       "      <td>2020-12-01</td>\n",
       "      <td>4.5</td>\n",
       "      <td>17.0</td>\n",
       "      <td>0.227273</td>\n",
       "    </tr>\n",
       "    <tr>\n",
       "      <th>1</th>\n",
       "      <td>2020-11-30</td>\n",
       "      <td>14.5</td>\n",
       "      <td>17.0</td>\n",
       "      <td>2.204545</td>\n",
       "    </tr>\n",
       "    <tr>\n",
       "      <th>2</th>\n",
       "      <td>2020-11-29</td>\n",
       "      <td>13.5</td>\n",
       "      <td>21.0</td>\n",
       "      <td>1.454545</td>\n",
       "    </tr>\n",
       "    <tr>\n",
       "      <th>3</th>\n",
       "      <td>2020-11-28</td>\n",
       "      <td>12.0</td>\n",
       "      <td>21.5</td>\n",
       "      <td>0.795455</td>\n",
       "    </tr>\n",
       "    <tr>\n",
       "      <th>4</th>\n",
       "      <td>2020-11-27</td>\n",
       "      <td>9.0</td>\n",
       "      <td>18.0</td>\n",
       "      <td>0.000000</td>\n",
       "    </tr>\n",
       "  </tbody>\n",
       "</table>\n",
       "</div>"
      ],
      "text/plain": [
       "        date  wind  temperature  precipitation\n",
       "0 2020-12-01   4.5         17.0       0.227273\n",
       "1 2020-11-30  14.5         17.0       2.204545\n",
       "2 2020-11-29  13.5         21.0       1.454545\n",
       "3 2020-11-28  12.0         21.5       0.795455\n",
       "4 2020-11-27   9.0         18.0       0.000000"
      ]
     },
     "execution_count": 11,
     "metadata": {},
     "output_type": "execute_result"
    }
   ],
   "source": [
    "sample_date = datetime(2020, 12, 1)\n",
    "dataset.get_historic_data(sample_date, 5)[[\"date\", \"wind\", \"temperature\", \"precipitation\"]]"
   ]
  },
  {
   "cell_type": "code",
   "execution_count": 12,
   "id": "a918f625",
   "metadata": {},
   "outputs": [
    {
     "data": {
      "text/html": [
       "<div>\n",
       "<style scoped>\n",
       "    .dataframe tbody tr th:only-of-type {\n",
       "        vertical-align: middle;\n",
       "    }\n",
       "\n",
       "    .dataframe tbody tr th {\n",
       "        vertical-align: top;\n",
       "    }\n",
       "\n",
       "    .dataframe thead th {\n",
       "        text-align: right;\n",
       "    }\n",
       "</style>\n",
       "<table border=\"1\" class=\"dataframe\">\n",
       "  <thead>\n",
       "    <tr style=\"text-align: right;\">\n",
       "      <th></th>\n",
       "      <th>date</th>\n",
       "      <th>precipitation</th>\n",
       "    </tr>\n",
       "  </thead>\n",
       "  <tbody>\n",
       "    <tr>\n",
       "      <th>0</th>\n",
       "      <td>2020-12-01</td>\n",
       "      <td>0.227273</td>\n",
       "    </tr>\n",
       "    <tr>\n",
       "      <th>1</th>\n",
       "      <td>2020-11-30</td>\n",
       "      <td>2.204545</td>\n",
       "    </tr>\n",
       "    <tr>\n",
       "      <th>2</th>\n",
       "      <td>2020-11-29</td>\n",
       "      <td>1.454545</td>\n",
       "    </tr>\n",
       "    <tr>\n",
       "      <th>3</th>\n",
       "      <td>2020-11-28</td>\n",
       "      <td>0.795455</td>\n",
       "    </tr>\n",
       "    <tr>\n",
       "      <th>4</th>\n",
       "      <td>2020-11-27</td>\n",
       "      <td>0.000000</td>\n",
       "    </tr>\n",
       "    <tr>\n",
       "      <th>...</th>\n",
       "      <td>...</td>\n",
       "      <td>...</td>\n",
       "    </tr>\n",
       "    <tr>\n",
       "      <th>245</th>\n",
       "      <td>2020-03-31</td>\n",
       "      <td>0.000000</td>\n",
       "    </tr>\n",
       "    <tr>\n",
       "      <th>246</th>\n",
       "      <td>2020-03-30</td>\n",
       "      <td>0.363636</td>\n",
       "    </tr>\n",
       "    <tr>\n",
       "      <th>247</th>\n",
       "      <td>2020-03-29</td>\n",
       "      <td>0.977273</td>\n",
       "    </tr>\n",
       "    <tr>\n",
       "      <th>248</th>\n",
       "      <td>2020-03-28</td>\n",
       "      <td>8.727273</td>\n",
       "    </tr>\n",
       "    <tr>\n",
       "      <th>249</th>\n",
       "      <td>2020-03-27</td>\n",
       "      <td>0.431818</td>\n",
       "    </tr>\n",
       "  </tbody>\n",
       "</table>\n",
       "<p>250 rows × 2 columns</p>\n",
       "</div>"
      ],
      "text/plain": [
       "          date  precipitation\n",
       "0   2020-12-01       0.227273\n",
       "1   2020-11-30       2.204545\n",
       "2   2020-11-29       1.454545\n",
       "3   2020-11-28       0.795455\n",
       "4   2020-11-27       0.000000\n",
       "..         ...            ...\n",
       "245 2020-03-31       0.000000\n",
       "246 2020-03-30       0.363636\n",
       "247 2020-03-29       0.977273\n",
       "248 2020-03-28       8.727273\n",
       "249 2020-03-27       0.431818\n",
       "\n",
       "[250 rows x 2 columns]"
      ]
     },
     "execution_count": 12,
     "metadata": {},
     "output_type": "execute_result"
    }
   ],
   "source": [
    "dataset.get_historic_data(datetime(2020, 12, 1), 250)[[\"date\", \"precipitation\"]]"
   ]
  },
  {
   "cell_type": "code",
   "execution_count": 18,
   "id": "86103287",
   "metadata": {
    "scrolled": false
   },
   "outputs": [
    {
     "name": "stdout",
     "output_type": "stream",
     "text": [
      "100 days accumulation\n",
      "precipitation_sum with binary ----> -0.18\n",
      "precipitation_sum with continuous ----> -0.18\n",
      "precipitation_mean with binary ----> -0.18\n",
      "precipitation_mean with continuous ----> -0.18\n",
      "////////////\n",
      "200 days accumulation\n",
      "precipitation_sum with binary ----> -0.38\n",
      "precipitation_sum with continuous ----> -0.24\n",
      "precipitation_mean with binary ----> -0.38\n",
      "precipitation_mean with continuous ----> -0.24\n",
      "////////////\n",
      "250 days accumulation\n",
      "precipitation_sum with binary ----> -0.37\n",
      "precipitation_sum with continuous ----> -0.29\n",
      "precipitation_mean with binary ----> -0.37\n",
      "precipitation_mean with continuous ----> -0.29\n",
      "////////////\n",
      "365 days accumulation\n",
      "precipitation_sum with binary ----> -0.25\n",
      "precipitation_sum with continuous ----> -0.14\n",
      "precipitation_mean with binary ----> -0.25\n",
      "precipitation_mean with continuous ----> -0.14\n",
      "////////////\n"
     ]
    }
   ],
   "source": [
    "infinite_defaultdict = lambda: defaultdict(infinite_defaultdict)\n",
    "correlations = infinite_defaultdict() \n",
    "\n",
    "accumulation_methods = [\"sum\", \"mean\"]\n",
    "# try to find correlations accumulating data in different amounts of days before the dates with GT\n",
    "for days_before in [100, 200, 250, 365]:\n",
    "    accumulation_data = []\n",
    "    for index, row in dataset.algae_gt.iterrows():\n",
    "        if row[\"location\"] not in [\"SAUCE NORTE\", \"SAUCE SUR\", \"TA\"]:\n",
    "            continue\n",
    "\n",
    "        row_date = datetime(row[\"date\"].year, row[\"date\"].month, row[\"date\"].day, 0, 0, 0)\n",
    "        historic_data = dataset.get_historic_data(row_date, days_before)\n",
    "\n",
    "        if len(historic_data) == 0: continue\n",
    "\n",
    "        item = {\"date\": row[\"date\"], \"label\": row[\"label\"], \"fico\": row[\"fico\"]}\n",
    "        for m in accumulation_methods:\n",
    "            item[\"precipitation_\" + m] = getattr(historic_data[\"precipitation\"], m)()\n",
    "#             item[\"temperature_\" + m] = getattr(historic_data[\"temperature\"], m)()\n",
    "#             item[\"wind_\" + m] = getattr(historic_data[\"wind\"], m)()\n",
    "        accumulation_data.append(item)\n",
    "    \n",
    "    accumulation_df = pd.DataFrame(accumulation_data)\n",
    "    accumulation_df = accumulation_df[accumulation_df[\"date\"] >= datetime(2016, 11, 1)]\n",
    "    accumulation_df[\"Bloom state\"] = accumulation_df[\"label\"].replace(\"No Bloom\", 0)\n",
    "    accumulation_df[\"Bloom state\"] = accumulation_df[\"Bloom state\"].replace(\"Bloom\", 1)\n",
    "    accumulation_df = accumulation_df.groupby('date').agg({'fico': 'mean', \n",
    "                                     'Bloom state': 'sum', \n",
    "                                     'precipitation_sum': 'mean',\n",
    "                                     'precipitation_mean': 'mean'}).reset_index()\n",
    "    accumulation_df['Bloom state'] = accumulation_df['Bloom state'].replace(2, 1)\n",
    "    \n",
    "    print(f\"{days_before} days accumulation\")\n",
    "    for d in [\"precipitation\", \"temperature\"]:\n",
    "#     for d in [\"precipitation\"]:\n",
    "        for m in accumulation_methods:\n",
    "            accumulation_dataname = f\"{d}_{m}\"\n",
    "            accumulation_correlation_binary = accumulation_df['Bloom state'].corr(accumulation_df[accumulation_dataname])\n",
    "            accumulation_correlation_cont = accumulation_df['fico'].corr(accumulation_df[accumulation_dataname])\n",
    "            print(f\"{accumulation_dataname} with binary ----> {round(accumulation_correlation_binary, 2)}\")\n",
    "            print(f\"{accumulation_dataname} with continuous ----> {round(accumulation_correlation_cont, 2)}\")\n",
    "#             correlations[d][days_before][m] = accumulation_correlation\n",
    "    print(\"////////////\")"
   ]
  },
  {
   "cell_type": "code",
   "execution_count": 32,
   "id": "f81540b3",
   "metadata": {},
   "outputs": [
    {
     "data": {
      "text/html": [
       "<div>\n",
       "<style scoped>\n",
       "    .dataframe tbody tr th:only-of-type {\n",
       "        vertical-align: middle;\n",
       "    }\n",
       "\n",
       "    .dataframe tbody tr th {\n",
       "        vertical-align: top;\n",
       "    }\n",
       "\n",
       "    .dataframe thead th {\n",
       "        text-align: right;\n",
       "    }\n",
       "</style>\n",
       "<table border=\"1\" class=\"dataframe\">\n",
       "  <thead>\n",
       "    <tr style=\"text-align: right;\">\n",
       "      <th></th>\n",
       "      <th>date</th>\n",
       "      <th>fico</th>\n",
       "      <th>Bloom state</th>\n",
       "      <th>precipitation_sum</th>\n",
       "      <th>precipitation_mean</th>\n",
       "    </tr>\n",
       "  </thead>\n",
       "  <tbody>\n",
       "    <tr>\n",
       "      <th>0</th>\n",
       "      <td>2016-12-01</td>\n",
       "      <td>1245.50</td>\n",
       "      <td>0</td>\n",
       "      <td>2126.584459</td>\n",
       "      <td>5.826259</td>\n",
       "    </tr>\n",
       "    <tr>\n",
       "      <th>1</th>\n",
       "      <td>2016-12-09</td>\n",
       "      <td>1832.00</td>\n",
       "      <td>0</td>\n",
       "      <td>2121.530405</td>\n",
       "      <td>5.812412</td>\n",
       "    </tr>\n",
       "    <tr>\n",
       "      <th>2</th>\n",
       "      <td>2016-12-16</td>\n",
       "      <td>1925.25</td>\n",
       "      <td>0</td>\n",
       "      <td>2088.780405</td>\n",
       "      <td>5.722686</td>\n",
       "    </tr>\n",
       "    <tr>\n",
       "      <th>3</th>\n",
       "      <td>2016-12-22</td>\n",
       "      <td>1358.50</td>\n",
       "      <td>0</td>\n",
       "      <td>2049.547297</td>\n",
       "      <td>5.615198</td>\n",
       "    </tr>\n",
       "    <tr>\n",
       "      <th>4</th>\n",
       "      <td>2017-01-02</td>\n",
       "      <td>1823.75</td>\n",
       "      <td>0</td>\n",
       "      <td>2059.054054</td>\n",
       "      <td>5.641244</td>\n",
       "    </tr>\n",
       "    <tr>\n",
       "      <th>...</th>\n",
       "      <td>...</td>\n",
       "      <td>...</td>\n",
       "      <td>...</td>\n",
       "      <td>...</td>\n",
       "      <td>...</td>\n",
       "    </tr>\n",
       "    <tr>\n",
       "      <th>245</th>\n",
       "      <td>2023-01-27</td>\n",
       "      <td>39480.50</td>\n",
       "      <td>1</td>\n",
       "      <td>943.307432</td>\n",
       "      <td>2.584404</td>\n",
       "    </tr>\n",
       "    <tr>\n",
       "      <th>246</th>\n",
       "      <td>2023-02-02</td>\n",
       "      <td>16778.00</td>\n",
       "      <td>1</td>\n",
       "      <td>999.067568</td>\n",
       "      <td>2.737171</td>\n",
       "    </tr>\n",
       "    <tr>\n",
       "      <th>247</th>\n",
       "      <td>2023-02-09</td>\n",
       "      <td>30323.75</td>\n",
       "      <td>1</td>\n",
       "      <td>1003.949324</td>\n",
       "      <td>2.750546</td>\n",
       "    </tr>\n",
       "    <tr>\n",
       "      <th>248</th>\n",
       "      <td>2023-02-15</td>\n",
       "      <td>6234.75</td>\n",
       "      <td>0</td>\n",
       "      <td>1000.922297</td>\n",
       "      <td>2.742253</td>\n",
       "    </tr>\n",
       "    <tr>\n",
       "      <th>249</th>\n",
       "      <td>2023-02-25</td>\n",
       "      <td>1707.50</td>\n",
       "      <td>0</td>\n",
       "      <td>977.371622</td>\n",
       "      <td>2.677730</td>\n",
       "    </tr>\n",
       "  </tbody>\n",
       "</table>\n",
       "<p>250 rows × 5 columns</p>\n",
       "</div>"
      ],
      "text/plain": [
       "          date      fico  Bloom state  precipitation_sum  precipitation_mean\n",
       "0   2016-12-01   1245.50            0        2126.584459            5.826259\n",
       "1   2016-12-09   1832.00            0        2121.530405            5.812412\n",
       "2   2016-12-16   1925.25            0        2088.780405            5.722686\n",
       "3   2016-12-22   1358.50            0        2049.547297            5.615198\n",
       "4   2017-01-02   1823.75            0        2059.054054            5.641244\n",
       "..         ...       ...          ...                ...                 ...\n",
       "245 2023-01-27  39480.50            1         943.307432            2.584404\n",
       "246 2023-02-02  16778.00            1         999.067568            2.737171\n",
       "247 2023-02-09  30323.75            1        1003.949324            2.750546\n",
       "248 2023-02-15   6234.75            0        1000.922297            2.742253\n",
       "249 2023-02-25   1707.50            0         977.371622            2.677730\n",
       "\n",
       "[250 rows x 5 columns]"
      ]
     },
     "execution_count": 32,
     "metadata": {},
     "output_type": "execute_result"
    }
   ],
   "source": [
    "accumulation_df"
   ]
  },
  {
   "cell_type": "code",
   "execution_count": 18,
   "id": "2892a08c",
   "metadata": {},
   "outputs": [
    {
     "data": {
      "text/html": [
       "<div>\n",
       "<style scoped>\n",
       "    .dataframe tbody tr th:only-of-type {\n",
       "        vertical-align: middle;\n",
       "    }\n",
       "\n",
       "    .dataframe tbody tr th {\n",
       "        vertical-align: top;\n",
       "    }\n",
       "\n",
       "    .dataframe thead th {\n",
       "        text-align: right;\n",
       "    }\n",
       "</style>\n",
       "<table border=\"1\" class=\"dataframe\">\n",
       "  <thead>\n",
       "    <tr style=\"text-align: right;\">\n",
       "      <th></th>\n",
       "      <th>date</th>\n",
       "      <th>location</th>\n",
       "      <th>fico</th>\n",
       "      <th>chl</th>\n",
       "      <th>label</th>\n",
       "    </tr>\n",
       "  </thead>\n",
       "  <tbody>\n",
       "    <tr>\n",
       "      <th>0</th>\n",
       "      <td>2015-12-30</td>\n",
       "      <td>MALLORQUINA</td>\n",
       "      <td>5032.5</td>\n",
       "      <td>10.00</td>\n",
       "      <td>Bloom</td>\n",
       "    </tr>\n",
       "    <tr>\n",
       "      <th>5</th>\n",
       "      <td>2015-12-30</td>\n",
       "      <td>POTRERO</td>\n",
       "      <td>5843.5</td>\n",
       "      <td>13.20</td>\n",
       "      <td>Bloom</td>\n",
       "    </tr>\n",
       "    <tr>\n",
       "      <th>1</th>\n",
       "      <td>2015-12-30</td>\n",
       "      <td>ARROYO SAUCE</td>\n",
       "      <td>5345.5</td>\n",
       "      <td>21.80</td>\n",
       "      <td>Bloom</td>\n",
       "    </tr>\n",
       "    <tr>\n",
       "      <th>2</th>\n",
       "      <td>2015-12-30</td>\n",
       "      <td>SAUCE NORTE</td>\n",
       "      <td>4282.5</td>\n",
       "      <td>7.50</td>\n",
       "      <td>No Bloom</td>\n",
       "    </tr>\n",
       "    <tr>\n",
       "      <th>4</th>\n",
       "      <td>2015-12-30</td>\n",
       "      <td>CISNES</td>\n",
       "      <td>9082.5</td>\n",
       "      <td>18.45</td>\n",
       "      <td>Bloom</td>\n",
       "    </tr>\n",
       "    <tr>\n",
       "      <th>...</th>\n",
       "      <td>...</td>\n",
       "      <td>...</td>\n",
       "      <td>...</td>\n",
       "      <td>...</td>\n",
       "      <td>...</td>\n",
       "    </tr>\n",
       "    <tr>\n",
       "      <th>807</th>\n",
       "      <td>2023-02-25</td>\n",
       "      <td>ARROYO SAUCE</td>\n",
       "      <td>1420.5</td>\n",
       "      <td>3.30</td>\n",
       "      <td>No Bloom</td>\n",
       "    </tr>\n",
       "    <tr>\n",
       "      <th>812</th>\n",
       "      <td>2023-02-25</td>\n",
       "      <td>POTRERO</td>\n",
       "      <td>2353.5</td>\n",
       "      <td>3.90</td>\n",
       "      <td>No Bloom</td>\n",
       "    </tr>\n",
       "    <tr>\n",
       "      <th>808</th>\n",
       "      <td>2023-02-25</td>\n",
       "      <td>MALLORQUINA</td>\n",
       "      <td>1812.0</td>\n",
       "      <td>3.80</td>\n",
       "      <td>No Bloom</td>\n",
       "    </tr>\n",
       "    <tr>\n",
       "      <th>811</th>\n",
       "      <td>2023-02-25</td>\n",
       "      <td>CISNES</td>\n",
       "      <td>1669.0</td>\n",
       "      <td>3.60</td>\n",
       "      <td>No Bloom</td>\n",
       "    </tr>\n",
       "    <tr>\n",
       "      <th>809</th>\n",
       "      <td>2023-02-25</td>\n",
       "      <td>SAUCE NORTE</td>\n",
       "      <td>1412.5</td>\n",
       "      <td>3.40</td>\n",
       "      <td>No Bloom</td>\n",
       "    </tr>\n",
       "  </tbody>\n",
       "</table>\n",
       "<p>813 rows × 5 columns</p>\n",
       "</div>"
      ],
      "text/plain": [
       "          date      location    fico    chl     label\n",
       "0   2015-12-30   MALLORQUINA  5032.5  10.00     Bloom\n",
       "5   2015-12-30       POTRERO  5843.5  13.20     Bloom\n",
       "1   2015-12-30  ARROYO SAUCE  5345.5  21.80     Bloom\n",
       "2   2015-12-30   SAUCE NORTE  4282.5   7.50  No Bloom\n",
       "4   2015-12-30        CISNES  9082.5  18.45     Bloom\n",
       "..         ...           ...     ...    ...       ...\n",
       "807 2023-02-25  ARROYO SAUCE  1420.5   3.30  No Bloom\n",
       "812 2023-02-25       POTRERO  2353.5   3.90  No Bloom\n",
       "808 2023-02-25   MALLORQUINA  1812.0   3.80  No Bloom\n",
       "811 2023-02-25        CISNES  1669.0   3.60  No Bloom\n",
       "809 2023-02-25   SAUCE NORTE  1412.5   3.40  No Bloom\n",
       "\n",
       "[813 rows x 5 columns]"
      ]
     },
     "execution_count": 18,
     "metadata": {},
     "output_type": "execute_result"
    }
   ],
   "source": [
    "dataset.algae_gt"
   ]
  },
  {
   "cell_type": "markdown",
   "id": "6c55e92a",
   "metadata": {},
   "source": [
    "100 days accumulation\n",
    "\n",
    "precipitation_sum ----> -0.164772164671051\n",
    "\n",
    "precipitation_mean ----> -0.16477216467105096\n",
    "\n",
    "temperature_sum ----> -0.021495860696549334\n",
    "\n",
    "temperature_mean ----> 0.17807973954938786\n",
    "\n",
    "wind_sum ----> -0.08023041408997561\n",
    "\n",
    "wind_mean ----> 0.04708881066590756\n",
    "\n",
    "////////////\n",
    "\n",
    "200 days accumulation\n",
    "\n",
    "precipitation_sum ----> -0.34936806032973905\n",
    "\n",
    "precipitation_mean ----> -0.3493680603297392\n",
    "\n",
    "temperature_sum ----> -0.007412263333156455\n",
    "\n",
    "temperature_mean ----> 0.30830976785697606\n",
    "\n",
    "wind_sum ----> -0.1207722832259705\n",
    "\n",
    "wind_mean ----> -0.026601503894354672\n",
    "\n",
    "////////////\n",
    "\n",
    "250 days accumulation\n",
    "\n",
    "precipitation_sum ----> -0.31982247835536526\n",
    "\n",
    "precipitation_mean ----> -0.3198224783553651\n",
    "\n",
    "temperature_sum ----> -0.06194357704347986\n",
    "\n",
    "\n",
    "temperature_mean ----> 0.24057142004327892\n",
    "\n",
    "wind_sum ----> -0.14626532732664888\n",
    "\n",
    "wind_mean ----> -0.06596991010549\n",
    "\n",
    "////////////\n",
    "\n",
    "365 days accumulation\n",
    "\n",
    "precipitation_sum ----> -0.15461669687502005\n",
    "\n",
    "precipitation_mean ----> -0.15461669687502025\n",
    "\n",
    "temperature_sum ----> -0.1647088816436126\n",
    "\n",
    "temperature_mean ----> 0.056417708576601784\n",
    "\n",
    "wind_sum ----> -0.13282270840171664\n",
    "\n",
    "wind_mean ----> -0.02083764215671592\n",
    "\n",
    "////////////"
   ]
  },
  {
   "cell_type": "markdown",
   "id": "1f023c59",
   "metadata": {},
   "source": [
    "## Prediction with MPH features"
   ]
  },
  {
   "cell_type": "code",
   "execution_count": 13,
   "id": "c98b3fb6",
   "metadata": {
    "scrolled": true
   },
   "outputs": [],
   "source": [
    "data_generator = OLCIdataGenerator(processed_data_path, DATE_FORMAT, skip_invalid=True)\n",
    "\n",
    "X = []\n",
    "y = []\n",
    "dates_list = []\n",
    "locations_list = []\n",
    "\n",
    "for olci_data in data_generator:\n",
    "    # get gt data for same date as OLCI data\n",
    "    day_fico_df = dataset.algae_gt[dataset.algae_gt[\"date\"] == olci_data.date.replace(hour=0, \n",
    "                                                                                      minute=0, \n",
    "                                                                                      second=0, \n",
    "                                                                                      microsecond=0)]\n",
    "    # iterate over rows, skipping unwanted gt data\n",
    "    for index, row in day_fico_df.iterrows():\n",
    "        if not (row[\"location\"] in [\"SAUCE NORTE\", \"SAUCE SUR\", \"TA\"]):\n",
    "            continue\n",
    "            \n",
    "        dates_list.append(row[\"date\"])\n",
    "        \n",
    "        locations_list.append(row[\"location\"])\n",
    "            \n",
    "        y.append(row[\"label\"])\n",
    "        \n",
    "        location_coords = sampling_points_coords[row[\"location\"]]\n",
    "        \n",
    "        i, j = olci_data.get_pos_index(location_coords[0], location_coords[1])\n",
    "        \n",
    "        # get mean of 3x3 grid centered on the sampling location for every feature\n",
    "        NDVI = olci_data.mph.NDVI[i-1:i+2, j-1:j+2].mean()\n",
    "        BAIR = olci_data.mph.BAIR[i-1:i+2, j-1:j+2].mean()\n",
    "        SICF = olci_data.mph.SICF[i-1:i+2, j-1:j+2].mean()\n",
    "        SIPF = olci_data.mph.SIPF[i-1:i+2, j-1:j+2].mean()\n",
    "        MPH0 = olci_data.mph.MPH0[i-1:i+2, j-1:j+2].mean()\n",
    "        MPH1 = olci_data.mph.MPH1[i-1:i+2, j-1:j+2].mean()\n",
    "        NDCI = olci_data.ndci[i-1:i+2, j-1:j+2].mean()\n",
    "        lambda_max1 = olci_data.mph.lambda_max1[i-1:i+2, j-1:j+2].max()\n",
    "        \n",
    "        X.append([NDVI, BAIR, SICF, SIPF, MPH0, MPH1, lambda_max1, NDCI])\n",
    "X = np.array(X)\n",
    "y = np.array(y)"
   ]
  },
  {
   "cell_type": "code",
   "execution_count": 14,
   "id": "c9d956e5",
   "metadata": {
    "scrolled": false
   },
   "outputs": [
    {
     "name": "stdout",
     "output_type": "stream",
     "text": [
      "DecisionTreeClassifier(max_depth=3, random_state=0)\n",
      "Accuracy: 0.88\n",
      "Precision: 0.88\n",
      "Recall: 0.81\n",
      "FPR: 0.19\n",
      "FNR: 0.08\n"
     ]
    },
    {
     "data": {
      "image/png": "[encoded data removed]",
      "text/plain": [
       "<Figure size 432x288 with 2 Axes>"
      ]
     },
     "metadata": {
      "needs_background": "light"
     },
     "output_type": "display_data"
    },
    {
     "name": "stdout",
     "output_type": "stream",
     "text": [
      "RandomForestClassifier(max_depth=3, random_state=0)\n",
      "Accuracy: 0.91\n",
      "Precision: 0.89\n",
      "Recall: 0.91\n",
      "FPR: 0.09\n",
      "FNR: 0.08\n"
     ]
    },
    {
     "data": {
      "image/png": "[encoded data removed]",
      "text/plain": [
       "<Figure size 432x288 with 2 Axes>"
      ]
     },
     "metadata": {
      "needs_background": "light"
     },
     "output_type": "display_data"
    },
    {
     "name": "stdout",
     "output_type": "stream",
     "text": [
      "XGBClassifier(base_score=None, booster=None, colsample_bylevel=None,\n",
      "              colsample_bynode=None, colsample_bytree=None,\n",
      "              enable_categorical=False, gamma=None, gpu_id=None,\n",
      "              importance_type=None, interaction_constraints=None,\n",
      "              learning_rate=None, max_delta_step=None, max_depth=None,\n",
      "              min_child_weight=None, missing=nan, monotone_constraints=None,\n",
      "              n_estimators=100, n_jobs=None, num_parallel_tree=None,\n",
      "              predictor=None, random_state=None, reg_alpha=None,\n",
      "              reg_lambda=None, scale_pos_weight=None, subsample=None,\n",
      "              tree_method=None, validate_parameters=None, verbosity=0)\n"
     ]
    },
    {
     "name": "stderr",
     "output_type": "stream",
     "text": [
      "/home/enzo/anaconda3/envs/cyano_venv/lib/python3.6/site-packages/xgboost/sklearn.py:1224: UserWarning: The use of label encoder in XGBClassifier is deprecated and will be removed in a future release. To remove this warning, do the following: 1) Pass option use_label_encoder=False when constructing XGBClassifier object; and 2) Encode your labels (y) as integers starting with 0, i.e. 0, 1, 2, ..., [num_class - 1].\n",
      "  warnings.warn(label_encoder_deprecation_msg, UserWarning)\n"
     ]
    },
    {
     "name": "stdout",
     "output_type": "stream",
     "text": [
      "Accuracy: 0.92\n",
      "Precision: 0.89\n",
      "Recall: 0.92\n",
      "FPR: 0.08\n",
      "FNR: 0.08\n"
     ]
    },
    {
     "data": {
      "image/png": "[encoded data removed]",
      "text/plain": [
       "<Figure size 432x288 with 2 Axes>"
      ]
     },
     "metadata": {
      "needs_background": "light"
     },
     "output_type": "display_data"
    }
   ],
   "source": [
    "clfs = [DecisionTreeClassifier(random_state=0, max_depth=3),\n",
    "        RandomForestClassifier(max_depth=3, random_state=0),\n",
    "        XGBClassifier(verbosity=0)]\n",
    "        \n",
    "cv = LeaveOneOut()\n",
    "for clf in clfs:\n",
    "    print(clf)\n",
    "    y_test_all = []\n",
    "    y_pred_all = []\n",
    "    for train_index, test_index in cv.split(X, y):\n",
    "        X_train, X_test = X[train_index], X[test_index]\n",
    "        y_train, y_test = y[train_index], y[test_index]\n",
    "\n",
    "        clf.fit(X_train, y_train)\n",
    "\n",
    "        y_pred = clf.predict(X_test)\n",
    "\n",
    "        y_test_all.append(y_test[0])\n",
    "        y_pred_all.append(y_pred[0])\n",
    "\n",
    "    m = metrics(y_test_all, y_pred_all)\n",
    "    print(\"Accuracy:\", m[\"accuracy\"])\n",
    "    print(\"Precision:\", m[\"precision\"])\n",
    "    print(\"Recall:\", m[\"recall\"])\n",
    "    print(\"FPR:\", m[\"false positive rate\"])\n",
    "    print(\"FNR:\", m[\"false negative rate\"])\n",
    "    sns.heatmap(m[\"confusion matrix\"], annot=True)\n",
    "    plt.show()"
   ]
  },
  {
   "cell_type": "code",
   "execution_count": 16,
   "id": "dd324d34",
   "metadata": {},
   "outputs": [],
   "source": [
    "# Define the mapping\n",
    "label_mapping = {'No Bloom': 0, 'Bloom': 1}\n",
    "\n",
    "# Vectorize the mapping using numpy\n",
    "y_numeric = np.vectorize(label_mapping.get)(y)"
   ]
  },
  {
   "cell_type": "markdown",
   "id": "006d6b1e",
   "metadata": {},
   "source": [
    "## Show Decision Tree"
   ]
  },
  {
   "cell_type": "code",
   "execution_count": 17,
   "id": "6c7a6f20",
   "metadata": {},
   "outputs": [
    {
     "data": {
      "text/plain": [
       "[Text(279.0, 475.65000000000003, 'SIPF <= 0.0\\ngini = 0.485\\nsamples = 128\\nvalue = [75, 53]\\nclass = No Bloom'),\n",
       " Text(167.39999999999998, 339.75, 'MPH0 <= 0.013\\ngini = 0.102\\nsamples = 74\\nvalue = [70, 4]\\nclass = No Bloom'),\n",
       " Text(111.6, 203.85000000000002, 'BAIR <= 0.008\\ngini = 0.054\\nsamples = 72\\nvalue = [70, 2]\\nclass = No Bloom'),\n",
       " Text(55.8, 67.94999999999999, 'gini = 0.029\\nsamples = 68\\nvalue = [67, 1]\\nclass = No Bloom'),\n",
       " Text(167.39999999999998, 67.94999999999999, 'gini = 0.375\\nsamples = 4\\nvalue = [3, 1]\\nclass = No Bloom'),\n",
       " Text(223.2, 203.85000000000002, 'gini = 0.0\\nsamples = 2\\nvalue = [0, 2]\\nclass = Bloom'),\n",
       " Text(390.59999999999997, 339.75, 'SICF <= -0.007\\ngini = 0.168\\nsamples = 54\\nvalue = [5, 49]\\nclass = Bloom'),\n",
       " Text(334.79999999999995, 203.85000000000002, 'gini = 0.0\\nsamples = 30\\nvalue = [0, 30]\\nclass = Bloom'),\n",
       " Text(446.4, 203.85000000000002, 'SIPF <= 0.001\\ngini = 0.33\\nsamples = 24\\nvalue = [5, 19]\\nclass = Bloom'),\n",
       " Text(390.59999999999997, 67.94999999999999, 'gini = 0.0\\nsamples = 14\\nvalue = [0, 14]\\nclass = Bloom'),\n",
       " Text(502.2, 67.94999999999999, 'gini = 0.5\\nsamples = 10\\nvalue = [5, 5]\\nclass = No Bloom')]"
      ]
     },
     "execution_count": 17,
     "metadata": {},
     "output_type": "execute_result"
    },
    {
     "data": {
      "image/png": "[encoded data removed]",
      "text/plain": [
       "<Figure size 720x720 with 1 Axes>"
      ]
     },
     "metadata": {
      "needs_background": "light"
     },
     "output_type": "display_data"
    }
   ],
   "source": [
    "plt.figure(figsize=(10,10))\n",
    "clf = DecisionTreeClassifier(random_state=0, max_depth=3)\n",
    "clf.fit(X, y_numeric)\n",
    "tree.plot_tree(clf, \n",
    "               feature_names=[\"NDVI\", \"BAIR\", \"SICF\", \"SIPF\", \"MPH0\", \"MPH1\", \"lambda_max1\"],  \n",
    "               class_names=[\"No Bloom\", \"Bloom\"],\n",
    "               filled=True)"
   ]
  },
  {
   "cell_type": "code",
   "execution_count": null,
   "id": "b9efb0bc",
   "metadata": {},
   "outputs": [],
   "source": [
    "y_binary = np.zeros(y.shape)\n",
    "for i in range(y_binary.shape[0]):\n",
    "    if y[i] == \"No Bloom\":\n",
    "        y_binary[i] = 0\n",
    "    else:\n",
    "        y_binary[i] = 1\n",
    "\n",
    "plt.figure(figsize=(10,10))\n",
    "plt.scatter(X[:, 2], X[:, 3], c=y_binary)\n",
    "plt.show()"
   ]
  },
  {
   "cell_type": "markdown",
   "id": "98b5c3de",
   "metadata": {},
   "source": [
    "## Perform grid search to find best XGBoost params"
   ]
  },
  {
   "cell_type": "markdown",
   "id": "59321498",
   "metadata": {},
   "source": [
    "### Define the parameter grid"
   ]
  },
  {
   "cell_type": "code",
   "execution_count": 68,
   "id": "95f119e6",
   "metadata": {},
   "outputs": [],
   "source": [
    "param_grid = {\n",
    "    'n_estimators': [5, 10, 25],\n",
    "    'learning_rate': [0.01, 0.1],\n",
    "    'max_depth': [3, 4, 5, 6],\n",
    "    'min_child_weight': [2, 3, 4],\n",
    "    'subsample': [1.0],\n",
    "    'colsample_bytree': [0.6, 0.7, 0.8],\n",
    "    'gamma': [0, 0.001, 0.1],\n",
    "}"
   ]
  },
  {
   "cell_type": "markdown",
   "id": "1d33d5ea",
   "metadata": {},
   "source": [
    "### Run grid search"
   ]
  },
  {
   "cell_type": "code",
   "execution_count": 71,
   "id": "0b1068c3",
   "metadata": {},
   "outputs": [
    {
     "name": "stderr",
     "output_type": "stream",
     "text": [
      "Grid Search Progress:   0%|          | 1/648 [00:00<06:26,  1.67it/s]"
     ]
    },
    {
     "name": "stdout",
     "output_type": "stream",
     "text": [
      "Current best score 0.8984375\n",
      "Current best params {'colsample_bytree': 0.6, 'gamma': 0, 'learning_rate': 0.01, 'max_depth': 3, 'min_child_weight': 2, 'n_estimators': 5, 'subsample': 1.0}\n"
     ]
    },
    {
     "name": "stderr",
     "output_type": "stream",
     "text": [
      "\r",
      "Grid Search Progress:   0%|          | 2/648 [00:01<06:56,  1.55it/s]"
     ]
    },
    {
     "name": "stdout",
     "output_type": "stream",
     "text": [
      "Current best score 0.9140625\n",
      "Current best params {'colsample_bytree': 0.6, 'gamma': 0, 'learning_rate': 0.01, 'max_depth': 3, 'min_child_weight': 2, 'n_estimators': 10, 'subsample': 1.0}\n"
     ]
    },
    {
     "name": "stderr",
     "output_type": "stream",
     "text": [
      "Grid Search Progress:   1%|          | 7/648 [00:04<07:07,  1.50it/s]"
     ]
    },
    {
     "name": "stdout",
     "output_type": "stream",
     "text": [
      "Current best score 0.921875\n",
      "Current best params {'colsample_bytree': 0.6, 'gamma': 0, 'learning_rate': 0.01, 'max_depth': 3, 'min_child_weight': 4, 'n_estimators': 5, 'subsample': 1.0}\n"
     ]
    },
    {
     "name": "stderr",
     "output_type": "stream",
     "text": [
      "Grid Search Progress:   6%|▌         | 37/648 [00:25<06:54,  1.47it/s]"
     ]
    },
    {
     "name": "stdout",
     "output_type": "stream",
     "text": [
      "Current best score 0.9296875\n",
      "Current best params {'colsample_bytree': 0.6, 'gamma': 0, 'learning_rate': 0.1, 'max_depth': 3, 'min_child_weight': 2, 'n_estimators': 5, 'subsample': 1.0}\n"
     ]
    },
    {
     "name": "stderr",
     "output_type": "stream",
     "text": [
      "Grid Search Progress: 100%|██████████| 648/648 [07:56<00:00,  1.36it/s]\n"
     ]
    }
   ],
   "source": [
    "from sklearn.model_selection import ParameterGrid\n",
    "\n",
    "# Convert parameter grid to list of parameter combinations\n",
    "grid = list(ParameterGrid(param_grid))\n",
    "\n",
    "# Set up the Leave-One-Out cross-validation\n",
    "loo = LeaveOneOut()\n",
    "\n",
    "# Initialize variables for tracking the best model\n",
    "best_score = 0\n",
    "best_params = None\n",
    "best_model = None\n",
    "\n",
    "# Manual grid search with progress bar\n",
    "for params in tqdm(grid, desc=\"Grid Search Progress\"):\n",
    "    model = XGBClassifier(verbosity=0, eval_metric=\"logloss\", use_label_encoder=False, **params)\n",
    "    scores = []\n",
    "\n",
    "    # Perform Leave-One-Out cross-validation\n",
    "    for train_index, test_index in loo.split(X, y_numeric):\n",
    "        X_train, X_test = X[train_index], X[test_index]\n",
    "        y_train, y_test = y_numeric[train_index], y_numeric[test_index]\n",
    "\n",
    "        model.fit(X_train, y_train)\n",
    "        y_pred = model.predict(X_test)\n",
    "        scores.append(accuracy_score(y_test, y_pred))\n",
    "\n",
    "    mean_score = np.mean(scores)\n",
    "    \n",
    "    # Update best model if current model is better\n",
    "    if mean_score > best_score:\n",
    "        best_score = mean_score\n",
    "        best_params = params\n",
    "        best_model = model\n",
    "        \n",
    "        print(f\"Current best score {best_score}\")\n",
    "        print(f\"Current best params {best_params}\")"
   ]
  },
  {
   "cell_type": "markdown",
   "id": "aa488340",
   "metadata": {},
   "source": [
    "## Metrics and confusion matrix of best XGBoost model"
   ]
  },
  {
   "cell_type": "code",
   "execution_count": 99,
   "id": "63c8935f",
   "metadata": {},
   "outputs": [
    {
     "name": "stderr",
     "output_type": "stream",
     "text": [
      "/home/enzo/anaconda3/envs/cyano_venv/lib/python3.6/site-packages/xgboost/sklearn.py:1224: UserWarning: The use of label encoder in XGBClassifier is deprecated and will be removed in a future release. To remove this warning, do the following: 1) Pass option use_label_encoder=False when constructing XGBClassifier object; and 2) Encode your labels (y) as integers starting with 0, i.e. 0, 1, 2, ..., [num_class - 1].\n",
      "  warnings.warn(label_encoder_deprecation_msg, UserWarning)\n"
     ]
    },
    {
     "name": "stdout",
     "output_type": "stream",
     "text": [
      "Accuracy: 0.93\n",
      "Precision: 0.89\n",
      "Recall: 0.94\n",
      "FPR: 0.06\n",
      "FNR: 0.08\n"
     ]
    },
    {
     "data": {
      "image/png": "[encoded data removed]",
      "text/plain": [
       "<Figure size 1080x1080 with 2 Axes>"
      ]
     },
     "metadata": {
      "needs_background": "light"
     },
     "output_type": "display_data"
    }
   ],
   "source": [
    "cv = LeaveOneOut()\n",
    "y_test_all = []\n",
    "y_pred_all = []\n",
    "best_xgboost_model = XGBClassifier(verbosity=0, **best_params)\n",
    "for train_index, test_index in cv.split(X, y):\n",
    "    X_train, X_test = X[train_index], X[test_index]\n",
    "    y_train, y_test = y[train_index], y[test_index]\n",
    "\n",
    "    best_xgboost_model.fit(X_train, y_train)\n",
    "\n",
    "    y_pred = best_xgboost_model.predict(X_test)\n",
    "\n",
    "    y_test_all.append(y_test[0])\n",
    "    y_pred_all.append(y_pred[0])\n",
    "\n",
    "m = metrics(y_test_all, y_pred_all)\n",
    "print(\"Accuracy:\", m[\"accuracy\"])\n",
    "print(\"Precision:\", m[\"precision\"])\n",
    "print(\"Recall:\", m[\"recall\"])\n",
    "print(\"FPR:\", m[\"false positive rate\"])\n",
    "print(\"FNR:\", m[\"false negative rate\"])\n",
    "fig, ax = plt.subplots(figsize=(15, 15))\n",
    "cm_plot = sns.heatmap(m[\"confusion matrix\"], annot=True, \n",
    "                      xticklabels=[\"No Bloom\", \"Bloom\"], yticklabels=[\"No Bloom\", \"Bloom\"],\n",
    "                      annot_kws={\"fontsize\":20})\n",
    "cm_plot.set_yticklabels(cm_plot.get_yticklabels(), rotation = 30, fontsize = 20)\n",
    "cm_plot.set_xticklabels(cm_plot.get_xticklabels(), rotation = 0, fontsize = 20)\n",
    "plt.xlabel(\"Predictions\", fontsize = 24)\n",
    "plt.ylabel(\"Ground truth\", fontsize = 24, rotation=0)\n",
    "plt.show()"
   ]
  },
  {
   "cell_type": "markdown",
   "id": "ce206a9c",
   "metadata": {},
   "source": [
    "### Extend features using climate data"
   ]
  },
  {
   "cell_type": "code",
   "execution_count": 18,
   "id": "cf8d6afb",
   "metadata": {
    "scrolled": true
   },
   "outputs": [],
   "source": [
    "# climate_features_meta = {\"precipitation\": {\"accumulation_days\": 365, \"accumulation_type\": \"sum\"},\n",
    "#                          \"temperature\": {\"accumulation_days\": 9, \"accumulation_type\": \"max\"},\n",
    "#                          \"wind\": {\"accumulation_days\": 9, \"accumulation_type\": \"max\"}}\n",
    "climate_features_meta = {\"precipitation\": {\"accumulation_days\": 200, \"accumulation_type\": \"sum\"}}\n",
    "# climate_features_meta = {\"precipitation\": {\"accumulation_days\": 200, \"accumulation_type\": \"sum\"},\n",
    "#                          \"temperature\": {\"accumulation_days\": 200, \"accumulation_type\": \"mean\"}\n",
    "#                         }\n",
    "climate_features = np.zeros((len(dates_list), len(climate_features_meta.keys())))\n",
    "for idx, key_value in enumerate(climate_features_meta.items()):\n",
    "    climate_feature_name = key_value[0]\n",
    "    feature_metadata = key_value[1]\n",
    "    feature_accumulated_data = []\n",
    "    for date_idx, d in enumerate(dates_list):\n",
    "        row_date = datetime(d.year, d.month, d.day, 0, 0, 0)\n",
    "        historic_data = dataset.get_historic_data(row_date, feature_metadata[\"accumulation_days\"])\n",
    "\n",
    "        if len(historic_data) == 0:\n",
    "            print(f\"{d} has no historic data\")\n",
    "            continue\n",
    "\n",
    "        climate_feature_value = getattr(historic_data[climate_feature_name], feature_metadata[\"accumulation_type\"])()\n",
    "        if isnan(climate_feature_value):\n",
    "            print(historic_data[[\"date\", climate_feature_name]])\n",
    "            climate_feature_value = 0\n",
    "        feature_accumulated_data.append(climate_feature_value)\n",
    "\n",
    "    climate_features[:, idx] = np.array(feature_accumulated_data)\n",
    "    \n",
    "X_extended = np.hstack((X,climate_features))"
   ]
  },
  {
   "cell_type": "markdown",
   "id": "6efbead7",
   "metadata": {},
   "source": [
    "## Prediction with MPH indexes and climate data using XGBoost classifier and grid search"
   ]
  },
  {
   "cell_type": "code",
   "execution_count": 19,
   "id": "f840a520",
   "metadata": {},
   "outputs": [
    {
     "name": "stdout",
     "output_type": "stream",
     "text": [
      "(128, 9)\n",
      "(128,)\n"
     ]
    }
   ],
   "source": [
    "print(X_extended.shape)\n",
    "print(y_numeric.shape)"
   ]
  },
  {
   "cell_type": "code",
   "execution_count": 70,
   "id": "74abecc1",
   "metadata": {
    "scrolled": false
   },
   "outputs": [
    {
     "name": "stderr",
     "output_type": "stream",
     "text": [
      "Grid Search Progress:   0%|          | 1/648 [00:00<07:50,  1.38it/s]"
     ]
    },
    {
     "name": "stdout",
     "output_type": "stream",
     "text": [
      "Current best score 0.90625\n",
      "Current best params {'colsample_bytree': 0.6, 'gamma': 0, 'learning_rate': 0.01, 'max_depth': 3, 'min_child_weight': 2, 'n_estimators': 5, 'subsample': 1.0}\n"
     ]
    },
    {
     "name": "stderr",
     "output_type": "stream",
     "text": [
      "\r",
      "Grid Search Progress:   0%|          | 2/648 [00:01<07:32,  1.43it/s]"
     ]
    },
    {
     "name": "stdout",
     "output_type": "stream",
     "text": [
      "Current best score 0.921875\n",
      "Current best params {'colsample_bytree': 0.6, 'gamma': 0, 'learning_rate': 0.01, 'max_depth': 3, 'min_child_weight': 2, 'n_estimators': 10, 'subsample': 1.0}\n"
     ]
    },
    {
     "name": "stderr",
     "output_type": "stream",
     "text": [
      "Grid Search Progress:   1%|▏         | 9/648 [00:06<08:34,  1.24it/s]"
     ]
    },
    {
     "name": "stdout",
     "output_type": "stream",
     "text": [
      "Current best score 0.9375\n",
      "Current best params {'colsample_bytree': 0.6, 'gamma': 0, 'learning_rate': 0.01, 'max_depth': 3, 'min_child_weight': 4, 'n_estimators': 25, 'subsample': 1.0}\n"
     ]
    },
    {
     "name": "stderr",
     "output_type": "stream",
     "text": [
      "Grid Search Progress:   6%|▌         | 40/648 [00:29<06:59,  1.45it/s]"
     ]
    },
    {
     "name": "stdout",
     "output_type": "stream",
     "text": [
      "Current best score 0.9453125\n",
      "Current best params {'colsample_bytree': 0.6, 'gamma': 0, 'learning_rate': 0.1, 'max_depth': 3, 'min_child_weight': 3, 'n_estimators': 5, 'subsample': 1.0}\n"
     ]
    },
    {
     "name": "stderr",
     "output_type": "stream",
     "text": [
      "Grid Search Progress: 100%|██████████| 648/648 [08:09<00:00,  1.32it/s]\n"
     ]
    }
   ],
   "source": [
    "from sklearn.model_selection import ParameterGrid\n",
    "\n",
    "# Convert parameter grid to list of parameter combinations\n",
    "grid = list(ParameterGrid(param_grid))\n",
    "\n",
    "# Set up the Leave-One-Out cross-validation\n",
    "loo = LeaveOneOut()\n",
    "\n",
    "best_score_precipitation = 0\n",
    "\n",
    "# Manual grid search with progress bar\n",
    "for params in tqdm(grid, desc=\"Grid Search Progress\"):\n",
    "    model = XGBClassifier(verbosity=0, eval_metric=\"logloss\", use_label_encoder=False, **params)\n",
    "    scores = []\n",
    "\n",
    "    # Perform Leave-One-Out cross-validation\n",
    "    for train_index, test_index in loo.split(X_extended, y):\n",
    "        X_train, X_test = X_extended[train_index], X_extended[test_index]\n",
    "        y_train, y_test = y_numeric[train_index], y_numeric[test_index]\n",
    "\n",
    "        model.fit(X_train, y_train)\n",
    "        y_pred = model.predict(X_test)\n",
    "        scores.append(accuracy_score(y_test, y_pred))\n",
    "\n",
    "    mean_score = np.mean(scores)\n",
    "    \n",
    "    # Update best model if current model is better\n",
    "    if mean_score > best_score_precipitation:\n",
    "        best_score_precipitation = mean_score\n",
    "        best_params_precipitation = params\n",
    "        best_model_precipitation = model\n",
    "        \n",
    "        print(f\"Current best score {best_score_precipitation}\")\n",
    "        print(f\"Current best params {best_params_precipitation}\")"
   ]
  },
  {
   "cell_type": "markdown",
   "id": "00e4d6e5",
   "metadata": {},
   "source": [
    "## Metrics and confusion matrix of XGBoost model with precipitation feature"
   ]
  },
  {
   "cell_type": "code",
   "execution_count": 23,
   "id": "294383fd",
   "metadata": {},
   "outputs": [
    {
     "name": "stderr",
     "output_type": "stream",
     "text": [
      "/home/enzo/anaconda3/envs/cyano_venv/lib/python3.6/site-packages/xgboost/sklearn.py:1224: UserWarning: The use of label encoder in XGBClassifier is deprecated and will be removed in a future release. To remove this warning, do the following: 1) Pass option use_label_encoder=False when constructing XGBClassifier object; and 2) Encode your labels (y) as integers starting with 0, i.e. 0, 1, 2, ..., [num_class - 1].\n",
      "  warnings.warn(label_encoder_deprecation_msg, UserWarning)\n"
     ]
    },
    {
     "name": "stdout",
     "output_type": "stream",
     "text": [
      "Accuracy: 0.95\n",
      "Precision: 0.91\n",
      "Recall: 0.96\n",
      "FPR: 0.04\n",
      "FNR: 0.07\n"
     ]
    },
    {
     "data": {
      "image/png": "[encoded data removed]",
      "text/plain": [
       "<Figure size 1080x1080 with 2 Axes>"
      ]
     },
     "metadata": {
      "needs_background": "light"
     },
     "output_type": "display_data"
    }
   ],
   "source": [
    "cv = LeaveOneOut()\n",
    "y_test_all = []\n",
    "y_pred_all = []\n",
    "custom_params = {'colsample_bytree': 0.6, \n",
    "                 'gamma': 0, \n",
    "                 'learning_rate': 0.1, \n",
    "                 'max_depth': 3, \n",
    "                 'min_child_weight': 3, \n",
    "                 'n_estimators': 5, \n",
    "                 'subsample': 1.0}\n",
    "# best_xgboost_precipitation_model = XGBClassifier(verbosity=0, **best_params_precipitation)\n",
    "for train_index, test_index in cv.split(X_extended, y):\n",
    "    best_xgboost_precipitation_model = XGBClassifier(verbosity=0, **custom_params)\n",
    "    X_train, X_test = X_extended[train_index], X_extended[test_index]\n",
    "    y_train, y_test = y[train_index], y[test_index]\n",
    "\n",
    "    best_xgboost_precipitation_model.fit(X_train, y_train)\n",
    "\n",
    "    y_pred = best_xgboost_precipitation_model.predict(X_test)\n",
    "\n",
    "    y_test_all.append(y_test[0])\n",
    "    y_pred_all.append(y_pred[0])\n",
    "\n",
    "m = metrics(y_test_all, y_pred_all)\n",
    "print(\"Accuracy:\", m[\"accuracy\"])\n",
    "print(\"Precision:\", m[\"precision\"])\n",
    "print(\"Recall:\", m[\"recall\"])\n",
    "print(\"FPR:\", m[\"false positive rate\"])\n",
    "print(\"FNR:\", m[\"false negative rate\"])\n",
    "fig, ax = plt.subplots(figsize=(15, 15))\n",
    "cm_plot = sns.heatmap(m[\"confusion matrix\"], annot=True, \n",
    "                      xticklabels=[\"No Bloom\", \"Bloom\"], yticklabels=[\"No Bloom\", \"Bloom\"],\n",
    "                      annot_kws={\"fontsize\":20})\n",
    "cm_plot.set_yticklabels(cm_plot.get_yticklabels(), rotation = 30, fontsize = 20)\n",
    "cm_plot.set_xticklabels(cm_plot.get_xticklabels(), rotation = 0, fontsize = 20)\n",
    "plt.xlabel(\"Predictions\", fontsize = 24)\n",
    "plt.ylabel(\"Ground truth\", fontsize = 24, rotation=0)\n",
    "plt.show()"
   ]
  },
  {
   "cell_type": "code",
   "execution_count": 82,
   "id": "83504007",
   "metadata": {},
   "outputs": [
    {
     "data": {
      "text/html": [
       "<div>\n",
       "<style scoped>\n",
       "    .dataframe tbody tr th:only-of-type {\n",
       "        vertical-align: middle;\n",
       "    }\n",
       "\n",
       "    .dataframe tbody tr th {\n",
       "        vertical-align: top;\n",
       "    }\n",
       "\n",
       "    .dataframe thead th {\n",
       "        text-align: right;\n",
       "    }\n",
       "</style>\n",
       "<table border=\"1\" class=\"dataframe\">\n",
       "  <thead>\n",
       "    <tr style=\"text-align: right;\">\n",
       "      <th></th>\n",
       "      <th>Tree</th>\n",
       "      <th>Node</th>\n",
       "      <th>ID</th>\n",
       "      <th>Feature</th>\n",
       "      <th>Split</th>\n",
       "      <th>Yes</th>\n",
       "      <th>No</th>\n",
       "      <th>Missing</th>\n",
       "      <th>Gain</th>\n",
       "      <th>Cover</th>\n",
       "      <th>Category</th>\n",
       "    </tr>\n",
       "  </thead>\n",
       "  <tbody>\n",
       "    <tr>\n",
       "      <th>0</th>\n",
       "      <td>0</td>\n",
       "      <td>0</td>\n",
       "      <td>0-0</td>\n",
       "      <td>f3</td>\n",
       "      <td>0.000194</td>\n",
       "      <td>0-1</td>\n",
       "      <td>0-2</td>\n",
       "      <td>0-1</td>\n",
       "      <td>85.558800</td>\n",
       "      <td>32.000000</td>\n",
       "      <td>NaN</td>\n",
       "    </tr>\n",
       "    <tr>\n",
       "      <th>1</th>\n",
       "      <td>0</td>\n",
       "      <td>1</td>\n",
       "      <td>0-1</td>\n",
       "      <td>f2</td>\n",
       "      <td>-0.001798</td>\n",
       "      <td>0-3</td>\n",
       "      <td>0-4</td>\n",
       "      <td>0-3</td>\n",
       "      <td>0.949303</td>\n",
       "      <td>18.500000</td>\n",
       "      <td>NaN</td>\n",
       "    </tr>\n",
       "    <tr>\n",
       "      <th>2</th>\n",
       "      <td>0</td>\n",
       "      <td>2</td>\n",
       "      <td>0-2</td>\n",
       "      <td>f4</td>\n",
       "      <td>0.010351</td>\n",
       "      <td>0-5</td>\n",
       "      <td>0-6</td>\n",
       "      <td>0-5</td>\n",
       "      <td>0.261993</td>\n",
       "      <td>13.500000</td>\n",
       "      <td>NaN</td>\n",
       "    </tr>\n",
       "    <tr>\n",
       "      <th>3</th>\n",
       "      <td>0</td>\n",
       "      <td>3</td>\n",
       "      <td>0-3</td>\n",
       "      <td>Leaf</td>\n",
       "      <td>NaN</td>\n",
       "      <td>NaN</td>\n",
       "      <td>NaN</td>\n",
       "      <td>NaN</td>\n",
       "      <td>0.075000</td>\n",
       "      <td>3.000000</td>\n",
       "      <td>NaN</td>\n",
       "    </tr>\n",
       "    <tr>\n",
       "      <th>4</th>\n",
       "      <td>0</td>\n",
       "      <td>4</td>\n",
       "      <td>0-4</td>\n",
       "      <td>Leaf</td>\n",
       "      <td>NaN</td>\n",
       "      <td>NaN</td>\n",
       "      <td>NaN</td>\n",
       "      <td>NaN</td>\n",
       "      <td>0.181818</td>\n",
       "      <td>15.500000</td>\n",
       "      <td>NaN</td>\n",
       "    </tr>\n",
       "    <tr>\n",
       "      <th>5</th>\n",
       "      <td>0</td>\n",
       "      <td>5</td>\n",
       "      <td>0-5</td>\n",
       "      <td>Leaf</td>\n",
       "      <td>NaN</td>\n",
       "      <td>NaN</td>\n",
       "      <td>NaN</td>\n",
       "      <td>NaN</td>\n",
       "      <td>-0.075000</td>\n",
       "      <td>3.000000</td>\n",
       "      <td>NaN</td>\n",
       "    </tr>\n",
       "    <tr>\n",
       "      <th>6</th>\n",
       "      <td>0</td>\n",
       "      <td>6</td>\n",
       "      <td>0-6</td>\n",
       "      <td>Leaf</td>\n",
       "      <td>NaN</td>\n",
       "      <td>NaN</td>\n",
       "      <td>NaN</td>\n",
       "      <td>NaN</td>\n",
       "      <td>-0.165217</td>\n",
       "      <td>10.500000</td>\n",
       "      <td>NaN</td>\n",
       "    </tr>\n",
       "    <tr>\n",
       "      <th>7</th>\n",
       "      <td>1</td>\n",
       "      <td>0</td>\n",
       "      <td>1-0</td>\n",
       "      <td>f4</td>\n",
       "      <td>0.006902</td>\n",
       "      <td>1-1</td>\n",
       "      <td>1-2</td>\n",
       "      <td>1-1</td>\n",
       "      <td>64.464066</td>\n",
       "      <td>31.792845</td>\n",
       "      <td>NaN</td>\n",
       "    </tr>\n",
       "    <tr>\n",
       "      <th>8</th>\n",
       "      <td>1</td>\n",
       "      <td>1</td>\n",
       "      <td>1-1</td>\n",
       "      <td>f8</td>\n",
       "      <td>587.863647</td>\n",
       "      <td>1-3</td>\n",
       "      <td>1-4</td>\n",
       "      <td>1-3</td>\n",
       "      <td>2.767757</td>\n",
       "      <td>17.621145</td>\n",
       "      <td>NaN</td>\n",
       "    </tr>\n",
       "    <tr>\n",
       "      <th>9</th>\n",
       "      <td>1</td>\n",
       "      <td>2</td>\n",
       "      <td>1-2</td>\n",
       "      <td>f4</td>\n",
       "      <td>0.012535</td>\n",
       "      <td>1-5</td>\n",
       "      <td>1-6</td>\n",
       "      <td>1-5</td>\n",
       "      <td>3.385944</td>\n",
       "      <td>14.171700</td>\n",
       "      <td>NaN</td>\n",
       "    </tr>\n",
       "    <tr>\n",
       "      <th>10</th>\n",
       "      <td>1</td>\n",
       "      <td>3</td>\n",
       "      <td>1-3</td>\n",
       "      <td>Leaf</td>\n",
       "      <td>NaN</td>\n",
       "      <td>NaN</td>\n",
       "      <td>NaN</td>\n",
       "      <td>NaN</td>\n",
       "      <td>0.049733</td>\n",
       "      <td>3.228399</td>\n",
       "      <td>NaN</td>\n",
       "    </tr>\n",
       "    <tr>\n",
       "      <th>11</th>\n",
       "      <td>1</td>\n",
       "      <td>4</td>\n",
       "      <td>1-4</td>\n",
       "      <td>Leaf</td>\n",
       "      <td>NaN</td>\n",
       "      <td>NaN</td>\n",
       "      <td>NaN</td>\n",
       "      <td>NaN</td>\n",
       "      <td>0.172773</td>\n",
       "      <td>14.392748</td>\n",
       "      <td>NaN</td>\n",
       "    </tr>\n",
       "    <tr>\n",
       "      <th>12</th>\n",
       "      <td>1</td>\n",
       "      <td>5</td>\n",
       "      <td>1-5</td>\n",
       "      <td>Leaf</td>\n",
       "      <td>NaN</td>\n",
       "      <td>NaN</td>\n",
       "      <td>NaN</td>\n",
       "      <td>NaN</td>\n",
       "      <td>-0.044834</td>\n",
       "      <td>4.981843</td>\n",
       "      <td>NaN</td>\n",
       "    </tr>\n",
       "    <tr>\n",
       "      <th>13</th>\n",
       "      <td>1</td>\n",
       "      <td>6</td>\n",
       "      <td>1-6</td>\n",
       "      <td>Leaf</td>\n",
       "      <td>NaN</td>\n",
       "      <td>NaN</td>\n",
       "      <td>NaN</td>\n",
       "      <td>NaN</td>\n",
       "      <td>-0.157952</td>\n",
       "      <td>9.189857</td>\n",
       "      <td>NaN</td>\n",
       "    </tr>\n",
       "    <tr>\n",
       "      <th>14</th>\n",
       "      <td>2</td>\n",
       "      <td>0</td>\n",
       "      <td>2-0</td>\n",
       "      <td>f3</td>\n",
       "      <td>0.000194</td>\n",
       "      <td>2-1</td>\n",
       "      <td>2-2</td>\n",
       "      <td>2-1</td>\n",
       "      <td>61.649406</td>\n",
       "      <td>31.297632</td>\n",
       "      <td>NaN</td>\n",
       "    </tr>\n",
       "    <tr>\n",
       "      <th>15</th>\n",
       "      <td>2</td>\n",
       "      <td>1</td>\n",
       "      <td>2-1</td>\n",
       "      <td>f2</td>\n",
       "      <td>-0.001382</td>\n",
       "      <td>2-3</td>\n",
       "      <td>2-4</td>\n",
       "      <td>2-3</td>\n",
       "      <td>0.272663</td>\n",
       "      <td>18.049215</td>\n",
       "      <td>NaN</td>\n",
       "    </tr>\n",
       "    <tr>\n",
       "      <th>16</th>\n",
       "      <td>2</td>\n",
       "      <td>2</td>\n",
       "      <td>2-2</td>\n",
       "      <td>f0</td>\n",
       "      <td>-0.571521</td>\n",
       "      <td>2-5</td>\n",
       "      <td>2-6</td>\n",
       "      <td>2-5</td>\n",
       "      <td>0.189995</td>\n",
       "      <td>13.248418</td>\n",
       "      <td>NaN</td>\n",
       "    </tr>\n",
       "    <tr>\n",
       "      <th>17</th>\n",
       "      <td>2</td>\n",
       "      <td>3</td>\n",
       "      <td>2-3</td>\n",
       "      <td>Leaf</td>\n",
       "      <td>NaN</td>\n",
       "      <td>NaN</td>\n",
       "      <td>NaN</td>\n",
       "      <td>NaN</td>\n",
       "      <td>0.072392</td>\n",
       "      <td>3.218429</td>\n",
       "      <td>NaN</td>\n",
       "    </tr>\n",
       "    <tr>\n",
       "      <th>18</th>\n",
       "      <td>2</td>\n",
       "      <td>4</td>\n",
       "      <td>2-4</td>\n",
       "      <td>Leaf</td>\n",
       "      <td>NaN</td>\n",
       "      <td>NaN</td>\n",
       "      <td>NaN</td>\n",
       "      <td>NaN</td>\n",
       "      <td>0.154781</td>\n",
       "      <td>14.830787</td>\n",
       "      <td>NaN</td>\n",
       "    </tr>\n",
       "    <tr>\n",
       "      <th>19</th>\n",
       "      <td>2</td>\n",
       "      <td>5</td>\n",
       "      <td>2-5</td>\n",
       "      <td>Leaf</td>\n",
       "      <td>NaN</td>\n",
       "      <td>NaN</td>\n",
       "      <td>NaN</td>\n",
       "      <td>NaN</td>\n",
       "      <td>-0.066499</td>\n",
       "      <td>3.198176</td>\n",
       "      <td>NaN</td>\n",
       "    </tr>\n",
       "    <tr>\n",
       "      <th>20</th>\n",
       "      <td>2</td>\n",
       "      <td>6</td>\n",
       "      <td>2-6</td>\n",
       "      <td>Leaf</td>\n",
       "      <td>NaN</td>\n",
       "      <td>NaN</td>\n",
       "      <td>NaN</td>\n",
       "      <td>NaN</td>\n",
       "      <td>-0.143026</td>\n",
       "      <td>10.050242</td>\n",
       "      <td>NaN</td>\n",
       "    </tr>\n",
       "    <tr>\n",
       "      <th>21</th>\n",
       "      <td>3</td>\n",
       "      <td>0</td>\n",
       "      <td>3-0</td>\n",
       "      <td>f4</td>\n",
       "      <td>0.006902</td>\n",
       "      <td>3-1</td>\n",
       "      <td>3-2</td>\n",
       "      <td>3-1</td>\n",
       "      <td>46.664925</td>\n",
       "      <td>30.561930</td>\n",
       "      <td>NaN</td>\n",
       "    </tr>\n",
       "    <tr>\n",
       "      <th>22</th>\n",
       "      <td>3</td>\n",
       "      <td>1</td>\n",
       "      <td>3-1</td>\n",
       "      <td>f8</td>\n",
       "      <td>587.863647</td>\n",
       "      <td>3-3</td>\n",
       "      <td>3-4</td>\n",
       "      <td>3-3</td>\n",
       "      <td>2.285824</td>\n",
       "      <td>16.827799</td>\n",
       "      <td>NaN</td>\n",
       "    </tr>\n",
       "    <tr>\n",
       "      <th>23</th>\n",
       "      <td>3</td>\n",
       "      <td>2</td>\n",
       "      <td>3-2</td>\n",
       "      <td>f4</td>\n",
       "      <td>0.012535</td>\n",
       "      <td>3-5</td>\n",
       "      <td>3-6</td>\n",
       "      <td>3-5</td>\n",
       "      <td>2.815300</td>\n",
       "      <td>13.734132</td>\n",
       "      <td>NaN</td>\n",
       "    </tr>\n",
       "    <tr>\n",
       "      <th>24</th>\n",
       "      <td>3</td>\n",
       "      <td>3</td>\n",
       "      <td>3-3</td>\n",
       "      <td>Leaf</td>\n",
       "      <td>NaN</td>\n",
       "      <td>NaN</td>\n",
       "      <td>NaN</td>\n",
       "      <td>NaN</td>\n",
       "      <td>0.040251</td>\n",
       "      <td>3.153704</td>\n",
       "      <td>NaN</td>\n",
       "    </tr>\n",
       "    <tr>\n",
       "      <th>25</th>\n",
       "      <td>3</td>\n",
       "      <td>4</td>\n",
       "      <td>3-4</td>\n",
       "      <td>Leaf</td>\n",
       "      <td>NaN</td>\n",
       "      <td>NaN</td>\n",
       "      <td>NaN</td>\n",
       "      <td>NaN</td>\n",
       "      <td>0.151136</td>\n",
       "      <td>13.674094</td>\n",
       "      <td>NaN</td>\n",
       "    </tr>\n",
       "    <tr>\n",
       "      <th>26</th>\n",
       "      <td>3</td>\n",
       "      <td>5</td>\n",
       "      <td>3-5</td>\n",
       "      <td>Leaf</td>\n",
       "      <td>NaN</td>\n",
       "      <td>NaN</td>\n",
       "      <td>NaN</td>\n",
       "      <td>NaN</td>\n",
       "      <td>-0.036087</td>\n",
       "      <td>4.915908</td>\n",
       "      <td>NaN</td>\n",
       "    </tr>\n",
       "    <tr>\n",
       "      <th>27</th>\n",
       "      <td>3</td>\n",
       "      <td>6</td>\n",
       "      <td>3-6</td>\n",
       "      <td>Leaf</td>\n",
       "      <td>NaN</td>\n",
       "      <td>NaN</td>\n",
       "      <td>NaN</td>\n",
       "      <td>NaN</td>\n",
       "      <td>-0.138679</td>\n",
       "      <td>8.818223</td>\n",
       "      <td>NaN</td>\n",
       "    </tr>\n",
       "    <tr>\n",
       "      <th>28</th>\n",
       "      <td>4</td>\n",
       "      <td>0</td>\n",
       "      <td>4-0</td>\n",
       "      <td>f4</td>\n",
       "      <td>0.006902</td>\n",
       "      <td>4-1</td>\n",
       "      <td>4-2</td>\n",
       "      <td>4-1</td>\n",
       "      <td>39.830788</td>\n",
       "      <td>29.690970</td>\n",
       "      <td>NaN</td>\n",
       "    </tr>\n",
       "    <tr>\n",
       "      <th>29</th>\n",
       "      <td>4</td>\n",
       "      <td>1</td>\n",
       "      <td>4-1</td>\n",
       "      <td>f8</td>\n",
       "      <td>587.863647</td>\n",
       "      <td>4-3</td>\n",
       "      <td>4-4</td>\n",
       "      <td>4-3</td>\n",
       "      <td>2.053377</td>\n",
       "      <td>16.264399</td>\n",
       "      <td>NaN</td>\n",
       "    </tr>\n",
       "    <tr>\n",
       "      <th>30</th>\n",
       "      <td>4</td>\n",
       "      <td>2</td>\n",
       "      <td>4-2</td>\n",
       "      <td>f4</td>\n",
       "      <td>0.012535</td>\n",
       "      <td>4-5</td>\n",
       "      <td>4-6</td>\n",
       "      <td>4-5</td>\n",
       "      <td>2.506685</td>\n",
       "      <td>13.426571</td>\n",
       "      <td>NaN</td>\n",
       "    </tr>\n",
       "    <tr>\n",
       "      <th>31</th>\n",
       "      <td>4</td>\n",
       "      <td>3</td>\n",
       "      <td>4-3</td>\n",
       "      <td>Leaf</td>\n",
       "      <td>NaN</td>\n",
       "      <td>NaN</td>\n",
       "      <td>NaN</td>\n",
       "      <td>NaN</td>\n",
       "      <td>0.037358</td>\n",
       "      <td>3.136564</td>\n",
       "      <td>NaN</td>\n",
       "    </tr>\n",
       "    <tr>\n",
       "      <th>32</th>\n",
       "      <td>4</td>\n",
       "      <td>4</td>\n",
       "      <td>4-4</td>\n",
       "      <td>Leaf</td>\n",
       "      <td>NaN</td>\n",
       "      <td>NaN</td>\n",
       "      <td>NaN</td>\n",
       "      <td>NaN</td>\n",
       "      <td>0.142633</td>\n",
       "      <td>13.127835</td>\n",
       "      <td>NaN</td>\n",
       "    </tr>\n",
       "    <tr>\n",
       "      <th>33</th>\n",
       "      <td>4</td>\n",
       "      <td>5</td>\n",
       "      <td>4-5</td>\n",
       "      <td>Leaf</td>\n",
       "      <td>NaN</td>\n",
       "      <td>NaN</td>\n",
       "      <td>NaN</td>\n",
       "      <td>NaN</td>\n",
       "      <td>-0.033187</td>\n",
       "      <td>4.899174</td>\n",
       "      <td>NaN</td>\n",
       "    </tr>\n",
       "    <tr>\n",
       "      <th>34</th>\n",
       "      <td>4</td>\n",
       "      <td>6</td>\n",
       "      <td>4-6</td>\n",
       "      <td>Leaf</td>\n",
       "      <td>NaN</td>\n",
       "      <td>NaN</td>\n",
       "      <td>NaN</td>\n",
       "      <td>NaN</td>\n",
       "      <td>-0.130280</td>\n",
       "      <td>8.527397</td>\n",
       "      <td>NaN</td>\n",
       "    </tr>\n",
       "  </tbody>\n",
       "</table>\n",
       "</div>"
      ],
      "text/plain": [
       "    Tree  Node   ID Feature       Split  Yes   No Missing       Gain  \\\n",
       "0      0     0  0-0      f3    0.000194  0-1  0-2     0-1  85.558800   \n",
       "1      0     1  0-1      f2   -0.001798  0-3  0-4     0-3   0.949303   \n",
       "2      0     2  0-2      f4    0.010351  0-5  0-6     0-5   0.261993   \n",
       "3      0     3  0-3    Leaf         NaN  NaN  NaN     NaN   0.075000   \n",
       "4      0     4  0-4    Leaf         NaN  NaN  NaN     NaN   0.181818   \n",
       "5      0     5  0-5    Leaf         NaN  NaN  NaN     NaN  -0.075000   \n",
       "6      0     6  0-6    Leaf         NaN  NaN  NaN     NaN  -0.165217   \n",
       "7      1     0  1-0      f4    0.006902  1-1  1-2     1-1  64.464066   \n",
       "8      1     1  1-1      f8  587.863647  1-3  1-4     1-3   2.767757   \n",
       "9      1     2  1-2      f4    0.012535  1-5  1-6     1-5   3.385944   \n",
       "10     1     3  1-3    Leaf         NaN  NaN  NaN     NaN   0.049733   \n",
       "11     1     4  1-4    Leaf         NaN  NaN  NaN     NaN   0.172773   \n",
       "12     1     5  1-5    Leaf         NaN  NaN  NaN     NaN  -0.044834   \n",
       "13     1     6  1-6    Leaf         NaN  NaN  NaN     NaN  -0.157952   \n",
       "14     2     0  2-0      f3    0.000194  2-1  2-2     2-1  61.649406   \n",
       "15     2     1  2-1      f2   -0.001382  2-3  2-4     2-3   0.272663   \n",
       "16     2     2  2-2      f0   -0.571521  2-5  2-6     2-5   0.189995   \n",
       "17     2     3  2-3    Leaf         NaN  NaN  NaN     NaN   0.072392   \n",
       "18     2     4  2-4    Leaf         NaN  NaN  NaN     NaN   0.154781   \n",
       "19     2     5  2-5    Leaf         NaN  NaN  NaN     NaN  -0.066499   \n",
       "20     2     6  2-6    Leaf         NaN  NaN  NaN     NaN  -0.143026   \n",
       "21     3     0  3-0      f4    0.006902  3-1  3-2     3-1  46.664925   \n",
       "22     3     1  3-1      f8  587.863647  3-3  3-4     3-3   2.285824   \n",
       "23     3     2  3-2      f4    0.012535  3-5  3-6     3-5   2.815300   \n",
       "24     3     3  3-3    Leaf         NaN  NaN  NaN     NaN   0.040251   \n",
       "25     3     4  3-4    Leaf         NaN  NaN  NaN     NaN   0.151136   \n",
       "26     3     5  3-5    Leaf         NaN  NaN  NaN     NaN  -0.036087   \n",
       "27     3     6  3-6    Leaf         NaN  NaN  NaN     NaN  -0.138679   \n",
       "28     4     0  4-0      f4    0.006902  4-1  4-2     4-1  39.830788   \n",
       "29     4     1  4-1      f8  587.863647  4-3  4-4     4-3   2.053377   \n",
       "30     4     2  4-2      f4    0.012535  4-5  4-6     4-5   2.506685   \n",
       "31     4     3  4-3    Leaf         NaN  NaN  NaN     NaN   0.037358   \n",
       "32     4     4  4-4    Leaf         NaN  NaN  NaN     NaN   0.142633   \n",
       "33     4     5  4-5    Leaf         NaN  NaN  NaN     NaN  -0.033187   \n",
       "34     4     6  4-6    Leaf         NaN  NaN  NaN     NaN  -0.130280   \n",
       "\n",
       "        Cover  Category  \n",
       "0   32.000000       NaN  \n",
       "1   18.500000       NaN  \n",
       "2   13.500000       NaN  \n",
       "3    3.000000       NaN  \n",
       "4   15.500000       NaN  \n",
       "5    3.000000       NaN  \n",
       "6   10.500000       NaN  \n",
       "7   31.792845       NaN  \n",
       "8   17.621145       NaN  \n",
       "9   14.171700       NaN  \n",
       "10   3.228399       NaN  \n",
       "11  14.392748       NaN  \n",
       "12   4.981843       NaN  \n",
       "13   9.189857       NaN  \n",
       "14  31.297632       NaN  \n",
       "15  18.049215       NaN  \n",
       "16  13.248418       NaN  \n",
       "17   3.218429       NaN  \n",
       "18  14.830787       NaN  \n",
       "19   3.198176       NaN  \n",
       "20  10.050242       NaN  \n",
       "21  30.561930       NaN  \n",
       "22  16.827799       NaN  \n",
       "23  13.734132       NaN  \n",
       "24   3.153704       NaN  \n",
       "25  13.674094       NaN  \n",
       "26   4.915908       NaN  \n",
       "27   8.818223       NaN  \n",
       "28  29.690970       NaN  \n",
       "29  16.264399       NaN  \n",
       "30  13.426571       NaN  \n",
       "31   3.136564       NaN  \n",
       "32  13.127835       NaN  \n",
       "33   4.899174       NaN  \n",
       "34   8.527397       NaN  "
      ]
     },
     "execution_count": 82,
     "metadata": {},
     "output_type": "execute_result"
    }
   ],
   "source": [
    "# Accessing the features used in each tree\n",
    "final_xgboost_model = XGBClassifier(verbosity=0, **best_params_precipitation)\n",
    "final_xgboost_model.fit(X_extended, y)\n",
    "booster = final_xgboost_model.get_booster()\n",
    "\n",
    "booster.trees_to_dataframe()"
   ]
  },
  {
   "cell_type": "markdown",
   "id": "4ce6d1ec",
   "metadata": {},
   "source": [
    "## Train and save model"
   ]
  },
  {
   "cell_type": "markdown",
   "id": "5ef5c111",
   "metadata": {},
   "source": [
    "### Without climate data"
   ]
  },
  {
   "cell_type": "code",
   "execution_count": 18,
   "id": "2e3e5434",
   "metadata": {
    "scrolled": true
   },
   "outputs": [],
   "source": [
    "# filename_no_climate = 'decision_tree_2023.sav'\n",
    "\n",
    "# model = DecisionTreeClassifier(random_state=0, max_depth=3)\n",
    "\n",
    "# model.fit(X, y)\n",
    "\n",
    "# print(metrics(y, model.predict(X)))\n",
    "# # save the model to disk\n",
    "# pickle.dump(model, open(filename_no_climate, 'wb'))"
   ]
  },
  {
   "cell_type": "markdown",
   "id": "c1da905d",
   "metadata": {},
   "source": [
    "### With climate data"
   ]
  },
  {
   "cell_type": "code",
   "execution_count": 19,
   "id": "78da800c",
   "metadata": {
    "scrolled": true
   },
   "outputs": [],
   "source": [
    "# filename_with_climate = 'xgboost_precipitation_2023.sav'\n",
    "\n",
    "# model = XGBClassifier(verbosity=0)\n",
    "\n",
    "# model.fit(X_extended, y)\n",
    "\n",
    "# print(metrics(y, model.predict(X_extended)))\n",
    "# # save the model to disk\n",
    "# pickle.dump(model, open(filename_with_climate, 'wb'))"
   ]
  },
  {
   "cell_type": "markdown",
   "id": "c0ab7b1e",
   "metadata": {},
   "source": [
    "## Load trained model from disk"
   ]
  },
  {
   "cell_type": "code",
   "execution_count": 20,
   "id": "3597343e",
   "metadata": {
    "scrolled": true
   },
   "outputs": [],
   "source": [
    "# xgboost_model = pickle.load(open(filename_with_climate, 'rb'))\n",
    "# decision_tree_model = pickle.load(open(filename_no_climate, 'rb'))\n",
    "\n",
    "# xgboost_preds = xgboost_model.predict(X_extended)\n",
    "# decision_tree_preds = decision_tree_model.predict(X)\n",
    "# print(metrics(y, xgboost_preds))\n",
    "# print(metrics(y, decision_tree_preds))"
   ]
  },
  {
   "cell_type": "markdown",
   "id": "4444aaee",
   "metadata": {},
   "source": [
    "## Bloom forecast"
   ]
  },
  {
   "cell_type": "code",
   "execution_count": 21,
   "id": "ffbc17c8",
   "metadata": {
    "scrolled": false
   },
   "outputs": [
    {
     "name": "stdout",
     "output_type": "stream",
     "text": [
      "0.3333333333333333\n",
      "GaussianNB() 1 days pre bloom threshold\n"
     ]
    },
    {
     "data": {
      "image/png": "[encoded data removed]",
      "text/plain": [
       "<Figure size 576x432 with 2 Axes>"
      ]
     },
     "metadata": {
      "needs_background": "light"
     },
     "output_type": "display_data"
    },
    {
     "name": "stderr",
     "output_type": "stream",
     "text": [
      "/home/enzo/anaconda3/envs/cyano_venv/lib/python3.6/site-packages/xgboost/sklearn.py:1224: UserWarning: The use of label encoder in XGBClassifier is deprecated and will be removed in a future release. To remove this warning, do the following: 1) Pass option use_label_encoder=False when constructing XGBClassifier object; and 2) Encode your labels (y) as integers starting with 0, i.e. 0, 1, 2, ..., [num_class - 1].\n",
      "  warnings.warn(label_encoder_deprecation_msg, UserWarning)\n"
     ]
    },
    {
     "name": "stdout",
     "output_type": "stream",
     "text": [
      "0.75\n",
      "GaussianNB() 2 days pre bloom threshold\n"
     ]
    },
    {
     "data": {
      "image/png": "[encoded data removed]",
      "text/plain": [
       "<Figure size 576x432 with 2 Axes>"
      ]
     },
     "metadata": {
      "needs_background": "light"
     },
     "output_type": "display_data"
    },
    {
     "name": "stderr",
     "output_type": "stream",
     "text": [
      "/home/enzo/anaconda3/envs/cyano_venv/lib/python3.6/site-packages/xgboost/sklearn.py:1224: UserWarning: The use of label encoder in XGBClassifier is deprecated and will be removed in a future release. To remove this warning, do the following: 1) Pass option use_label_encoder=False when constructing XGBClassifier object; and 2) Encode your labels (y) as integers starting with 0, i.e. 0, 1, 2, ..., [num_class - 1].\n",
      "  warnings.warn(label_encoder_deprecation_msg, UserWarning)\n"
     ]
    },
    {
     "name": "stdout",
     "output_type": "stream",
     "text": [
      "0.75\n",
      "GaussianNB() 3 days pre bloom threshold\n"
     ]
    },
    {
     "data": {
      "image/png": "[encoded data removed]",
      "text/plain": [
       "<Figure size 576x432 with 2 Axes>"
      ]
     },
     "metadata": {
      "needs_background": "light"
     },
     "output_type": "display_data"
    },
    {
     "name": "stderr",
     "output_type": "stream",
     "text": [
      "/home/enzo/anaconda3/envs/cyano_venv/lib/python3.6/site-packages/xgboost/sklearn.py:1224: UserWarning: The use of label encoder in XGBClassifier is deprecated and will be removed in a future release. To remove this warning, do the following: 1) Pass option use_label_encoder=False when constructing XGBClassifier object; and 2) Encode your labels (y) as integers starting with 0, i.e. 0, 1, 2, ..., [num_class - 1].\n",
      "  warnings.warn(label_encoder_deprecation_msg, UserWarning)\n"
     ]
    },
    {
     "name": "stdout",
     "output_type": "stream",
     "text": [
      "0.8333333333333334\n",
      "GaussianNB() 4 days pre bloom threshold\n"
     ]
    },
    {
     "data": {
      "image/png": "[encoded data removed]",
      "text/plain": [
       "<Figure size 576x432 with 2 Axes>"
      ]
     },
     "metadata": {
      "needs_background": "light"
     },
     "output_type": "display_data"
    },
    {
     "name": "stderr",
     "output_type": "stream",
     "text": [
      "/home/enzo/anaconda3/envs/cyano_venv/lib/python3.6/site-packages/xgboost/sklearn.py:1224: UserWarning: The use of label encoder in XGBClassifier is deprecated and will be removed in a future release. To remove this warning, do the following: 1) Pass option use_label_encoder=False when constructing XGBClassifier object; and 2) Encode your labels (y) as integers starting with 0, i.e. 0, 1, 2, ..., [num_class - 1].\n",
      "  warnings.warn(label_encoder_deprecation_msg, UserWarning)\n"
     ]
    },
    {
     "name": "stdout",
     "output_type": "stream",
     "text": [
      "0.8571428571428571\n",
      "GaussianNB() 5 days pre bloom threshold\n"
     ]
    },
    {
     "data": {
      "image/png": "[encoded data removed]",
      "text/plain": [
       "<Figure size 576x432 with 2 Axes>"
      ]
     },
     "metadata": {
      "needs_background": "light"
     },
     "output_type": "display_data"
    },
    {
     "name": "stderr",
     "output_type": "stream",
     "text": [
      "/home/enzo/anaconda3/envs/cyano_venv/lib/python3.6/site-packages/xgboost/sklearn.py:1224: UserWarning: The use of label encoder in XGBClassifier is deprecated and will be removed in a future release. To remove this warning, do the following: 1) Pass option use_label_encoder=False when constructing XGBClassifier object; and 2) Encode your labels (y) as integers starting with 0, i.e. 0, 1, 2, ..., [num_class - 1].\n",
      "  warnings.warn(label_encoder_deprecation_msg, UserWarning)\n"
     ]
    },
    {
     "name": "stdout",
     "output_type": "stream",
     "text": [
      "0.8571428571428571\n",
      "GaussianNB() 6 days pre bloom threshold\n"
     ]
    },
    {
     "data": {
      "image/png": "[encoded data removed]",
      "text/plain": [
       "<Figure size 576x432 with 2 Axes>"
      ]
     },
     "metadata": {
      "needs_background": "light"
     },
     "output_type": "display_data"
    },
    {
     "name": "stderr",
     "output_type": "stream",
     "text": [
      "/home/enzo/anaconda3/envs/cyano_venv/lib/python3.6/site-packages/xgboost/sklearn.py:1224: UserWarning: The use of label encoder in XGBClassifier is deprecated and will be removed in a future release. To remove this warning, do the following: 1) Pass option use_label_encoder=False when constructing XGBClassifier object; and 2) Encode your labels (y) as integers starting with 0, i.e. 0, 1, 2, ..., [num_class - 1].\n",
      "  warnings.warn(label_encoder_deprecation_msg, UserWarning)\n",
      "/home/enzo/anaconda3/envs/cyano_venv/lib/python3.6/site-packages/xgboost/sklearn.py:1224: UserWarning: The use of label encoder in XGBClassifier is deprecated and will be removed in a future release. To remove this warning, do the following: 1) Pass option use_label_encoder=False when constructing XGBClassifier object; and 2) Encode your labels (y) as integers starting with 0, i.e. 0, 1, 2, ..., [num_class - 1].\n",
      "  warnings.warn(label_encoder_deprecation_msg, UserWarning)\n"
     ]
    },
    {
     "name": "stdout",
     "output_type": "stream",
     "text": [
      "0.25\n",
      "LGBMClassifier() 8 days pre bloom threshold\n"
     ]
    },
    {
     "data": {
      "image/png": "[encoded data removed]",
      "text/plain": [
       "<Figure size 576x432 with 2 Axes>"
      ]
     },
     "metadata": {
      "needs_background": "light"
     },
     "output_type": "display_data"
    },
    {
     "name": "stderr",
     "output_type": "stream",
     "text": [
      "/home/enzo/anaconda3/envs/cyano_venv/lib/python3.6/site-packages/xgboost/sklearn.py:1224: UserWarning: The use of label encoder in XGBClassifier is deprecated and will be removed in a future release. To remove this warning, do the following: 1) Pass option use_label_encoder=False when constructing XGBClassifier object; and 2) Encode your labels (y) as integers starting with 0, i.e. 0, 1, 2, ..., [num_class - 1].\n",
      "  warnings.warn(label_encoder_deprecation_msg, UserWarning)\n"
     ]
    },
    {
     "name": "stdout",
     "output_type": "stream",
     "text": [
      "0.25\n",
      "LGBMClassifier() 9 days pre bloom threshold\n"
     ]
    },
    {
     "data": {
      "image/png": "[encoded data removed]",
      "text/plain": [
       "<Figure size 576x432 with 2 Axes>"
      ]
     },
     "metadata": {
      "needs_background": "light"
     },
     "output_type": "display_data"
    },
    {
     "name": "stderr",
     "output_type": "stream",
     "text": [
      "/home/enzo/anaconda3/envs/cyano_venv/lib/python3.6/site-packages/xgboost/sklearn.py:1224: UserWarning: The use of label encoder in XGBClassifier is deprecated and will be removed in a future release. To remove this warning, do the following: 1) Pass option use_label_encoder=False when constructing XGBClassifier object; and 2) Encode your labels (y) as integers starting with 0, i.e. 0, 1, 2, ..., [num_class - 1].\n",
      "  warnings.warn(label_encoder_deprecation_msg, UserWarning)\n"
     ]
    },
    {
     "name": "stdout",
     "output_type": "stream",
     "text": [
      "0.25\n",
      "LGBMClassifier() 10 days pre bloom threshold\n"
     ]
    },
    {
     "data": {
      "image/png": "[encoded data removed]",
      "text/plain": [
       "<Figure size 576x432 with 2 Axes>"
      ]
     },
     "metadata": {
      "needs_background": "light"
     },
     "output_type": "display_data"
    },
    {
     "name": "stderr",
     "output_type": "stream",
     "text": [
      "/home/enzo/anaconda3/envs/cyano_venv/lib/python3.6/site-packages/xgboost/sklearn.py:1224: UserWarning: The use of label encoder in XGBClassifier is deprecated and will be removed in a future release. To remove this warning, do the following: 1) Pass option use_label_encoder=False when constructing XGBClassifier object; and 2) Encode your labels (y) as integers starting with 0, i.e. 0, 1, 2, ..., [num_class - 1].\n",
      "  warnings.warn(label_encoder_deprecation_msg, UserWarning)\n"
     ]
    }
   ],
   "source": [
    "forecast_metrics = []\n",
    "\n",
    "for bloom_forecast_threshold in [1, 2, 3, 4, 5, 6, 7, 8, 9, 10]:\n",
    "    dataset.change_bloom_forecast_label(bloom_forecast_threshold)\n",
    "    y_forecast = []\n",
    "    for d, location in zip(dates_list, locations_list):\n",
    "        location_condition = dataset.bloom_forecast_gt[\"location\"] == location\n",
    "        date_condition = dataset.bloom_forecast_gt[\"date\"] == d\n",
    "\n",
    "        forecast_label = dataset.bloom_forecast_gt[date_condition & location_condition][\"forecast label\"].to_list()\n",
    "        if len(forecast_label) > 1: \n",
    "            print(f\"{dataset.bloom_forecast_gt[date_condition & location_condition]}\")\n",
    "            break\n",
    "        forecast_label = forecast_label[0]\n",
    "        y_forecast.append(forecast_label)\n",
    "\n",
    "    y_forecast = np.array(y_forecast)\n",
    "    # Get unique classes and their counts\n",
    "    unique_classes, class_counts = np.unique(y_forecast, return_counts=True)\n",
    "    \n",
    "    clfs = [DecisionTreeClassifier(random_state=0, max_depth=3),\n",
    "        make_pipeline(StandardScaler(), SVC(gamma='auto')),\n",
    "        GaussianNB(),\n",
    "        make_pipeline(StandardScaler(), SGDClassifier(max_iter=1000, tol=1e-3)),\n",
    "        RandomForestClassifier(max_depth=3, random_state=0),\n",
    "        GradientBoostingClassifier(n_estimators=100, learning_rate=1.0, max_depth=1, random_state=0),\n",
    "        LGBMClassifier(),\n",
    "        XGBClassifier(verbosity=0)]\n",
    "    \n",
    "    cv = LeaveOneOut()\n",
    "    for clf in clfs:\n",
    "        y_test_all = []\n",
    "        y_pred_all = []\n",
    "        for train_index, test_index in cv.split(X_extended, y_forecast):\n",
    "            X_train, X_test = X_extended[train_index], X_extended[test_index]\n",
    "            y_train, y_test = y_forecast[train_index], y_forecast[test_index]\n",
    "\n",
    "            clf.fit(X_train, y_train)\n",
    "\n",
    "            y_pred = clf.predict(X_test)\n",
    "\n",
    "            y_test_all.append(y_test[0])\n",
    "            y_pred_all.append(y_pred[0])\n",
    "\n",
    "        m = metrics_multiclass(y_test_all, y_pred_all)\n",
    "        cm = m[\"confusion matrix\"]\n",
    "        \n",
    "        relevant_metrics = {\"bloom threshold [days]\": bloom_forecast_threshold}\n",
    "        relevant_metrics[\"Pre Bloom instances on dataset\"] = class_counts[2]\n",
    "        relevant_metrics[\"Bloom accuracy\"] = m[\"Accuracy\"][\"Bloom\"]\n",
    "        relevant_metrics[\"Pre Bloom accuracy\"] = m[\"Accuracy\"][\"Pre Bloom\"]\n",
    "        relevant_metrics[\"No Bloom accuracy\"] = m[\"Accuracy\"][\"No Bloom\"]\n",
    "        relevant_metrics[\"Pre Bloom + Bloom accuracy\"] = cm[1:, 1:].sum()/cm[1:, 0:].sum()\n",
    "        relevant_metrics[\"Model\"] = str(clf)\n",
    "        forecast_metrics.append(relevant_metrics)\n",
    "        if m[\"Accuracy\"][\"Pre Bloom\"] >= 0.20:\n",
    "            print(m[\"Accuracy\"][\"Pre Bloom\"])\n",
    "            print(f\"{clf} {bloom_forecast_threshold} days pre bloom threshold\")\n",
    "            # Create a heatmap of the confusion matrix\n",
    "            plt.figure(figsize=(8, 6))\n",
    "            sns.heatmap(m[\"confusion matrix\"], annot=True, fmt=\"d\", xticklabels=[\"No Bloom\", \"Bloom\", \"Pre Bloom\"], \n",
    "                                                        yticklabels=[\"No Bloom\", \"Bloom\", \"Pre Bloom\"])\n",
    "            plt.xlabel(\"Predicted\")\n",
    "            plt.ylabel(\"Actual\")\n",
    "            plt.title(\"Confusion Matrix\")\n",
    "            plt.show()\n",
    "forecast_metrics = pd.DataFrame(forecast_metrics)"
   ]
  },
  {
   "cell_type": "code",
   "execution_count": 22,
   "id": "786dccb2",
   "metadata": {},
   "outputs": [
    {
     "data": {
      "text/html": [
       "<div>\n",
       "<style scoped>\n",
       "    .dataframe tbody tr th:only-of-type {\n",
       "        vertical-align: middle;\n",
       "    }\n",
       "\n",
       "    .dataframe tbody tr th {\n",
       "        vertical-align: top;\n",
       "    }\n",
       "\n",
       "    .dataframe thead th {\n",
       "        text-align: right;\n",
       "    }\n",
       "</style>\n",
       "<table border=\"1\" class=\"dataframe\">\n",
       "  <thead>\n",
       "    <tr style=\"text-align: right;\">\n",
       "      <th></th>\n",
       "      <th>bloom threshold [days]</th>\n",
       "      <th>Pre Bloom instances on dataset</th>\n",
       "      <th>Bloom accuracy</th>\n",
       "      <th>Pre Bloom accuracy</th>\n",
       "      <th>No Bloom accuracy</th>\n",
       "      <th>Pre Bloom + Bloom accuracy</th>\n",
       "      <th>Model</th>\n",
       "    </tr>\n",
       "  </thead>\n",
       "  <tbody>\n",
       "    <tr>\n",
       "      <th>34</th>\n",
       "      <td>5</td>\n",
       "      <td>8</td>\n",
       "      <td>0.185185</td>\n",
       "      <td>1.0</td>\n",
       "      <td>0.576087</td>\n",
       "      <td>0.983871</td>\n",
       "      <td>GaussianNB()</td>\n",
       "    </tr>\n",
       "    <tr>\n",
       "      <th>42</th>\n",
       "      <td>6</td>\n",
       "      <td>8</td>\n",
       "      <td>0.185185</td>\n",
       "      <td>1.0</td>\n",
       "      <td>0.576087</td>\n",
       "      <td>0.983871</td>\n",
       "      <td>GaussianNB()</td>\n",
       "    </tr>\n",
       "    <tr>\n",
       "      <th>26</th>\n",
       "      <td>4</td>\n",
       "      <td>7</td>\n",
       "      <td>0.166667</td>\n",
       "      <td>1.0</td>\n",
       "      <td>0.569892</td>\n",
       "      <td>0.983607</td>\n",
       "      <td>GaussianNB()</td>\n",
       "    </tr>\n",
       "    <tr>\n",
       "      <th>10</th>\n",
       "      <td>2</td>\n",
       "      <td>4</td>\n",
       "      <td>0.370370</td>\n",
       "      <td>1.0</td>\n",
       "      <td>0.614583</td>\n",
       "      <td>0.982759</td>\n",
       "      <td>GaussianNB()</td>\n",
       "    </tr>\n",
       "    <tr>\n",
       "      <th>18</th>\n",
       "      <td>3</td>\n",
       "      <td>4</td>\n",
       "      <td>0.370370</td>\n",
       "      <td>1.0</td>\n",
       "      <td>0.614583</td>\n",
       "      <td>0.982759</td>\n",
       "      <td>GaussianNB()</td>\n",
       "    </tr>\n",
       "    <tr>\n",
       "      <th>...</th>\n",
       "      <td>...</td>\n",
       "      <td>...</td>\n",
       "      <td>...</td>\n",
       "      <td>...</td>\n",
       "      <td>...</td>\n",
       "      <td>...</td>\n",
       "      <td>...</td>\n",
       "    </tr>\n",
       "    <tr>\n",
       "      <th>60</th>\n",
       "      <td>8</td>\n",
       "      <td>13</td>\n",
       "      <td>0.962963</td>\n",
       "      <td>0.0</td>\n",
       "      <td>0.965517</td>\n",
       "      <td>0.850746</td>\n",
       "      <td>RandomForestClassifier(max_depth=3, random_sta...</td>\n",
       "    </tr>\n",
       "    <tr>\n",
       "      <th>65</th>\n",
       "      <td>9</td>\n",
       "      <td>13</td>\n",
       "      <td>0.962963</td>\n",
       "      <td>0.0</td>\n",
       "      <td>0.988506</td>\n",
       "      <td>0.850746</td>\n",
       "      <td>Pipeline(steps=[('standardscaler', StandardSca...</td>\n",
       "    </tr>\n",
       "    <tr>\n",
       "      <th>68</th>\n",
       "      <td>9</td>\n",
       "      <td>13</td>\n",
       "      <td>0.962963</td>\n",
       "      <td>0.0</td>\n",
       "      <td>0.965517</td>\n",
       "      <td>0.850746</td>\n",
       "      <td>RandomForestClassifier(max_depth=3, random_sta...</td>\n",
       "    </tr>\n",
       "    <tr>\n",
       "      <th>73</th>\n",
       "      <td>10</td>\n",
       "      <td>13</td>\n",
       "      <td>0.962963</td>\n",
       "      <td>0.0</td>\n",
       "      <td>0.988506</td>\n",
       "      <td>0.850746</td>\n",
       "      <td>Pipeline(steps=[('standardscaler', StandardSca...</td>\n",
       "    </tr>\n",
       "    <tr>\n",
       "      <th>76</th>\n",
       "      <td>10</td>\n",
       "      <td>13</td>\n",
       "      <td>0.962963</td>\n",
       "      <td>0.0</td>\n",
       "      <td>0.965517</td>\n",
       "      <td>0.850746</td>\n",
       "      <td>RandomForestClassifier(max_depth=3, random_sta...</td>\n",
       "    </tr>\n",
       "  </tbody>\n",
       "</table>\n",
       "<p>80 rows × 7 columns</p>\n",
       "</div>"
      ],
      "text/plain": [
       "    bloom threshold [days]  Pre Bloom instances on dataset  Bloom accuracy  \\\n",
       "34                       5                               8        0.185185   \n",
       "42                       6                               8        0.185185   \n",
       "26                       4                               7        0.166667   \n",
       "10                       2                               4        0.370370   \n",
       "18                       3                               4        0.370370   \n",
       "..                     ...                             ...             ...   \n",
       "60                       8                              13        0.962963   \n",
       "65                       9                              13        0.962963   \n",
       "68                       9                              13        0.962963   \n",
       "73                      10                              13        0.962963   \n",
       "76                      10                              13        0.962963   \n",
       "\n",
       "    Pre Bloom accuracy  No Bloom accuracy  Pre Bloom + Bloom accuracy  \\\n",
       "34                 1.0           0.576087                    0.983871   \n",
       "42                 1.0           0.576087                    0.983871   \n",
       "26                 1.0           0.569892                    0.983607   \n",
       "10                 1.0           0.614583                    0.982759   \n",
       "18                 1.0           0.614583                    0.982759   \n",
       "..                 ...                ...                         ...   \n",
       "60                 0.0           0.965517                    0.850746   \n",
       "65                 0.0           0.988506                    0.850746   \n",
       "68                 0.0           0.965517                    0.850746   \n",
       "73                 0.0           0.988506                    0.850746   \n",
       "76                 0.0           0.965517                    0.850746   \n",
       "\n",
       "                                                Model  \n",
       "34                                       GaussianNB()  \n",
       "42                                       GaussianNB()  \n",
       "26                                       GaussianNB()  \n",
       "10                                       GaussianNB()  \n",
       "18                                       GaussianNB()  \n",
       "..                                                ...  \n",
       "60  RandomForestClassifier(max_depth=3, random_sta...  \n",
       "65  Pipeline(steps=[('standardscaler', StandardSca...  \n",
       "68  RandomForestClassifier(max_depth=3, random_sta...  \n",
       "73  Pipeline(steps=[('standardscaler', StandardSca...  \n",
       "76  RandomForestClassifier(max_depth=3, random_sta...  \n",
       "\n",
       "[80 rows x 7 columns]"
      ]
     },
     "execution_count": 22,
     "metadata": {},
     "output_type": "execute_result"
    }
   ],
   "source": [
    "forecast_metrics.sort_values(by=['Pre Bloom accuracy', 'Pre Bloom + Bloom accuracy'], ascending=False)"
   ]
  },
  {
   "cell_type": "code",
   "execution_count": 23,
   "id": "cf215059",
   "metadata": {},
   "outputs": [
    {
     "data": {
      "text/html": [
       "<div>\n",
       "<style scoped>\n",
       "    .dataframe tbody tr th:only-of-type {\n",
       "        vertical-align: middle;\n",
       "    }\n",
       "\n",
       "    .dataframe tbody tr th {\n",
       "        vertical-align: top;\n",
       "    }\n",
       "\n",
       "    .dataframe thead th {\n",
       "        text-align: right;\n",
       "    }\n",
       "</style>\n",
       "<table border=\"1\" class=\"dataframe\">\n",
       "  <thead>\n",
       "    <tr style=\"text-align: right;\">\n",
       "      <th></th>\n",
       "      <th>bloom threshold [days]</th>\n",
       "      <th>Pre Bloom instances on dataset</th>\n",
       "      <th>Bloom accuracy</th>\n",
       "      <th>Pre Bloom accuracy</th>\n",
       "      <th>No Bloom accuracy</th>\n",
       "      <th>Pre Bloom + Bloom accuracy</th>\n",
       "      <th>Model</th>\n",
       "    </tr>\n",
       "  </thead>\n",
       "  <tbody>\n",
       "    <tr>\n",
       "      <th>0</th>\n",
       "      <td>1</td>\n",
       "      <td>3</td>\n",
       "      <td>0.925926</td>\n",
       "      <td>0.000000</td>\n",
       "      <td>0.907216</td>\n",
       "      <td>0.929825</td>\n",
       "      <td>DecisionTreeClassifier(max_depth=3, random_sta...</td>\n",
       "    </tr>\n",
       "    <tr>\n",
       "      <th>1</th>\n",
       "      <td>1</td>\n",
       "      <td>3</td>\n",
       "      <td>0.944444</td>\n",
       "      <td>0.000000</td>\n",
       "      <td>0.958763</td>\n",
       "      <td>0.929825</td>\n",
       "      <td>Pipeline(steps=[('standardscaler', StandardSca...</td>\n",
       "    </tr>\n",
       "    <tr>\n",
       "      <th>2</th>\n",
       "      <td>1</td>\n",
       "      <td>3</td>\n",
       "      <td>0.462963</td>\n",
       "      <td>0.333333</td>\n",
       "      <td>0.711340</td>\n",
       "      <td>0.912281</td>\n",
       "      <td>GaussianNB()</td>\n",
       "    </tr>\n",
       "    <tr>\n",
       "      <th>3</th>\n",
       "      <td>1</td>\n",
       "      <td>3</td>\n",
       "      <td>0.925926</td>\n",
       "      <td>0.000000</td>\n",
       "      <td>0.958763</td>\n",
       "      <td>0.912281</td>\n",
       "      <td>Pipeline(steps=[('standardscaler', StandardSca...</td>\n",
       "    </tr>\n",
       "    <tr>\n",
       "      <th>4</th>\n",
       "      <td>1</td>\n",
       "      <td>3</td>\n",
       "      <td>0.962963</td>\n",
       "      <td>0.000000</td>\n",
       "      <td>0.958763</td>\n",
       "      <td>0.947368</td>\n",
       "      <td>RandomForestClassifier(max_depth=3, random_sta...</td>\n",
       "    </tr>\n",
       "    <tr>\n",
       "      <th>...</th>\n",
       "      <td>...</td>\n",
       "      <td>...</td>\n",
       "      <td>...</td>\n",
       "      <td>...</td>\n",
       "      <td>...</td>\n",
       "      <td>...</td>\n",
       "      <td>...</td>\n",
       "    </tr>\n",
       "    <tr>\n",
       "      <th>74</th>\n",
       "      <td>10</td>\n",
       "      <td>13</td>\n",
       "      <td>0.833333</td>\n",
       "      <td>0.153846</td>\n",
       "      <td>0.965517</td>\n",
       "      <td>0.835821</td>\n",
       "      <td>GaussianNB()</td>\n",
       "    </tr>\n",
       "    <tr>\n",
       "      <th>75</th>\n",
       "      <td>10</td>\n",
       "      <td>13</td>\n",
       "      <td>0.962963</td>\n",
       "      <td>0.000000</td>\n",
       "      <td>0.931034</td>\n",
       "      <td>0.880597</td>\n",
       "      <td>Pipeline(steps=[('standardscaler', StandardSca...</td>\n",
       "    </tr>\n",
       "    <tr>\n",
       "      <th>76</th>\n",
       "      <td>10</td>\n",
       "      <td>13</td>\n",
       "      <td>0.962963</td>\n",
       "      <td>0.000000</td>\n",
       "      <td>0.965517</td>\n",
       "      <td>0.850746</td>\n",
       "      <td>RandomForestClassifier(max_depth=3, random_sta...</td>\n",
       "    </tr>\n",
       "    <tr>\n",
       "      <th>77</th>\n",
       "      <td>10</td>\n",
       "      <td>13</td>\n",
       "      <td>0.870370</td>\n",
       "      <td>0.307692</td>\n",
       "      <td>0.954023</td>\n",
       "      <td>0.895522</td>\n",
       "      <td>GradientBoostingClassifier(learning_rate=1.0, ...</td>\n",
       "    </tr>\n",
       "    <tr>\n",
       "      <th>79</th>\n",
       "      <td>10</td>\n",
       "      <td>13</td>\n",
       "      <td>0.907407</td>\n",
       "      <td>0.076923</td>\n",
       "      <td>0.954023</td>\n",
       "      <td>0.865672</td>\n",
       "      <td>XGBClassifier(base_score=0.5, booster='gbtree'...</td>\n",
       "    </tr>\n",
       "  </tbody>\n",
       "</table>\n",
       "<p>80 rows × 7 columns</p>\n",
       "</div>"
      ],
      "text/plain": [
       "    bloom threshold [days]  Pre Bloom instances on dataset  Bloom accuracy  \\\n",
       "0                        1                               3        0.925926   \n",
       "1                        1                               3        0.944444   \n",
       "2                        1                               3        0.462963   \n",
       "3                        1                               3        0.925926   \n",
       "4                        1                               3        0.962963   \n",
       "..                     ...                             ...             ...   \n",
       "74                      10                              13        0.833333   \n",
       "75                      10                              13        0.962963   \n",
       "76                      10                              13        0.962963   \n",
       "77                      10                              13        0.870370   \n",
       "79                      10                              13        0.907407   \n",
       "\n",
       "    Pre Bloom accuracy  No Bloom accuracy  Pre Bloom + Bloom accuracy  \\\n",
       "0             0.000000           0.907216                    0.929825   \n",
       "1             0.000000           0.958763                    0.929825   \n",
       "2             0.333333           0.711340                    0.912281   \n",
       "3             0.000000           0.958763                    0.912281   \n",
       "4             0.000000           0.958763                    0.947368   \n",
       "..                 ...                ...                         ...   \n",
       "74            0.153846           0.965517                    0.835821   \n",
       "75            0.000000           0.931034                    0.880597   \n",
       "76            0.000000           0.965517                    0.850746   \n",
       "77            0.307692           0.954023                    0.895522   \n",
       "79            0.076923           0.954023                    0.865672   \n",
       "\n",
       "                                                Model  \n",
       "0   DecisionTreeClassifier(max_depth=3, random_sta...  \n",
       "1   Pipeline(steps=[('standardscaler', StandardSca...  \n",
       "2                                        GaussianNB()  \n",
       "3   Pipeline(steps=[('standardscaler', StandardSca...  \n",
       "4   RandomForestClassifier(max_depth=3, random_sta...  \n",
       "..                                                ...  \n",
       "74                                       GaussianNB()  \n",
       "75  Pipeline(steps=[('standardscaler', StandardSca...  \n",
       "76  RandomForestClassifier(max_depth=3, random_sta...  \n",
       "77  GradientBoostingClassifier(learning_rate=1.0, ...  \n",
       "79  XGBClassifier(base_score=0.5, booster='gbtree'...  \n",
       "\n",
       "[80 rows x 7 columns]"
      ]
     },
     "execution_count": 23,
     "metadata": {},
     "output_type": "execute_result"
    }
   ],
   "source": [
    "forecast_metrics.sort_values(by=['bloom threshold [days]'], ascending=True)"
   ]
  }
 ],
 "metadata": {
  "kernelspec": {
   "display_name": "cyano_venv",
   "language": "python",
   "name": "cyano_venv"
  },
  "language_info": {
   "codemirror_mode": {
    "name": "ipython",
    "version": 3
   },
   "file_extension": ".py",
   "mimetype": "text/x-python",
   "name": "python",
   "nbconvert_exporter": "python",
   "pygments_lexer": "ipython3",
   "version": "3.6.13"
  }
 },
 "nbformat": 4,
 "nbformat_minor": 5
}

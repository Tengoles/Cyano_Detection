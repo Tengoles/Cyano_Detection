{
 "cells": [
  {
   "cell_type": "code",
   "execution_count": 2,
   "id": "9c702e9c",
   "metadata": {},
   "outputs": [
    {
     "name": "stderr",
     "output_type": "stream",
     "text": [
      "WARNING: IERSStaleWarning: leap-second file is expired. [astropy.utils.iers.iers]\n",
      "WARNING:astropy:IERSStaleWarning: leap-second file is expired.\n"
     ]
    }
   ],
   "source": [
    "import os\n",
    "import sys\n",
    "sys.path.append(\"../\")\n",
    "import csv\n",
    "import json\n",
    "from datetime import datetime, timedelta\n",
    "import pandas as pd\n",
    "import numpy as np\n",
    "import matplotlib.pyplot as plt\n",
    "from sklearn.metrics import accuracy_score, precision_score, recall_score, confusion_matrix\n",
    "import seaborn as sns\n",
    "\n",
    "import settings\n",
    "from prediction_dataset import PredictionDataset\n",
    "from process_sentinel3 import OLCIdataGenerator"
   ]
  },
  {
   "cell_type": "code",
   "execution_count": 3,
   "id": "978c8e4e",
   "metadata": {},
   "outputs": [],
   "source": [
    "processed_data_path = settings.processed_data_path\n",
    "\n",
    "DATE_FORMAT = '%Y-%m-%d'\n",
    "\n",
    "ndci_data_path = os.path.join(settings.final_data_path, \"kmeans_3\", \"ndci_data.csv\")\n",
    "precipitation_data_path = os.path.join(settings.final_data_path, \"precipitation\", \"precipitation.csv\")\n",
    "wind_data_path = os.path.join(settings.final_data_path, \"wind_data.csv\")\n",
    "water_temperature_data_path = os.path.join(settings.final_data_path, \"water_temperature.csv\")\n",
    "algae_gt_path = os.path.join(settings.final_data_path, \"algae_gt.csv\")\n",
    "ta_ose_path = os.path.join(settings.final_data_path, \"agua_open_data(1).csv\")\n",
    "s3_brrs_path = os.path.join(settings.final_data_path, \"s3_brrs.json\")\n",
    "\n",
    "raw_cyano_gt_path = os.path.join(settings.final_data_path, \"MUESTREOS_SEMANALES_2016-2017-2018-2019-2020.xls\")\n",
    "\n",
    "bloom_thresholds = {\n",
    "                    \"MALLORQUINA\":7000,\n",
    "                    \"ARROYO SAUCE\": 7000,\n",
    "                    \"SAUCE NORTE\": 7000,\n",
    "                    \"SAUCE SUR\": 7000,\n",
    "                    \"CISNES\": 7000,\n",
    "                    \"POTRERO\": 7000,\n",
    "                    \"TA\":3000\n",
    "                   }\n",
    "\n",
    "sampling_points_coords = {\"SAUCE NORTE\": [-34.795398, -55.047355],\n",
    "                          \"SAUCE SUR\": [-34.843127, -55.064624],\n",
    "                          \"TA\": [-34.829670, -55.049758]}"
   ]
  },
  {
   "cell_type": "code",
   "execution_count": 4,
   "id": "6db756ea",
   "metadata": {},
   "outputs": [
    {
     "name": "stderr",
     "output_type": "stream",
     "text": [
      "../prediction_dataset.py:156: SettingWithCopyWarning: \n",
      "A value is trying to be set on a copy of a slice from a DataFrame.\n",
      "Try using .loc[row_indexer,col_indexer] = value instead\n",
      "\n",
      "See the caveats in the documentation: https://pandas.pydata.org/pandas-docs/stable/user_guide/indexing.html#returning-a-view-versus-a-copy\n",
      "  location_data_df[\"label\"] = days_before_bloom_col\n"
     ]
    }
   ],
   "source": [
    "dataset = PredictionDataset(wind_data_path, water_temperature_data_path, precipitation_data_path, \n",
    "                            ndci_data_path, algae_gt_path, s3_brrs_path, bloom_thresholds=bloom_thresholds)"
   ]
  },
  {
   "cell_type": "markdown",
   "id": "468475e7",
   "metadata": {},
   "source": [
    "## Blooming detection with MPH"
   ]
  },
  {
   "cell_type": "code",
   "execution_count": 5,
   "id": "83c56bc8",
   "metadata": {},
   "outputs": [],
   "source": [
    "# create generator that yields instances of OLCIdata from dates with ground truth\n",
    "# data corrupted by clouds is skipped\n",
    "data_generator = OLCIdataGenerator(processed_data_path, DATE_FORMAT, skip_invalid=True)\n",
    "\n",
    "y_gt = {\"SAUCE NORTE\": [],\n",
    "        \"SAUCE SUR\": [],\n",
    "        \"TA\": []}\n",
    "\n",
    "y_pred = {\"SAUCE NORTE\": [],\n",
    "        \"SAUCE SUR\": [],\n",
    "        \"TA\": []}\n",
    "\n",
    "predicted_dates = {\"SAUCE NORTE\": [],\n",
    "                    \"SAUCE SUR\": [],\n",
    "                    \"TA\": []}\n",
    "\n",
    "for olci_data in data_generator:\n",
    "    # get gt data for same date as OLCI data\n",
    "    day_fico_df = dataset.algae_gt[dataset.algae_gt[\"date\"] == olci_data.date.date()]\n",
    "    # iterate over rows, skipping unwanted gt data\n",
    "    for index, row in day_fico_df.iterrows():\n",
    "        if not (row[\"location\"] in y_gt):\n",
    "            continue\n",
    "            \n",
    "        olci_data.create_sparse_mask([sampling_points_coords[row[\"location\"]]])\n",
    "        \n",
    "        immersed_mask = olci_data.mph.immersed_cyanobacteria*olci_data.mask\n",
    "        count_immersed = np.count_nonzero(immersed_mask)\n",
    "        \n",
    "        floating_mask = olci_data.mph.floating_cyanobacteria*olci_data.mask\n",
    "        count_floating = np.count_nonzero(olci_data.mph.floating_cyanobacteria*olci_data.mask)\n",
    "        \n",
    "        count_total = count_immersed + count_floating\n",
    "\n",
    "        y_pred[row[\"location\"]].append(\"Bloom\" if count_total > 0 else \"No Bloom\")\n",
    "        y_gt[row[\"location\"]].append(row[\"label\"])\n",
    "        predicted_dates[row[\"location\"]].append(olci_data.date)"
   ]
  },
  {
   "cell_type": "code",
   "execution_count": 6,
   "id": "45c9e7ed",
   "metadata": {},
   "outputs": [
    {
     "name": "stdout",
     "output_type": "stream",
     "text": [
      "SAUCE NORTE\n",
      "Accuracy: 0.85\n",
      "Precision: 0.6\n",
      "Recall: 1.0\n",
      "FPR: 0.0\n",
      "FNR: 0.2\n"
     ]
    },
    {
     "data": {
      "image/png": "[encoded data removed]",
      "text/plain": [
       "<Figure size 432x288 with 2 Axes>"
      ]
     },
     "metadata": {
      "needs_background": "light"
     },
     "output_type": "display_data"
    },
    {
     "name": "stdout",
     "output_type": "stream",
     "text": [
      "SAUCE SUR\n",
      "Accuracy: 0.88\n",
      "Precision: 0.73\n",
      "Recall: 1.0\n",
      "FPR: 0.0\n",
      "FNR: 0.17\n"
     ]
    },
    {
     "data": {
      "image/png": "[encoded data removed]",
      "text/plain": [
       "<Figure size 432x288 with 2 Axes>"
      ]
     },
     "metadata": {
      "needs_background": "light"
     },
     "output_type": "display_data"
    },
    {
     "name": "stdout",
     "output_type": "stream",
     "text": [
      "TA\n",
      "Accuracy: 0.86\n",
      "Precision: 0.77\n",
      "Recall: 1.0\n",
      "FPR: 0.0\n",
      "FNR: 0.26\n"
     ]
    },
    {
     "data": {
      "image/png": "[encoded data removed]",
      "text/plain": [
       "<Figure size 432x288 with 2 Axes>"
      ]
     },
     "metadata": {
      "needs_background": "light"
     },
     "output_type": "display_data"
    }
   ],
   "source": [
    "def metrics(gt, pred, labels=[\"No Bloom\", \"Bloom\"]):\n",
    "    metrics = {}\n",
    "    metrics[\"accuracy\"] = round(accuracy_score(gt, pred), 2)\n",
    "    metrics[\"precision\"] = round(precision_score(gt, pred, pos_label=labels[1]), 2)\n",
    "    metrics[\"recall\"] = round(recall_score(gt, pred, pos_label=labels[1]), 2)\n",
    "    metrics[\"confusion matrix\"] = confusion_matrix(gt, pred, labels=labels)\n",
    "    metrics[\"false positive rate\"] = round(metrics[\"confusion matrix\"][1, 0]/(metrics[\"confusion matrix\"][1, 1] + metrics[\"confusion matrix\"][1, 0]), 2)\n",
    "    metrics[\"false negative rate\"] = round(metrics[\"confusion matrix\"][0, 1]/(metrics[\"confusion matrix\"][0, 0] + metrics[\"confusion matrix\"][0, 1]), 2)\n",
    "    \n",
    "    return metrics\n",
    "\n",
    "for location in list(y_gt.keys()):\n",
    "    print(location)\n",
    "    m = metrics(y_gt[location], y_pred[location])\n",
    "    print(\"Accuracy:\", m[\"accuracy\"])\n",
    "    print(\"Precision:\", m[\"precision\"])\n",
    "    print(\"Recall:\", m[\"recall\"])\n",
    "    print(\"FPR:\", m[\"false positive rate\"])\n",
    "    print(\"FNR:\", m[\"false negative rate\"])\n",
    "    sns.heatmap(m[\"confusion matrix\"], annot=True)\n",
    "    plt.show()"
   ]
  },
  {
   "cell_type": "markdown",
   "id": "49d09abf",
   "metadata": {},
   "source": [
    "## Bloom detection using MPH + rain, temperature and wind"
   ]
  },
  {
   "cell_type": "code",
   "execution_count": 7,
   "id": "e7d7cb60",
   "metadata": {},
   "outputs": [
    {
     "data": {
      "text/html": [
       "<div>\n",
       "<style scoped>\n",
       "    .dataframe tbody tr th:only-of-type {\n",
       "        vertical-align: middle;\n",
       "    }\n",
       "\n",
       "    .dataframe tbody tr th {\n",
       "        vertical-align: top;\n",
       "    }\n",
       "\n",
       "    .dataframe thead th {\n",
       "        text-align: right;\n",
       "    }\n",
       "</style>\n",
       "<table border=\"1\" class=\"dataframe\">\n",
       "  <thead>\n",
       "    <tr style=\"text-align: right;\">\n",
       "      <th></th>\n",
       "      <th>date</th>\n",
       "      <th>location</th>\n",
       "      <th>fico</th>\n",
       "      <th>chl</th>\n",
       "      <th>label</th>\n",
       "    </tr>\n",
       "  </thead>\n",
       "  <tbody>\n",
       "    <tr>\n",
       "      <th>0</th>\n",
       "      <td>2015-12-30</td>\n",
       "      <td>MALLORQUINA</td>\n",
       "      <td>5032.50</td>\n",
       "      <td>10.00</td>\n",
       "      <td>No Bloom</td>\n",
       "    </tr>\n",
       "    <tr>\n",
       "      <th>1</th>\n",
       "      <td>2015-12-30</td>\n",
       "      <td>ARROYO SAUCE</td>\n",
       "      <td>5345.50</td>\n",
       "      <td>21.80</td>\n",
       "      <td>No Bloom</td>\n",
       "    </tr>\n",
       "    <tr>\n",
       "      <th>2</th>\n",
       "      <td>2015-12-30</td>\n",
       "      <td>SAUCE NORTE</td>\n",
       "      <td>4282.50</td>\n",
       "      <td>7.50</td>\n",
       "      <td>No Bloom</td>\n",
       "    </tr>\n",
       "    <tr>\n",
       "      <th>3</th>\n",
       "      <td>2015-12-30</td>\n",
       "      <td>SAUCE SUR</td>\n",
       "      <td>5388.00</td>\n",
       "      <td>7.50</td>\n",
       "      <td>No Bloom</td>\n",
       "    </tr>\n",
       "    <tr>\n",
       "      <th>4</th>\n",
       "      <td>2015-12-30</td>\n",
       "      <td>CISNES</td>\n",
       "      <td>9082.50</td>\n",
       "      <td>18.45</td>\n",
       "      <td>Bloom</td>\n",
       "    </tr>\n",
       "    <tr>\n",
       "      <th>...</th>\n",
       "      <td>...</td>\n",
       "      <td>...</td>\n",
       "      <td>...</td>\n",
       "      <td>...</td>\n",
       "      <td>...</td>\n",
       "    </tr>\n",
       "    <tr>\n",
       "      <th>685</th>\n",
       "      <td>2020-10-31</td>\n",
       "      <td>TA</td>\n",
       "      <td>1083.00</td>\n",
       "      <td>NaN</td>\n",
       "      <td>No Bloom</td>\n",
       "    </tr>\n",
       "    <tr>\n",
       "      <th>686</th>\n",
       "      <td>2020-11-01</td>\n",
       "      <td>TA</td>\n",
       "      <td>47.00</td>\n",
       "      <td>NaN</td>\n",
       "      <td>No Bloom</td>\n",
       "    </tr>\n",
       "    <tr>\n",
       "      <th>687</th>\n",
       "      <td>2020-11-02</td>\n",
       "      <td>TA</td>\n",
       "      <td>5.96</td>\n",
       "      <td>NaN</td>\n",
       "      <td>No Bloom</td>\n",
       "    </tr>\n",
       "    <tr>\n",
       "      <th>688</th>\n",
       "      <td>2020-11-05</td>\n",
       "      <td>TA</td>\n",
       "      <td>9.06</td>\n",
       "      <td>NaN</td>\n",
       "      <td>No Bloom</td>\n",
       "    </tr>\n",
       "    <tr>\n",
       "      <th>689</th>\n",
       "      <td>2021-02-04</td>\n",
       "      <td>TA</td>\n",
       "      <td>1.77</td>\n",
       "      <td>NaN</td>\n",
       "      <td>No Bloom</td>\n",
       "    </tr>\n",
       "  </tbody>\n",
       "</table>\n",
       "<p>690 rows × 5 columns</p>\n",
       "</div>"
      ],
      "text/plain": [
       "           date      location     fico    chl     label\n",
       "0    2015-12-30   MALLORQUINA  5032.50  10.00  No Bloom\n",
       "1    2015-12-30  ARROYO SAUCE  5345.50  21.80  No Bloom\n",
       "2    2015-12-30   SAUCE NORTE  4282.50   7.50  No Bloom\n",
       "3    2015-12-30     SAUCE SUR  5388.00   7.50  No Bloom\n",
       "4    2015-12-30        CISNES  9082.50  18.45     Bloom\n",
       "..          ...           ...      ...    ...       ...\n",
       "685  2020-10-31            TA  1083.00    NaN  No Bloom\n",
       "686  2020-11-01            TA    47.00    NaN  No Bloom\n",
       "687  2020-11-02            TA     5.96    NaN  No Bloom\n",
       "688  2020-11-05            TA     9.06    NaN  No Bloom\n",
       "689  2021-02-04            TA     1.77    NaN  No Bloom\n",
       "\n",
       "[690 rows x 5 columns]"
      ]
     },
     "execution_count": 7,
     "metadata": {},
     "output_type": "execute_result"
    }
   ],
   "source": [
    "dataset.algae_gt"
   ]
  },
  {
   "cell_type": "code",
   "execution_count": 8,
   "id": "64b118e8",
   "metadata": {},
   "outputs": [
    {
     "data": {
      "text/html": [
       "<div>\n",
       "<style scoped>\n",
       "    .dataframe tbody tr th:only-of-type {\n",
       "        vertical-align: middle;\n",
       "    }\n",
       "\n",
       "    .dataframe tbody tr th {\n",
       "        vertical-align: top;\n",
       "    }\n",
       "\n",
       "    .dataframe thead th {\n",
       "        text-align: right;\n",
       "    }\n",
       "</style>\n",
       "<table border=\"1\" class=\"dataframe\">\n",
       "  <thead>\n",
       "    <tr style=\"text-align: right;\">\n",
       "      <th></th>\n",
       "      <th>date</th>\n",
       "      <th>wind</th>\n",
       "      <th>temperature</th>\n",
       "      <th>precipitation</th>\n",
       "    </tr>\n",
       "  </thead>\n",
       "  <tbody>\n",
       "    <tr>\n",
       "      <th>0</th>\n",
       "      <td>2020-12-01</td>\n",
       "      <td>4.5</td>\n",
       "      <td>17.0</td>\n",
       "      <td>0.00</td>\n",
       "    </tr>\n",
       "    <tr>\n",
       "      <th>1</th>\n",
       "      <td>2020-11-30</td>\n",
       "      <td>14.5</td>\n",
       "      <td>17.0</td>\n",
       "      <td>0.00</td>\n",
       "    </tr>\n",
       "    <tr>\n",
       "      <th>2</th>\n",
       "      <td>2020-11-29</td>\n",
       "      <td>13.5</td>\n",
       "      <td>21.0</td>\n",
       "      <td>3.51</td>\n",
       "    </tr>\n",
       "    <tr>\n",
       "      <th>3</th>\n",
       "      <td>2020-11-28</td>\n",
       "      <td>12.0</td>\n",
       "      <td>21.5</td>\n",
       "      <td>6.78</td>\n",
       "    </tr>\n",
       "    <tr>\n",
       "      <th>4</th>\n",
       "      <td>2020-11-27</td>\n",
       "      <td>9.0</td>\n",
       "      <td>18.0</td>\n",
       "      <td>0.00</td>\n",
       "    </tr>\n",
       "  </tbody>\n",
       "</table>\n",
       "</div>"
      ],
      "text/plain": [
       "        date  wind  temperature  precipitation\n",
       "0 2020-12-01   4.5         17.0           0.00\n",
       "1 2020-11-30  14.5         17.0           0.00\n",
       "2 2020-11-29  13.5         21.0           3.51\n",
       "3 2020-11-28  12.0         21.5           6.78\n",
       "4 2020-11-27   9.0         18.0           0.00"
      ]
     },
     "execution_count": 8,
     "metadata": {},
     "output_type": "execute_result"
    }
   ],
   "source": [
    "sample_date = datetime(2020, 12, 1)\n",
    "dataset.get_historic_data(sample_date, 5)[[\"date\", \"wind\", \"temperature\", \"precipitation\"]]"
   ]
  },
  {
   "cell_type": "markdown",
   "id": "d36ccd82",
   "metadata": {},
   "source": [
    "### Measure correlations"
   ]
  },
  {
   "cell_type": "code",
   "execution_count": 9,
   "id": "86103287",
   "metadata": {},
   "outputs": [
    {
     "name": "stdout",
     "output_type": "stream",
     "text": [
      "1 days accumulation\n",
      "precipitation_sum ----> -0.01874771406542977\n",
      "precipitation_min ----> -0.0007145091478845336\n",
      "precipitation_max ----> -0.0007145091478845336\n",
      "precipitation_mean ----> -0.0007145091478845336\n",
      "temperature_sum ----> -0.2852300932690982\n",
      "temperature_min ----> -0.2852300932690982\n",
      "temperature_max ----> -0.2852300932690982\n",
      "temperature_mean ----> -0.2852300932690982\n",
      "wind_sum ----> 0.08200468747022889\n",
      "wind_min ----> 0.08200468747022889\n",
      "wind_max ----> 0.08200468747022889\n",
      "wind_mean ----> 0.08200468747022889\n",
      "////////////\n",
      "2 days accumulation\n",
      "precipitation_sum ----> -0.07340505922413579\n",
      "precipitation_min ----> 0.040011605972809026\n",
      "precipitation_max ----> -0.08330499695641451\n",
      "precipitation_mean ----> -0.05959169987648199\n",
      "temperature_sum ----> -0.29060607532422444\n",
      "temperature_min ----> -0.2822980383852778\n",
      "temperature_max ----> -0.2906992382141217\n",
      "temperature_mean ----> -0.29060607532422444\n",
      "wind_sum ----> 0.07780353920733676\n",
      "wind_min ----> 0.0203439511175491\n",
      "wind_max ----> 0.11033638741983696\n",
      "wind_mean ----> 0.07780353920733676\n",
      "////////////\n",
      "3 days accumulation\n",
      "precipitation_sum ----> -0.14914779432668554\n",
      "precipitation_min ----> -0.09312479386333491\n",
      "precipitation_max ----> -0.14888047671574273\n",
      "precipitation_mean ----> -0.12863926965271993\n",
      "temperature_sum ----> -0.2946937157118979\n",
      "temperature_min ----> -0.2518873120915107\n",
      "temperature_max ----> -0.3164033373551215\n",
      "temperature_mean ----> -0.29469371571189773\n",
      "wind_sum ----> 0.15153295000173994\n",
      "wind_min ----> -0.07819637672653679\n",
      "wind_max ----> 0.2610673202856654\n",
      "wind_mean ----> 0.15153295000173989\n",
      "////////////\n",
      "4 days accumulation\n",
      "precipitation_sum ----> -0.16916844622447247\n",
      "precipitation_min ----> -0.06384005419251845\n",
      "precipitation_max ----> -0.16682118412979682\n",
      "precipitation_mean ----> -0.13324251176087135\n",
      "temperature_sum ----> -0.3011669274415188\n",
      "temperature_min ----> -0.2566301760046186\n",
      "temperature_max ----> -0.34502491022247783\n",
      "temperature_mean ----> -0.3011669274415188\n",
      "wind_sum ----> 0.23536092501150493\n",
      "wind_min ----> -0.032512295028242426\n",
      "wind_max ----> 0.32601346624763133\n",
      "wind_mean ----> 0.23536092501150493\n",
      "////////////\n",
      "5 days accumulation\n",
      "precipitation_sum ----> -0.15532699884906498\n",
      "precipitation_min ----> 0.023561765759729958\n",
      "precipitation_max ----> -0.13836182262877303\n",
      "precipitation_mean ----> -0.12593874754903275\n",
      "temperature_sum ----> -0.3049559855743481\n",
      "temperature_min ----> -0.25348285877344007\n",
      "temperature_max ----> -0.34921391233461757\n",
      "temperature_mean ----> -0.30495598557434817\n",
      "wind_sum ----> 0.3162507273741304\n",
      "wind_min ----> -0.0135632770771958\n",
      "wind_max ----> 0.4192086449455311\n",
      "wind_mean ----> 0.31625072737413035\n",
      "////////////\n",
      "6 days accumulation\n",
      "precipitation_sum ----> -0.15887783809698425\n",
      "precipitation_min ----> nan\n",
      "precipitation_max ----> -0.14125266504461223\n",
      "precipitation_mean ----> -0.13103040657625706\n",
      "temperature_sum ----> -0.30900661346864716\n",
      "temperature_min ----> -0.23357665889560275\n",
      "temperature_max ----> -0.36705979909590086\n",
      "temperature_mean ----> -0.30900661346864716\n",
      "wind_sum ----> 0.3634073935831082\n",
      "wind_min ----> -0.0034401184072051275\n",
      "wind_max ----> 0.4575251084498555\n",
      "wind_mean ----> 0.3634073935831079\n",
      "////////////\n",
      "7 days accumulation\n",
      "precipitation_sum ----> -0.14860918544405702\n",
      "precipitation_min ----> nan\n",
      "precipitation_max ----> -0.13752368890660338\n",
      "precipitation_mean ----> -0.12731036201972792\n",
      "temperature_sum ----> -0.3065431370766333\n",
      "temperature_min ----> -0.22305209001001486\n",
      "temperature_max ----> -0.35927420761217327\n",
      "temperature_mean ----> -0.3065431370766332\n",
      "wind_sum ----> 0.35209479706008945\n",
      "wind_min ----> -0.0897486742847194\n",
      "wind_max ----> 0.4655851804523067\n",
      "wind_mean ----> 0.35209479706008934\n",
      "////////////\n",
      "8 days accumulation\n",
      "precipitation_sum ----> -0.14076095460710422\n",
      "precipitation_min ----> nan\n",
      "precipitation_max ----> -0.13391518137363415\n",
      "precipitation_mean ----> -0.12273985050384222\n",
      "temperature_sum ----> -0.30558700148671086\n",
      "temperature_min ----> -0.2200104598667602\n",
      "temperature_max ----> -0.3633773671799527\n",
      "temperature_mean ----> -0.30558700148671086\n",
      "wind_sum ----> 0.34283304414372856\n",
      "wind_min ----> -0.11175313149023809\n",
      "wind_max ----> 0.47858035193304166\n",
      "wind_mean ----> 0.34283304414372856\n",
      "////////////\n",
      "9 days accumulation\n",
      "precipitation_sum ----> -0.14944222103460394\n",
      "precipitation_min ----> nan\n",
      "precipitation_max ----> -0.13974217693485538\n",
      "precipitation_mean ----> -0.13353020811972116\n",
      "temperature_sum ----> -0.30827547275047645\n",
      "temperature_min ----> -0.22029107404086007\n",
      "temperature_max ----> -0.38011474682735324\n",
      "temperature_mean ----> -0.30827547275047656\n",
      "wind_sum ----> 0.3747140320460931\n",
      "wind_min ----> -0.10859957264113677\n",
      "wind_max ----> 0.4974825722534988\n",
      "wind_mean ----> 0.3747140320460932\n",
      "////////////\n"
     ]
    }
   ],
   "source": [
    "from collections import defaultdict\n",
    "\n",
    "infinite_defaultdict = lambda: defaultdict(infinite_defaultdict)\n",
    "correlations = infinite_defaultdict() \n",
    "\n",
    "accumulation_methods = [\"sum\", \"min\", \"max\", \"mean\"]\n",
    "# try to find correlations accumulating data from 1 to 9 days before the dates with GT\n",
    "for days_before in range(1, 10, 1):\n",
    "    accumulation_data = []\n",
    "    for index, row in dataset.algae_gt.iterrows():\n",
    "        if row[\"location\"] not in [\"SAUCE NORTE\", \"SAUCE SUR\", \"TA\"]:\n",
    "            continue\n",
    "\n",
    "        row_date = datetime(row[\"date\"].year, row[\"date\"].month, row[\"date\"].day, 0, 0, 0)\n",
    "        historic_data = dataset.get_historic_data(row_date, days_before)\n",
    "\n",
    "        if len(historic_data) == 0: continue\n",
    "\n",
    "        item = {\"date\": row[\"date\"], \"label\": row[\"label\"]}\n",
    "        for m in accumulation_methods:\n",
    "            item[\"precipitation_\" + m] = getattr(historic_data[\"precipitation\"], m)()\n",
    "            item[\"temperature_\" + m] = getattr(historic_data[\"temperature\"], m)()\n",
    "            item[\"wind_\" + m] = getattr(historic_data[\"wind\"], m)()\n",
    "        accumulation_data.append(item)\n",
    "    \n",
    "    accumulation_df = pd.DataFrame(accumulation_data)\n",
    "    accumulation_df = accumulation_df[accumulation_df[\"date\"] >= datetime(2018, 11, 1, 0, 0).date()]\n",
    "    accumulation_df[\"numeric label\"] = accumulation_df[\"label\"].replace(\"No Bloom\", 0)\n",
    "    accumulation_df[\"numeric label\"] = accumulation_df[\"numeric label\"].replace(\"Bloom\", 1)\n",
    "    \n",
    "    print(f\"{days_before} days accumulation\")\n",
    "    for d in [\"precipitation\", \"temperature\", \"wind\"]:\n",
    "        for m in accumulation_methods:\n",
    "            accumulation_dataname = f\"{d}_{m}\"\n",
    "            accumulation_correlation = accumulation_df['numeric label'].corr(accumulation_df[accumulation_dataname])\n",
    "            print(f\"{accumulation_dataname} ----> {accumulation_correlation}\")\n",
    "            correlations[d][days_before][m] = accumulation_correlation\n",
    "    print(\"////////////\")"
   ]
  },
  {
   "cell_type": "code",
   "execution_count": 10,
   "id": "58145655",
   "metadata": {},
   "outputs": [
    {
     "data": {
      "text/html": [
       "<div>\n",
       "<style scoped>\n",
       "    .dataframe tbody tr th:only-of-type {\n",
       "        vertical-align: middle;\n",
       "    }\n",
       "\n",
       "    .dataframe tbody tr th {\n",
       "        vertical-align: top;\n",
       "    }\n",
       "\n",
       "    .dataframe thead th {\n",
       "        text-align: right;\n",
       "    }\n",
       "</style>\n",
       "<table border=\"1\" class=\"dataframe\">\n",
       "  <thead>\n",
       "    <tr style=\"text-align: right;\">\n",
       "      <th></th>\n",
       "      <th>date</th>\n",
       "      <th>label</th>\n",
       "      <th>precipitation_sum</th>\n",
       "      <th>temperature_sum</th>\n",
       "      <th>wind_sum</th>\n",
       "      <th>precipitation_min</th>\n",
       "      <th>temperature_min</th>\n",
       "      <th>wind_min</th>\n",
       "      <th>precipitation_max</th>\n",
       "      <th>temperature_max</th>\n",
       "      <th>wind_max</th>\n",
       "      <th>precipitation_mean</th>\n",
       "      <th>temperature_mean</th>\n",
       "      <th>wind_mean</th>\n",
       "      <th>numeric label</th>\n",
       "    </tr>\n",
       "  </thead>\n",
       "  <tbody>\n",
       "    <tr>\n",
       "      <th>92</th>\n",
       "      <td>2018-11-13</td>\n",
       "      <td>No Bloom</td>\n",
       "      <td>149.440001</td>\n",
       "      <td>179.5</td>\n",
       "      <td>80.5</td>\n",
       "      <td>0.0</td>\n",
       "      <td>17.5</td>\n",
       "      <td>5.5</td>\n",
       "      <td>73.440002</td>\n",
       "      <td>22.5</td>\n",
       "      <td>11.5</td>\n",
       "      <td>16.604445</td>\n",
       "      <td>19.944444</td>\n",
       "      <td>8.944444</td>\n",
       "      <td>0</td>\n",
       "    </tr>\n",
       "    <tr>\n",
       "      <th>93</th>\n",
       "      <td>2018-11-13</td>\n",
       "      <td>No Bloom</td>\n",
       "      <td>149.440001</td>\n",
       "      <td>179.5</td>\n",
       "      <td>80.5</td>\n",
       "      <td>0.0</td>\n",
       "      <td>17.5</td>\n",
       "      <td>5.5</td>\n",
       "      <td>73.440002</td>\n",
       "      <td>22.5</td>\n",
       "      <td>11.5</td>\n",
       "      <td>16.604445</td>\n",
       "      <td>19.944444</td>\n",
       "      <td>8.944444</td>\n",
       "      <td>0</td>\n",
       "    </tr>\n",
       "    <tr>\n",
       "      <th>94</th>\n",
       "      <td>2018-11-20</td>\n",
       "      <td>No Bloom</td>\n",
       "      <td>39.560000</td>\n",
       "      <td>170.0</td>\n",
       "      <td>120.5</td>\n",
       "      <td>0.0</td>\n",
       "      <td>15.5</td>\n",
       "      <td>7.5</td>\n",
       "      <td>26.469999</td>\n",
       "      <td>21.0</td>\n",
       "      <td>20.5</td>\n",
       "      <td>4.395556</td>\n",
       "      <td>18.888889</td>\n",
       "      <td>13.388889</td>\n",
       "      <td>0</td>\n",
       "    </tr>\n",
       "    <tr>\n",
       "      <th>95</th>\n",
       "      <td>2018-11-20</td>\n",
       "      <td>No Bloom</td>\n",
       "      <td>39.560000</td>\n",
       "      <td>170.0</td>\n",
       "      <td>120.5</td>\n",
       "      <td>0.0</td>\n",
       "      <td>15.5</td>\n",
       "      <td>7.5</td>\n",
       "      <td>26.469999</td>\n",
       "      <td>21.0</td>\n",
       "      <td>20.5</td>\n",
       "      <td>4.395556</td>\n",
       "      <td>18.888889</td>\n",
       "      <td>13.388889</td>\n",
       "      <td>0</td>\n",
       "    </tr>\n",
       "    <tr>\n",
       "      <th>96</th>\n",
       "      <td>2018-11-30</td>\n",
       "      <td>No Bloom</td>\n",
       "      <td>8.780000</td>\n",
       "      <td>171.0</td>\n",
       "      <td>108.5</td>\n",
       "      <td>0.0</td>\n",
       "      <td>16.0</td>\n",
       "      <td>4.5</td>\n",
       "      <td>4.080000</td>\n",
       "      <td>24.0</td>\n",
       "      <td>17.5</td>\n",
       "      <td>0.975556</td>\n",
       "      <td>19.000000</td>\n",
       "      <td>12.055556</td>\n",
       "      <td>0</td>\n",
       "    </tr>\n",
       "    <tr>\n",
       "      <th>...</th>\n",
       "      <td>...</td>\n",
       "      <td>...</td>\n",
       "      <td>...</td>\n",
       "      <td>...</td>\n",
       "      <td>...</td>\n",
       "      <td>...</td>\n",
       "      <td>...</td>\n",
       "      <td>...</td>\n",
       "      <td>...</td>\n",
       "      <td>...</td>\n",
       "      <td>...</td>\n",
       "      <td>...</td>\n",
       "      <td>...</td>\n",
       "      <td>...</td>\n",
       "      <td>...</td>\n",
       "    </tr>\n",
       "    <tr>\n",
       "      <th>348</th>\n",
       "      <td>2020-10-31</td>\n",
       "      <td>No Bloom</td>\n",
       "      <td>13.800000</td>\n",
       "      <td>135.0</td>\n",
       "      <td>90.0</td>\n",
       "      <td>0.0</td>\n",
       "      <td>11.5</td>\n",
       "      <td>5.5</td>\n",
       "      <td>8.770000</td>\n",
       "      <td>20.0</td>\n",
       "      <td>19.0</td>\n",
       "      <td>1.533333</td>\n",
       "      <td>15.000000</td>\n",
       "      <td>10.000000</td>\n",
       "      <td>0</td>\n",
       "    </tr>\n",
       "    <tr>\n",
       "      <th>349</th>\n",
       "      <td>2020-11-01</td>\n",
       "      <td>No Bloom</td>\n",
       "      <td>5.030000</td>\n",
       "      <td>132.0</td>\n",
       "      <td>90.0</td>\n",
       "      <td>0.0</td>\n",
       "      <td>11.5</td>\n",
       "      <td>5.5</td>\n",
       "      <td>3.290000</td>\n",
       "      <td>20.0</td>\n",
       "      <td>19.0</td>\n",
       "      <td>0.558889</td>\n",
       "      <td>14.666667</td>\n",
       "      <td>10.000000</td>\n",
       "      <td>0</td>\n",
       "    </tr>\n",
       "    <tr>\n",
       "      <th>350</th>\n",
       "      <td>2020-11-02</td>\n",
       "      <td>No Bloom</td>\n",
       "      <td>5.030000</td>\n",
       "      <td>128.5</td>\n",
       "      <td>89.5</td>\n",
       "      <td>0.0</td>\n",
       "      <td>11.5</td>\n",
       "      <td>5.0</td>\n",
       "      <td>3.290000</td>\n",
       "      <td>20.0</td>\n",
       "      <td>19.0</td>\n",
       "      <td>0.558889</td>\n",
       "      <td>14.277778</td>\n",
       "      <td>9.944444</td>\n",
       "      <td>0</td>\n",
       "    </tr>\n",
       "    <tr>\n",
       "      <th>351</th>\n",
       "      <td>2020-11-05</td>\n",
       "      <td>No Bloom</td>\n",
       "      <td>0.000000</td>\n",
       "      <td>124.0</td>\n",
       "      <td>75.0</td>\n",
       "      <td>0.0</td>\n",
       "      <td>11.5</td>\n",
       "      <td>5.0</td>\n",
       "      <td>0.000000</td>\n",
       "      <td>16.0</td>\n",
       "      <td>15.0</td>\n",
       "      <td>0.000000</td>\n",
       "      <td>13.777778</td>\n",
       "      <td>8.333333</td>\n",
       "      <td>0</td>\n",
       "    </tr>\n",
       "    <tr>\n",
       "      <th>352</th>\n",
       "      <td>2021-02-04</td>\n",
       "      <td>No Bloom</td>\n",
       "      <td>50.469998</td>\n",
       "      <td>195.5</td>\n",
       "      <td>104.0</td>\n",
       "      <td>0.0</td>\n",
       "      <td>20.5</td>\n",
       "      <td>6.5</td>\n",
       "      <td>33.779999</td>\n",
       "      <td>23.5</td>\n",
       "      <td>21.0</td>\n",
       "      <td>5.607778</td>\n",
       "      <td>21.722222</td>\n",
       "      <td>11.555556</td>\n",
       "      <td>0</td>\n",
       "    </tr>\n",
       "  </tbody>\n",
       "</table>\n",
       "<p>261 rows × 15 columns</p>\n",
       "</div>"
      ],
      "text/plain": [
       "           date     label  precipitation_sum  temperature_sum  wind_sum  \\\n",
       "92   2018-11-13  No Bloom         149.440001            179.5      80.5   \n",
       "93   2018-11-13  No Bloom         149.440001            179.5      80.5   \n",
       "94   2018-11-20  No Bloom          39.560000            170.0     120.5   \n",
       "95   2018-11-20  No Bloom          39.560000            170.0     120.5   \n",
       "96   2018-11-30  No Bloom           8.780000            171.0     108.5   \n",
       "..          ...       ...                ...              ...       ...   \n",
       "348  2020-10-31  No Bloom          13.800000            135.0      90.0   \n",
       "349  2020-11-01  No Bloom           5.030000            132.0      90.0   \n",
       "350  2020-11-02  No Bloom           5.030000            128.5      89.5   \n",
       "351  2020-11-05  No Bloom           0.000000            124.0      75.0   \n",
       "352  2021-02-04  No Bloom          50.469998            195.5     104.0   \n",
       "\n",
       "     precipitation_min  temperature_min  wind_min  precipitation_max  \\\n",
       "92                 0.0             17.5       5.5          73.440002   \n",
       "93                 0.0             17.5       5.5          73.440002   \n",
       "94                 0.0             15.5       7.5          26.469999   \n",
       "95                 0.0             15.5       7.5          26.469999   \n",
       "96                 0.0             16.0       4.5           4.080000   \n",
       "..                 ...              ...       ...                ...   \n",
       "348                0.0             11.5       5.5           8.770000   \n",
       "349                0.0             11.5       5.5           3.290000   \n",
       "350                0.0             11.5       5.0           3.290000   \n",
       "351                0.0             11.5       5.0           0.000000   \n",
       "352                0.0             20.5       6.5          33.779999   \n",
       "\n",
       "     temperature_max  wind_max  precipitation_mean  temperature_mean  \\\n",
       "92              22.5      11.5           16.604445         19.944444   \n",
       "93              22.5      11.5           16.604445         19.944444   \n",
       "94              21.0      20.5            4.395556         18.888889   \n",
       "95              21.0      20.5            4.395556         18.888889   \n",
       "96              24.0      17.5            0.975556         19.000000   \n",
       "..               ...       ...                 ...               ...   \n",
       "348             20.0      19.0            1.533333         15.000000   \n",
       "349             20.0      19.0            0.558889         14.666667   \n",
       "350             20.0      19.0            0.558889         14.277778   \n",
       "351             16.0      15.0            0.000000         13.777778   \n",
       "352             23.5      21.0            5.607778         21.722222   \n",
       "\n",
       "     wind_mean  numeric label  \n",
       "92    8.944444              0  \n",
       "93    8.944444              0  \n",
       "94   13.388889              0  \n",
       "95   13.388889              0  \n",
       "96   12.055556              0  \n",
       "..         ...            ...  \n",
       "348  10.000000              0  \n",
       "349  10.000000              0  \n",
       "350   9.944444              0  \n",
       "351   8.333333              0  \n",
       "352  11.555556              0  \n",
       "\n",
       "[261 rows x 15 columns]"
      ]
     },
     "execution_count": 10,
     "metadata": {},
     "output_type": "execute_result"
    }
   ],
   "source": [
    "accumulation_df"
   ]
  },
  {
   "cell_type": "markdown",
   "id": "c5377d8d",
   "metadata": {},
   "source": [
    "### Find best correlations"
   ]
  },
  {
   "cell_type": "code",
   "execution_count": 11,
   "id": "f166274d",
   "metadata": {},
   "outputs": [
    {
     "name": "stdout",
     "output_type": "stream",
     "text": [
      "precipitation\n",
      "[2] days accumulated with ['min']: 0.040011605972809026\n",
      "\n",
      "[4] days accumulated with ['sum']: -0.16916844622447247\n",
      "/////////////////////////////\n",
      "temperature\n",
      "[8] days accumulated with ['min']: -0.2200104598667602\n",
      "\n",
      "[9] days accumulated with ['max']: -0.38011474682735324\n",
      "/////////////////////////////\n",
      "wind\n",
      "[9] days accumulated with ['max']: 0.4974825722534988\n",
      "\n",
      "[8] days accumulated with ['min']: -0.11175313149023809\n",
      "/////////////////////////////\n"
     ]
    }
   ],
   "source": [
    "for data_type in correlations.keys():\n",
    "    print(data_type)\n",
    "    correlations_df = pd.DataFrame(correlations[data_type])\n",
    "    \n",
    "    max_corr = correlations_df.max().max()\n",
    "    min_corr = correlations_df.min().min()\n",
    "    \n",
    "    max_correlation = correlations_df.where(correlations_df==max_corr).dropna(how='all').dropna(axis=1)\n",
    "    min_correlation = correlations_df.where(correlations_df==min_corr).dropna(how='all').dropna(axis=1)\n",
    "    \n",
    "    print(f\"{max_correlation.columns.tolist()} days accumulated with {str(max_correlation.index.tolist())}: {max_corr}\")\n",
    "    print()\n",
    "    print(f\"{min_correlation.columns.tolist()} days accumulated with {min_correlation.index.tolist()}: {min_corr}\")\n",
    "    \n",
    "    print(\"/////////////////////////////\")\n",
    "    "
   ]
  },
  {
   "cell_type": "markdown",
   "id": "1f023c59",
   "metadata": {},
   "source": [
    "## Prediction with MPH indexes"
   ]
  },
  {
   "cell_type": "code",
   "execution_count": 12,
   "id": "c98b3fb6",
   "metadata": {},
   "outputs": [],
   "source": [
    "data_generator = OLCIdataGenerator(processed_data_path, DATE_FORMAT, skip_invalid=True)\n",
    "\n",
    "X = []\n",
    "y = []\n",
    "dates_list = []\n",
    "\n",
    "for olci_data in data_generator:\n",
    "    # get gt data for same date as OLCI data\n",
    "    day_fico_df = dataset.algae_gt[dataset.algae_gt[\"date\"] == olci_data.date.date()]\n",
    "    # iterate over rows, skipping unwanted gt data\n",
    "    for index, row in day_fico_df.iterrows():\n",
    "        if not (row[\"location\"] in [\"SAUCE NORTE\", \"SAUCE SUR\", \"TA\"]):\n",
    "            continue\n",
    "            \n",
    "        dates_list.append(row[\"date\"])\n",
    "            \n",
    "        y.append(row[\"label\"])\n",
    "        \n",
    "        location_coords = sampling_points_coords[row[\"location\"]]\n",
    "        \n",
    "        i, j = olci_data.get_pos_index(location_coords[0], location_coords[1])\n",
    "        \n",
    "        #get a 3x3 grid centered on the sampling location\n",
    "        NDVI = olci_data.mph.NDVI[i-1:i+2, j-1:j+2].mean()\n",
    "        BAIR = olci_data.mph.BAIR[i-1:i+2, j-1:j+2].mean()\n",
    "        SICF = olci_data.mph.SICF[i-1:i+2, j-1:j+2].mean()\n",
    "        SIPF = olci_data.mph.SIPF[i-1:i+2, j-1:j+2].mean()\n",
    "        MPH0 = olci_data.mph.MPH0[i-1:i+2, j-1:j+2].mean()\n",
    "        MPH1 = olci_data.mph.MPH1[i-1:i+2, j-1:j+2].mean()\n",
    "        lambda_max1 = olci_data.mph.lambda_max1[i-1:i+2, j-1:j+2].max()\n",
    "        \n",
    "#         NDVI = olci_data.mph.NDVI[i-1:i+2, j-1:j+2].min()\n",
    "#         BAIR = olci_data.mph.BAIR[i-1:i+2, j-1:j+2].min()\n",
    "#         SICF = olci_data.mph.SICF[i-1:i+2, j-1:j+2].min()\n",
    "#         SIPF = olci_data.mph.SIPF[i-1:i+2, j-1:j+2].min()\n",
    "#         MPH0 = olci_data.mph.MPH0[i-1:i+2, j-1:j+2].min()\n",
    "#         MPH1 = olci_data.mph.MPH1[i-1:i+2, j-1:j+2].min()\n",
    "#         lambda_max1 = olci_data.mph.lambda_max1[i-1:i+2, j-1:j+2].min()\n",
    "\n",
    "#         NDVI = olci_data.mph.NDVI[i, j]\n",
    "#         BAIR = olci_data.mph.BAIR[i, j]\n",
    "#         SICF = olci_data.mph.SICF[i, j]\n",
    "#         SIPF = olci_data.mph.SIPF[i, j]\n",
    "#         MPH0 = olci_data.mph.MPH0[i, j]\n",
    "#         MPH1 = olci_data.mph.MPH1[i, j]\n",
    "#         lambda_max1 = olci_data.mph.lambda_max1[i, j]\n",
    "        \n",
    "#         NDVI = olci_data.mph.NDVI[i-1:i+2, j-1:j+2].max()\n",
    "#         BAIR = olci_data.mph.BAIR[i-1:i+2, j-1:j+2].max()\n",
    "#         SICF = olci_data.mph.SICF[i-1:i+2, j-1:j+2].max()\n",
    "#         SIPF = olci_data.mph.SIPF[i-1:i+2, j-1:j+2].max()\n",
    "#         MPH0 = olci_data.mph.MPH0[i-1:i+2, j-1:j+2].max()\n",
    "#         MPH1 = olci_data.mph.MPH1[i-1:i+2, j-1:j+2].max()\n",
    "#         lambda_max1 = olci_data.mph.lambda_max1[i-1:i+2, j-1:j+2].max()\n",
    "        \n",
    "        X.append([NDVI, BAIR, SICF, SIPF, MPH0, MPH1, lambda_max1])\n",
    "X = np.array(X)\n",
    "y = np.array(y)"
   ]
  },
  {
   "cell_type": "code",
   "execution_count": 13,
   "id": "c9d956e5",
   "metadata": {
    "scrolled": false
   },
   "outputs": [
    {
     "name": "stdout",
     "output_type": "stream",
     "text": [
      "DecisionTreeClassifier(max_depth=3, random_state=0)\n",
      "Accuracy: 0.89\n",
      "Precision: 0.8\n",
      "Recall: 0.94\n",
      "FPR: 0.06\n",
      "FNR: 0.14\n"
     ]
    },
    {
     "data": {
      "image/png": "[encoded data removed]",
      "text/plain": [
       "<Figure size 432x288 with 2 Axes>"
      ]
     },
     "metadata": {
      "needs_background": "light"
     },
     "output_type": "display_data"
    },
    {
     "name": "stdout",
     "output_type": "stream",
     "text": [
      "LogisticRegression()\n",
      "Accuracy: 0.6\n",
      "Precision: 0.0\n",
      "Recall: 0.0\n",
      "FPR: 1.0\n",
      "FNR: 0.01\n"
     ]
    },
    {
     "data": {
      "image/png": "[encoded data removed]",
      "text/plain": [
       "<Figure size 432x288 with 2 Axes>"
      ]
     },
     "metadata": {
      "needs_background": "light"
     },
     "output_type": "display_data"
    },
    {
     "name": "stdout",
     "output_type": "stream",
     "text": [
      "Pipeline(steps=[('standardscaler', StandardScaler()),\n",
      "                ('svc', SVC(gamma='auto'))])\n",
      "Accuracy: 0.94\n",
      "Precision: 0.87\n",
      "Recall: 0.98\n",
      "FPR: 0.02\n",
      "FNR: 0.09\n"
     ]
    },
    {
     "data": {
      "image/png": "[encoded data removed]",
      "text/plain": [
       "<Figure size 432x288 with 2 Axes>"
      ]
     },
     "metadata": {
      "needs_background": "light"
     },
     "output_type": "display_data"
    },
    {
     "name": "stdout",
     "output_type": "stream",
     "text": [
      "GaussianNB()\n",
      "Accuracy: 0.9\n",
      "Precision: 0.8\n",
      "Recall: 1.0\n",
      "FPR: 0.0\n",
      "FNR: 0.16\n"
     ]
    },
    {
     "data": {
      "image/png": "[encoded data removed]",
      "text/plain": [
       "<Figure size 432x288 with 2 Axes>"
      ]
     },
     "metadata": {
      "needs_background": "light"
     },
     "output_type": "display_data"
    },
    {
     "name": "stdout",
     "output_type": "stream",
     "text": [
      "Pipeline(steps=[('standardscaler', StandardScaler()),\n",
      "                ('sgdclassifier', SGDClassifier())])\n",
      "Accuracy: 0.91\n",
      "Precision: 0.89\n",
      "Recall: 0.88\n",
      "FPR: 0.12\n",
      "FNR: 0.07\n"
     ]
    },
    {
     "data": {
      "image/png": "[encoded data removed]",
      "text/plain": [
       "<Figure size 432x288 with 2 Axes>"
      ]
     },
     "metadata": {
      "needs_background": "light"
     },
     "output_type": "display_data"
    },
    {
     "name": "stdout",
     "output_type": "stream",
     "text": [
      "KNeighborsClassifier()\n",
      "Accuracy: 0.8\n",
      "Precision: 0.72\n",
      "Recall: 0.79\n",
      "FPR: 0.21\n",
      "FNR: 0.2\n"
     ]
    },
    {
     "data": {
      "image/png": "[encoded data removed]",
      "text/plain": [
       "<Figure size 432x288 with 2 Axes>"
      ]
     },
     "metadata": {
      "needs_background": "light"
     },
     "output_type": "display_data"
    },
    {
     "name": "stdout",
     "output_type": "stream",
     "text": [
      "RandomForestClassifier(max_depth=3, random_state=0)\n",
      "Accuracy: 0.93\n",
      "Precision: 0.87\n",
      "Recall: 0.96\n",
      "FPR: 0.04\n",
      "FNR: 0.09\n"
     ]
    },
    {
     "data": {
      "image/png": "[encoded data removed]",
      "text/plain": [
       "<Figure size 432x288 with 2 Axes>"
      ]
     },
     "metadata": {
      "needs_background": "light"
     },
     "output_type": "display_data"
    },
    {
     "name": "stdout",
     "output_type": "stream",
     "text": [
      "GradientBoostingClassifier(learning_rate=1.0, max_depth=1, random_state=0)\n",
      "Accuracy: 0.92\n",
      "Precision: 0.88\n",
      "Recall: 0.92\n",
      "FPR: 0.08\n",
      "FNR: 0.08\n"
     ]
    },
    {
     "data": {
      "image/png": "[encoded data removed]",
      "text/plain": [
       "<Figure size 432x288 with 2 Axes>"
      ]
     },
     "metadata": {
      "needs_background": "light"
     },
     "output_type": "display_data"
    },
    {
     "name": "stdout",
     "output_type": "stream",
     "text": [
      "LGBMClassifier()\n",
      "Accuracy: 0.91\n",
      "Precision: 0.86\n",
      "Recall: 0.92\n",
      "FPR: 0.08\n",
      "FNR: 0.09\n"
     ]
    },
    {
     "data": {
      "image/png": "[encoded data removed]",
      "text/plain": [
       "<Figure size 432x288 with 2 Axes>"
      ]
     },
     "metadata": {
      "needs_background": "light"
     },
     "output_type": "display_data"
    },
    {
     "name": "stdout",
     "output_type": "stream",
     "text": [
      "XGBClassifier(base_score=None, booster=None, colsample_bylevel=None,\n",
      "              colsample_bynode=None, colsample_bytree=None,\n",
      "              enable_categorical=False, gamma=None, gpu_id=None,\n",
      "              importance_type=None, interaction_constraints=None,\n",
      "              learning_rate=None, max_delta_step=None, max_depth=None,\n",
      "              min_child_weight=None, missing=nan, monotone_constraints=None,\n",
      "              n_estimators=100, n_jobs=None, num_parallel_tree=None,\n",
      "              predictor=None, random_state=None, reg_alpha=None,\n",
      "              reg_lambda=None, scale_pos_weight=None, subsample=None,\n",
      "              tree_method=None, validate_parameters=None, verbosity=0)\n"
     ]
    },
    {
     "name": "stderr",
     "output_type": "stream",
     "text": [
      "/home/enzo/anaconda3/envs/cyano_venv/lib/python3.6/site-packages/xgboost/sklearn.py:1224: UserWarning: The use of label encoder in XGBClassifier is deprecated and will be removed in a future release. To remove this warning, do the following: 1) Pass option use_label_encoder=False when constructing XGBClassifier object; and 2) Encode your labels (y) as integers starting with 0, i.e. 0, 1, 2, ..., [num_class - 1].\n",
      "  warnings.warn(label_encoder_deprecation_msg, UserWarning)\n"
     ]
    },
    {
     "name": "stdout",
     "output_type": "stream",
     "text": [
      "Accuracy: 0.91\n",
      "Precision: 0.86\n",
      "Recall: 0.92\n",
      "FPR: 0.08\n",
      "FNR: 0.09\n"
     ]
    },
    {
     "data": {
      "image/png": "[encoded data removed]",
      "text/plain": [
       "<Figure size 432x288 with 2 Axes>"
      ]
     },
     "metadata": {
      "needs_background": "light"
     },
     "output_type": "display_data"
    }
   ],
   "source": [
    "from sklearn.tree import DecisionTreeClassifier\n",
    "from sklearn.linear_model import LogisticRegression\n",
    "from sklearn.svm import SVC\n",
    "from sklearn.naive_bayes import GaussianNB\n",
    "#from sklearn.naive_bayes import MultinomialNB ValueError: Negative values in data passed to MultinomialNB (input X)\n",
    "from sklearn.linear_model import SGDClassifier\n",
    "from sklearn.neighbors import KNeighborsClassifier\n",
    "from sklearn.ensemble import RandomForestClassifier\n",
    "from sklearn.ensemble import GradientBoostingClassifier\n",
    "from lightgbm import LGBMClassifier\n",
    "from xgboost.sklearn import XGBClassifier\n",
    "\n",
    "from sklearn.pipeline import make_pipeline\n",
    "from sklearn.preprocessing import StandardScaler\n",
    "\n",
    "from sklearn.model_selection import StratifiedKFold\n",
    "from sklearn.model_selection import LeaveOneOut\n",
    "\n",
    "clfs = [DecisionTreeClassifier(random_state=0, max_depth=3),\n",
    "        LogisticRegression(),\n",
    "        make_pipeline(StandardScaler(), SVC(gamma='auto')),\n",
    "        GaussianNB(),\n",
    "        make_pipeline(StandardScaler(), SGDClassifier(max_iter=1000, tol=1e-3)),\n",
    "        KNeighborsClassifier(n_neighbors=5),\n",
    "        RandomForestClassifier(max_depth=3, random_state=0),\n",
    "        GradientBoostingClassifier(n_estimators=100, learning_rate=1.0, max_depth=1, random_state=0),\n",
    "        LGBMClassifier(),\n",
    "        XGBClassifier(verbosity=0)]\n",
    "        \n",
    "        \n",
    "cv = StratifiedKFold(n_splits=2)\n",
    "cv = LeaveOneOut()\n",
    "for clf in clfs:\n",
    "    print(clf)\n",
    "    y_test_all = []\n",
    "    y_pred_all = []\n",
    "    for train_index, test_index in cv.split(X, y):\n",
    "        X_train, X_test = X[train_index], X[test_index]\n",
    "        y_train, y_test = y[train_index], y[test_index]\n",
    "\n",
    "        clf.fit(X_train, y_train)\n",
    "\n",
    "        y_pred = clf.predict(X_test)\n",
    "\n",
    "        y_test_all.append(y_test[0])\n",
    "        y_pred_all.append(y_pred[0])\n",
    "\n",
    "    #     m = metrics(y_test, y_pred)\n",
    "    #     print(\"Accuracy:\", m[\"accuracy\"])\n",
    "    #     print(\"Precision:\", m[\"precision\"])\n",
    "    #     print(\"Recall:\", m[\"recall\"])\n",
    "    #     print(\"FPR:\", m[\"false positive rate\"])\n",
    "    #     print(\"FNR:\", m[\"false negative rate\"])\n",
    "    #     sns.heatmap(m[\"confusion matrix\"], annot=True)\n",
    "    #     plt.show()\n",
    "\n",
    "    m = metrics(y_test_all, y_pred_all)\n",
    "    print(\"Accuracy:\", m[\"accuracy\"])\n",
    "    print(\"Precision:\", m[\"precision\"])\n",
    "    print(\"Recall:\", m[\"recall\"])\n",
    "    print(\"FPR:\", m[\"false positive rate\"])\n",
    "    print(\"FNR:\", m[\"false negative rate\"])\n",
    "    sns.heatmap(m[\"confusion matrix\"], annot=True)\n",
    "    plt.show()\n",
    "        \n"
   ]
  },
  {
   "cell_type": "code",
   "execution_count": 16,
   "id": "00e17091",
   "metadata": {},
   "outputs": [
    {
     "data": {
      "text/plain": [
       "[Text(186.0, 475.65000000000003, 'MPH0 <= 0.007\\ngini = 0.475\\nsamples = 124\\nvalue = [48, 76]\\nclass = Bloom'),\n",
       " Text(93.0, 339.75, 'gini = 0.0\\nsamples = 68\\nvalue = [0, 68]\\nclass = Bloom'),\n",
       " Text(279.0, 339.75, 'SIPF <= -0.0\\ngini = 0.245\\nsamples = 56\\nvalue = [48, 8]\\nclass = No Bloom'),\n",
       " Text(186.0, 203.85000000000002, 'gini = 0.0\\nsamples = 2\\nvalue = [0, 2]\\nclass = Bloom'),\n",
       " Text(372.0, 203.85000000000002, 'SICF <= -0.007\\ngini = 0.198\\nsamples = 54\\nvalue = [48, 6]\\nclass = No Bloom'),\n",
       " Text(279.0, 67.94999999999999, 'gini = 0.0\\nsamples = 29\\nvalue = [29, 0]\\nclass = No Bloom'),\n",
       " Text(465.0, 67.94999999999999, 'gini = 0.365\\nsamples = 25\\nvalue = [19, 6]\\nclass = No Bloom')]"
      ]
     },
     "execution_count": 16,
     "metadata": {},
     "output_type": "execute_result"
    },
    {
     "data": {
      "image/png": "[encoded data removed]",
      "text/plain": [
       "<Figure size 720x720 with 1 Axes>"
      ]
     },
     "metadata": {
      "needs_background": "light"
     },
     "output_type": "display_data"
    }
   ],
   "source": [
    "from sklearn import tree\n",
    "\n",
    "plt.figure(figsize=(10,10))\n",
    "clf = DecisionTreeClassifier(random_state=0, max_depth=3)\n",
    "clf.fit(X, y)\n",
    "tree.plot_tree(clf, \n",
    "               feature_names=[\"NDVI\", \"BAIR\", \"SICF\", \"SIPF\", \"MPH0\", \"MPH1\", \"lambda_max1\"],  \n",
    "               class_names=[\"No Bloom\", \"Bloom\"],\n",
    "               filled=True)"
   ]
  },
  {
   "cell_type": "code",
   "execution_count": 19,
   "id": "31db4474",
   "metadata": {},
   "outputs": [
    {
     "data": {
      "image/png": "[encoded data removed]",
      "text/plain": [
       "<Figure size 720x720 with 1 Axes>"
      ]
     },
     "metadata": {
      "needs_background": "light"
     },
     "output_type": "display_data"
    }
   ],
   "source": [
    "import matplotlib.pyplot as plt\n",
    "\n",
    "y_binary = np.zeros(y.shape)\n",
    "for i in range(y_binary.shape[0]):\n",
    "    if y[i] == \"No Bloom\":\n",
    "        y_binary[i] = 0\n",
    "    else:\n",
    "        y_binary[i] = 1\n",
    "\n",
    "plt.figure(figsize=(10,10))\n",
    "plt.scatter(X[:, 2], X[:, 3], c=y_binary)\n",
    "plt.show()"
   ]
  },
  {
   "cell_type": "markdown",
   "id": "ce206a9c",
   "metadata": {},
   "source": [
    "### Extend features using climate data"
   ]
  },
  {
   "cell_type": "code",
   "execution_count": 34,
   "id": "cf8d6afb",
   "metadata": {},
   "outputs": [],
   "source": [
    "from math import isnan\n",
    "\n",
    "climate_features = np.zeros((len(dates_list), 3))\n",
    "climate_features_meta = {\"precipitation\": {\"accumulation_days\": 4, \"accumulation_type\": \"sum\"},\n",
    "                         \"temperature\": {\"accumulation_days\": 9, \"accumulation_type\": \"max\"},\n",
    "                         \"wind\": {\"accumulation_days\": 9, \"accumulation_type\": \"max\"}}\n",
    "for idx, key_value in enumerate(climate_features_meta.items()):\n",
    "    climate_feature_name = key_value[0]\n",
    "    feature_metadata = key_value[1]\n",
    "    feature_accumulated_data = []\n",
    "    for date_idx, d in enumerate(dates_list):\n",
    "        row_date = datetime(d.year, d.month, d.day, 0, 0, 0)\n",
    "        historic_data = dataset.get_historic_data(row_date, feature_metadata[\"accumulation_days\"])\n",
    "\n",
    "        if len(historic_data) == 0:\n",
    "            print(f\"{d} has no historic data\")\n",
    "            continue\n",
    "\n",
    "        climate_feature_value = getattr(historic_data[climate_feature_name], feature_metadata[\"accumulation_type\"])()\n",
    "        if isnan(climate_feature_value):\n",
    "            print(historic_data[[\"date\", climate_feature_name]])\n",
    "            climate_feature_value = 0\n",
    "        feature_accumulated_data.append(climate_feature_value)\n",
    "\n",
    "    climate_features[:, idx] = np.array(feature_accumulated_data)\n",
    "    \n",
    "X_extended = np.hstack((X,climate_features))"
   ]
  },
  {
   "cell_type": "markdown",
   "id": "6efbead7",
   "metadata": {},
   "source": [
    "## Prediction with MPH indexes and climate data"
   ]
  },
  {
   "cell_type": "code",
   "execution_count": 35,
   "id": "74abecc1",
   "metadata": {
    "scrolled": false
   },
   "outputs": [
    {
     "name": "stdout",
     "output_type": "stream",
     "text": [
      "DecisionTreeClassifier(max_depth=3, random_state=0)\n",
      "Accuracy: 0.89\n",
      "Precision: 0.8\n",
      "Recall: 0.94\n",
      "FPR: 0.06\n",
      "FNR: 0.14\n"
     ]
    },
    {
     "data": {
      "image/png": "[encoded data removed]",
      "text/plain": [
       "<Figure size 432x288 with 2 Axes>"
      ]
     },
     "metadata": {
      "needs_background": "light"
     },
     "output_type": "display_data"
    },
    {
     "name": "stdout",
     "output_type": "stream",
     "text": [
      "LogisticRegression()\n",
      "Accuracy: 0.6\n",
      "Precision: 0.0\n",
      "Recall: 0.0\n",
      "FPR: 1.0\n",
      "FNR: 0.01\n"
     ]
    },
    {
     "data": {
      "image/png": "[encoded data removed]",
      "text/plain": [
       "<Figure size 432x288 with 2 Axes>"
      ]
     },
     "metadata": {
      "needs_background": "light"
     },
     "output_type": "display_data"
    },
    {
     "name": "stdout",
     "output_type": "stream",
     "text": [
      "Pipeline(steps=[('standardscaler', StandardScaler()),\n",
      "                ('svc', SVC(gamma='auto'))])\n",
      "Accuracy: 0.94\n",
      "Precision: 0.87\n",
      "Recall: 0.98\n",
      "FPR: 0.02\n",
      "FNR: 0.09\n"
     ]
    },
    {
     "data": {
      "image/png": "[encoded data removed]",
      "text/plain": [
       "<Figure size 432x288 with 2 Axes>"
      ]
     },
     "metadata": {
      "needs_background": "light"
     },
     "output_type": "display_data"
    },
    {
     "name": "stdout",
     "output_type": "stream",
     "text": [
      "GaussianNB()\n",
      "Accuracy: 0.9\n",
      "Precision: 0.8\n",
      "Recall: 1.0\n",
      "FPR: 0.0\n",
      "FNR: 0.16\n"
     ]
    },
    {
     "data": {
      "image/png": "[encoded data removed]",
      "text/plain": [
       "<Figure size 432x288 with 2 Axes>"
      ]
     },
     "metadata": {
      "needs_background": "light"
     },
     "output_type": "display_data"
    },
    {
     "name": "stdout",
     "output_type": "stream",
     "text": [
      "Pipeline(steps=[('standardscaler', StandardScaler()),\n",
      "                ('sgdclassifier', SGDClassifier())])\n",
      "Accuracy: 0.89\n",
      "Precision: 0.87\n",
      "Recall: 0.83\n",
      "FPR: 0.17\n",
      "FNR: 0.08\n"
     ]
    },
    {
     "data": {
      "image/png": "[encoded data removed]",
      "text/plain": [
       "<Figure size 432x288 with 2 Axes>"
      ]
     },
     "metadata": {
      "needs_background": "light"
     },
     "output_type": "display_data"
    },
    {
     "name": "stdout",
     "output_type": "stream",
     "text": [
      "KNeighborsClassifier()\n",
      "Accuracy: 0.8\n",
      "Precision: 0.72\n",
      "Recall: 0.79\n",
      "FPR: 0.21\n",
      "FNR: 0.2\n"
     ]
    },
    {
     "data": {
      "image/png": "[encoded data removed]",
      "text/plain": [
       "<Figure size 432x288 with 2 Axes>"
      ]
     },
     "metadata": {
      "needs_background": "light"
     },
     "output_type": "display_data"
    },
    {
     "name": "stdout",
     "output_type": "stream",
     "text": [
      "RandomForestClassifier(max_depth=3, random_state=0)\n",
      "Accuracy: 0.93\n",
      "Precision: 0.87\n",
      "Recall: 0.96\n",
      "FPR: 0.04\n",
      "FNR: 0.09\n"
     ]
    },
    {
     "data": {
      "image/png": "[encoded data removed]",
      "text/plain": [
       "<Figure size 432x288 with 2 Axes>"
      ]
     },
     "metadata": {
      "needs_background": "light"
     },
     "output_type": "display_data"
    },
    {
     "name": "stdout",
     "output_type": "stream",
     "text": [
      "GradientBoostingClassifier(learning_rate=1.0, max_depth=1, random_state=0)\n",
      "Accuracy: 0.92\n",
      "Precision: 0.88\n",
      "Recall: 0.92\n",
      "FPR: 0.08\n",
      "FNR: 0.08\n"
     ]
    },
    {
     "data": {
      "image/png": "[encoded data removed]",
      "text/plain": [
       "<Figure size 432x288 with 2 Axes>"
      ]
     },
     "metadata": {
      "needs_background": "light"
     },
     "output_type": "display_data"
    },
    {
     "name": "stdout",
     "output_type": "stream",
     "text": [
      "LGBMClassifier()\n",
      "Accuracy: 0.91\n",
      "Precision: 0.86\n",
      "Recall: 0.92\n",
      "FPR: 0.08\n",
      "FNR: 0.09\n"
     ]
    },
    {
     "data": {
      "image/png": "[encoded data removed]",
      "text/plain": [
       "<Figure size 432x288 with 2 Axes>"
      ]
     },
     "metadata": {
      "needs_background": "light"
     },
     "output_type": "display_data"
    },
    {
     "name": "stdout",
     "output_type": "stream",
     "text": [
      "XGBClassifier(base_score=None, booster=None, colsample_bylevel=None,\n",
      "              colsample_bynode=None, colsample_bytree=None,\n",
      "              enable_categorical=False, gamma=None, gpu_id=None,\n",
      "              importance_type=None, interaction_constraints=None,\n",
      "              learning_rate=None, max_delta_step=None, max_depth=None,\n",
      "              min_child_weight=None, missing=nan, monotone_constraints=None,\n",
      "              n_estimators=100, n_jobs=None, num_parallel_tree=None,\n",
      "              predictor=None, random_state=None, reg_alpha=None,\n",
      "              reg_lambda=None, scale_pos_weight=None, subsample=None,\n",
      "              tree_method=None, validate_parameters=None, verbosity=0)\n"
     ]
    },
    {
     "name": "stderr",
     "output_type": "stream",
     "text": [
      "/home/enzo/anaconda3/envs/cyano_venv/lib/python3.6/site-packages/xgboost/sklearn.py:1224: UserWarning: The use of label encoder in XGBClassifier is deprecated and will be removed in a future release. To remove this warning, do the following: 1) Pass option use_label_encoder=False when constructing XGBClassifier object; and 2) Encode your labels (y) as integers starting with 0, i.e. 0, 1, 2, ..., [num_class - 1].\n",
      "  warnings.warn(label_encoder_deprecation_msg, UserWarning)\n"
     ]
    },
    {
     "name": "stdout",
     "output_type": "stream",
     "text": [
      "Accuracy: 0.91\n",
      "Precision: 0.86\n",
      "Recall: 0.92\n",
      "FPR: 0.08\n",
      "FNR: 0.09\n"
     ]
    },
    {
     "data": {
      "image/png": "[encoded data removed]",
      "text/plain": [
       "<Figure size 432x288 with 2 Axes>"
      ]
     },
     "metadata": {
      "needs_background": "light"
     },
     "output_type": "display_data"
    }
   ],
   "source": [
    "clfs = [DecisionTreeClassifier(random_state=0, max_depth=3),\n",
    "        LogisticRegression(),\n",
    "        make_pipeline(StandardScaler(), SVC(gamma='auto')),\n",
    "        GaussianNB(),\n",
    "        make_pipeline(StandardScaler(), SGDClassifier(max_iter=1000, tol=1e-3)),\n",
    "        KNeighborsClassifier(n_neighbors=5),\n",
    "        RandomForestClassifier(max_depth=3, random_state=0),\n",
    "        GradientBoostingClassifier(n_estimators=100, learning_rate=1.0, max_depth=1, random_state=0),\n",
    "        LGBMClassifier(),\n",
    "        XGBClassifier(verbosity=0)]\n",
    "        \n",
    "\n",
    "    \n",
    "cv = StratifiedKFold(n_splits=2)\n",
    "cv = LeaveOneOut()\n",
    "for clf in clfs:\n",
    "    print(clf)\n",
    "    y_test_all = []\n",
    "    y_pred_all = []\n",
    "    for train_index, test_index in cv.split(X_extended, y):\n",
    "        X_train, X_test = X[train_index], X[test_index]\n",
    "        y_train, y_test = y[train_index], y[test_index]\n",
    "\n",
    "        clf.fit(X_train, y_train)\n",
    "\n",
    "        y_pred = clf.predict(X_test)\n",
    "\n",
    "        y_test_all.append(y_test[0])\n",
    "        y_pred_all.append(y_pred[0])\n",
    "\n",
    "    #     m = metrics(y_test, y_pred)\n",
    "    #     print(\"Accuracy:\", m[\"accuracy\"])\n",
    "    #     print(\"Precision:\", m[\"precision\"])\n",
    "    #     print(\"Recall:\", m[\"recall\"])\n",
    "    #     print(\"FPR:\", m[\"false positive rate\"])\n",
    "    #     print(\"FNR:\", m[\"false negative rate\"])\n",
    "    #     sns.heatmap(m[\"confusion matrix\"], annot=True)\n",
    "    #     plt.show()\n",
    "\n",
    "    m = metrics(y_test_all, y_pred_all)\n",
    "    print(\"Accuracy:\", m[\"accuracy\"])\n",
    "    print(\"Precision:\", m[\"precision\"])\n",
    "    print(\"Recall:\", m[\"recall\"])\n",
    "    print(\"FPR:\", m[\"false positive rate\"])\n",
    "    print(\"FNR:\", m[\"false negative rate\"])\n",
    "    sns.heatmap(m[\"confusion matrix\"], annot=True)\n",
    "    plt.show()"
   ]
  },
  {
   "cell_type": "code",
   "execution_count": null,
   "id": "1cce9f44",
   "metadata": {},
   "outputs": [],
   "source": []
  }
 ],
 "metadata": {
  "kernelspec": {
   "display_name": "cyano_venv",
   "language": "python",
   "name": "cyano_venv"
  },
  "language_info": {
   "codemirror_mode": {
    "name": "ipython",
    "version": 3
   },
   "file_extension": ".py",
   "mimetype": "text/x-python",
   "name": "python",
   "nbconvert_exporter": "python",
   "pygments_lexer": "ipython3",
   "version": "3.6.13"
  }
 },
 "nbformat": 4,
 "nbformat_minor": 5
}

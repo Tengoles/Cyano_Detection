{
 "cells": [
  {
   "cell_type": "code",
   "execution_count": 3,
   "id": "15f53189-a2ac-46bc-b343-b9b460be1835",
   "metadata": {},
   "outputs": [
    {
     "name": "stderr",
     "output_type": "stream",
     "text": [
      "WARNING: IERSStaleWarning: leap-second file is expired. [astropy.utils.iers.iers]\n",
      "WARNING:astropy:IERSStaleWarning: leap-second file is expired.\n"
     ]
    }
   ],
   "source": [
    "import os\n",
    "import sys\n",
    "sys.path.append(\"../\")\n",
    "import csv\n",
    "from datetime import datetime, timedelta\n",
    "import pandas as pd\n",
    "import numpy as np\n",
    "import matplotlib.pyplot as plt\n",
    "\n",
    "import settings\n",
    "from process_sentinel3 import OLCIdata, OLCIdataGenerator"
   ]
  },
  {
   "cell_type": "markdown",
   "id": "736a9761-0e37-4e0a-bfae-897347560484",
   "metadata": {},
   "source": [
    "### Define variables"
   ]
  },
  {
   "cell_type": "code",
   "execution_count": 9,
   "id": "79e50b72-69ad-41c3-9fcc-ecb7f74a9b64",
   "metadata": {},
   "outputs": [],
   "source": [
    "DATA_PATH = settings.processed_data_path\n",
    "fico_gt_path = os.path.join(settings.final_data_path, \"algae_gt.csv\")\n",
    "DATE_FORMAT = '%Y-%m-%d'\n",
    "\n",
    "#contorno interno lat/lon\n",
    "INTERNAL_CONTOUR = [[-34.85044049, -55.05341557], [-34.85254593, -55.06282895], [-34.84523452, -55.07215948], \n",
    "                    [-34.84214073, -55.08336897], [-34.83733203, -55.08595825], [-34.830501, -55.07932854], \n",
    "                    [-34.82322889, -55.07377278], [-34.81443658, -55.06745663], [-34.80518264, -55.06063834], \n",
    "                   [-34.79828906, -55.05565486], [-34.79200075, -55.04700809], [-34.80233605, -55.04418996],\n",
    "                   [-34.81042967, -55.04493995], [-34.82011843, -55.04664643], [-34.82953074, -55.04855582],\n",
    "                   [-34.83996726, -55.0500401], [-34.85044049, -55.05341557]]\n",
    "# lon/lat\n",
    "INTERNAL_CONTOUR_2 = [[coord[1], coord[0]] for coord in INTERNAL_CONTOUR]"
   ]
  },
  {
   "cell_type": "markdown",
   "id": "560345d7-2e40-4437-b2c8-74e09b80b08a",
   "metadata": {},
   "source": [
    "## Read CSV containing GT into a DataFrame"
   ]
  },
  {
   "cell_type": "code",
   "execution_count": 11,
   "id": "d1343bea-20ff-4514-b6cb-ff73763e9725",
   "metadata": {},
   "outputs": [
    {
     "name": "stdout",
     "output_type": "stream",
     "text": [
      "['2015-12-30' '2016-01-07' '2016-01-13' '2016-01-23' '2016-01-27'\n",
      " '2016-02-03' '2016-02-10' '2016-02-18' '2016-02-24' '2016-03-02'\n",
      " '2016-03-10' '2016-03-22' '2016-03-29' '2016-04-07' '2016-12-01'\n",
      " '2016-12-09' '2016-12-16' '2016-12-22' '2017-01-02' '2017-01-11'\n",
      " '2017-01-18' '2017-01-24' '2017-02-02' '2017-02-08' '2017-02-15'\n",
      " '2017-02-22' '2017-03-01' '2017-03-08' '2017-03-23' '2017-03-31'\n",
      " '2017-04-07' '2017-12-07' '2017-12-28' '2018-01-03' '2018-01-11'\n",
      " '2018-01-18' '2018-01-25' '2018-01-31' '2018-02-08' '2018-02-15'\n",
      " '2018-02-22' '2018-03-01' '2018-03-07' '2018-03-26' '2018-04-05'\n",
      " '2018-04-18' '2018-11-13' '2018-11-20' '2018-11-30' '2018-12-13'\n",
      " '2018-12-20' '2018-12-28' '2019-01-04' '2019-01-11' '2019-01-18'\n",
      " '2019-01-24' '2019-01-31' '2019-02-07' '2019-02-15' '2019-02-21'\n",
      " '2019-03-01' '2019-03-07' '2019-03-14' '2019-03-22' '2019-03-29'\n",
      " '2019-04-04' '2019-04-12' '2019-05-18' '2019-08-01' '2019-09-22'\n",
      " '2019-11-06' '2019-11-15' '2019-11-27' '2019-12-13' '2019-12-23'\n",
      " '2019-12-30' '2020-01-02' '2020-01-04' '2020-01-05' '2020-01-06'\n",
      " '2020-01-07' '2020-01-08' '2020-01-09' '2020-01-10' '2020-01-11'\n",
      " '2020-01-12' '2020-01-13' '2020-01-14' '2020-01-15' '2020-01-16'\n",
      " '2020-01-17' '2020-01-18' '2020-01-19' '2020-01-20' '2020-01-21'\n",
      " '2020-01-22' '2020-01-23' '2020-01-24' '2020-01-25' '2020-01-26'\n",
      " '2020-01-27' '2020-01-29' '2020-01-30' '2020-01-31' '2020-02-01'\n",
      " '2020-02-02' '2020-02-03' '2020-02-04' '2020-02-05' '2020-02-06'\n",
      " '2020-02-07' '2020-02-08' '2020-02-10' '2020-02-11' '2020-02-12'\n",
      " '2020-02-13' '2020-02-14' '2020-02-15' '2020-02-17' '2020-02-18'\n",
      " '2020-02-19' '2020-02-24' '2020-02-25' '2020-02-27' '2020-02-28'\n",
      " '2020-03-02' '2020-03-03' '2020-03-04' '2020-03-05' '2020-03-06'\n",
      " '2020-03-07' '2020-03-08' '2020-03-09' '2020-03-10' '2020-03-11'\n",
      " '2020-03-12' '2020-03-13' '2020-03-14' '2020-03-15' '2020-03-17'\n",
      " '2020-03-18' '2020-03-19' '2020-03-20' '2020-03-21' '2020-03-22'\n",
      " '2020-03-23' '2020-03-24' '2020-03-25' '2020-03-26' '2020-03-27'\n",
      " '2020-03-28' '2020-03-29' '2020-03-30' '2020-03-31' '2020-04-01'\n",
      " '2020-04-03' '2020-04-04' '2020-04-05' '2020-04-06' '2020-04-07'\n",
      " '2020-04-08' '2020-04-09' '2020-04-10' '2020-04-11' '2020-04-12'\n",
      " '2020-04-13' '2020-04-14' '2020-04-15' '2020-04-16' '2020-04-17'\n",
      " '2020-04-18' '2020-04-19' '2020-04-20' '2020-04-21' '2020-04-23'\n",
      " '2020-04-24' '2020-04-26' '2020-04-27' '2020-04-28' '2020-04-29'\n",
      " '2020-04-30' '2020-05-01' '2020-05-02' '2020-05-03' '2020-05-04'\n",
      " '2020-05-05' '2020-05-06' '2020-05-07' '2020-05-08' '2020-05-09'\n",
      " '2020-05-10' '2020-05-11' '2020-05-12' '2020-05-13' '2020-05-14'\n",
      " '2020-05-15' '2020-05-16' '2020-05-17' '2020-05-18' '2020-05-19'\n",
      " '2020-05-21' '2020-05-22' '2020-05-23' '2020-05-25' '2020-05-27'\n",
      " '2020-05-28' '2020-05-29' '2020-05-30' '2020-06-01' '2020-06-02'\n",
      " '2020-06-03' '2020-06-04' '2020-06-05' '2020-06-08' '2020-06-09'\n",
      " '2020-06-10' '2020-06-11' '2020-06-15' '2020-06-16' '2020-06-17'\n",
      " '2020-06-18' '2020-06-19' '2020-06-22' '2020-06-23' '2020-06-24'\n",
      " '2020-08-31' '2020-09-03' '2020-09-10' '2020-09-14' '2020-09-17'\n",
      " '2020-09-24' '2020-10-05' '2020-10-08' '2020-10-13' '2020-10-19'\n",
      " '2020-10-22' '2020-10-26' '2020-10-29' '2020-10-31' '2020-11-01'\n",
      " '2020-11-02' '2020-11-05' '2021-02-04']\n",
      "Total dates in GT: 243\n"
     ]
    },
    {
     "data": {
      "text/html": [
       "<div>\n",
       "<style scoped>\n",
       "    .dataframe tbody tr th:only-of-type {\n",
       "        vertical-align: middle;\n",
       "    }\n",
       "\n",
       "    .dataframe tbody tr th {\n",
       "        vertical-align: top;\n",
       "    }\n",
       "\n",
       "    .dataframe thead th {\n",
       "        text-align: right;\n",
       "    }\n",
       "</style>\n",
       "<table border=\"1\" class=\"dataframe\">\n",
       "  <thead>\n",
       "    <tr style=\"text-align: right;\">\n",
       "      <th></th>\n",
       "      <th>date</th>\n",
       "      <th>location</th>\n",
       "      <th>fico</th>\n",
       "      <th>chl</th>\n",
       "    </tr>\n",
       "  </thead>\n",
       "  <tbody>\n",
       "    <tr>\n",
       "      <th>0</th>\n",
       "      <td>2015-12-30</td>\n",
       "      <td>MALLORQUINA</td>\n",
       "      <td>5032.50</td>\n",
       "      <td>10.00</td>\n",
       "    </tr>\n",
       "    <tr>\n",
       "      <th>1</th>\n",
       "      <td>2015-12-30</td>\n",
       "      <td>ARROYO SAUCE</td>\n",
       "      <td>5345.50</td>\n",
       "      <td>21.80</td>\n",
       "    </tr>\n",
       "    <tr>\n",
       "      <th>2</th>\n",
       "      <td>2015-12-30</td>\n",
       "      <td>SAUCE NORTE</td>\n",
       "      <td>4282.50</td>\n",
       "      <td>7.50</td>\n",
       "    </tr>\n",
       "    <tr>\n",
       "      <th>3</th>\n",
       "      <td>2015-12-30</td>\n",
       "      <td>SAUCE SUR</td>\n",
       "      <td>5388.00</td>\n",
       "      <td>7.50</td>\n",
       "    </tr>\n",
       "    <tr>\n",
       "      <th>4</th>\n",
       "      <td>2015-12-30</td>\n",
       "      <td>CISNES</td>\n",
       "      <td>9082.50</td>\n",
       "      <td>18.45</td>\n",
       "    </tr>\n",
       "    <tr>\n",
       "      <th>...</th>\n",
       "      <td>...</td>\n",
       "      <td>...</td>\n",
       "      <td>...</td>\n",
       "      <td>...</td>\n",
       "    </tr>\n",
       "    <tr>\n",
       "      <th>685</th>\n",
       "      <td>2020-10-31</td>\n",
       "      <td>TA</td>\n",
       "      <td>1083.00</td>\n",
       "      <td>NaN</td>\n",
       "    </tr>\n",
       "    <tr>\n",
       "      <th>686</th>\n",
       "      <td>2020-11-01</td>\n",
       "      <td>TA</td>\n",
       "      <td>47.00</td>\n",
       "      <td>NaN</td>\n",
       "    </tr>\n",
       "    <tr>\n",
       "      <th>687</th>\n",
       "      <td>2020-11-02</td>\n",
       "      <td>TA</td>\n",
       "      <td>5.96</td>\n",
       "      <td>NaN</td>\n",
       "    </tr>\n",
       "    <tr>\n",
       "      <th>688</th>\n",
       "      <td>2020-11-05</td>\n",
       "      <td>TA</td>\n",
       "      <td>9.06</td>\n",
       "      <td>NaN</td>\n",
       "    </tr>\n",
       "    <tr>\n",
       "      <th>689</th>\n",
       "      <td>2021-02-04</td>\n",
       "      <td>TA</td>\n",
       "      <td>1.77</td>\n",
       "      <td>NaN</td>\n",
       "    </tr>\n",
       "  </tbody>\n",
       "</table>\n",
       "<p>690 rows × 4 columns</p>\n",
       "</div>"
      ],
      "text/plain": [
       "           date      location     fico    chl\n",
       "0    2015-12-30   MALLORQUINA  5032.50  10.00\n",
       "1    2015-12-30  ARROYO SAUCE  5345.50  21.80\n",
       "2    2015-12-30   SAUCE NORTE  4282.50   7.50\n",
       "3    2015-12-30     SAUCE SUR  5388.00   7.50\n",
       "4    2015-12-30        CISNES  9082.50  18.45\n",
       "..          ...           ...      ...    ...\n",
       "685  2020-10-31            TA  1083.00    NaN\n",
       "686  2020-11-01            TA    47.00    NaN\n",
       "687  2020-11-02            TA     5.96    NaN\n",
       "688  2020-11-05            TA     9.06    NaN\n",
       "689  2021-02-04            TA     1.77    NaN\n",
       "\n",
       "[690 rows x 4 columns]"
      ]
     },
     "execution_count": 11,
     "metadata": {},
     "output_type": "execute_result"
    }
   ],
   "source": [
    "ficocianina_df = pd.read_csv(fico_gt_path)\n",
    "all_gt_dates = ficocianina_df.date.unique()\n",
    "print(all_gt_dates)\n",
    "print(f\"Total dates in GT: {len(all_gt_dates)}\")\n",
    "ficocianina_df"
   ]
  },
  {
   "cell_type": "code",
   "execution_count": 4,
   "id": "3f8f464a-f76d-42da-8278-4870e73dfcc3",
   "metadata": {},
   "outputs": [],
   "source": [
    "data_generator = OLCIdataGenerator(DATA_PATH, DATE_FORMAT, dates_list=all_gt_dates.tolist(), skip_invalid=False,\n",
    "                                  mask_coordinates=INTERNAL_CONTOUR_2)\n",
    "\n",
    "data_generator_skip_invalid = OLCIdataGenerator(DATA_PATH, DATE_FORMAT, dates_list=all_gt_dates.tolist(), skip_invalid=True,\n",
    "                                  mask_coordinates=INTERNAL_CONTOUR_2)"
   ]
  },
  {
   "cell_type": "markdown",
   "id": "4f200bf9-0b7f-4d2b-8b5a-fe756aeec8b0",
   "metadata": {},
   "source": [
    "### Satellite availability"
   ]
  },
  {
   "cell_type": "code",
   "execution_count": 4,
   "id": "649a1596-5676-43c3-9fda-54b51fc8b710",
   "metadata": {},
   "outputs": [],
   "source": [
    "first_sentinel3B_date = \"2018-11-30\""
   ]
  },
  {
   "cell_type": "code",
   "execution_count": 6,
   "id": "42fd0444-b2cb-45b7-b0b0-8651281ca4ac",
   "metadata": {},
   "outputs": [
    {
     "name": "stdout",
     "output_type": "stream",
     "text": [
      "Sentinel-3 acquisition rate after S-3B: 1.18\n",
      "Sentinel-3 acquisition rate after S-3B without clouds: 0.43\n"
     ]
    }
   ],
   "source": [
    "fico_df_after_s3b = ficocianina_df[ficocianina_df[\"date\"] >= first_sentinel3B_date]\n",
    "\n",
    "days_after_s3b_all = [d for d in data_generator if d.date >= datetime.strptime(first_sentinel3B_date, \"%Y-%m-%d\")]\n",
    "satellite_acquisition_all = round(len(days_after_s3b_all)/len(fico_df_after_s3b[\"date\"].unique()),2)\n",
    "print(f\"Sentinel-3 acquisition rate after S-3B: {satellite_acquisition_all}\")\n",
    "\n",
    "days_after_s3b_skip_invalid = [d for d in data_generator_skip_invalid if d.date >= datetime.strptime(first_sentinel3B_date, \"%Y-%m-%d\")]\n",
    "satellite_acquisition_clear =  round(len(days_after_s3b_skip_invalid)/len(fico_df_after_s3b[\"date\"].unique()), 2)\n",
    "print(f\"Sentinel-3 acquisition rate after S-3B without clouds: {satellite_acquisition_clear}\")"
   ]
  },
  {
   "cell_type": "markdown",
   "id": "ac5a524a-24ae-4b1d-b912-03b0524bae43",
   "metadata": {},
   "source": [
    "## Trophic state detection"
   ]
  },
  {
   "cell_type": "code",
   "execution_count": 5,
   "id": "de5e836e-9604-4e38-8b2b-8f77ee8debcf",
   "metadata": {},
   "outputs": [],
   "source": [
    "BLOOM_THRESHOLD = 7000\n",
    "BLOOM_THRESHOLD_TA = 3000"
   ]
  },
  {
   "cell_type": "code",
   "execution_count": null,
   "id": "a42aa233",
   "metadata": {},
   "outputs": [],
   "source": [
    "bloom_df = ficocianina_df[ficocianina_df[\"fico\"] >= BLOOM_THRESHOLD]\n",
    "bloom_dates = bloom_df.date.unique()\n",
    "\n",
    "y_gt = []\n",
    "y_pred = []\n",
    "for day in data_generator_skip_invalid:\n",
    "    if day.date >= datetime.strptime(first_sentinel3B_date, \"%Y-%m-%d\"):\n",
    "        immersed_mask = day.mph.immersed_cyanobacteria*day.mask\n",
    "        count_immersed = np.count_nonzero(immersed_mask)\n",
    "        floating_mask = day.mph.floating_cyanobacteria*day.mask\n",
    "        count_floating = np.count_nonzero(day.mph.floating_cyanobacteria*day.mask)\n",
    "        count_total = count_immersed + count_floating\n",
    "\n",
    "        y_pred.append(count_total > 100)\n",
    "\n",
    "        day_fico_df = ficocianina_df[ficocianina_df[\"date\"] == str(day.date.date())]\n",
    "        fico_mean = day_fico_df[day_fico_df[\"location\"].isin([\"SAUCE NORTE\", \"SAUCE SUR\", \"TA\"])][\"fico\"].mean()\n",
    "        y_gt.append(fico_mean > BLOOM_THRESHOLD)"
   ]
  },
  {
   "cell_type": "code",
   "execution_count": 10,
   "id": "f6b1cad0-e440-4266-b17f-83fc4378f92c",
   "metadata": {},
   "outputs": [
    {
     "name": "stdout",
     "output_type": "stream",
     "text": [
      "Accuracy: 0.795\n"
     ]
    },
    {
     "data": {
      "image/png": "[encoded data removed]",
      "text/plain": [
       "<Figure size 432x288 with 2 Axes>"
      ]
     },
     "metadata": {
      "needs_background": "light"
     },
     "output_type": "display_data"
    }
   ],
   "source": [
    "from sklearn.metrics import accuracy_score\n",
    "from sklearn.metrics import confusion_matrix\n",
    "import seaborn as sns\n",
    "\n",
    "conf = confusion_matrix(y_gt, y_pred)\n",
    "sns.heatmap(conf, annot=True)\n",
    "\n",
    "acc = accuracy_score(y_gt, y_pred)\n",
    "print(\"Accuracy:\", round(acc, 3))"
   ]
  },
  {
   "cell_type": "code",
   "execution_count": 13,
   "id": "b812f148",
   "metadata": {},
   "outputs": [],
   "source": [
    "sampling_points_coords = {\"SAUCE NORTE\": [-34.795398, -55.047355],\n",
    "                          \"SAUCE SUR\": [-34.843127, -55.064624],\n",
    "                          \"TA\": [-34.829670, -55.049758]}"
   ]
  },
  {
   "cell_type": "code",
   "execution_count": 7,
   "id": "c06734ab-49ef-4f43-b828-3583d196e8fa",
   "metadata": {},
   "outputs": [],
   "source": [
    "data_generator = OLCIdataGenerator(DATA_PATH, DATE_FORMAT, dates_list=all_gt_dates.tolist(), skip_invalid=False)\n",
    "\n",
    "y_gt = {\"SAUCE NORTE\": [],\n",
    "        \"SAUCE SUR\": [],\n",
    "        \"TA\": []}\n",
    "\n",
    "y_pred = {\"SAUCE NORTE\": [],\n",
    "        \"SAUCE SUR\": [],\n",
    "        \"TA\": []}\n",
    "\n",
    "for olci_data in data_generator:\n",
    "    if olci_data.metadata[\"cloud level\"] != \"0\":\n",
    "        continue\n",
    "    # use only dates after sentinel-3b was launched\n",
    "    if olci_data.date >= datetime.strptime(first_sentinel3B_date, \"%Y-%m-%d\"):\n",
    "        # get gt data for same date as satellite data\n",
    "        day_fico_df = ficocianina_df[ficocianina_df[\"date\"] == str(olci_data.date.date())]\n",
    "        # iterate over rows, skipping unwanted sample locations\n",
    "        for index, row in day_fico_df.iterrows():\n",
    "            if not (row[\"location\"] in y_gt):\n",
    "                continue\n",
    "            olci_data.create_sparse_mask([sampling_points_coords[row[\"location\"]]])\n",
    "            immersed_mask = olci_data.mph.immersed_cyanobacteria*olci_data.mask\n",
    "            count_immersed = np.count_nonzero(immersed_mask)\n",
    "            floating_mask = olci_data.mph.floating_cyanobacteria*olci_data.mask\n",
    "            count_floating = np.count_nonzero(olci_data.mph.floating_cyanobacteria*olci_data.mask)\n",
    "            count_total = count_immersed + count_floating\n",
    "            \n",
    "            y_pred[row[\"location\"]].append(count_total > 0)\n",
    "            if row[\"location\"] == \"TA\":\n",
    "                y_gt[row[\"location\"]].append(row[\"fico\"] > BLOOM_THRESHOLD_TA)\n",
    "            else:\n",
    "                y_gt[row[\"location\"]].append(row[\"fico\"] > BLOOM_THRESHOLD)"
   ]
  },
  {
   "cell_type": "code",
   "execution_count": 8,
   "id": "3437b35b-a65e-4f90-a2d9-9d9adebc1929",
   "metadata": {},
   "outputs": [
    {
     "name": "stdout",
     "output_type": "stream",
     "text": [
      "SAUCE NORTE\n",
      "Accuracy: 0.84\n",
      "Precision: 0.6\n",
      "Recall: 1.0\n",
      "FPR: 0.0\n",
      "FNR: 0.21\n"
     ]
    },
    {
     "data": {
      "image/png": "[encoded data removed]",
      "text/plain": [
       "<Figure size 432x288 with 2 Axes>"
      ]
     },
     "metadata": {
      "needs_background": "light"
     },
     "output_type": "display_data"
    },
    {
     "name": "stdout",
     "output_type": "stream",
     "text": [
      "SAUCE SUR\n",
      "Accuracy: 0.88\n",
      "Precision: 0.73\n",
      "Recall: 1.0\n",
      "FPR: 0.0\n",
      "FNR: 0.18\n"
     ]
    },
    {
     "data": {
      "image/png": "[encoded data removed]",
      "text/plain": [
       "<Figure size 432x288 with 2 Axes>"
      ]
     },
     "metadata": {
      "needs_background": "light"
     },
     "output_type": "display_data"
    },
    {
     "name": "stdout",
     "output_type": "stream",
     "text": [
      "TA\n",
      "Accuracy: 0.88\n",
      "Precision: 0.8\n",
      "Recall: 1.0\n",
      "FPR: 0.0\n",
      "FNR: 0.24\n"
     ]
    },
    {
     "data": {
      "image/png": "[encoded data removed]",
      "text/plain": [
       "<Figure size 432x288 with 2 Axes>"
      ]
     },
     "metadata": {
      "needs_background": "light"
     },
     "output_type": "display_data"
    }
   ],
   "source": [
    "from sklearn.metrics import accuracy_score, precision_score, recall_score, confusion_matrix\n",
    "import seaborn as sns\n",
    "import matplotlib.pyplot as plt\n",
    "\n",
    "def metrics(gt, pred):\n",
    "    metrics = {}\n",
    "    metrics[\"accuracy\"] = round(accuracy_score(gt, pred), 2)\n",
    "    metrics[\"precision\"] = round(precision_score(gt, pred), 2)\n",
    "    metrics[\"recall\"] = round(recall_score(gt, pred), 2)\n",
    "    metrics[\"confusion matrix\"] = confusion_matrix(gt, pred)\n",
    "    metrics[\"false positive rate\"] = round(metrics[\"confusion matrix\"][1, 0]/(metrics[\"confusion matrix\"][1, 1] + metrics[\"confusion matrix\"][1, 0]), 2)\n",
    "    metrics[\"false negative rate\"] = round(metrics[\"confusion matrix\"][0, 1]/(metrics[\"confusion matrix\"][0, 0] + metrics[\"confusion matrix\"][0, 1]), 2)\n",
    "    \n",
    "    return metrics\n",
    "\n",
    "for location in list(y_gt.keys()):\n",
    "    print(location)\n",
    "    m = metrics(y_gt[location], y_pred[location])\n",
    "    print(\"Accuracy:\", m[\"accuracy\"])\n",
    "    print(\"Precision:\", m[\"precision\"])\n",
    "    print(\"Recall:\", m[\"recall\"])\n",
    "    print(\"FPR:\", m[\"false positive rate\"])\n",
    "    print(\"FNR:\", m[\"false negative rate\"])\n",
    "    sns.heatmap(m[\"confusion matrix\"], annot=True)\n",
    "    plt.show()"
   ]
  },
  {
   "cell_type": "markdown",
   "id": "70eaa861",
   "metadata": {},
   "source": [
    "### Create dataset using MPH input bands "
   ]
  },
  {
   "cell_type": "code",
   "execution_count": 7,
   "id": "73f71528",
   "metadata": {},
   "outputs": [],
   "source": [
    "sentinel3_dataset_path = os.path.join(settings.final_data_path, \"s3_brrs.json\")"
   ]
  },
  {
   "cell_type": "code",
   "execution_count": 14,
   "id": "84f57ccd",
   "metadata": {},
   "outputs": [],
   "source": [
    "sentinel3_dataset = []\n",
    "data_generator = OLCIdataGenerator(DATA_PATH, DATE_FORMAT, dates_list=all_gt_dates.tolist(), skip_invalid=False)\n",
    "bands_names = [\"rBRR_07\", \"rBRR_08\", \"rBRR_10\", \"rBRR_11\", \"rBRR_12\", \"rBRR_18\"]\n",
    "\n",
    "for olci_data in data_generator:\n",
    "    dataset_entry = {}\n",
    "    dataset_entry[\"date\"] = str(olci_data.date.date())\n",
    "    \n",
    "    # set None as default for every sampling location data\n",
    "    for location_name in sampling_points_coords.keys():\n",
    "        dataset_entry[location_name] = {b_name: None for b_name in bands_names}\n",
    "    \n",
    "    # skip further processing for dates with clouds\n",
    "    if olci_data.metadata[\"cloud level\"] == \"0\":\n",
    "        sentinel3_dataset.append(dataset_entry)\n",
    "        continue\n",
    "    \n",
    "    # store 3x3 array of every band around location coords for days without clouds\n",
    "    for location_name, location_coords in sampling_points_coords.items():\n",
    "        i, j = olci_data.get_pos_index(location_coords[0], location_coords[1])\n",
    "        for b_name in bands_names:\n",
    "            dataset_entry[location_name][b_name] = olci_data.brrs_arrays[b_name][i-1:i+2, j-1:j+2].tolist()\n",
    "    sentinel3_dataset.append(dataset_entry)\n",
    "    "
   ]
  },
  {
   "cell_type": "code",
   "execution_count": 15,
   "id": "d8f9edb8",
   "metadata": {},
   "outputs": [
    {
     "data": {
      "text/plain": [
       "{'date': '2016-12-22',\n",
       " 'SAUCE NORTE': {'rBRR_07': [[0.25821977853775024,\n",
       "    0.25183603167533875,\n",
       "    0.24392656981945038],\n",
       "   [0.2523579001426697, 0.24953269958496094, 0.2480267435312271],\n",
       "   [0.2522714138031006, 0.2509464919567108, 0.2516126334667206]],\n",
       "  'rBRR_08': [[0.2560546398162842, 0.24945250153541565, 0.24190829694271088],\n",
       "   [0.24948318302631378, 0.24796615540981293, 0.2461957335472107],\n",
       "   [0.24914249777793884, 0.24927520751953125, 0.249017134308815]],\n",
       "  'rBRR_10': [[0.25526732206344604, 0.24960757791996002, 0.24174150824546814],\n",
       "   [0.2494700849056244, 0.24790552258491516, 0.2456950545310974],\n",
       "   [0.2493899166584015, 0.24859470129013062, 0.24902519583702087]],\n",
       "  'rBRR_11': [[0.2762608528137207, 0.268251895904541, 0.2592262923717499],\n",
       "   [0.2681799829006195, 0.26568686962127686, 0.26322489976882935],\n",
       "   [0.26654213666915894, 0.2665742039680481, 0.26653581857681274]],\n",
       "  'rBRR_12': [[0.3095884621143341, 0.2981610596179962, 0.28540176153182983],\n",
       "   [0.29599910974502563, 0.2920823395252228, 0.29081520438194275],\n",
       "   [0.29393887519836426, 0.2931068539619446, 0.29370808601379395]],\n",
       "  'rBRR_18': [[0.3177559971809387, 0.30394697189331055, 0.2908850610256195],\n",
       "   [0.3030928075313568, 0.29853421449661255, 0.2959064543247223],\n",
       "   [0.2996555268764496, 0.2998252809047699, 0.2992178499698639]]},\n",
       " 'SAUCE SUR': {'rBRR_07': [[0.2821902334690094,\n",
       "    0.2773815989494324,\n",
       "    0.27006545662879944],\n",
       "   [0.2855229079723358, 0.2821885645389557, 0.2764396071434021],\n",
       "   [0.28818479180336, 0.28567758202552795, 0.2833041846752167]],\n",
       "  'rBRR_08': [[0.27923405170440674, 0.27547770738601685, 0.268034964799881],\n",
       "   [0.28344568610191345, 0.27918577194213867, 0.2732776701450348],\n",
       "   [0.2855985760688782, 0.2828484773635864, 0.2807385325431824]],\n",
       "  'rBRR_10': [[0.2790931165218353, 0.275330126285553, 0.2685747742652893],\n",
       "   [0.28279128670692444, 0.27913179993629456, 0.27295923233032227],\n",
       "   [0.28534743189811707, 0.28278839588165283, 0.2805198132991791]],\n",
       "  'rBRR_11': [[0.29355019330978394, 0.2906376123428345, 0.282106876373291],\n",
       "   [0.2971043884754181, 0.2939814329147339, 0.2872346341609955],\n",
       "   [0.2999982535839081, 0.297049880027771, 0.2938716411590576]],\n",
       "  'rBRR_12': [[0.3182101249694824, 0.3142969608306885, 0.30580177903175354],\n",
       "   [0.321880966424942, 0.3193349838256836, 0.31194886565208435],\n",
       "   [0.3234034776687622, 0.3219207525253296, 0.31865882873535156]],\n",
       "  'rBRR_18': [[0.32239580154418945, 0.3190823495388031, 0.31046515703201294],\n",
       "   [0.3266579806804657, 0.32454240322113037, 0.31526151299476624],\n",
       "   [0.32938939332962036, 0.32707443833351135, 0.32289639115333557]]},\n",
       " 'TA': {'rBRR_07': [[0.2745993435382843,\n",
       "    0.26428550481796265,\n",
       "    0.2656996250152588],\n",
       "   [0.27095827460289, 0.26390835642814636, 0.26508963108062744],\n",
       "   [0.2644975483417511, 0.26362067461013794, 0.26397427916526794]],\n",
       "  'rBRR_08': [[0.2721039950847626, 0.26186785101890564, 0.26293864846229553],\n",
       "   [0.26904094219207764, 0.26235178112983704, 0.2626441419124603],\n",
       "   [0.2625662684440613, 0.2620343863964081, 0.26255571842193604]],\n",
       "  'rBRR_10': [[0.27230650186538696, 0.2620191276073456, 0.2635090947151184],\n",
       "   [0.2685924172401428, 0.2610456943511963, 0.26309704780578613],\n",
       "   [0.26157379150390625, 0.26069554686546326, 0.2621445059776306]],\n",
       "  'rBRR_11': [[0.2883349359035492, 0.2775796353816986, 0.27999910712242126],\n",
       "   [0.2848508059978485, 0.276914119720459, 0.27914056181907654],\n",
       "   [0.2761539816856384, 0.27633681893348694, 0.2775748074054718]],\n",
       "  'rBRR_12': [[0.31744951009750366, 0.3032902181148529, 0.3075490891933441],\n",
       "   [0.3120495676994324, 0.30075308680534363, 0.30569708347320557],\n",
       "   [0.301023930311203, 0.3009738028049469, 0.3035294711589813]],\n",
       "  'rBRR_18': [[0.3234565258026123, 0.3065432608127594, 0.31355178356170654],\n",
       "   [0.31614065170288086, 0.3062361180782318, 0.31177568435668945],\n",
       "   [0.3046717941761017, 0.306150883436203, 0.30882811546325684]]}}"
      ]
     },
     "execution_count": 15,
     "metadata": {},
     "output_type": "execute_result"
    }
   ],
   "source": [
    "sentinel3_dataset[0]"
   ]
  },
  {
   "cell_type": "code",
   "execution_count": 16,
   "id": "ea8b77ca",
   "metadata": {},
   "outputs": [],
   "source": [
    "import json\n",
    "\n",
    "with open(sentinel3_dataset_path, \"w\") as outfile:\n",
    "    json.dump(sentinel3_dataset, outfile)"
   ]
  }
 ],
 "metadata": {
  "kernelspec": {
   "display_name": "cyano_venv",
   "language": "python",
   "name": "cyano_venv"
  },
  "language_info": {
   "codemirror_mode": {
    "name": "ipython",
    "version": 3
   },
   "file_extension": ".py",
   "mimetype": "text/x-python",
   "name": "python",
   "nbconvert_exporter": "python",
   "pygments_lexer": "ipython3",
   "version": "3.6.13"
  }
 },
 "nbformat": 4,
 "nbformat_minor": 5
}

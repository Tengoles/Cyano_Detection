{
 "cells": [
  {
   "cell_type": "code",
   "execution_count": 1,
   "id": "15f53189-a2ac-46bc-b343-b9b460be1835",
   "metadata": {},
   "outputs": [],
   "source": [
    "import os\n",
    "import sys\n",
    "sys.path.append(\"../\")\n",
    "import csv\n",
    "from datetime import datetime, timedelta\n",
    "import pandas as pd\n",
    "import numpy as np\n",
    "import matplotlib.pyplot as plt\n",
    "\n",
    "import settings\n",
    "from process_sentinel3 import OLCIdata, OLCIdataGenerator"
   ]
  },
  {
   "cell_type": "code",
   "execution_count": 2,
   "id": "79e50b72-69ad-41c3-9fcc-ecb7f74a9b64",
   "metadata": {},
   "outputs": [],
   "source": [
    "DATA_PATH = settings.processed_data_path\n",
    "fico_gt_path = os.path.join(settings.final_data_path, \"gt.csv\")\n",
    "DATE_FORMAT = '%Y-%m-%d'\n",
    "\n",
    "#contorno interno lat/lon\n",
    "INTERNAL_CONTOUR = [[-34.85044049, -55.05341557], [-34.85254593, -55.06282895], [-34.84523452, -55.07215948], \n",
    "                    [-34.84214073, -55.08336897], [-34.83733203, -55.08595825], [-34.830501, -55.07932854], \n",
    "                    [-34.82322889, -55.07377278], [-34.81443658, -55.06745663], [-34.80518264, -55.06063834], \n",
    "                   [-34.79828906, -55.05565486], [-34.79200075, -55.04700809], [-34.80233605, -55.04418996],\n",
    "                   [-34.81042967, -55.04493995], [-34.82011843, -55.04664643], [-34.82953074, -55.04855582],\n",
    "                   [-34.83996726, -55.0500401], [-34.85044049, -55.05341557]]\n",
    "# lon/lat\n",
    "INTERNAL_CONTOUR_2 = [[coord[1], coord[0]] for coord in INTERNAL_CONTOUR]"
   ]
  },
  {
   "cell_type": "code",
   "execution_count": 3,
   "id": "d1343bea-20ff-4514-b6cb-ff73763e9725",
   "metadata": {},
   "outputs": [
    {
     "name": "stdout",
     "output_type": "stream",
     "text": [
      "['2015-12-30' '2016-01-07' '2016-01-13' '2016-01-23' '2016-01-27'\n",
      " '2016-02-03' '2016-02-10' '2016-02-18' '2016-02-24' '2016-03-02'\n",
      " '2016-03-10' '2016-03-22' '2016-03-29' '2016-04-07' '2016-12-01'\n",
      " '2016-12-09' '2016-12-16' '2016-12-22' '2017-01-02' '2017-01-11'\n",
      " '2017-01-18' '2017-01-24' '2017-02-02' '2017-02-08' '2017-02-15'\n",
      " '2017-02-22' '2017-03-01' '2017-03-08' '2017-03-23' '2017-03-31'\n",
      " '2017-04-07' '2017-12-07' '2017-12-28' '2018-01-03' '2018-01-11'\n",
      " '2018-01-18' '2018-01-25' '2018-01-31' '2018-02-08' '2018-02-15'\n",
      " '2018-02-22' '2018-03-01' '2018-03-07' '2018-03-26' '2018-04-05'\n",
      " '2018-04-18' '2018-11-13' '2018-11-20' '2018-11-30' '2018-12-13'\n",
      " '2018-12-20' '2018-12-28' '2019-01-04' '2019-01-11' '2019-01-18'\n",
      " '2019-01-24' '2019-01-31' '2019-02-07' '2019-02-15' '2019-02-21'\n",
      " '2019-03-01' '2019-03-07' '2019-03-14' '2019-03-22' '2019-03-29'\n",
      " '2019-04-04' '2019-04-12' '2019-05-18' '2019-08-01' '2019-09-22'\n",
      " '2019-11-06' '2019-11-15' '2019-11-27' '2019-12-13' '2019-12-23'\n",
      " '2019-12-30' '2020-01-02' '2020-01-04' '2020-01-05' '2020-01-06'\n",
      " '2020-01-07' '2020-01-08' '2020-01-09' '2020-01-10' '2020-01-11'\n",
      " '2020-01-12' '2020-01-13' '2020-01-14' '2020-01-15' '2020-01-16'\n",
      " '2020-01-17' '2020-01-18' '2020-01-19' '2020-01-20' '2020-01-21'\n",
      " '2020-01-22' '2020-01-23' '2020-01-24' '2020-01-25' '2020-01-26'\n",
      " '2020-01-27' '2020-01-29' '2020-01-30' '2020-01-31' '2020-02-01'\n",
      " '2020-02-02' '2020-02-03' '2020-02-04' '2020-02-05' '2020-02-06'\n",
      " '2020-02-07' '2020-02-08' '2020-02-10' '2020-02-11' '2020-02-12'\n",
      " '2020-02-13' '2020-02-14' '2020-02-15' '2020-02-17' '2020-02-18'\n",
      " '2020-02-19' '2020-02-24' '2020-02-25' '2020-02-27' '2020-02-28'\n",
      " '2020-03-02' '2020-03-03' '2020-03-04' '2020-03-05' '2020-03-06'\n",
      " '2020-03-07' '2020-03-08' '2020-03-09' '2020-03-10' '2020-03-11'\n",
      " '2020-03-12' '2020-03-13' '2020-03-14' '2020-03-15' '2020-03-17'\n",
      " '2020-03-18' '2020-03-19' '2020-03-20' '2020-03-21' '2020-03-22'\n",
      " '2020-03-23' '2020-03-24' '2020-03-25' '2020-03-26' '2020-03-27'\n",
      " '2020-03-28' '2020-03-29' '2020-03-30' '2020-03-31' '2020-04-01'\n",
      " '2020-04-03' '2020-04-04' '2020-04-05' '2020-04-06' '2020-04-07'\n",
      " '2020-04-08' '2020-04-09' '2020-04-10' '2020-04-11' '2020-04-12'\n",
      " '2020-04-13' '2020-04-14' '2020-04-15' '2020-04-16' '2020-04-17'\n",
      " '2020-04-18' '2020-04-19' '2020-04-20' '2020-04-21' '2020-04-23'\n",
      " '2020-04-24' '2020-04-26' '2020-04-27' '2020-04-28' '2020-04-29'\n",
      " '2020-04-30' '2020-05-01' '2020-05-02' '2020-05-03' '2020-05-04'\n",
      " '2020-05-05' '2020-05-06' '2020-05-07' '2020-05-08' '2020-05-09'\n",
      " '2020-05-10' '2020-05-11' '2020-05-12' '2020-05-13' '2020-05-14'\n",
      " '2020-05-15' '2020-05-16' '2020-05-17' '2020-05-18' '2020-05-19'\n",
      " '2020-05-21' '2020-05-22' '2020-05-23' '2020-05-25' '2020-05-27'\n",
      " '2020-05-28' '2020-05-29' '2020-05-30' '2020-06-01' '2020-06-02'\n",
      " '2020-06-03' '2020-06-04' '2020-06-05' '2020-06-08' '2020-06-09'\n",
      " '2020-06-10' '2020-06-11' '2020-06-15' '2020-06-16' '2020-06-17'\n",
      " '2020-06-18' '2020-06-19' '2020-06-22' '2020-06-23' '2020-06-24'\n",
      " '2020-08-31' '2020-09-03' '2020-09-10' '2020-09-14' '2020-09-17'\n",
      " '2020-09-24' '2020-10-05' '2020-10-08' '2020-10-13' '2020-10-19'\n",
      " '2020-10-22' '2020-10-26' '2020-10-29' '2020-10-31' '2020-11-01'\n",
      " '2020-11-02' '2020-11-05' '2021-02-04']\n",
      "Total dates in GT: 243\n"
     ]
    },
    {
     "data": {
      "text/html": [
       "<div>\n",
       "<style scoped>\n",
       "    .dataframe tbody tr th:only-of-type {\n",
       "        vertical-align: middle;\n",
       "    }\n",
       "\n",
       "    .dataframe tbody tr th {\n",
       "        vertical-align: top;\n",
       "    }\n",
       "\n",
       "    .dataframe thead th {\n",
       "        text-align: right;\n",
       "    }\n",
       "</style>\n",
       "<table border=\"1\" class=\"dataframe\">\n",
       "  <thead>\n",
       "    <tr style=\"text-align: right;\">\n",
       "      <th></th>\n",
       "      <th>date</th>\n",
       "      <th>location</th>\n",
       "      <th>fico</th>\n",
       "      <th>chl</th>\n",
       "    </tr>\n",
       "  </thead>\n",
       "  <tbody>\n",
       "    <tr>\n",
       "      <th>0</th>\n",
       "      <td>2015-12-30</td>\n",
       "      <td>MALLORQUINA</td>\n",
       "      <td>5032.50</td>\n",
       "      <td>10.00</td>\n",
       "    </tr>\n",
       "    <tr>\n",
       "      <th>1</th>\n",
       "      <td>2015-12-30</td>\n",
       "      <td>ARROYO SAUCE</td>\n",
       "      <td>5345.50</td>\n",
       "      <td>21.80</td>\n",
       "    </tr>\n",
       "    <tr>\n",
       "      <th>2</th>\n",
       "      <td>2015-12-30</td>\n",
       "      <td>SAUCE NORTE</td>\n",
       "      <td>4282.50</td>\n",
       "      <td>7.50</td>\n",
       "    </tr>\n",
       "    <tr>\n",
       "      <th>3</th>\n",
       "      <td>2015-12-30</td>\n",
       "      <td>SAUCE SUR</td>\n",
       "      <td>5388.00</td>\n",
       "      <td>7.50</td>\n",
       "    </tr>\n",
       "    <tr>\n",
       "      <th>4</th>\n",
       "      <td>2015-12-30</td>\n",
       "      <td>CISNES</td>\n",
       "      <td>9082.50</td>\n",
       "      <td>18.45</td>\n",
       "    </tr>\n",
       "    <tr>\n",
       "      <th>...</th>\n",
       "      <td>...</td>\n",
       "      <td>...</td>\n",
       "      <td>...</td>\n",
       "      <td>...</td>\n",
       "    </tr>\n",
       "    <tr>\n",
       "      <th>669</th>\n",
       "      <td>2020-10-31</td>\n",
       "      <td>TA</td>\n",
       "      <td>1083.00</td>\n",
       "      <td>NaN</td>\n",
       "    </tr>\n",
       "    <tr>\n",
       "      <th>670</th>\n",
       "      <td>2020-11-01</td>\n",
       "      <td>TA</td>\n",
       "      <td>47.00</td>\n",
       "      <td>NaN</td>\n",
       "    </tr>\n",
       "    <tr>\n",
       "      <th>671</th>\n",
       "      <td>2020-11-02</td>\n",
       "      <td>TA</td>\n",
       "      <td>5.96</td>\n",
       "      <td>NaN</td>\n",
       "    </tr>\n",
       "    <tr>\n",
       "      <th>672</th>\n",
       "      <td>2020-11-05</td>\n",
       "      <td>TA</td>\n",
       "      <td>9.06</td>\n",
       "      <td>NaN</td>\n",
       "    </tr>\n",
       "    <tr>\n",
       "      <th>673</th>\n",
       "      <td>2021-02-04</td>\n",
       "      <td>TA</td>\n",
       "      <td>1.77</td>\n",
       "      <td>NaN</td>\n",
       "    </tr>\n",
       "  </tbody>\n",
       "</table>\n",
       "<p>674 rows × 4 columns</p>\n",
       "</div>"
      ],
      "text/plain": [
       "           date      location     fico    chl\n",
       "0    2015-12-30   MALLORQUINA  5032.50  10.00\n",
       "1    2015-12-30  ARROYO SAUCE  5345.50  21.80\n",
       "2    2015-12-30   SAUCE NORTE  4282.50   7.50\n",
       "3    2015-12-30     SAUCE SUR  5388.00   7.50\n",
       "4    2015-12-30        CISNES  9082.50  18.45\n",
       "..          ...           ...      ...    ...\n",
       "669  2020-10-31            TA  1083.00    NaN\n",
       "670  2020-11-01            TA    47.00    NaN\n",
       "671  2020-11-02            TA     5.96    NaN\n",
       "672  2020-11-05            TA     9.06    NaN\n",
       "673  2021-02-04            TA     1.77    NaN\n",
       "\n",
       "[674 rows x 4 columns]"
      ]
     },
     "execution_count": 3,
     "metadata": {},
     "output_type": "execute_result"
    }
   ],
   "source": [
    "ficocianina_df = pd.read_csv(fico_gt_path)\n",
    "all_gt_dates = ficocianina_df.date.unique()\n",
    "print(all_gt_dates)\n",
    "print(f\"Total dates in GT: {len(all_gt_dates)}\")\n",
    "ficocianina_df"
   ]
  },
  {
   "cell_type": "code",
   "execution_count": 4,
   "id": "3f8f464a-f76d-42da-8278-4870e73dfcc3",
   "metadata": {},
   "outputs": [],
   "source": [
    "data_generator = OLCIdataGenerator(DATA_PATH, DATE_FORMAT, dates_list=all_gt_dates.tolist(), skip_invalid=False,\n",
    "                                  mask_coordinates=INTERNAL_CONTOUR_2)\n",
    "\n",
    "data_generator_skip_invalid = OLCIdataGenerator(DATA_PATH, DATE_FORMAT, dates_list=all_gt_dates.tolist(), skip_invalid=True,\n",
    "                                  mask_coordinates=INTERNAL_CONTOUR_2)"
   ]
  },
  {
   "cell_type": "markdown",
   "id": "4f200bf9-0b7f-4d2b-8b5a-fe756aeec8b0",
   "metadata": {},
   "source": [
    "### Satellite availability"
   ]
  },
  {
   "cell_type": "code",
   "execution_count": 5,
   "id": "649a1596-5676-43c3-9fda-54b51fc8b710",
   "metadata": {},
   "outputs": [],
   "source": [
    "first_sentinel3B_date = \"2018-11-30\""
   ]
  },
  {
   "cell_type": "code",
   "execution_count": 6,
   "id": "42fd0444-b2cb-45b7-b0b0-8651281ca4ac",
   "metadata": {},
   "outputs": [
    {
     "name": "stdout",
     "output_type": "stream",
     "text": [
      "Sentinel-3 acquisition rate after S-3B: 1.18\n",
      "Sentinel-3 acquisition rate after S-3B without clouds: 0.43\n"
     ]
    }
   ],
   "source": [
    "fico_df_after_s3b = ficocianina_df[ficocianina_df[\"date\"] >= first_sentinel3B_date]\n",
    "\n",
    "days_after_s3b_all = [d for d in data_generator if d.date >= datetime.strptime(first_sentinel3B_date, \"%Y-%m-%d\")]\n",
    "satellite_acquisition_all = round(len(days_after_s3b_all)/len(fico_df_after_s3b[\"date\"].unique()),2)\n",
    "print(f\"Sentinel-3 acquisition rate after S-3B: {satellite_acquisition_all}\")\n",
    "\n",
    "days_after_s3b_skip_invalid = [d for d in data_generator_skip_invalid if d.date >= datetime.strptime(first_sentinel3B_date, \"%Y-%m-%d\")]\n",
    "satellite_acquisition_clear =  round(len(days_after_s3b_skip_invalid)/len(fico_df_after_s3b[\"date\"].unique()), 2)\n",
    "print(f\"Sentinel-3 acquisition rate after S-3B without clouds: {satellite_acquisition_clear}\")"
   ]
  },
  {
   "cell_type": "code",
   "execution_count": 7,
   "id": "de5e836e-9604-4e38-8b2b-8f77ee8debcf",
   "metadata": {},
   "outputs": [],
   "source": [
    "BLOOM_THRESHOLD = 10000"
   ]
  },
  {
   "cell_type": "code",
   "execution_count": 24,
   "id": "95e481fe-fa7f-4867-92e4-6c2b70f80f32",
   "metadata": {},
   "outputs": [],
   "source": [
    "bloom_df = ficocianina_df[ficocianina_df[\"fico\"] >= BLOOM_THRESHOLD]\n",
    "bloom_dates = bloom_df.date.unique()\n",
    "\n",
    "y_gt = []\n",
    "y_pred = []\n",
    "for day in data_generator_skip_invalid:\n",
    "    if day.date >= datetime.strptime(first_sentinel3B_date, \"%Y-%m-%d\"):\n",
    "        immersed_mask = day.mph.immersed_cyanobacteria*day.laguna_mask\n",
    "        count_immersed = np.count_nonzero(immersed_mask)\n",
    "        floating_mask = day.mph.floating_cyanobacteria*day.laguna_mask\n",
    "        count_floating = np.count_nonzero(day.mph.floating_cyanobacteria*day.laguna_mask)\n",
    "        count_total = count_immersed + count_floating\n",
    "\n",
    "        y_pred.append(count_total > 100)\n",
    "\n",
    "        day_fico_df = ficocianina_df[ficocianina_df[\"date\"] == str(day.date.date())]\n",
    "        fico_mean = day_fico_df[day_fico_df[\"location\"].isin([\"SAUCE NORTE\", \"SAUCE SUR\", \"TA\"])][\"fico\"].mean()\n",
    "        y_gt.append(fico_mean > BLOOM_THRESHOLD)"
   ]
  },
  {
   "cell_type": "code",
   "execution_count": 28,
   "id": "d4947ea2-6012-4a0f-b7b0-2272812ab680",
   "metadata": {},
   "outputs": [
    {
     "name": "stdout",
     "output_type": "stream",
     "text": [
      "Accuracy: 0.75\n"
     ]
    },
    {
     "data": {
      "image/png": "[encoded data removed]",
      "text/plain": [
       "<Figure size 432x288 with 2 Axes>"
      ]
     },
     "metadata": {
      "needs_background": "light"
     },
     "output_type": "display_data"
    }
   ],
   "source": [
    "from sklearn.metrics import accuracy_score\n",
    "from sklearn.metrics import confusion_matrix\n",
    "import seaborn as sns\n",
    "\n",
    "conf = confusion_matrix(y_gt, y_pred)\n",
    "sns.heatmap(conf, annot=True)\n",
    "\n",
    "acc = accuracy_score(y_gt, y_pred)\n",
    "print(\"Accuracy:\", round(acc, 2))"
   ]
  },
  {
   "cell_type": "code",
   "execution_count": null,
   "id": "bb55c87e-4817-4f77-b60e-ba5e6eadac4a",
   "metadata": {},
   "outputs": [],
   "source": []
  }
 ],
 "metadata": {
  "kernelspec": {
   "display_name": "cyano_venv",
   "language": "python",
   "name": "cyano_venv"
  },
  "language_info": {
   "codemirror_mode": {
    "name": "ipython",
    "version": 3
   },
   "file_extension": ".py",
   "mimetype": "text/x-python",
   "name": "python",
   "nbconvert_exporter": "python",
   "pygments_lexer": "ipython3",
   "version": "3.6.13"
  }
 },
 "nbformat": 4,
 "nbformat_minor": 5
}

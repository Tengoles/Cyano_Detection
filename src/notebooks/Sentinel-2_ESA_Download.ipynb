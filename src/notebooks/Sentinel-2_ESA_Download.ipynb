{
 "cells": [
  {
   "cell_type": "code",
   "execution_count": 1,
   "metadata": {},
   "outputs": [],
   "source": [
    "import os, sys\n",
    "import json\n",
    "sys.path.append(\"../\")\n",
    "import settings\n",
    "from sentinelsat_download import SentinelsatProducts\n",
    "from datetime import date, datetime\n",
    "import zipfile\n",
    "import time"
   ]
  },
  {
   "cell_type": "markdown",
   "metadata": {},
   "source": [
    "### Create global variables"
   ]
  },
  {
   "cell_type": "code",
   "execution_count": 2,
   "metadata": {},
   "outputs": [],
   "source": [
    "footprint = settings.footprint\n",
    "sentinel_api_user = settings.sentinel_api_user\n",
    "sentinel_api_key = settings.sentinel_api_key\n",
    "data_path = settings.raw_data_path"
   ]
  },
  {
   "cell_type": "markdown",
   "metadata": {},
   "source": [
    "### Download 2015-2016 data"
   ]
  },
  {
   "cell_type": "code",
   "execution_count": null,
   "metadata": {},
   "outputs": [],
   "source": [
    "print(\"Starting datetime:\", str(datetime.now()))\n",
    "\n",
    "date1 = date(2015, 11, 1)\n",
    "date2 = date(2016, 5, 31)\n",
    "\n",
    "datos__2016_2015 = SentinelsatProducts(date1, date2, footprint=footprint, platformname=\"Sentinel-2\", \n",
    "                                       instrument=\"MSI\", p_type='S2MSI1C')\n",
    "datos__2016_2015.download_products(data_path)\n",
    "print(\"Finish datetime: \", str(datetime.now()))"
   ]
  },
  {
   "cell_type": "markdown",
   "metadata": {},
   "source": [
    "### Download 2017-2018 data"
   ]
  },
  {
   "cell_type": "code",
   "execution_count": null,
   "metadata": {},
   "outputs": [],
   "source": [
    "print(\"Starting datetime:\", str(datetime.now()))\n",
    "\n",
    "date1 = date(2017, 11, 1)\n",
    "date2 = date(2018, 5, 31)\n",
    "\n",
    "datos__2017_2018 = SentinelsatProducts(date1, date2, footprint=footprint, platformname=\"Sentinel-2\", \n",
    "                                       instrument=\"MSI\", p_type='S2MSI1C')\n",
    "datos__2017_2018.download_products(data_path)\n",
    "print(\"Finish datetime: \", str(datetime.now()))"
   ]
  },
  {
   "cell_type": "markdown",
   "metadata": {},
   "source": [
    "### Download 2018-2019 data"
   ]
  },
  {
   "cell_type": "code",
   "execution_count": null,
   "metadata": {},
   "outputs": [],
   "source": [
    "print(\"Starting datetime:\", str(datetime.now()))\n",
    "\n",
    "date1 = date(2018, 11, 1)\n",
    "date2 = date(2019, 5, 31)\n",
    "\n",
    "datos__2018_2019 = SentinelsatProducts(date1, date2, footprint=footprint, platformname=\"Sentinel-2\", \n",
    "                                       instrument=\"MSI\", p_type='S2MSI1C')\n",
    "datos__2018_2019.download_products(data_path)\n",
    "\n",
    "print(\"Finish datetime: \", str(datetime.now()))"
   ]
  },
  {
   "cell_type": "markdown",
   "metadata": {},
   "source": [
    "### Download 2019-2020 data"
   ]
  },
  {
   "cell_type": "code",
   "execution_count": 10,
   "metadata": {},
   "outputs": [
    {
     "name": "stdout",
     "output_type": "stream",
     "text": [
      "Start datetime: 2022-11-13 18:23:19.200972\n",
      "-------------------------\n",
      "0 / 84\n",
      "2020-05-30\n",
      "/home/enzo/Cyano_Detection/data/raw/2020-05-30/S2B_MSIL1C_20200530T134209_N0209_R124_T21HXB_20200530T165357.SAFE already downloaded\n",
      "-------------------------\n",
      "1 / 84\n",
      "2020-05-27\n",
      "/home/enzo/Cyano_Detection/data/raw/2020-05-27/S2B_MSIL1C_20200527T133229_N0209_R081_T21HXB_20200527T164647.SAFE already downloaded\n",
      "-------------------------\n",
      "2 / 84\n",
      "2020-05-25\n",
      "/home/enzo/Cyano_Detection/data/raw/2020-05-25/S2A_MSIL1C_20200525T134221_N0209_R124_T21HXB_20200525T152009.SAFE already downloaded\n",
      "-------------------------\n",
      "3 / 84\n",
      "2020-05-22\n",
      "/home/enzo/Cyano_Detection/data/raw/2020-05-22/S2A_MSIL1C_20200522T133231_N0209_R081_T21HXB_20200522T182333.SAFE already downloaded\n",
      "-------------------------\n",
      "4 / 84\n",
      "2020-05-20\n",
      "/home/enzo/Cyano_Detection/data/raw/2020-05-20/S2B_MSIL1C_20200520T134209_N0209_R124_T21HXB_20200520T183524.SAFE already downloaded\n",
      "-------------------------\n",
      "5 / 84\n",
      "2020-05-17\n",
      "/home/enzo/Cyano_Detection/data/raw/2020-05-17/S2B_MSIL1C_20200517T133229_N0209_R081_T21HXB_20200517T150928.SAFE already downloaded\n",
      "-------------------------\n",
      "6 / 84\n",
      "2020-05-15\n",
      "/home/enzo/Cyano_Detection/data/raw/2020-05-15/S2A_MSIL1C_20200515T134221_N0209_R124_T21HXB_20200515T200613.SAFE already downloaded\n",
      "-------------------------\n",
      "7 / 84\n",
      "2020-05-12\n",
      "/home/enzo/Cyano_Detection/data/raw/2020-05-12/S2A_MSIL1C_20200512T133231_N0209_R081_T21HXB_20200512T151133.SAFE already downloaded\n",
      "-------------------------\n",
      "8 / 84\n",
      "2020-05-10\n",
      "/home/enzo/Cyano_Detection/data/raw/2020-05-10/S2B_MSIL1C_20200510T134209_N0209_R124_T21HXB_20200510T183818.SAFE already downloaded\n",
      "-------------------------\n",
      "9 / 84\n",
      "2020-05-07\n",
      "/home/enzo/Cyano_Detection/data/raw/2020-05-07/S2B_MSIL1C_20200507T133219_N0209_R081_T21HXB_20200507T150205.SAFE already downloaded\n",
      "-------------------------\n",
      "10 / 84\n",
      "2020-05-05\n",
      "/home/enzo/Cyano_Detection/data/raw/2020-05-05/S2A_MSIL1C_20200505T134211_N0209_R124_T21HXB_20200505T152327.SAFE already downloaded\n",
      "-------------------------\n",
      "11 / 84\n",
      "2020-05-02\n",
      "/home/enzo/Cyano_Detection/data/raw/2020-05-02/S2A_MSIL1C_20200502T133231_N0209_R081_T21HXB_20200502T151357.SAFE already downloaded\n",
      "-------------------------\n",
      "12 / 84\n",
      "2020-04-30\n",
      "/home/enzo/Cyano_Detection/data/raw/2020-04-30/S2B_MSIL1C_20200430T134209_N0209_R124_T21HXB_20200430T165419.SAFE already downloaded\n",
      "-------------------------\n",
      "13 / 84\n",
      "2020-04-27\n",
      "/home/enzo/Cyano_Detection/data/raw/2020-04-27/S2B_MSIL1C_20200427T133219_N0209_R081_T21HXB_20200427T151226.SAFE already downloaded\n",
      "-------------------------\n",
      "14 / 84\n",
      "2020-04-25\n",
      "/home/enzo/Cyano_Detection/data/raw/2020-04-25/S2A_MSIL1C_20200425T134211_N0209_R124_T21HXB_20200425T152459.SAFE already downloaded\n",
      "-------------------------\n",
      "15 / 84\n",
      "2020-04-22\n",
      "/home/enzo/Cyano_Detection/data/raw/2020-04-22/S2A_MSIL1C_20200422T133231_N0209_R081_T21HXB_20200422T195221.SAFE already downloaded\n",
      "-------------------------\n",
      "16 / 84\n",
      "2020-04-20\n",
      "/home/enzo/Cyano_Detection/data/raw/2020-04-20/S2B_MSIL1C_20200420T134209_N0209_R124_T21HXB_20200420T165908.SAFE already downloaded\n",
      "-------------------------\n",
      "17 / 84\n",
      "2020-04-17\n",
      "/home/enzo/Cyano_Detection/data/raw/2020-04-17/S2B_MSIL1C_20200417T133219_N0209_R081_T21HXB_20200417T164717.SAFE already downloaded\n",
      "-------------------------\n",
      "18 / 84\n",
      "2020-04-15\n",
      "/home/enzo/Cyano_Detection/data/raw/2020-04-15/S2A_MSIL1C_20200415T134211_N0209_R124_T21HXB_20200415T165901.SAFE already downloaded\n",
      "-------------------------\n",
      "19 / 84\n",
      "2020-04-12\n",
      "/home/enzo/Cyano_Detection/data/raw/2020-04-12/S2A_MSIL1C_20200412T133221_N0209_R081_T21HXB_20200412T151311.SAFE already downloaded\n",
      "-------------------------\n",
      "20 / 84\n",
      "2020-04-10\n",
      "/home/enzo/Cyano_Detection/data/raw/2020-04-10/S2B_MSIL1C_20200410T134209_N0209_R124_T21HXB_20200410T183325.SAFE already downloaded\n",
      "-------------------------\n",
      "21 / 84\n",
      "2020-04-07\n",
      "/home/enzo/Cyano_Detection/data/raw/2020-04-07/S2B_MSIL1C_20200407T133219_N0209_R081_T21HXB_20200407T150234.SAFE already downloaded\n",
      "-------------------------\n",
      "22 / 84\n",
      "2020-04-05\n",
      "/home/enzo/Cyano_Detection/data/raw/2020-04-05/S2A_MSIL1C_20200405T134211_N0209_R124_T21HXB_20200405T152340.SAFE already downloaded\n",
      "-------------------------\n",
      "23 / 84\n",
      "2020-04-02\n",
      "/home/enzo/Cyano_Detection/data/raw/2020-04-02/S2A_MSIL1C_20200402T133221_N0209_R081_T21HXB_20200402T151303.SAFE already downloaded\n",
      "-------------------------\n",
      "24 / 84\n",
      "2020-03-31\n",
      "/home/enzo/Cyano_Detection/data/raw/2020-03-31/S2B_MSIL1C_20200331T134209_N0209_R124_T21HXB_20200331T165744.SAFE already downloaded\n",
      "-------------------------\n",
      "25 / 84\n",
      "2020-03-28\n",
      "/home/enzo/Cyano_Detection/data/raw/2020-03-28/S2B_MSIL1C_20200328T133219_N0209_R081_T21HXB_20200328T151223.SAFE already downloaded\n",
      "-------------------------\n",
      "26 / 84\n",
      "2020-03-26\n",
      "/home/enzo/Cyano_Detection/data/raw/2020-03-26/S2A_MSIL1C_20200326T134211_N0209_R124_T21HXB_20200326T152251.SAFE already downloaded\n",
      "-------------------------\n",
      "27 / 84\n",
      "2020-03-23\n",
      "/home/enzo/Cyano_Detection/data/raw/2020-03-23/S2A_MSIL1C_20200323T133221_N0209_R081_T21HXB_20200323T182053.SAFE already downloaded\n",
      "-------------------------\n",
      "28 / 84\n",
      "2020-03-21\n",
      "/home/enzo/Cyano_Detection/data/raw/2020-03-21/S2B_MSIL1C_20200321T134209_N0209_R124_T21HXB_20200321T183821.SAFE already downloaded\n",
      "-------------------------\n",
      "29 / 84\n",
      "2020-03-18\n",
      "/home/enzo/Cyano_Detection/data/raw/2020-03-18/S2B_MSIL1C_20200318T133219_N0209_R081_T21HXB_20200318T151257.SAFE already downloaded\n",
      "-------------------------\n",
      "30 / 84\n",
      "2020-03-16\n",
      "/home/enzo/Cyano_Detection/data/raw/2020-03-16/S2A_MSIL1C_20200316T134211_N0209_R124_T21HXB_20200316T184200.SAFE already downloaded\n",
      "-------------------------\n",
      "31 / 84\n",
      "2020-03-13\n",
      "/home/enzo/Cyano_Detection/data/raw/2020-03-13/S2A_MSIL1C_20200313T133221_N0209_R081_T21HXB_20200313T151424.SAFE already downloaded\n",
      "-------------------------\n",
      "32 / 84\n",
      "2020-03-11\n",
      "/home/enzo/Cyano_Detection/data/raw/2020-03-11/S2B_MSIL1C_20200311T134209_N0209_R124_T21HXB_20200311T200157.SAFE already downloaded\n",
      "-------------------------\n",
      "33 / 84\n",
      "2020-03-08\n",
      "/home/enzo/Cyano_Detection/data/raw/2020-03-08/S2B_MSIL1C_20200308T133219_N0209_R081_T21HXB_20200308T150237.SAFE already downloaded\n",
      "-------------------------\n",
      "34 / 84\n",
      "2020-03-06\n",
      "/home/enzo/Cyano_Detection/data/raw/2020-03-06/S2A_MSIL1C_20200306T134211_N0209_R124_T21HXB_20200306T152308.SAFE already downloaded\n",
      "-------------------------\n",
      "35 / 84\n",
      "2020-03-03\n",
      "/home/enzo/Cyano_Detection/data/raw/2020-03-03/S2A_MSIL1C_20200303T133221_N0209_R081_T21HXB_20200303T151333.SAFE already downloaded\n",
      "-------------------------\n",
      "36 / 84\n",
      "2020-02-27\n",
      "/home/enzo/Cyano_Detection/data/raw/2020-02-27/S2B_MSIL1C_20200227T133219_N0209_R081_T21HXB_20200227T170525.SAFE already downloaded\n",
      "-------------------------\n",
      "37 / 84\n",
      "2020-03-01\n",
      "/home/enzo/Cyano_Detection/data/raw/2020-03-01/S2B_MSIL1C_20200301T134209_N0209_R124_T21HXB_20200301T165631.SAFE already downloaded\n",
      "-------------------------\n",
      "38 / 84\n",
      "2020-02-25\n"
     ]
    },
    {
     "name": "stderr",
     "output_type": "stream",
     "text": [
      "Downloading: 100%|██████████| 615M/615M [02:18<00:00, 4.44MB/s] \n",
      "MD5 checksumming: 100%|██████████| 615M/615M [00:00<00:00, 759MB/s] \n"
     ]
    },
    {
     "name": "stdout",
     "output_type": "stream",
     "text": [
      "-------------------------\n",
      "39 / 84\n",
      "2020-02-22\n"
     ]
    },
    {
     "name": "stderr",
     "output_type": "stream",
     "text": [
      "Downloading: 100%|██████████| 683M/683M [02:49<00:00, 4.04MB/s] \n",
      "MD5 checksumming: 100%|██████████| 683M/683M [00:00<00:00, 763MB/s] \n"
     ]
    },
    {
     "name": "stdout",
     "output_type": "stream",
     "text": [
      "-------------------------\n",
      "40 / 84\n",
      "2020-02-20\n",
      "/home/enzo/Cyano_Detection/data/raw/2020-02-20/S2B_MSIL1C_20200220T134209_N0209_R124_T21HXB_20200220T170100.SAFE already downloaded\n",
      "-------------------------\n",
      "41 / 84\n",
      "2020-02-17\n",
      "/home/enzo/Cyano_Detection/data/raw/2020-02-17/S2B_MSIL1C_20200217T133219_N0209_R081_T21HXB_20200217T151140.SAFE already downloaded\n",
      "-------------------------\n",
      "42 / 84\n",
      "2020-02-15\n"
     ]
    },
    {
     "name": "stderr",
     "output_type": "stream",
     "text": [
      "Downloading: 100%|██████████| 633M/633M [02:23<00:00, 4.42MB/s] \n",
      "MD5 checksumming: 100%|██████████| 633M/633M [00:00<00:00, 755MB/s] \n"
     ]
    },
    {
     "name": "stdout",
     "output_type": "stream",
     "text": [
      "-------------------------\n",
      "43 / 84\n",
      "2020-02-12\n",
      "/home/enzo/Cyano_Detection/data/raw/2020-02-12/S2A_MSIL1C_20200212T133221_N0209_R081_T21HXB_20200212T153725.SAFE already downloaded\n",
      "-------------------------\n",
      "44 / 84\n",
      "2020-02-10\n",
      "/home/enzo/Cyano_Detection/data/raw/2020-02-10/S2B_MSIL1C_20200210T134209_N0209_R124_T21HXB_20200210T165835.SAFE already downloaded\n",
      "-------------------------\n",
      "45 / 84\n",
      "2020-02-07\n"
     ]
    },
    {
     "name": "stderr",
     "output_type": "stream",
     "text": [
      "Downloading: 100%|██████████| 632M/632M [02:26<00:00, 4.31MB/s] \n",
      "MD5 checksumming: 100%|██████████| 632M/632M [00:00<00:00, 754MB/s] \n"
     ]
    },
    {
     "name": "stdout",
     "output_type": "stream",
     "text": [
      "-------------------------\n",
      "46 / 84\n",
      "2020-02-05\n"
     ]
    },
    {
     "name": "stderr",
     "output_type": "stream",
     "text": [
      "Downloading: 100%|██████████| 726M/726M [02:52<00:00, 4.20MB/s] \n",
      "MD5 checksumming: 100%|██████████| 726M/726M [00:00<00:00, 765MB/s] \n"
     ]
    },
    {
     "name": "stdout",
     "output_type": "stream",
     "text": [
      "-------------------------\n",
      "47 / 84\n",
      "2020-02-02\n"
     ]
    },
    {
     "name": "stderr",
     "output_type": "stream",
     "text": [
      "Downloading: 100%|██████████| 549M/549M [02:17<00:00, 4.00MB/s] \n",
      "MD5 checksumming: 100%|██████████| 549M/549M [00:00<00:00, 765MB/s] \n"
     ]
    },
    {
     "name": "stdout",
     "output_type": "stream",
     "text": [
      "-------------------------\n",
      "48 / 84\n",
      "2020-01-31\n",
      "/home/enzo/Cyano_Detection/data/raw/2020-01-31/S2B_MSIL1C_20200131T134209_N0208_R124_T21HXB_20200131T165734.SAFE already downloaded\n",
      "-------------------------\n",
      "49 / 84\n",
      "2020-01-28\n",
      "/home/enzo/Cyano_Detection/data/raw/2020-01-28/S2B_MSIL1C_20200128T133219_N0208_R081_T21HXB_20200128T150923.SAFE already downloaded\n",
      "-------------------------\n",
      "50 / 84\n",
      "2020-01-26\n",
      "/home/enzo/Cyano_Detection/data/raw/2020-01-26/S2A_MSIL1C_20200126T134201_N0208_R124_T21HXB_20200126T165445.SAFE already downloaded\n",
      "-------------------------\n",
      "51 / 84\n",
      "2020-01-23\n"
     ]
    },
    {
     "name": "stderr",
     "output_type": "stream",
     "text": [
      "Downloading: 100%|██████████| 572M/572M [02:05<00:00, 4.57MB/s] \n",
      "MD5 checksumming: 100%|██████████| 572M/572M [00:00<00:00, 738MB/s] \n"
     ]
    },
    {
     "name": "stdout",
     "output_type": "stream",
     "text": [
      "-------------------------\n",
      "52 / 84\n",
      "2020-01-21\n"
     ]
    },
    {
     "name": "stderr",
     "output_type": "stream",
     "text": [
      "Downloading: 100%|██████████| 666M/666M [02:40<00:00, 4.16MB/s] \n",
      "MD5 checksumming: 100%|██████████| 666M/666M [00:00<00:00, 749MB/s] \n"
     ]
    },
    {
     "name": "stdout",
     "output_type": "stream",
     "text": [
      "-------------------------\n",
      "53 / 84\n",
      "2020-01-18\n"
     ]
    },
    {
     "name": "stderr",
     "output_type": "stream",
     "text": [
      "Downloading: 100%|██████████| 553M/553M [02:13<00:00, 4.13MB/s] \n",
      "MD5 checksumming: 100%|██████████| 553M/553M [00:00<00:00, 752MB/s] \n"
     ]
    },
    {
     "name": "stdout",
     "output_type": "stream",
     "text": [
      "-------------------------\n",
      "54 / 84\n",
      "2020-01-16\n"
     ]
    },
    {
     "name": "stderr",
     "output_type": "stream",
     "text": [
      "Downloading: 100%|██████████| 715M/715M [02:55<00:00, 4.08MB/s] \n",
      "MD5 checksumming: 100%|██████████| 715M/715M [00:00<00:00, 746MB/s] \n"
     ]
    },
    {
     "name": "stdout",
     "output_type": "stream",
     "text": [
      "-------------------------\n",
      "55 / 84\n",
      "2020-01-13\n",
      "Data from 2020-01-13 offline\n",
      "Accepted for retrieval\n",
      "-------------------------\n",
      "56 / 84\n",
      "2020-01-11\n",
      "/home/enzo/Cyano_Detection/data/raw/2020-01-11/S2B_MSIL1C_20200111T134209_N0208_R124_T21HXB_20200111T165531.SAFE already downloaded\n",
      "-------------------------\n",
      "57 / 84\n",
      "2020-01-08\n",
      "/home/enzo/Cyano_Detection/data/raw/2020-01-08/S2B_MSIL1C_20200108T133219_N0208_R081_T21HXB_20200108T150043.SAFE already downloaded\n",
      "-------------------------\n",
      "58 / 84\n",
      "2020-01-06\n",
      "Data from 2020-01-06 offline\n",
      "Accepted for retrieval\n",
      "-------------------------\n",
      "59 / 84\n",
      "2020-01-03\n",
      "/home/enzo/Cyano_Detection/data/raw/2020-01-03/S2A_MSIL1C_20200103T133221_N0208_R081_T21HXB_20200103T150903.SAFE already downloaded\n",
      "-------------------------\n",
      "60 / 84\n",
      "2020-01-01\n",
      "/home/enzo/Cyano_Detection/data/raw/2020-01-01/S2B_MSIL1C_20200101T134209_N0208_R124_T21HXB_20200101T165519.SAFE already downloaded\n",
      "-------------------------\n",
      "61 / 84\n",
      "2019-12-29\n",
      "/home/enzo/Cyano_Detection/data/raw/2019-12-29/S2B_MSIL1C_20191229T133219_N0208_R081_T21HXB_20191229T150930.SAFE already downloaded\n",
      "-------------------------\n",
      "62 / 84\n",
      "2019-12-27\n",
      "Data from 2019-12-27 offline\n",
      "Accepted for retrieval\n",
      "-------------------------\n",
      "63 / 84\n",
      "2019-12-24\n",
      "Data from 2019-12-24 offline\n",
      "Accepted for retrieval\n",
      "-------------------------\n",
      "64 / 84\n",
      "2019-12-22\n",
      "Data from 2019-12-22 offline\n",
      "Accepted for retrieval\n",
      "-------------------------\n",
      "65 / 84\n",
      "2019-12-19\n",
      "/home/enzo/Cyano_Detection/data/raw/2019-12-19/S2B_MSIL1C_20191219T133219_N0208_R081_T21HXB_20191219T150858.SAFE already downloaded\n",
      "-------------------------\n",
      "66 / 84\n",
      "2019-12-17\n",
      "Data from 2019-12-17 offline\n",
      "Accepted for retrieval\n",
      "-------------------------\n",
      "67 / 84\n",
      "2019-12-14\n",
      "/home/enzo/Cyano_Detection/data/raw/2019-12-14/S2A_MSIL1C_20191214T133221_N0208_R081_T21HXB_20191214T150834.SAFE already downloaded\n",
      "-------------------------\n",
      "68 / 84\n",
      "2019-12-12\n",
      "Data from 2019-12-12 offline\n",
      "Accepted for retrieval\n",
      "-------------------------\n",
      "69 / 84\n",
      "2019-12-09\n",
      "Data from 2019-12-09 offline\n",
      "Accepted for retrieval\n",
      "-------------------------\n",
      "70 / 84\n",
      "2019-12-07\n",
      "Data from 2019-12-07 offline\n",
      "Accepted for retrieval\n",
      "-------------------------\n",
      "71 / 84\n",
      "2019-12-04\n",
      "/home/enzo/Cyano_Detection/data/raw/2019-12-04/S2A_MSIL1C_20191204T133221_N0208_R081_T21HXB_20191204T150916.SAFE already downloaded\n",
      "-------------------------\n",
      "72 / 84\n",
      "2019-12-02\n",
      "Data from 2019-12-02 offline\n",
      "Accepted for retrieval\n",
      "-------------------------\n",
      "73 / 84\n",
      "2019-11-29\n",
      "/home/enzo/Cyano_Detection/data/raw/2019-11-29/S2B_MSIL1C_20191129T133219_N0208_R081_T21HXB_20191129T150912.SAFE already downloaded\n",
      "-------------------------\n",
      "74 / 84\n",
      "2019-11-27\n",
      "/home/enzo/Cyano_Detection/data/raw/2019-11-27/S2A_MSIL1C_20191127T134211_N0208_R124_T21HXB_20191127T152041.SAFE already downloaded\n",
      "-------------------------\n",
      "75 / 84\n",
      "2019-11-24\n",
      "/home/enzo/Cyano_Detection/data/raw/2019-11-24/S2A_MSIL1C_20191124T133231_N0208_R081_T21HXB_20191124T150910.SAFE already downloaded\n",
      "-------------------------\n",
      "76 / 84\n",
      "2019-11-22\n",
      "/home/enzo/Cyano_Detection/data/raw/2019-11-22/S2B_MSIL1C_20191122T134209_N0208_R124_T21HXB_20191122T165423.SAFE already downloaded\n",
      "-------------------------\n",
      "77 / 84\n",
      "2019-11-19\n",
      "Data from 2019-11-19 offline\n",
      "Accepted for retrieval\n",
      "-------------------------\n",
      "78 / 84\n",
      "2019-11-17\n",
      "Data from 2019-11-17 offline\n",
      "Accepted for retrieval\n",
      "-------------------------\n",
      "79 / 84\n",
      "2019-11-14\n",
      "/home/enzo/Cyano_Detection/data/raw/2019-11-14/S2A_MSIL1C_20191114T133231_N0208_R081_T21HXB_20191114T151007.SAFE already downloaded\n",
      "-------------------------\n",
      "80 / 84\n",
      "2019-11-12\n",
      "/home/enzo/Cyano_Detection/data/raw/2019-11-12/S2B_MSIL1C_20191112T134209_N0208_R124_T21HXB_20191112T165520.SAFE already downloaded\n",
      "-------------------------\n",
      "81 / 84\n",
      "2019-11-09\n",
      "Data from 2019-11-09 offline\n",
      "Accepted for retrieval\n",
      "-------------------------\n",
      "82 / 84\n",
      "2019-11-07\n",
      "/home/enzo/Cyano_Detection/data/raw/2019-11-07/S2A_MSIL1C_20191107T134211_N0208_R124_T21HXB_20191107T152051.SAFE already downloaded\n",
      "-------------------------\n",
      "83 / 84\n",
      "2019-11-04\n",
      "Data from 2019-11-04 offline\n",
      "Accepted for retrieval\n",
      "-------------------------\n",
      "84 / 84\n",
      "2019-11-02\n",
      "Data from 2019-11-02 offline\n",
      "Accepted for retrieval\n",
      "Finish datetime:  2022-11-13 18:50:16.870492\n"
     ]
    }
   ],
   "source": [
    "print(\"Start datetime:\", str(datetime.now()))\n",
    "\n",
    "date1 = date(2019, 11, 1)\n",
    "date2 = date(2020, 5, 31)\n",
    "\n",
    "datos__2019_2020 = SentinelsatProducts(date1, date2, footprint=footprint, platformname=\"Sentinel-2\", \n",
    "                                       instrument=\"MSI\", p_type='S2MSI1C')\n",
    "datos__2019_2020.download_products(data_path)\n",
    "\n",
    "print(\"Finish datetime: \", str(datetime.now()))"
   ]
  },
  {
   "cell_type": "markdown",
   "metadata": {},
   "source": [
    "### Download 2020-2021 data"
   ]
  },
  {
   "cell_type": "code",
   "execution_count": null,
   "metadata": {},
   "outputs": [],
   "source": [
    "print(\"Start datetime:\", str(datetime.now()))\n",
    "\n",
    "date1 = date(2020, 11, 1)\n",
    "date2 = date(2021, 5, 31)\n",
    "\n",
    "datos__2020_2021 = SentinelsatProducts(date1, date2, footprint=footprint, platformname=\"Sentinel-2\", \n",
    "                                       instrument=\"MSI\", p_type='S2MSI1C')\n",
    "datos__2020_2021.download_products(data_path)\n",
    "\n",
    "print(\"Finish datetime: \", str(datetime.now()))"
   ]
  },
  {
   "cell_type": "markdown",
   "metadata": {},
   "source": [
    "### Download 2021-2022 data"
   ]
  },
  {
   "cell_type": "code",
   "execution_count": 12,
   "metadata": {},
   "outputs": [
    {
     "name": "stdout",
     "output_type": "stream",
     "text": [
      "-------------------------\n",
      "0 / 84\n",
      "2022-05-30\n"
     ]
    },
    {
     "name": "stderr",
     "output_type": "stream",
     "text": [
      "Downloading: 100%|██████████| 747M/747M [02:56<00:00, 4.23MB/s] \n",
      "MD5 checksumming: 100%|██████████| 747M/747M [00:00<00:00, 762MB/s] \n"
     ]
    },
    {
     "name": "stdout",
     "output_type": "stream",
     "text": [
      "-------------------------\n",
      "1 / 84\n",
      "2022-05-27\n"
     ]
    },
    {
     "name": "stderr",
     "output_type": "stream",
     "text": [
      "Downloading: 100%|██████████| 547M/547M [02:16<00:00, 4.02MB/s] \n",
      "MD5 checksumming: 100%|██████████| 547M/547M [00:00<00:00, 748MB/s] \n"
     ]
    },
    {
     "name": "stdout",
     "output_type": "stream",
     "text": [
      "-------------------------\n",
      "2 / 84\n",
      "2022-05-25\n"
     ]
    },
    {
     "name": "stderr",
     "output_type": "stream",
     "text": [
      "Downloading: 100%|██████████| 548M/548M [02:10<00:00, 4.21MB/s] \n",
      "MD5 checksumming: 100%|██████████| 548M/548M [00:00<00:00, 753MB/s] \n"
     ]
    },
    {
     "name": "stdout",
     "output_type": "stream",
     "text": [
      "-------------------------\n",
      "3 / 84\n",
      "2022-05-22\n"
     ]
    },
    {
     "name": "stderr",
     "output_type": "stream",
     "text": [
      "Downloading: 100%|██████████| 576M/576M [02:13<00:00, 4.30MB/s] \n",
      "MD5 checksumming: 100%|██████████| 576M/576M [00:00<00:00, 758MB/s] \n"
     ]
    },
    {
     "name": "stdout",
     "output_type": "stream",
     "text": [
      "-------------------------\n",
      "4 / 84\n",
      "2022-05-20\n"
     ]
    },
    {
     "name": "stderr",
     "output_type": "stream",
     "text": [
      "Downloading: 100%|██████████| 650M/650M [02:35<00:00, 4.18MB/s] \n",
      "MD5 checksumming: 100%|██████████| 650M/650M [00:00<00:00, 750MB/s] \n"
     ]
    },
    {
     "name": "stdout",
     "output_type": "stream",
     "text": [
      "-------------------------\n",
      "5 / 84\n",
      "2022-05-17\n"
     ]
    },
    {
     "name": "stderr",
     "output_type": "stream",
     "text": [
      "Downloading: 100%|██████████| 555M/555M [02:14<00:00, 4.13MB/s] \n",
      "MD5 checksumming: 100%|██████████| 555M/555M [00:00<00:00, 748MB/s] \n"
     ]
    },
    {
     "name": "stdout",
     "output_type": "stream",
     "text": [
      "-------------------------\n",
      "6 / 84\n",
      "2022-05-15\n",
      "Data from 2022-05-15 offline\n",
      "Accepted for retrieval\n",
      "-------------------------\n",
      "7 / 84\n",
      "2022-05-12\n",
      "Data from 2022-05-12 offline\n",
      "Accepted for retrieval\n",
      "-------------------------\n",
      "8 / 84\n",
      "2022-05-10\n",
      "Data from 2022-05-10 offline\n",
      "Accepted for retrieval\n",
      "-------------------------\n",
      "9 / 84\n",
      "2022-05-07\n",
      "Data from 2022-05-07 offline\n",
      "Accepted for retrieval\n",
      "-------------------------\n",
      "10 / 84\n",
      "2022-05-05\n"
     ]
    },
    {
     "name": "stderr",
     "output_type": "stream",
     "text": [
      "Downloading:   0%|          | 0.00/633M [00:00<?, ?B/s]\n"
     ]
    },
    {
     "name": "stdout",
     "output_type": "stream",
     "text": [
      "RAISED EXCEPTION: HTTP status 500 : UnsupportedOperationException : URL stream cannot be opened\n",
      "/////////////\n",
      "-------------------------\n",
      "11 / 84\n",
      "2022-05-02\n",
      "Data from 2022-05-02 offline\n",
      "Accepted for retrieval\n",
      "-------------------------\n",
      "12 / 84\n",
      "2022-04-30\n",
      "Data from 2022-04-30 offline\n",
      "Accepted for retrieval\n",
      "-------------------------\n",
      "13 / 84\n",
      "2022-04-27\n",
      "Data from 2022-04-27 offline\n",
      "Accepted for retrieval\n",
      "-------------------------\n",
      "14 / 84\n",
      "2022-04-25\n",
      "Data from 2022-04-25 offline\n",
      "Accepted for retrieval\n",
      "-------------------------\n",
      "15 / 84\n",
      "2022-04-22\n"
     ]
    },
    {
     "name": "stderr",
     "output_type": "stream",
     "text": [
      "Downloading:   0%|          | 0.00/529M [00:00<?, ?B/s]\n"
     ]
    },
    {
     "name": "stdout",
     "output_type": "stream",
     "text": [
      "RAISED EXCEPTION: HTTP status 500 : UnsupportedOperationException : URL stream cannot be opened\n",
      "/////////////\n",
      "-------------------------\n",
      "16 / 84\n",
      "2022-04-20\n"
     ]
    },
    {
     "name": "stderr",
     "output_type": "stream",
     "text": [
      "Downloading:   0%|          | 0.00/642M [00:00<?, ?B/s]\n"
     ]
    },
    {
     "name": "stdout",
     "output_type": "stream",
     "text": [
      "RAISED EXCEPTION: HTTP status 500 : UnsupportedOperationException : URL stream cannot be opened\n",
      "/////////////\n",
      "-------------------------\n",
      "17 / 84\n",
      "2022-04-17\n"
     ]
    },
    {
     "name": "stderr",
     "output_type": "stream",
     "text": [
      "Downloading:   0%|          | 0.00/566M [00:00<?, ?B/s]\n"
     ]
    },
    {
     "name": "stdout",
     "output_type": "stream",
     "text": [
      "RAISED EXCEPTION: HTTP status 500 : UnsupportedOperationException : URL stream cannot be opened\n",
      "/////////////\n",
      "-------------------------\n",
      "18 / 84\n",
      "2022-04-15\n",
      "Data from 2022-04-15 offline\n",
      "Accepted for retrieval\n",
      "-------------------------\n",
      "19 / 84\n",
      "2022-04-12\n",
      "/home/enzo/Cyano_Detection/data/raw/2022-04-12/S2A_MSIL1C_20220412T133231_N0400_R081_T21HXB_20220412T171214.SAFE already downloaded\n",
      "-------------------------\n",
      "20 / 84\n",
      "2022-04-10\n",
      "/home/enzo/Cyano_Detection/data/raw/2022-04-10/S2B_MSIL1C_20220410T134209_N0400_R124_T21HXB_20220410T154232.SAFE already downloaded\n",
      "-------------------------\n",
      "21 / 84\n",
      "2022-04-07\n",
      "/home/enzo/Cyano_Detection/data/raw/2022-04-07/S2B_MSIL1C_20220407T133219_N0400_R081_T21HXB_20220407T151208.SAFE already downloaded\n",
      "-------------------------\n",
      "22 / 84\n",
      "2022-04-05\n",
      "/home/enzo/Cyano_Detection/data/raw/2022-04-05/S2A_MSIL1C_20220405T134211_N0400_R124_T21HXB_20220405T170909.SAFE already downloaded\n",
      "-------------------------\n",
      "23 / 84\n",
      "2022-04-02\n",
      "/home/enzo/Cyano_Detection/data/raw/2022-04-02/S2A_MSIL1C_20220402T133231_N0400_R081_T21HXB_20220402T171237.SAFE already downloaded\n",
      "-------------------------\n",
      "24 / 84\n",
      "2022-03-31\n",
      "/home/enzo/Cyano_Detection/data/raw/2022-03-31/S2B_MSIL1C_20220331T134209_N0400_R124_T21HXB_20220331T171837.SAFE already downloaded\n",
      "-------------------------\n",
      "25 / 84\n",
      "2022-03-28\n",
      "/home/enzo/Cyano_Detection/data/raw/2022-03-28/S2B_MSIL1C_20220328T133219_N0400_R081_T21HXB_20220328T151558.SAFE already downloaded\n",
      "-------------------------\n",
      "26 / 84\n",
      "2022-03-26\n",
      "/home/enzo/Cyano_Detection/data/raw/2022-03-26/S2A_MSIL1C_20220326T134211_N0400_R124_T21HXB_20220326T170928.SAFE already downloaded\n",
      "-------------------------\n",
      "27 / 84\n",
      "2022-03-23\n",
      "/home/enzo/Cyano_Detection/data/raw/2022-03-23/S2A_MSIL1C_20220323T133231_N0400_R081_T21HXB_20220323T171816.SAFE already downloaded\n",
      "-------------------------\n",
      "28 / 84\n",
      "2022-03-21\n",
      "/home/enzo/Cyano_Detection/data/raw/2022-03-21/S2B_MSIL1C_20220321T134209_N0400_R124_T21HXB_20220321T153349.SAFE already downloaded\n",
      "-------------------------\n",
      "29 / 84\n",
      "2022-03-18\n",
      "/home/enzo/Cyano_Detection/data/raw/2022-03-18/S2B_MSIL1C_20220318T133219_N0400_R081_T21HXB_20220318T152035.SAFE already downloaded\n",
      "-------------------------\n",
      "30 / 84\n",
      "2022-03-16\n",
      "/home/enzo/Cyano_Detection/data/raw/2022-03-16/S2A_MSIL1C_20220316T134211_N0400_R124_T21HXB_20220316T171501.SAFE already downloaded\n",
      "-------------------------\n",
      "31 / 84\n",
      "2022-03-13\n",
      "/home/enzo/Cyano_Detection/data/raw/2022-03-13/S2A_MSIL1C_20220313T133231_N0400_R081_T21HXB_20220313T170407.SAFE already downloaded\n",
      "-------------------------\n",
      "32 / 84\n",
      "2022-03-11\n",
      "/home/enzo/Cyano_Detection/data/raw/2022-03-11/S2B_MSIL1C_20220311T134209_N0400_R124_T21HXB_20220311T171236.SAFE already downloaded\n",
      "-------------------------\n",
      "33 / 84\n",
      "2022-03-08\n",
      "/home/enzo/Cyano_Detection/data/raw/2022-03-08/S2B_MSIL1C_20220308T133219_N0400_R081_T21HXB_20220308T151402.SAFE already downloaded\n",
      "-------------------------\n",
      "34 / 84\n",
      "2022-03-06\n",
      "/home/enzo/Cyano_Detection/data/raw/2022-03-06/S2A_MSIL1C_20220306T134211_N0400_R124_T21HXB_20220306T153238.SAFE already downloaded\n",
      "-------------------------\n",
      "35 / 84\n",
      "2022-03-03\n",
      "/home/enzo/Cyano_Detection/data/raw/2022-03-03/S2A_MSIL1C_20220303T133231_N0400_R081_T21HXB_20220303T165130.SAFE already downloaded\n",
      "-------------------------\n",
      "36 / 84\n",
      "2022-03-01\n",
      "/home/enzo/Cyano_Detection/data/raw/2022-03-01/S2B_MSIL1C_20220301T134209_N0400_R124_T21HXB_20220301T153845.SAFE already downloaded\n",
      "-------------------------\n",
      "37 / 84\n",
      "2022-02-26\n",
      "/home/enzo/Cyano_Detection/data/raw/2022-02-26/S2B_MSIL1C_20220226T133219_N0400_R081_T21HXB_20220226T151254.SAFE already downloaded\n",
      "-------------------------\n",
      "38 / 84\n",
      "2022-02-24\n",
      "/home/enzo/Cyano_Detection/data/raw/2022-02-24/S2A_MSIL1C_20220224T134211_N0400_R124_T21HXB_20220224T153044.SAFE already downloaded\n",
      "-------------------------\n",
      "39 / 84\n",
      "2022-02-21\n",
      "/home/enzo/Cyano_Detection/data/raw/2022-02-21/S2A_MSIL1C_20220221T133231_N0400_R081_T21HXB_20220221T170458.SAFE already downloaded\n",
      "-------------------------\n",
      "40 / 84\n",
      "2022-02-19\n",
      "/home/enzo/Cyano_Detection/data/raw/2022-02-19/S2B_MSIL1C_20220219T134209_N0400_R124_T21HXB_20220219T154805.SAFE already downloaded\n",
      "-------------------------\n",
      "41 / 84\n",
      "2022-02-16\n",
      "/home/enzo/Cyano_Detection/data/raw/2022-02-16/S2B_MSIL1C_20220216T133219_N0400_R081_T21HXB_20220216T151609.SAFE already downloaded\n",
      "-------------------------\n",
      "42 / 84\n",
      "2022-02-14\n",
      "/home/enzo/Cyano_Detection/data/raw/2022-02-14/S2A_MSIL1C_20220214T134211_N0400_R124_T21HXB_20220214T171120.SAFE already downloaded\n",
      "-------------------------\n",
      "43 / 84\n",
      "2022-02-11\n",
      "/home/enzo/Cyano_Detection/data/raw/2022-02-11/S2A_MSIL1C_20220211T133221_N0400_R081_T21HXB_20220211T170542.SAFE already downloaded\n",
      "-------------------------\n",
      "44 / 84\n",
      "2022-02-09\n",
      "/home/enzo/Cyano_Detection/data/raw/2022-02-09/S2B_MSIL1C_20220209T134209_N0400_R124_T21HXB_20220209T154442.SAFE already downloaded\n",
      "-------------------------\n",
      "45 / 84\n",
      "2022-02-06\n",
      "/home/enzo/Cyano_Detection/data/raw/2022-02-06/S2B_MSIL1C_20220206T133219_N0400_R081_T21HXB_20220206T151704.SAFE already downloaded\n",
      "-------------------------\n",
      "46 / 84\n",
      "2022-02-04\n",
      "/home/enzo/Cyano_Detection/data/raw/2022-02-04/S2A_MSIL1C_20220204T134211_N0400_R124_T21HXB_20220204T170711.SAFE already downloaded\n",
      "-------------------------\n",
      "47 / 84\n",
      "2022-02-01\n",
      "/home/enzo/Cyano_Detection/data/raw/2022-02-01/S2A_MSIL1C_20220201T133221_N0400_R081_T21HXB_20220201T170040.SAFE already downloaded\n",
      "-------------------------\n",
      "48 / 84\n",
      "2022-01-30\n",
      "/home/enzo/Cyano_Detection/data/raw/2022-01-30/S2B_MSIL1C_20220130T134209_N0400_R124_T21HXB_20220130T154121.SAFE already downloaded\n",
      "-------------------------\n",
      "49 / 84\n",
      "2022-01-27\n",
      "/home/enzo/Cyano_Detection/data/raw/2022-01-27/S2B_MSIL1C_20220127T133219_N0400_R081_T21HXB_20220127T151643.SAFE already downloaded\n",
      "-------------------------\n",
      "50 / 84\n",
      "2022-01-25\n",
      "/home/enzo/Cyano_Detection/data/raw/2022-01-25/S2A_MSIL1C_20220125T134211_N0400_R124_T21HXB_20220125T154411.SAFE already downloaded\n",
      "-------------------------\n",
      "51 / 84\n",
      "2022-01-22\n",
      "/home/enzo/Cyano_Detection/data/raw/2022-01-22/S2A_MSIL1C_20220122T133221_N0301_R081_T21HXB_20220122T165548.SAFE already downloaded\n",
      "-------------------------\n",
      "52 / 84\n",
      "2022-01-20\n",
      "/home/enzo/Cyano_Detection/data/raw/2022-01-20/S2B_MSIL1C_20220120T134209_N0301_R124_T21HXB_20220120T153248.SAFE already downloaded\n",
      "-------------------------\n",
      "53 / 84\n",
      "2022-01-17\n",
      "/home/enzo/Cyano_Detection/data/raw/2022-01-17/S2B_MSIL1C_20220117T133219_N0301_R081_T21HXB_20220117T151212.SAFE already downloaded\n",
      "-------------------------\n",
      "54 / 84\n",
      "2022-01-15\n",
      "/home/enzo/Cyano_Detection/data/raw/2022-01-15/S2A_MSIL1C_20220115T134211_N0301_R124_T21HXB_20220115T152321.SAFE already downloaded\n",
      "-------------------------\n",
      "55 / 84\n",
      "2022-01-12\n",
      "/home/enzo/Cyano_Detection/data/raw/2022-01-12/S2A_MSIL1C_20220112T133231_N0301_R081_T21HXB_20220112T151329.SAFE already downloaded\n",
      "-------------------------\n",
      "56 / 84\n",
      "2022-01-10\n",
      "/home/enzo/Cyano_Detection/data/raw/2022-01-10/S2B_MSIL1C_20220110T134209_N0301_R124_T21HXB_20220110T152403.SAFE already downloaded\n",
      "-------------------------\n",
      "57 / 84\n",
      "2022-01-07\n",
      "/home/enzo/Cyano_Detection/data/raw/2022-01-07/S2B_MSIL1C_20220107T133219_N0301_R081_T21HXB_20220107T151251.SAFE already downloaded\n",
      "-------------------------\n",
      "58 / 84\n",
      "2022-01-05\n",
      "/home/enzo/Cyano_Detection/data/raw/2022-01-05/S2A_MSIL1C_20220105T134211_N0301_R124_T21HXB_20220105T152323.SAFE already downloaded\n",
      "-------------------------\n",
      "59 / 84\n",
      "2022-01-02\n",
      "/home/enzo/Cyano_Detection/data/raw/2022-01-02/S2A_MSIL1C_20220102T133231_N0301_R081_T21HXB_20220102T151314.SAFE already downloaded\n",
      "-------------------------\n",
      "60 / 84\n",
      "2021-12-31\n",
      "/home/enzo/Cyano_Detection/data/raw/2021-12-31/S2B_MSIL1C_20211231T134209_N0301_R124_T21HXB_20211231T152421.SAFE already downloaded\n",
      "-------------------------\n",
      "61 / 84\n",
      "2021-12-28\n",
      "/home/enzo/Cyano_Detection/data/raw/2021-12-28/S2B_MSIL1C_20211228T133219_N0301_R081_T21HXB_20211228T151356.SAFE already downloaded\n",
      "-------------------------\n",
      "62 / 84\n",
      "2021-12-26\n",
      "/home/enzo/Cyano_Detection/data/raw/2021-12-26/S2A_MSIL1C_20211226T134211_N0301_R124_T21HXB_20211226T152207.SAFE already downloaded\n",
      "-------------------------\n",
      "63 / 84\n",
      "2021-12-23\n",
      "/home/enzo/Cyano_Detection/data/raw/2021-12-23/S2A_MSIL1C_20211223T133231_N0301_R081_T21HXB_20211223T151425.SAFE already downloaded\n",
      "-------------------------\n",
      "64 / 84\n",
      "2021-12-21\n",
      "/home/enzo/Cyano_Detection/data/raw/2021-12-21/S2B_MSIL1C_20211221T134209_N0301_R124_T21HXB_20211221T152434.SAFE already downloaded\n",
      "-------------------------\n",
      "65 / 84\n",
      "2021-12-18\n",
      "/home/enzo/Cyano_Detection/data/raw/2021-12-18/S2B_MSIL1C_20211218T133219_N0301_R081_T21HXB_20211218T151355.SAFE already downloaded\n",
      "-------------------------\n",
      "66 / 84\n",
      "2021-12-16\n",
      "/home/enzo/Cyano_Detection/data/raw/2021-12-16/S2A_MSIL1C_20211216T134211_N0301_R124_T21HXB_20211216T152425.SAFE already downloaded\n",
      "-------------------------\n",
      "67 / 84\n",
      "2021-12-13\n",
      "/home/enzo/Cyano_Detection/data/raw/2021-12-13/S2A_MSIL1C_20211213T133221_N0301_R081_T21HXB_20211213T151438.SAFE already downloaded\n",
      "-------------------------\n",
      "68 / 84\n",
      "2021-12-11\n",
      "/home/enzo/Cyano_Detection/data/raw/2021-12-11/S2B_MSIL1C_20211211T134209_N0301_R124_T21HXB_20211211T152643.SAFE already downloaded\n",
      "-------------------------\n",
      "69 / 84\n",
      "2021-12-08\n",
      "/home/enzo/Cyano_Detection/data/raw/2021-12-08/S2B_MSIL1C_20211208T133219_N0301_R081_T21HXB_20211208T151226.SAFE already downloaded\n",
      "-------------------------\n",
      "70 / 84\n",
      "2021-12-06\n",
      "/home/enzo/Cyano_Detection/data/raw/2021-12-06/S2A_MSIL1C_20211206T134211_N0301_R124_T21HXB_20211206T152252.SAFE already downloaded\n",
      "-------------------------\n",
      "71 / 84\n",
      "2021-12-03\n",
      "/home/enzo/Cyano_Detection/data/raw/2021-12-03/S2A_MSIL1C_20211203T133221_N0301_R081_T21HXB_20211203T151303.SAFE already downloaded\n",
      "-------------------------\n",
      "72 / 84\n",
      "2021-12-01\n",
      "/home/enzo/Cyano_Detection/data/raw/2021-12-01/S2B_MSIL1C_20211201T134209_N0301_R124_T21HXB_20211201T153112.SAFE already downloaded\n",
      "-------------------------\n",
      "73 / 84\n",
      "2021-11-28\n",
      "/home/enzo/Cyano_Detection/data/raw/2021-11-28/S2B_MSIL1C_20211128T133219_N0301_R081_T21HXB_20211128T151847.SAFE already downloaded\n",
      "-------------------------\n",
      "74 / 84\n",
      "2021-11-26\n",
      "/home/enzo/Cyano_Detection/data/raw/2021-11-26/S2A_MSIL1C_20211126T134211_N0301_R124_T21HXB_20211126T152121.SAFE already downloaded\n",
      "-------------------------\n",
      "75 / 84\n",
      "2021-11-23\n",
      "/home/enzo/Cyano_Detection/data/raw/2021-11-23/S2A_MSIL1C_20211123T133221_N0301_R081_T21HXB_20211123T151608.SAFE already downloaded\n",
      "-------------------------\n",
      "76 / 84\n",
      "2021-11-21\n",
      "/home/enzo/Cyano_Detection/data/raw/2021-11-21/S2B_MSIL1C_20211121T134209_N0301_R124_T21HXB_20211121T152537.SAFE already downloaded\n",
      "-------------------------\n",
      "77 / 84\n",
      "2021-11-18\n",
      "/home/enzo/Cyano_Detection/data/raw/2021-11-18/S2B_MSIL1C_20211118T133219_N0301_R081_T21HXB_20211118T151732.SAFE already downloaded\n",
      "-------------------------\n",
      "78 / 84\n",
      "2021-11-16\n",
      "/home/enzo/Cyano_Detection/data/raw/2021-11-16/S2A_MSIL1C_20211116T134211_N0301_R124_T21HXB_20211116T152737.SAFE already downloaded\n",
      "-------------------------\n",
      "79 / 84\n",
      "2021-11-13\n",
      "/home/enzo/Cyano_Detection/data/raw/2021-11-13/S2A_MSIL1C_20211113T133231_N0301_R081_T21HXB_20211113T151419.SAFE already downloaded\n",
      "-------------------------\n",
      "80 / 84\n",
      "2021-11-11\n",
      "/home/enzo/Cyano_Detection/data/raw/2021-11-11/S2B_MSIL1C_20211111T134209_N0301_R124_T21HXB_20211111T152300.SAFE already downloaded\n",
      "-------------------------\n",
      "81 / 84\n",
      "2021-11-08\n",
      "/home/enzo/Cyano_Detection/data/raw/2021-11-08/S2B_MSIL1C_20211108T133229_N0301_R081_T21HXB_20211108T151217.SAFE already downloaded\n",
      "-------------------------\n",
      "82 / 84\n",
      "2021-11-06\n",
      "/home/enzo/Cyano_Detection/data/raw/2021-11-06/S2A_MSIL1C_20211106T134211_N0301_R124_T21HXB_20211106T152648.SAFE already downloaded\n",
      "-------------------------\n",
      "83 / 84\n",
      "2021-11-03\n",
      "/home/enzo/Cyano_Detection/data/raw/2021-11-03/S2A_MSIL1C_20211103T133231_N0301_R081_T21HXB_20211103T165425.SAFE already downloaded\n",
      "-------------------------\n",
      "84 / 84\n",
      "2021-11-01\n",
      "/home/enzo/Cyano_Detection/data/raw/2021-11-01/S2B_MSIL1C_20211101T134209_N0301_R124_T21HXB_20211101T152510.SAFE already downloaded\n"
     ]
    }
   ],
   "source": [
    "print(\"Start datetime:\", str(datetime.now()))\n",
    "\n",
    "date1 = date(2021, 11, 1)\n",
    "date2 = date(2022, 5, 31)\n",
    "\n",
    "datos__2021_2022 = SentinelsatProducts(date1, date2, footprint=footprint, platformname=\"Sentinel-2\", \n",
    "                                       instrument=\"MSI\", p_type='S2MSI1C')\n",
    "datos__2021_2022.download_products(data_path)\n",
    "\n",
    "print(\"Finish datetime: \", str(datetime.now()))"
   ]
  }
 ],
 "metadata": {
  "kernelspec": {
   "display_name": "cyano_venv",
   "language": "python",
   "name": "cyano_venv"
  },
  "language_info": {
   "codemirror_mode": {
    "name": "ipython",
    "version": 3
   },
   "file_extension": ".py",
   "mimetype": "text/x-python",
   "name": "python",
   "nbconvert_exporter": "python",
   "pygments_lexer": "ipython3",
   "version": "3.6.13"
  }
 },
 "nbformat": 4,
 "nbformat_minor": 4
}

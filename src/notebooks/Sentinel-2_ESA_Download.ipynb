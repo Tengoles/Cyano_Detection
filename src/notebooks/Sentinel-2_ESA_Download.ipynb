{
 "cells": [
  {
   "cell_type": "code",
   "execution_count": 1,
   "metadata": {},
   "outputs": [],
   "source": [
    "import os, sys\n",
    "import json\n",
    "sys.path.append(\"../\")\n",
    "import settings\n",
    "from sentinelsat_download import SentinelsatProducts\n",
    "from datetime import date, datetime\n",
    "import zipfile\n",
    "import time"
   ]
  },
  {
   "cell_type": "markdown",
   "metadata": {},
   "source": [
    "### Create global variables"
   ]
  },
  {
   "cell_type": "code",
   "execution_count": 2,
   "metadata": {},
   "outputs": [],
   "source": [
    "#footprint = settings.footprint\n",
    "footprint = \"POLYGON((-56.227729 -34.604748,-56.207681 -34.604452,-56.207218 -34.624843,-56.227677 -34.625012,-56.227729 -34.604748))\"\n",
    "sentinel_api_user = settings.sentinel_api_user\n",
    "sentinel_api_key = settings.sentinel_api_key\n",
    "data_path = settings.raw_data_path"
   ]
  },
  {
   "cell_type": "markdown",
   "metadata": {},
   "source": [
    "### Download 2015-2016 data"
   ]
  },
  {
   "cell_type": "code",
   "execution_count": null,
   "metadata": {},
   "outputs": [],
   "source": [
    "print(\"Starting datetime:\", str(datetime.now()))\n",
    "\n",
    "date1 = date(2015, 11, 1)\n",
    "date2 = date(2016, 5, 1)\n",
    "\n",
    "datos__2016_2015 = SentinelsatProducts(date1, date2, footprint=footprint, platformname=\"Sentinel-2\", \n",
    "                                       instrument=\"MSI\", p_type='S2MSI1C')\n",
    "datos__2016_2015.download_products(data_path)\n",
    "print(\"Finish datetime: \", str(datetime.now()))"
   ]
  },
  {
   "cell_type": "markdown",
   "metadata": {},
   "source": [
    "### Download 2017-2018 data"
   ]
  },
  {
   "cell_type": "code",
   "execution_count": null,
   "metadata": {},
   "outputs": [],
   "source": [
    "print(\"Starting datetime:\", str(datetime.now()))\n",
    "\n",
    "date1 = date(2017, 11, 1)\n",
    "date2 = date(2018, 5, 1)\n",
    "\n",
    "datos__2017_2018 = SentinelsatProducts(date1, date2, footprint=footprint, platformname=\"Sentinel-2\", \n",
    "                                       instrument=\"MSI\", p_type='S2MSI1C')\n",
    "datos__2017_2018.download_products(data_path)\n",
    "print(\"Finish datetime: \", str(datetime.now()))"
   ]
  },
  {
   "cell_type": "markdown",
   "metadata": {},
   "source": [
    "### Download 2018-2019 data"
   ]
  },
  {
   "cell_type": "code",
   "execution_count": null,
   "metadata": {},
   "outputs": [],
   "source": [
    "print(\"Starting datetime:\", str(datetime.now()))\n",
    "\n",
    "date1 = date(2018, 11, 1)\n",
    "date2 = date(2019, 5, 1)\n",
    "\n",
    "datos__2018_2019 = SentinelsatProducts(date1, date2, footprint=footprint, platformname=\"Sentinel-2\", \n",
    "                                       instrument=\"MSI\", p_type='S2MSI1C')\n",
    "datos__2018_2019.download_products(data_path)\n",
    "\n",
    "print(\"Finish datetime: \", str(datetime.now()))"
   ]
  },
  {
   "cell_type": "markdown",
   "metadata": {},
   "source": [
    "### Download 2019-2020 data"
   ]
  },
  {
   "cell_type": "code",
   "execution_count": null,
   "metadata": {},
   "outputs": [],
   "source": [
    "print(\"Start datetime:\", str(datetime.now()))\n",
    "\n",
    "date1 = date(2019, 11, 1)\n",
    "date2 = date(2020, 5, 1)\n",
    "\n",
    "datos__2019_2020 = SentinelsatProducts(date1, date2, footprint=footprint, platformname=\"Sentinel-2\", \n",
    "                                       instrument=\"MSI\", p_type='S2MSI1C')\n",
    "datos__2019_2020.download_products(data_path)\n",
    "\n",
    "print(\"Finish datetime: \", str(datetime.now()))"
   ]
  },
  {
   "cell_type": "markdown",
   "metadata": {},
   "source": [
    "### Download 2020-2021 data"
   ]
  },
  {
   "cell_type": "code",
   "execution_count": null,
   "metadata": {},
   "outputs": [],
   "source": [
    "print(\"Start datetime:\", str(datetime.now()))\n",
    "\n",
    "date1 = date(2020, 11, 1)\n",
    "date2 = date(2021, 5, 1)\n",
    "\n",
    "datos__2020_2021 = SentinelsatProducts(date1, date2, footprint=footprint, platformname=\"Sentinel-2\", \n",
    "                                       instrument=\"MSI\", p_type='S2MSI1C')\n",
    "datos__2020_2021.download_products(data_path)\n",
    "\n",
    "print(\"Finish datetime: \", str(datetime.now()))"
   ]
  },
  {
   "cell_type": "markdown",
   "metadata": {},
   "source": [
    "### Download 2021-2022 data"
   ]
  },
  {
   "cell_type": "code",
   "execution_count": null,
   "metadata": {},
   "outputs": [],
   "source": [
    "print(\"Start datetime:\", str(datetime.now()))\n",
    "\n",
    "date1 = date(2021, 11, 1)\n",
    "date2 = date(2022, 5, 1)\n",
    "\n",
    "datos__2021_2022 = SentinelsatProducts(date1, date2, footprint=footprint, platformname=\"Sentinel-2\", \n",
    "                                       instrument=\"MSI\", p_type='S2MSI1C')\n",
    "datos__2021_2022.download_products(data_path)\n",
    "\n",
    "print(\"Finish datetime: \", str(datetime.now()))"
   ]
  },
  {
   "cell_type": "markdown",
   "metadata": {},
   "source": [
    "## Download 2020-03-23 L2C "
   ]
  },
  {
   "cell_type": "code",
   "execution_count": null,
   "metadata": {},
   "outputs": [],
   "source": [
    "date1 = date(2020, 3, 22)\n",
    "date2 = date(2020, 3, 24)\n",
    "\n",
    "datos__2020_03_23 = SentinelsatProducts(date1, date2, footprint=footprint, platformname=\"Sentinel-2\", \n",
    "                                       instrument=\"MSI\", p_type='S2MSI2A')\n",
    "datos__2020_03_23.download_products(data_path)"
   ]
  }
 ],
 "metadata": {
  "kernelspec": {
   "display_name": "cyano_venv",
   "language": "python",
   "name": "cyano_venv"
  },
  "language_info": {
   "codemirror_mode": {
    "name": "ipython",
    "version": 3
   },
   "file_extension": ".py",
   "mimetype": "text/x-python",
   "name": "python",
   "nbconvert_exporter": "python",
   "pygments_lexer": "ipython3",
   "version": "3.6.13"
  }
 },
 "nbformat": 4,
 "nbformat_minor": 4
}

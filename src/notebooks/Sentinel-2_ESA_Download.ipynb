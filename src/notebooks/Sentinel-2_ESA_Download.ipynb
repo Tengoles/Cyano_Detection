{
 "cells": [
  {
   "cell_type": "code",
   "execution_count": 2,
   "metadata": {},
   "outputs": [],
   "source": [
    "import os, sys\n",
    "import json\n",
    "sys.path.append(\"../\")\n",
    "import settings\n",
    "from sentinelsat_download import SentinelsatProducts\n",
    "from datetime import date, datetime\n",
    "import zipfile\n",
    "import time"
   ]
  },
  {
   "cell_type": "markdown",
   "metadata": {},
   "source": [
    "### Create global variables"
   ]
  },
  {
   "cell_type": "code",
   "execution_count": 3,
   "metadata": {},
   "outputs": [],
   "source": [
    "#footprint = settings.footprint\n",
    "# footprint = \"POLYGON((-56.227729 -34.604748,-56.207681 -34.604452,-56.207218 -34.624843,-56.227677 -34.625012,-56.227729 -34.604748))\"\n",
    "# Namibia\n",
    "footprint = \"POLYGON((12.8157821 -17.6016877, 12.8240219 -18.0057115, 13.329393 -18.0044054, 13.3197799 -17.5938335, 12.8157821 -17.6016877))\"\n",
    "sentinel_api_user = settings.sentinel_api_user\n",
    "sentinel_api_key = settings.sentinel_api_key\n",
    "data_path = settings.raw_data_path"
   ]
  },
  {
   "cell_type": "markdown",
   "metadata": {},
   "source": [
    "### Download 2015-2016 data"
   ]
  },
  {
   "cell_type": "code",
   "execution_count": 3,
   "metadata": {},
   "outputs": [
    {
     "name": "stdout",
     "output_type": "stream",
     "text": [
      "Starting datetime: 2023-06-29 01:52:34.412969\n",
      "-------------------------\n",
      "0 / 5\n",
      "2016-01-17\n",
      "Data from 2016-01-17 offline\n",
      "Accepted for retrieval\n",
      "-------------------------\n",
      "1 / 5\n",
      "2016-02-16\n",
      "Data from 2016-02-16 offline\n",
      "Accepted for retrieval\n",
      "-------------------------\n",
      "2 / 5\n",
      "2016-03-17\n",
      "Data from 2016-03-17 offline\n",
      "Accepted for retrieval\n",
      "-------------------------\n",
      "3 / 5\n",
      "2016-04-06\n",
      "Data from 2016-04-06 offline\n",
      "Accepted for retrieval\n",
      "-------------------------\n",
      "4 / 5\n",
      "2016-04-16\n",
      "Data from 2016-04-16 offline\n",
      "Accepted for retrieval\n",
      "-------------------------\n",
      "5 / 5\n",
      "2016-04-26\n",
      "Data from 2016-04-26 offline\n",
      "Accepted for retrieval\n",
      "Finish datetime:  2023-06-29 01:52:53.799048\n"
     ]
    }
   ],
   "source": [
    "print(\"Starting datetime:\", str(datetime.now()))\n",
    "\n",
    "date1 = date(2015, 11, 1)\n",
    "date2 = date(2016, 5, 1)\n",
    "\n",
    "datos__2016_2015 = SentinelsatProducts(date1, date2, footprint=footprint, platformname=\"Sentinel-2\", \n",
    "                                       instrument=\"MSI\", p_type='S2MSI1C')\n",
    "datos__2016_2015.download_products(data_path)\n",
    "print(\"Finish datetime: \", str(datetime.now()))"
   ]
  },
  {
   "cell_type": "markdown",
   "metadata": {},
   "source": [
    "## Download 2016-2017 data"
   ]
  },
  {
   "cell_type": "code",
   "execution_count": 4,
   "metadata": {},
   "outputs": [
    {
     "name": "stdout",
     "output_type": "stream",
     "text": [
      "Starting datetime: 2023-06-29 01:53:52.263560\n",
      "-------------------------\n",
      "0 / 10\n",
      "2016-11-02\n",
      "Data from 2016-11-02 offline\n",
      "Accepted for retrieval\n",
      "-------------------------\n",
      "1 / 10\n",
      "2016-11-12\n",
      "Data from 2016-11-12 offline\n",
      "Accepted for retrieval\n",
      "-------------------------\n",
      "2 / 10\n",
      "2016-12-02\n",
      "Data from 2016-12-02 offline\n",
      "Accepted for retrieval\n",
      "-------------------------\n",
      "3 / 10\n",
      "2017-04-11\n",
      "Data from 2017-04-11 offline\n",
      "Accepted for retrieval\n",
      "-------------------------\n",
      "4 / 10\n",
      "2017-03-22\n",
      "Data from 2017-03-22 offline\n",
      "Accepted for retrieval\n",
      "-------------------------\n",
      "5 / 10\n",
      "2017-03-02\n",
      "Data from 2017-03-02 offline\n",
      "Accepted for retrieval\n",
      "-------------------------\n",
      "6 / 10\n",
      "2017-02-20\n",
      "Data from 2017-02-20 offline\n",
      "Accepted for retrieval\n",
      "-------------------------\n",
      "7 / 10\n",
      "2017-01-31\n",
      "Data from 2017-01-31 offline\n",
      "Accepted for retrieval\n",
      "-------------------------\n",
      "8 / 10\n",
      "2017-01-11\n",
      "Data from 2017-01-11 offline\n",
      "Accepted for retrieval\n",
      "-------------------------\n",
      "9 / 10\n",
      "2016-12-22\n",
      "Data from 2016-12-22 offline\n",
      "Accepted for retrieval\n",
      "-------------------------\n",
      "10 / 10\n",
      "2016-12-12\n",
      "Data from 2016-12-12 offline\n",
      "Accepted for retrieval\n",
      "Finish datetime:  2023-06-29 01:54:29.908053\n"
     ]
    }
   ],
   "source": [
    "print(\"Starting datetime:\", str(datetime.now()))\n",
    "\n",
    "date1 = date(2016, 11, 1)\n",
    "date2 = date(2017, 5, 1)\n",
    "\n",
    "datos__2016_2015 = SentinelsatProducts(date1, date2, footprint=footprint, platformname=\"Sentinel-2\", \n",
    "                                       instrument=\"MSI\", p_type='S2MSI1C')\n",
    "datos__2016_2015.download_products(data_path)\n",
    "print(\"Finish datetime: \", str(datetime.now()))"
   ]
  },
  {
   "cell_type": "markdown",
   "metadata": {},
   "source": [
    "### Download 2017-2018 data"
   ]
  },
  {
   "cell_type": "code",
   "execution_count": null,
   "metadata": {},
   "outputs": [],
   "source": [
    "print(\"Starting datetime:\", str(datetime.now()))\n",
    "\n",
    "date1 = date(2017, 11, 1)\n",
    "date2 = date(2018, 5, 1)\n",
    "\n",
    "datos__2017_2018 = SentinelsatProducts(date1, date2, footprint=footprint, platformname=\"Sentinel-2\", \n",
    "                                       instrument=\"MSI\", p_type='S2MSI1C')\n",
    "datos__2017_2018.download_products(data_path)\n",
    "print(\"Finish datetime: \", str(datetime.now()))"
   ]
  },
  {
   "cell_type": "markdown",
   "metadata": {},
   "source": [
    "### Download 2018-2019 data"
   ]
  },
  {
   "cell_type": "code",
   "execution_count": null,
   "metadata": {},
   "outputs": [],
   "source": [
    "print(\"Starting datetime:\", str(datetime.now()))\n",
    "\n",
    "date1 = date(2018, 11, 1)\n",
    "date2 = date(2019, 5, 1)\n",
    "\n",
    "datos__2018_2019 = SentinelsatProducts(date1, date2, footprint=footprint, platformname=\"Sentinel-2\", \n",
    "                                       instrument=\"MSI\", p_type='S2MSI1C')\n",
    "datos__2018_2019.download_products(data_path)\n",
    "\n",
    "print(\"Finish datetime: \", str(datetime.now()))"
   ]
  },
  {
   "cell_type": "markdown",
   "metadata": {},
   "source": [
    "### Download 2019-2020 data"
   ]
  },
  {
   "cell_type": "code",
   "execution_count": null,
   "metadata": {},
   "outputs": [],
   "source": [
    "print(\"Start datetime:\", str(datetime.now()))\n",
    "\n",
    "date1 = date(2019, 11, 1)\n",
    "date2 = date(2020, 5, 1)\n",
    "\n",
    "datos__2019_2020 = SentinelsatProducts(date1, date2, footprint=footprint, platformname=\"Sentinel-2\", \n",
    "                                       instrument=\"MSI\", p_type='S2MSI1C')\n",
    "datos__2019_2020.download_products(data_path)\n",
    "\n",
    "print(\"Finish datetime: \", str(datetime.now()))"
   ]
  },
  {
   "cell_type": "markdown",
   "metadata": {},
   "source": [
    "### Download 2020-2021 data"
   ]
  },
  {
   "cell_type": "code",
   "execution_count": null,
   "metadata": {},
   "outputs": [],
   "source": [
    "print(\"Start datetime:\", str(datetime.now()))\n",
    "\n",
    "date1 = date(2020, 11, 1)\n",
    "date2 = date(2021, 5, 1)\n",
    "\n",
    "datos__2020_2021 = SentinelsatProducts(date1, date2, footprint=footprint, platformname=\"Sentinel-2\", \n",
    "                                       instrument=\"MSI\", p_type='S2MSI1C')\n",
    "datos__2020_2021.download_products(data_path)\n",
    "\n",
    "print(\"Finish datetime: \", str(datetime.now()))"
   ]
  },
  {
   "cell_type": "markdown",
   "metadata": {},
   "source": [
    "### Download 2021-2022 data"
   ]
  },
  {
   "cell_type": "code",
   "execution_count": null,
   "metadata": {},
   "outputs": [],
   "source": [
    "print(\"Start datetime:\", str(datetime.now()))\n",
    "\n",
    "date1 = date(2021, 11, 1)\n",
    "date2 = date(2022, 5, 1)\n",
    "\n",
    "datos__2021_2022 = SentinelsatProducts(date1, date2, footprint=footprint, platformname=\"Sentinel-2\", \n",
    "                                       instrument=\"MSI\", p_type='S2MSI1C')\n",
    "datos__2021_2022.download_products(data_path)\n",
    "\n",
    "print(\"Finish datetime: \", str(datetime.now()))"
   ]
  },
  {
   "cell_type": "markdown",
   "metadata": {},
   "source": [
    "## Download 2020-03-23 L2C "
   ]
  },
  {
   "cell_type": "code",
   "execution_count": null,
   "metadata": {},
   "outputs": [],
   "source": [
    "date1 = date(2020, 3, 22)\n",
    "date2 = date(2020, 3, 24)\n",
    "\n",
    "datos__2020_03_23 = SentinelsatProducts(date1, date2, footprint=footprint, platformname=\"Sentinel-2\", \n",
    "                                       instrument=\"MSI\", p_type='S2MSI2A')\n",
    "datos__2020_03_23.download_products(data_path)"
   ]
  },
  {
   "cell_type": "code",
   "execution_count": 4,
   "metadata": {},
   "outputs": [
    {
     "name": "stdout",
     "output_type": "stream",
     "text": [
      "-------------------------\n",
      "0 / 2\n",
      "2023-08-05\n"
     ]
    },
    {
     "name": "stderr",
     "output_type": "stream",
     "text": [
      "Downloading: 100%|██████████| 1.18G/1.18G [05:00<00:00, 3.38MB/s]\n",
      "MD5 checksumming: 100%|██████████| 1.18G/1.18G [00:01<00:00, 773MB/s]\n"
     ]
    },
    {
     "name": "stdout",
     "output_type": "stream",
     "text": [
      "-------------------------\n",
      "1 / 2\n",
      "2023-08-05\n"
     ]
    },
    {
     "name": "stderr",
     "output_type": "stream",
     "text": [
      "Downloading: 100%|██████████| 1.19G/1.19G [04:33<00:00, 4.36MB/s]\n",
      "MD5 checksumming: 100%|██████████| 1.19G/1.19G [00:01<00:00, 764MB/s]\n"
     ]
    },
    {
     "name": "stdout",
     "output_type": "stream",
     "text": [
      "-------------------------\n",
      "2 / 2\n",
      "2023-08-05\n"
     ]
    },
    {
     "name": "stderr",
     "output_type": "stream",
     "text": [
      "Downloading: 100%|██████████| 1.03G/1.03G [03:57<00:00, 4.34MB/s]\n",
      "MD5 checksumming: 100%|██████████| 1.03G/1.03G [00:01<00:00, 767MB/s]\n"
     ]
    }
   ],
   "source": [
    "date1 = date(2023, 8, 1)\n",
    "date2 = date(2023, 8, 8)\n",
    "\n",
    "products = SentinelsatProducts(date1, date2, footprint=footprint, platformname=\"Sentinel-2\", \n",
    "                                       instrument=\"MSI\", p_type='S2MSI2A', area_relation=\"Intersects\")\n",
    "products.download_products(data_path)"
   ]
  },
  {
   "cell_type": "code",
   "execution_count": null,
   "metadata": {},
   "outputs": [],
   "source": [
    "products.products"
   ]
  },
  {
   "cell_type": "code",
   "execution_count": null,
   "metadata": {},
   "outputs": [],
   "source": []
  }
 ],
 "metadata": {
  "kernelspec": {
   "display_name": "cyano_venv",
   "language": "python",
   "name": "cyano_venv"
  },
  "language_info": {
   "codemirror_mode": {
    "name": "ipython",
    "version": 3
   },
   "file_extension": ".py",
   "mimetype": "text/x-python",
   "name": "python",
   "nbconvert_exporter": "python",
   "pygments_lexer": "ipython3",
   "version": "3.6.13"
  }
 },
 "nbformat": 4,
 "nbformat_minor": 4
}

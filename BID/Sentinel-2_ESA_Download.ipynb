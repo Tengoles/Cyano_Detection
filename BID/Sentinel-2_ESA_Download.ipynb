{
 "cells": [
  {
   "cell_type": "code",
   "execution_count": 26,
   "metadata": {},
   "outputs": [],
   "source": [
    "#import snappy_utils\n",
    "import os, sys\n",
    "sys.path.append(\"../\")\n",
    "import settings\n",
    "from sentinelsat.sentinel import SentinelAPI, read_geojson, geojson_to_wkt\n",
    "from datetime import date\n",
    "import zipfile\n",
    "import time"
   ]
  },
  {
   "cell_type": "code",
   "execution_count": 27,
   "metadata": {},
   "outputs": [],
   "source": [
    "footprint = settings.footprint\n",
    "sentinel_api_user = settings.sentinel_api_user\n",
    "sentinel_api_key = settings.sentinel_api_key\n",
    "data_path = settings.data_path"
   ]
  },
  {
   "cell_type": "code",
   "execution_count": 15,
   "metadata": {},
   "outputs": [],
   "source": [
    "class Sentinelsat_products:\n",
    "    def __init__(self, date_start, date_finish, footprint=footprint, platformname=\"Sentinel-2\"):\n",
    "        self.date_start = date_start\n",
    "        self.date_finish = date_finish\n",
    "        self.platform = platformname\n",
    "        self.api = SentinelAPI(sentinel_api_user, sentinel_api_key, 'https://scihub.copernicus.eu/dhus')\n",
    "        self.wkt_footprint = footprint\n",
    "        self.products = self.query_products(self.date_start, self.date_finish)\n",
    "\n",
    "    def query_products(self, date_start, date_finish, platformname=\"Sentinel-2\"):\n",
    "        # search by polygon, time, and Hub query keywords\n",
    "        products = self.api.query(self.wkt_footprint, area_relation='Contains',\n",
    "                            date = (self.date_start, self.date_finish),\n",
    "                            platformname = platformname)\n",
    "        return products\n",
    "    \n",
    "    def filter_products(self, instrument, level, p_type, timeliness):\n",
    "        removed_products = []\n",
    "        for product_key in self.products:\n",
    "            odata = self.api.get_product_odata(product_key, full=True)\n",
    "            #print(odata)\n",
    "            if self.platform == \"Sentinel-3\":\n",
    "                product_instrument = odata[\"Instrument\"]\n",
    "                product_level = odata[\"Product level\"]\n",
    "                product_type = odata[\"Product type\"]\n",
    "                mission_type = odata[\"Mission type\"]\n",
    "                product_timeliness = odata[\"Timeliness Category\"]\n",
    "                #filter only from Level 1 OLCI instrument with NTC full resolution\n",
    "                conditions = (\n",
    "                (product_instrument == instrument) and (p_type in product_type) \n",
    "                and product_timeliness == timeliness and product_level == level\n",
    "                            )\n",
    "            if self.platform == \"Sentinel-2\":\n",
    "                product_instrument = odata[\"Instrument\"]\n",
    "                product_level = odata[\"Processing level\"]            \n",
    "                conditions = (product_instrument == instrument) and (product_level == level)\n",
    "                \n",
    "            if conditions:\n",
    "                #print(instrument, product_level, product_type)\n",
    "                pass                \n",
    "            else:\n",
    "                removed_products.append(product_key)\n",
    "        for key in removed_products:\n",
    "            del self.products[key]\n",
    "\n",
    "    def download_products(self, make_subset=True, delete_zip=False):\n",
    "        print(\"----------\")\n",
    "        for key in self.products:\n",
    "            file_name = self.products[key][\"filename\"]\n",
    "            file_date = self.products[key][\"summary\"][:16].split(\"Date: \")[1]\n",
    "            print(file_date)\n",
    "            download_path = os.path.join(data_path, file_date)\n",
    "            if not os.path.exists(download_path):\n",
    "                os.makedirs(download_path)\n",
    "            # if it was downloaded before it won't download again            \n",
    "            download_info = self.api.download(key, directory_path=download_path)\n",
    "            if download_info[\"Online\"] == False:\n",
    "                time.sleep(10)\n",
    "                continue\n",
    "            zip_path = download_info[\"path\"]\n",
    "            with zipfile.ZipFile(zip_path, 'r') as zip_ref:\n",
    "                zip_ref.extractall(download_path)\n",
    "            if delete_zip:\n",
    "                os.remove(zip_path)\n",
    "            if make_subset:\n",
    "                extracted_directory = os.path.join(download_path, file_name)\n",
    "                product = snappy_utils.read_product(extracted_directory)\n",
    "                subset = snappy_utils.make_subset(product, settings.footprint)\n",
    "                snappy_utils.write_product(subset, os.path.join(download_path, \"laguna.tif\"), \"GeoTiff\")\n",
    "                snappy_utils.write_product(subset, os.path.join(download_path, \"laguna.dim\"), \"BEAM-DIMAP\")"
   ]
  },
  {
   "cell_type": "markdown",
   "metadata": {},
   "source": [
    "### Generic data download code"
   ]
  },
  {
   "cell_type": "code",
   "execution_count": null,
   "metadata": {},
   "outputs": [],
   "source": [
    "date1 = date(2015, 11, 1)\n",
    "date2 = date(2016, 5, 31)\n",
    "\n",
    "datos = Sentinelsat_products(date1, date2, footprint=footprint)\n",
    "datos.filter_products(instrument=\"MSI\", level=\"Level-2A\", p_type=None, timeliness=None)\n",
    "datos.download_products(make_subset=False)\n",
    "\n",
    "datos = Sentinelsat_products(date1, date2, footprint=footprint)\n",
    "datos.filter_products(instrument=\"MSI\", level=\"Level-1C\", p_type=None, timeliness=None)\n",
    "datos.download_products(make_subset=False)"
   ]
  },
  {
   "cell_type": "markdown",
   "metadata": {},
   "source": [
    "### Download 2015-2016 data"
   ]
  },
  {
   "cell_type": "code",
   "execution_count": null,
   "metadata": {},
   "outputs": [],
   "source": [
    "date1 = date(2015, 11, 1)\n",
    "date2 = date(2016, 5, 31)\n",
    "\n",
    "datos = Sentinelsat_products(date1, date2, footprint=footprint)\n",
    "datos.filter_products(instrument=\"MSI\", level=\"Level-1C\", p_type=None, timeliness=None)\n",
    "datos.download_products(make_subset=False)"
   ]
  },
  {
   "cell_type": "markdown",
   "metadata": {},
   "source": [
    "### Download 2017-2018 data"
   ]
  },
  {
   "cell_type": "code",
   "execution_count": null,
   "metadata": {},
   "outputs": [],
   "source": [
    "date1 = date(2017, 11, 1)\n",
    "date2 = date(2018, 5, 31)\n",
    "\n",
    "datos = Sentinelsat_products(date1, date2, footprint=footprint)\n",
    "datos.filter_products(instrument=\"MSI\", level=\"Level-1C\", p_type=None, timeliness=None)\n",
    "datos.download_products(make_subset=False)"
   ]
  },
  {
   "cell_type": "markdown",
   "metadata": {},
   "source": [
    "### Download 2018-2019 data"
   ]
  },
  {
   "cell_type": "code",
   "execution_count": null,
   "metadata": {},
   "outputs": [],
   "source": [
    "date1 = date(2018, 11, 1)\n",
    "date2 = date(2019, 5, 31)\n",
    "\n",
    "datos = Sentinelsat_products(date1, date2, footprint=footprint)\n",
    "datos.filter_products(instrument=\"MSI\", level=\"Level-1C\", p_type=None, timeliness=None)\n",
    "datos.download_products(make_subset=False)"
   ]
  },
  {
   "cell_type": "markdown",
   "metadata": {},
   "source": [
    "### Download 2019-2020 data"
   ]
  },
  {
   "cell_type": "code",
   "execution_count": null,
   "metadata": {},
   "outputs": [],
   "source": [
    "date1 = date(2019, 11, 1)\n",
    "date2 = date(2020, 5, 31)\n",
    "\n",
    "datos = Sentinelsat_products(date1, date2, footprint=footprint)\n",
    "datos.filter_products(instrument=\"MSI\", level=\"Level-1C\", p_type=None, timeliness=None)\n",
    "datos.download_products(make_subset=False)"
   ]
  },
  {
   "cell_type": "markdown",
   "metadata": {},
   "source": [
    "### Download 2020-2021 data"
   ]
  },
  {
   "cell_type": "code",
   "execution_count": null,
   "metadata": {},
   "outputs": [],
   "source": [
    "date1 = date(2020, 11, 1)\n",
    "date2 = date(2021, 3, 27)\n",
    "\n",
    "datos = Sentinelsat_products(date1, date2, footprint=footprint)\n",
    "datos.filter_products(instrument=\"MSI\", level=\"Level-1C\", p_type=None, timeliness=None)\n",
    "datos.download_products(make_subset=False)"
   ]
  },
  {
   "cell_type": "code",
   "execution_count": null,
   "metadata": {},
   "outputs": [],
   "source": []
  }
 ],
 "metadata": {
  "kernelspec": {
   "display_name": "cyano_venv",
   "language": "python",
   "name": "cyano_venv"
  },
  "language_info": {
   "codemirror_mode": {
    "name": "ipython",
    "version": 3
   },
   "file_extension": ".py",
   "mimetype": "text/x-python",
   "name": "python",
   "nbconvert_exporter": "python",
   "pygments_lexer": "ipython3",
   "version": "3.7.0"
  }
 },
 "nbformat": 4,
 "nbformat_minor": 4
}

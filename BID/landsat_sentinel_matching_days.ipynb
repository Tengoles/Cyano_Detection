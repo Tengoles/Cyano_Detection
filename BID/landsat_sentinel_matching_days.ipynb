{
 "cells": [
  {
   "cell_type": "markdown",
   "metadata": {},
   "source": [
    "### Import libraries"
   ]
  },
  {
   "cell_type": "code",
   "execution_count": 1,
   "metadata": {},
   "outputs": [],
   "source": [
    "import sys; sys.path.insert(0, '..')\n",
    "import os\n",
    "\n",
    "import ee\n",
    "import numpy as np\n",
    "import geemap\n",
    "from osgeo import gdal\n",
    "\n",
    "import settings_BID\n",
    "import utils\n",
    "\n",
    "ee.Initialize()"
   ]
  },
  {
   "cell_type": "markdown",
   "metadata": {},
   "source": [
    "### Define parameters"
   ]
  },
  {
   "cell_type": "code",
   "execution_count": 57,
   "metadata": {},
   "outputs": [],
   "source": [
    "# [lat, lon]\n",
    "sauce_center = [-34.83326008, -55.05417706]\n",
    "center_point = ee.Geometry.Point(sauce_center[1], sauce_center[0])\n",
    "# [[lon, lat]]\n",
    "sauce_zone = [[-55.16629529644229, -34.7494869239046],\n",
    "              [-55.02038312603214, -34.7494869239046],\n",
    "              [-55.02038312603214, -34.868725532230165],\n",
    "              [-55.16629529644229, -34.868725532230165],\n",
    "              [-55.16629529644229, -34.7494869239046]]\n",
    "sauce_geometry = ee.Geometry.Polygon(sauce_zone)\n",
    "#Dates to filter\n",
    "start = ee.Date('2016-01-01')\n",
    "finish = ee.Date('2021-01-31')\n",
    "# RGB + near infrared\n",
    "bands = ['B5', 'B4', 'B3', 'B2']\n",
    "RGB = ['B4', 'B3', 'B2']"
   ]
  },
  {
   "cell_type": "markdown",
   "metadata": {},
   "source": [
    "### Define some functions"
   ]
  },
  {
   "cell_type": "code",
   "execution_count": 22,
   "metadata": {},
   "outputs": [],
   "source": [
    "def get_image_date(image):\n",
    "    return ee.Feature(None, {'date': image.date().format('YYYY-MM-dd')})\n",
    "\n",
    "def clip_image(image):\n",
    "    return image.clip(sauce_geometry)\n",
    "\n",
    "def ymdList(imgcol):\n",
    "    def iter_func(image, newlist):\n",
    "        date = ee.Number.parse(image.date().format(\"YYYYMMdd\"));\n",
    "        newlist = ee.List(newlist);\n",
    "        return ee.List(newlist.add(date).sort())\n",
    "    ymd = imgcol.iterate(iter_func, ee.List([]))\n",
    "    return list(ee.List(ymd).reduce(ee.Reducer.frequencyHistogram()).getInfo().keys())"
   ]
  },
  {
   "cell_type": "markdown",
   "metadata": {},
   "source": [
    "### Get landsat image dates"
   ]
  },
  {
   "cell_type": "code",
   "execution_count": 30,
   "metadata": {},
   "outputs": [
    {
     "name": "stdout",
     "output_type": "stream",
     "text": [
      "Landsat-8 count: 180\n"
     ]
    }
   ],
   "source": [
    "landsat_collection = ee.ImageCollection('LANDSAT/LC08/C01/T1_SR') \\\n",
    "    .filterBounds(sauce_geometry) \\\n",
    "    .filterDate(start, finish)\n",
    "\n",
    "count = str(landsat_collection.size().getInfo())\n",
    "print(\"Landsat-8 count: {}\".format(count))\n",
    "landsat_dates = ymdList(landsat_collection)\n",
    "#clipped_collection = landsat_collection.map(clip_image)"
   ]
  },
  {
   "cell_type": "markdown",
   "metadata": {},
   "source": [
    "### Get Sentinel-2 image dates"
   ]
  },
  {
   "cell_type": "code",
   "execution_count": 31,
   "metadata": {},
   "outputs": [
    {
     "name": "stdout",
     "output_type": "stream",
     "text": [
      "Sentinel-2 count: 311\n"
     ]
    }
   ],
   "source": [
    "sentinel_collection = ee.ImageCollection('COPERNICUS/S2_SR') \\\n",
    "    .filterBounds(sauce_geometry) \\\n",
    "    .filterDate(start, finish)\n",
    "\n",
    "count = str(sentinel_collection.size().getInfo())\n",
    "print(\"Sentinel-2 count: {}\".format(count))\n",
    "sentinel_dates = ymdList(sentinel_collection)\n",
    "#clipped_collection = sentinel_collection.map(clip_image)"
   ]
  },
  {
   "cell_type": "markdown",
   "metadata": {},
   "source": [
    "### Get matching dates"
   ]
  },
  {
   "cell_type": "code",
   "execution_count": 45,
   "metadata": {},
   "outputs": [
    {
     "name": "stdout",
     "output_type": "stream",
     "text": [
      "Matching days count: 29\n"
     ]
    }
   ],
   "source": [
    "from datetime import datetime\n",
    "\n",
    "matching_dates = []\n",
    "for l_d in landsat_dates:\n",
    "    if l_d in sentinel_dates:\n",
    "        matching_dates.append(ee.Date(datetime.strptime(l_d, \"%Y%m%d\")))\n",
    "print(\"Matching days count: {}\".format(len(matching_dates)))"
   ]
  },
  {
   "cell_type": "markdown",
   "metadata": {},
   "source": [
    "### Get landsat less cloudy date"
   ]
  },
  {
   "cell_type": "code",
   "execution_count": 70,
   "metadata": {},
   "outputs": [
    {
     "name": "stdout",
     "output_type": "stream",
     "text": [
      "2019-01-01\n",
      "2019-01-26\n",
      "2019-02-02\n",
      "2019-02-27\n",
      "2019-03-22\n",
      "2019-04-16\n",
      "2019-04-23\n",
      "2019-05-18\n",
      "2019-07-05\n",
      "2019-08-06\n",
      "2019-08-29\n",
      "2019-09-23\n",
      "2019-09-30\n",
      "2019-10-25\n",
      "2019-11-17\n",
      "2019-12-12\n",
      "2020-01-13\n",
      "2020-02-05\n",
      "2020-03-01\n",
      "2020-03-08\n",
      "2020-04-02\n",
      "2020-04-25\n",
      "2020-05-20\n",
      "2020-05-27\n",
      "2020-07-14\n",
      "2020-08-15\n",
      "2020-10-02\n",
      "2020-10-27\n",
      "2020-11-28\n"
     ]
    }
   ],
   "source": [
    "cloud_scores = {}\n",
    "\n",
    "for day in matching_dates:\n",
    "    print(day.format(\"YYYY-MM-dd\").getInfo())\n",
    "    \n",
    "    landsat_day = ee.ImageCollection('LANDSAT/LC08/C01/T1_SR') \\\n",
    "                    .filterBounds(sauce_geometry) \\\n",
    "                    .filterDate(day, day.advance(1, 'day'))\n",
    "    \n",
    "    landsat_day = landsat_day.first()\n",
    "    landsat_day = landsat_day.clip(sauce_geometry)\n",
    "    landsat_cloud_cover_score = landsat_day.get('CLOUD_COVER')\n",
    "    landsat_cloud_cover_score = ee.Feature(None, {'score': landsat_cloud_cover_score}).getInfo()[\"properties\"][\"score\"]\n",
    "    cloud_scores[str(day.format(\"YYYY-MM-dd\").getInfo())] = landsat_cloud_cover_score\n",
    "\n",
    "    #     sentinel_day = ee.ImageCollection('COPERNICUS/S2_SR') \\\n",
    "    #     .filterBounds(sauce_geometry) \\\n",
    "    #     .filterDate(day, day.advance(1, 'day'))\n",
    "    #     sentinel_day = sentinel_day.first()\n",
    "    #     sentinel_day = sentinel_day.clip(sauce_geometry)\n",
    "    #     sentinel_cloud_cover_score = sentinel_day.get('CLOUD_COVER')\n",
    "    #     sentinel_cloud_cover_score = ee.Feature(None, {'score': sentinel_cloud_cover_score}).getInfo()[\"properties\"][\"score\"]\n",
    "    #     print(sentinel_cloud_cover_score)\n",
    "    #     print(\"---------\")\n",
    "best_date = ee.Date(datetime.strptime(min(cloud_scores, key=cloud_scores.get), \"%Y-%m-%d\"))"
   ]
  },
  {
   "cell_type": "markdown",
   "metadata": {},
   "source": [
    "### Get landsat and sentinel data from that date"
   ]
  },
  {
   "cell_type": "code",
   "execution_count": 76,
   "metadata": {},
   "outputs": [
    {
     "name": "stdout",
     "output_type": "stream",
     "text": [
      "https://earthengine.googleapis.com/v1alpha/projects/earthengine-legacy/thumbnails/61e79a04a6429a208866747afecb2085-f7a1f3f6afceaca05c1035d098cf3f2d:getPixels\n",
      "https://earthengine.googleapis.com/v1alpha/projects/earthengine-legacy/thumbnails/22f52bd539fe688ab72a705efafc4ca7-964b4a54b275e2e66c012c03e0a612e6:getPixels\n"
     ]
    }
   ],
   "source": [
    "landsat_day = ee.ImageCollection('LANDSAT/LC08/C01/T1_SR') \\\n",
    "                    .filterBounds(sauce_geometry) \\\n",
    "                    .filterDate(best_date, best_date.advance(1, 'day'))\n",
    "    \n",
    "landsat_day = landsat_day.first()\n",
    "landsat_day = landsat_day.clip(sauce_geometry)\n",
    "print(landsat_day.getDownloadURL())\n",
    "\n",
    "\n",
    "sentinel_day = ee.ImageCollection('COPERNICUS/S2_SR') \\\n",
    "                .filterBounds(sauce_geometry) \\\n",
    "                .filterDate(best_date, best_date.advance(1, 'day'))\n",
    "sentinel_day = sentinel_day.first()\n",
    "sentinel_day = sentinel_day.clip(sauce_geometry)\n",
    "nameOfBands = sentinel_day.bandNames().getInfo()\n",
    "nameOfBands.remove(\"B6\")\n",
    "nameOfBands.remove(\"B7\")\n",
    "nameOfBands.remove(\"B8\")\n",
    "nameOfBands.remove(\"B9\")\n",
    "nameOfBands.remove(\"B11\")\n",
    "nameOfBands.remove(\"B12\")\n",
    "sentinel_day = sentinel_day.select(nameOfBands)\n",
    "print(sentinel_day.getDownloadURL())"
   ]
  },
  {
   "cell_type": "code",
   "execution_count": null,
   "metadata": {},
   "outputs": [],
   "source": []
  }
 ],
 "metadata": {
  "kernelspec": {
   "display_name": "venv_cyano",
   "language": "python",
   "name": "venv_cyano"
  },
  "language_info": {
   "codemirror_mode": {
    "name": "ipython",
    "version": 3
   },
   "file_extension": ".py",
   "mimetype": "text/x-python",
   "name": "python",
   "nbconvert_exporter": "python",
   "pygments_lexer": "ipython3",
   "version": "3.6.10"
  }
 },
 "nbformat": 4,
 "nbformat_minor": 4
}

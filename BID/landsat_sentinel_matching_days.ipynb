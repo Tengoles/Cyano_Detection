{
 "cells": [
  {
   "cell_type": "markdown",
   "metadata": {},
   "source": [
    "### Import libraries"
   ]
  },
  {
   "cell_type": "code",
   "execution_count": 1,
   "metadata": {},
   "outputs": [],
   "source": [
    "import sys; sys.path.insert(0, '..')\n",
    "import os\n",
    "\n",
    "import ee\n",
    "import numpy as np\n",
    "import geemap\n",
    "from osgeo import gdal\n",
    "\n",
    "import settings_BID\n",
    "import utils\n",
    "\n",
    "ee.Initialize()"
   ]
  },
  {
   "cell_type": "markdown",
   "metadata": {},
   "source": [
    "### Define parameters"
   ]
  },
  {
   "cell_type": "code",
   "execution_count": 30,
   "metadata": {},
   "outputs": [],
   "source": [
    "# [lat, lon]\n",
    "sauce_center = [-34.83326008, -55.05417706]\n",
    "center_point = ee.Geometry.Point(sauce_center[1], sauce_center[0])\n",
    "# [[lon, lat]]\n",
    "sauce_zone = [[-55.16629529644229, -34.7494869239046],\n",
    "              [-55.02038312603214, -34.7494869239046],\n",
    "              [-55.02038312603214, -34.868725532230165],\n",
    "              [-55.16629529644229, -34.868725532230165],\n",
    "              [-55.16629529644229, -34.7494869239046]]\n",
    "sauce_geometry = ee.Geometry.Polygon(sauce_zone)\n",
    "#Dates to filter\n",
    "start = ee.Date('2016-01-01')\n",
    "finish = ee.Date('2021-01-31')\n",
    "# RGB + near infrared\n",
    "landsat_bands = ['B7','B6', 'B5', 'B4', 'B3', 'B2', 'pixel_qa']\n",
    "sentinel_bands = ['B7','B6', 'B5', 'B4', 'B3', 'B2', 'QA60']\n",
    "\n",
    "RGB = ['B4', 'B3', 'B2']"
   ]
  },
  {
   "cell_type": "markdown",
   "metadata": {},
   "source": [
    "### Define some functions"
   ]
  },
  {
   "cell_type": "code",
   "execution_count": 3,
   "metadata": {},
   "outputs": [],
   "source": [
    "def get_image_date(image):\n",
    "    return ee.Feature(None, {'date': image.date().format('YYYY-MM-dd')})\n",
    "\n",
    "def clip_image(image):\n",
    "    return image.clip(sauce_geometry)\n",
    "\n",
    "def ymdList(imgcol):\n",
    "    def iter_func(image, newlist):\n",
    "        date = ee.Number.parse(image.date().format(\"YYYYMMdd\"));\n",
    "        newlist = ee.List(newlist);\n",
    "        return ee.List(newlist.add(date).sort())\n",
    "    ymd = imgcol.iterate(iter_func, ee.List([]))\n",
    "    return list(ee.List(ymd).reduce(ee.Reducer.frequencyHistogram()).getInfo().keys())"
   ]
  },
  {
   "cell_type": "markdown",
   "metadata": {},
   "source": [
    "### Get landsat image dates"
   ]
  },
  {
   "cell_type": "code",
   "execution_count": 4,
   "metadata": {},
   "outputs": [
    {
     "name": "stdout",
     "output_type": "stream",
     "text": [
      "Landsat-8 count: 180\n"
     ]
    }
   ],
   "source": [
    "landsat_collection = ee.ImageCollection('LANDSAT/LC08/C01/T1_SR') \\\n",
    "    .filterBounds(sauce_geometry) \\\n",
    "    .filterDate(start, finish)\n",
    "\n",
    "count = str(landsat_collection.size().getInfo())\n",
    "print(\"Landsat-8 count: {}\".format(count))\n",
    "landsat_dates = ymdList(landsat_collection)\n",
    "#clipped_collection = landsat_collection.map(clip_image)"
   ]
  },
  {
   "cell_type": "markdown",
   "metadata": {},
   "source": [
    "### Get Sentinel-2 image dates"
   ]
  },
  {
   "cell_type": "code",
   "execution_count": 5,
   "metadata": {},
   "outputs": [
    {
     "name": "stdout",
     "output_type": "stream",
     "text": [
      "Sentinel-2 count: 311\n"
     ]
    }
   ],
   "source": [
    "sentinel_collection = ee.ImageCollection('COPERNICUS/S2_SR') \\\n",
    "    .filterBounds(sauce_geometry) \\\n",
    "    .filterDate(start, finish)\n",
    "\n",
    "count = str(sentinel_collection.size().getInfo())\n",
    "print(\"Sentinel-2 count: {}\".format(count))\n",
    "sentinel_dates = ymdList(sentinel_collection)\n",
    "#clipped_collection = sentinel_collection.map(clip_image)"
   ]
  },
  {
   "cell_type": "markdown",
   "metadata": {},
   "source": [
    "### Get matching dates"
   ]
  },
  {
   "cell_type": "code",
   "execution_count": 6,
   "metadata": {},
   "outputs": [
    {
     "name": "stdout",
     "output_type": "stream",
     "text": [
      "Matching days count: 29\n"
     ]
    }
   ],
   "source": [
    "from datetime import datetime\n",
    "\n",
    "matching_dates = []\n",
    "for l_d in landsat_dates:\n",
    "    if l_d in sentinel_dates:\n",
    "        matching_dates.append(ee.Date(datetime.strptime(l_d, \"%Y%m%d\")))\n",
    "print(\"Matching days count: {}\".format(len(matching_dates)))"
   ]
  },
  {
   "cell_type": "markdown",
   "metadata": {},
   "source": [
    "### Get landsat less cloudy date"
   ]
  },
  {
   "cell_type": "code",
   "execution_count": 7,
   "metadata": {},
   "outputs": [
    {
     "name": "stdout",
     "output_type": "stream",
     "text": [
      "2019-01-01\n",
      "2019-01-26\n",
      "2019-02-02\n",
      "2019-02-27\n",
      "2019-03-22\n",
      "2019-04-16\n",
      "2019-04-23\n",
      "2019-05-18\n",
      "2019-07-05\n",
      "2019-08-06\n",
      "2019-08-29\n",
      "2019-09-23\n",
      "2019-09-30\n",
      "2019-10-25\n",
      "2019-11-17\n",
      "2019-12-12\n",
      "2020-01-13\n",
      "2020-02-05\n",
      "2020-03-01\n",
      "2020-03-08\n",
      "2020-04-02\n",
      "2020-04-25\n",
      "2020-05-20\n",
      "2020-05-27\n",
      "2020-07-14\n",
      "2020-08-15\n",
      "2020-10-02\n",
      "2020-10-27\n",
      "2020-11-28\n"
     ]
    }
   ],
   "source": [
    "cloud_scores = {}\n",
    "\n",
    "for day in matching_dates:\n",
    "    print(day.format(\"YYYY-MM-dd\").getInfo())\n",
    "    \n",
    "    landsat_day = ee.ImageCollection('LANDSAT/LC08/C01/T1_SR') \\\n",
    "                    .filterBounds(sauce_geometry) \\\n",
    "                    .filterDate(day, day.advance(1, 'day'))\n",
    "    \n",
    "    landsat_day = landsat_day.first()\n",
    "    landsat_day = landsat_day.clip(sauce_geometry)\n",
    "    landsat_cloud_cover_score = landsat_day.get('CLOUD_COVER')\n",
    "    landsat_cloud_cover_score = ee.Feature(None, {'score': landsat_cloud_cover_score}).getInfo()[\"properties\"][\"score\"]\n",
    "    cloud_scores[str(day.format(\"YYYY-MM-dd\").getInfo())] = landsat_cloud_cover_score\n",
    "\n",
    "    #     sentinel_day = ee.ImageCollection('COPERNICUS/S2_SR') \\\n",
    "    #     .filterBounds(sauce_geometry) \\\n",
    "    #     .filterDate(day, day.advance(1, 'day'))\n",
    "    #     sentinel_day = sentinel_day.first()\n",
    "    #     sentinel_day = sentinel_day.clip(sauce_geometry)\n",
    "    #     sentinel_cloud_cover_score = sentinel_day.get('CLOUD_COVER')\n",
    "    #     sentinel_cloud_cover_score = ee.Feature(None, {'score': sentinel_cloud_cover_score}).getInfo()[\"properties\"][\"score\"]\n",
    "    #     print(sentinel_cloud_cover_score)\n",
    "    #     print(\"---------\")\n",
    "best_date = ee.Date(datetime.strptime(min(cloud_scores, key=cloud_scores.get), \"%Y-%m-%d\"))"
   ]
  },
  {
   "cell_type": "markdown",
   "metadata": {},
   "source": [
    "### Get landsat and sentinel data from that date"
   ]
  },
  {
   "cell_type": "code",
   "execution_count": 31,
   "metadata": {},
   "outputs": [
    {
     "name": "stdout",
     "output_type": "stream",
     "text": [
      "Bands to keep: ['B7', 'B6', 'B5', 'B4', 'B3', 'B2', 'pixel_qa']\n",
      "All the bands: ['B1', 'B2', 'B3', 'B4', 'B5', 'B6', 'B7', 'B10', 'B11', 'sr_aerosol', 'pixel_qa', 'radsat_qa']\n",
      "Bands kept: ['B2', 'B3', 'B4', 'B5', 'B6', 'B7', 'pixel_qa']\n",
      "https://earthengine.googleapis.com/v1alpha/projects/earthengine-legacy/thumbnails/cd8c45372005fd7c4b6c6d5889fe67b5-867319cdb541d556edf41a665cba487f:getPixels\n",
      "-------------------\n",
      "Bands to keep: ['B7', 'B6', 'B5', 'B4', 'B3', 'B2', 'QA60']\n",
      "All the bands: ['B1', 'B2', 'B3', 'B4', 'B5', 'B6', 'B7', 'B8', 'B8A', 'B9', 'B11', 'B12', 'AOT', 'WVP', 'SCL', 'TCI_R', 'TCI_G', 'TCI_B', 'MSK_CLDPRB', 'MSK_SNWPRB', 'QA10', 'QA20', 'QA60']\n",
      "Bands kept: ['B2', 'B3', 'B4', 'B5', 'B6', 'B7', 'QA60']\n",
      "https://earthengine.googleapis.com/v1alpha/projects/earthengine-legacy/thumbnails/683e37f9a415c2c04dd806ec2c36fa64-61b2d1b77d56ce4694b6fa9a3b0d5ef4:getPixels\n"
     ]
    }
   ],
   "source": [
    "def select_bands(data, bands):\n",
    "    nameOfBands = data.bandNames().getInfo()\n",
    "    nameOfBands2 = data.bandNames().getInfo()\n",
    "    print(\"Bands to keep:\", bands)\n",
    "    print(\"All the bands:\", nameOfBands)\n",
    "    for b in nameOfBands:\n",
    "        if b in bands:\n",
    "            pass\n",
    "        else:\n",
    "            nameOfBands2.remove(b)\n",
    "    print(\"Bands kept:\", nameOfBands2)\n",
    "    data = data.select(nameOfBands2)\n",
    "    return data\n",
    "\n",
    "landsat_day = ee.ImageCollection('LANDSAT/LC08/C01/T1_SR') \\\n",
    "                    .filterBounds(sauce_geometry) \\\n",
    "                    .filterDate(best_date, best_date.advance(1, 'day'))\n",
    "    \n",
    "landsat_day = landsat_day.first()\n",
    "landsat_day = landsat_day.clip(sauce_geometry)\n",
    "landsat_day = select_bands(landsat_day, landsat_bands)\n",
    "landsat_download_url = landsat_day.getDownloadURL()\n",
    "print(landsat_download_url)\n",
    "print(\"-------------------\")\n",
    "sentinel_day = ee.ImageCollection('COPERNICUS/S2_SR') \\\n",
    "                .filterBounds(sauce_geometry) \\\n",
    "                .filterDate(best_date, best_date.advance(1, 'day'))\n",
    "sentinel_day = sentinel_day.first()\n",
    "sentinel_day = sentinel_day.clip(sauce_geometry)\n",
    "sentinel_day = select_bands(sentinel_day, sentinel_bands)\n",
    "sentinel_download_url = sentinel_day.getDownloadURL()\n",
    "print(sentinel_download_url)"
   ]
  },
  {
   "cell_type": "markdown",
   "metadata": {},
   "source": [
    "### Download data"
   ]
  },
  {
   "cell_type": "code",
   "execution_count": 33,
   "metadata": {},
   "outputs": [
    {
     "name": "stdout",
     "output_type": "stream",
     "text": [
      "C:\\Users\\enzot\\Documents\\Maestria\\Cianobacterias\\code\\BID\\data\\2019-08-06\n",
      "Directory already exists\n"
     ]
    }
   ],
   "source": [
    "import requests\n",
    "import os\n",
    "import zipfile\n",
    "\n",
    "def download_url(url, save_path, chunk_size=128):\n",
    "    r = requests.get(url, stream=True)\n",
    "    with open(save_path, 'wb') as fd:\n",
    "        for chunk in r.iter_content(chunk_size=chunk_size):\n",
    "            fd.write(chunk)\n",
    "\n",
    "save_path = \"C:\\\\Users\\\\enzot\\\\Documents\\\\Maestria\\\\Cianobacterias\\\\code\\\\BID\\\\data\\\\2019-08-06\"\n",
    "print(save_path)\n",
    "try:\n",
    "    os.makedirs(save_path)\n",
    "except FileExistsError as e:\n",
    "    print(\"Directory already exists\")\n",
    "\n",
    "landsat_zip_path = os.path.join(save_path, \"landsat_data.zip\")\n",
    "download_url(landsat_download_url, landsat_zip_path)\n",
    "with zipfile.ZipFile(landsat_zip_path, 'r') as zip_ref:\n",
    "    zip_ref.extractall(save_path)\n",
    "\n",
    "sentinel_zip_path = os.path.join(save_path, \"sentinel_data.zip\")\n",
    "download_url(sentinel_download_url, sentinel_zip_path)\n",
    "with zipfile.ZipFile(sentinel_zip_path, 'r') as zip_ref:\n",
    "    zip_ref.extractall(save_path)"
   ]
  }
 ],
 "metadata": {
  "kernelspec": {
   "display_name": "venv_cyano",
   "language": "python",
   "name": "venv_cyano"
  },
  "language_info": {
   "codemirror_mode": {
    "name": "ipython",
    "version": 3
   },
   "file_extension": ".py",
   "mimetype": "text/x-python",
   "name": "python",
   "nbconvert_exporter": "python",
   "pygments_lexer": "ipython3",
   "version": "3.6.10"
  }
 },
 "nbformat": 4,
 "nbformat_minor": 4
}
